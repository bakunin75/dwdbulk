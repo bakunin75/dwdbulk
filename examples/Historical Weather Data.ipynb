{
 "cells": [
  {
   "cell_type": "code",
   "execution_count": 1,
   "metadata": {},
   "outputs": [
    {
     "name": "stdout",
     "output_type": "stream",
     "text": [
      "Requirement already satisfied: altair in /opt/conda/lib/python3.7/site-packages (3.2.0)\n",
      "Requirement already satisfied: six in /opt/conda/lib/python3.7/site-packages (from altair) (1.12.0)\n",
      "Requirement already satisfied: numpy in /opt/conda/lib/python3.7/site-packages (from altair) (1.17.0)\n",
      "Requirement already satisfied: toolz in /opt/conda/lib/python3.7/site-packages (from altair) (0.10.0)\n",
      "Requirement already satisfied: entrypoints in /opt/conda/lib/python3.7/site-packages (from altair) (0.3)\n",
      "Requirement already satisfied: jinja2 in /opt/conda/lib/python3.7/site-packages (from altair) (2.10.1)\n",
      "Requirement already satisfied: jsonschema in /opt/conda/lib/python3.7/site-packages (from altair) (3.0.2)\n",
      "Requirement already satisfied: pandas in /opt/conda/lib/python3.7/site-packages (from altair) (0.25.0)\n",
      "Requirement already satisfied: MarkupSafe>=0.23 in /opt/conda/lib/python3.7/site-packages (from jinja2->altair) (1.1.1)\n",
      "Requirement already satisfied: pyrsistent>=0.14.0 in /opt/conda/lib/python3.7/site-packages (from jsonschema->altair) (0.15.4)\n",
      "Requirement already satisfied: setuptools in /opt/conda/lib/python3.7/site-packages (from jsonschema->altair) (41.2.0)\n",
      "Requirement already satisfied: attrs>=17.4.0 in /opt/conda/lib/python3.7/site-packages (from jsonschema->altair) (19.1.0)\n",
      "Requirement already satisfied: python-dateutil>=2.6.1 in /opt/conda/lib/python3.7/site-packages (from pandas->altair) (2.8.0)\n",
      "Requirement already satisfied: pytz>=2017.2 in /opt/conda/lib/python3.7/site-packages (from pandas->altair) (2019.2)\n",
      "\u001b[33mWARNING: You are using pip version 19.2.2, however version 19.2.3 is available.\n",
      "You should consider upgrading via the 'pip install --upgrade pip' command.\u001b[0m\n",
      "Note: you may need to restart the kernel to use updated packages.\n"
     ]
    }
   ],
   "source": [
    "pip install altair"
   ]
  },
  {
   "cell_type": "code",
   "execution_count": 3,
   "metadata": {},
   "outputs": [],
   "source": [
    "import pandas as pd\n",
    "from dwdbulk.api import observations\n",
    "from dwdbulk.util import get_stations_lookup"
   ]
  },
  {
   "cell_type": "code",
   "execution_count": 4,
   "metadata": {},
   "outputs": [],
   "source": [
    "resolution = \"10_minutes\"\n",
    "parameter = \"air_temperature\"\n",
    "\n",
    "date_end = pd.Timestamp.now(tz=\"UTC\").floor(\"h\")\n",
    "date_start = date_end - pd.Timedelta(\"7 days\")"
   ]
  },
  {
   "cell_type": "code",
   "execution_count": 5,
   "metadata": {},
   "outputs": [],
   "source": [
    "df = observations.get_data(\n",
    "    parameter,\n",
    "    date_start=date_start,\n",
    "    date_end=date_end,\n",
    "    resolution=resolution,\n",
    ")"
   ]
  },
  {
   "cell_type": "code",
   "execution_count": 6,
   "metadata": {},
   "outputs": [],
   "source": [
    "weather_rollup = df.groupby(\"date_start\", as_index=False) \\\n",
    "    .TT_10.aggregate([lambda x: pd.Series.quantile(x, q=1/8),\n",
    "                      lambda x: pd.Series.quantile(x, q=3/8),\n",
    "                      lambda x: pd.Series.quantile(x, q=4/8),\n",
    "                      lambda x: pd.Series.quantile(x, q=5/8),                      \n",
    "                      lambda x: pd.Series.quantile(x, q=7/8)])"
   ]
  },
  {
   "cell_type": "code",
   "execution_count": 7,
   "metadata": {},
   "outputs": [],
   "source": [
    "weather_rollup = weather_rollup.reset_index()\n",
    "weather_rollup.columns = [\"date_start\", \"quantile_0_125\", \"quantile_0_375\", \"quantile_0_5\", \"quantile_0_625\", \"quantile_0_875\"]\n"
   ]
  },
  {
   "cell_type": "code",
   "execution_count": 8,
   "metadata": {},
   "outputs": [
    {
     "data": {
      "text/html": [
       "<div>\n",
       "<style scoped>\n",
       "    .dataframe tbody tr th:only-of-type {\n",
       "        vertical-align: middle;\n",
       "    }\n",
       "\n",
       "    .dataframe tbody tr th {\n",
       "        vertical-align: top;\n",
       "    }\n",
       "\n",
       "    .dataframe thead th {\n",
       "        text-align: right;\n",
       "    }\n",
       "</style>\n",
       "<table border=\"1\" class=\"dataframe\">\n",
       "  <thead>\n",
       "    <tr style=\"text-align: right;\">\n",
       "      <th></th>\n",
       "      <th>date_start</th>\n",
       "      <th>quantile_0_125</th>\n",
       "      <th>quantile_0_375</th>\n",
       "      <th>quantile_0_5</th>\n",
       "      <th>quantile_0_625</th>\n",
       "      <th>quantile_0_875</th>\n",
       "    </tr>\n",
       "  </thead>\n",
       "  <tbody>\n",
       "    <tr>\n",
       "      <th>0</th>\n",
       "      <td>2019-08-23 14:00:00+00:00</td>\n",
       "      <td>22.2</td>\n",
       "      <td>24.9</td>\n",
       "      <td>26.2</td>\n",
       "      <td>27.0</td>\n",
       "      <td>28.2</td>\n",
       "    </tr>\n",
       "    <tr>\n",
       "      <th>1</th>\n",
       "      <td>2019-08-23 14:10:00+00:00</td>\n",
       "      <td>22.1</td>\n",
       "      <td>25.0</td>\n",
       "      <td>26.2</td>\n",
       "      <td>27.0</td>\n",
       "      <td>28.2</td>\n",
       "    </tr>\n",
       "    <tr>\n",
       "      <th>2</th>\n",
       "      <td>2019-08-23 14:20:00+00:00</td>\n",
       "      <td>22.3</td>\n",
       "      <td>25.0</td>\n",
       "      <td>26.2</td>\n",
       "      <td>27.0</td>\n",
       "      <td>28.3</td>\n",
       "    </tr>\n",
       "    <tr>\n",
       "      <th>3</th>\n",
       "      <td>2019-08-23 14:30:00+00:00</td>\n",
       "      <td>22.2</td>\n",
       "      <td>25.0</td>\n",
       "      <td>26.2</td>\n",
       "      <td>27.0</td>\n",
       "      <td>28.3</td>\n",
       "    </tr>\n",
       "    <tr>\n",
       "      <th>4</th>\n",
       "      <td>2019-08-23 14:40:00+00:00</td>\n",
       "      <td>22.2</td>\n",
       "      <td>24.9</td>\n",
       "      <td>26.2</td>\n",
       "      <td>27.0</td>\n",
       "      <td>28.3</td>\n",
       "    </tr>\n",
       "  </tbody>\n",
       "</table>\n",
       "</div>"
      ],
      "text/plain": [
       "                 date_start  quantile_0_125  quantile_0_375  quantile_0_5  \\\n",
       "0 2019-08-23 14:00:00+00:00            22.2            24.9          26.2   \n",
       "1 2019-08-23 14:10:00+00:00            22.1            25.0          26.2   \n",
       "2 2019-08-23 14:20:00+00:00            22.3            25.0          26.2   \n",
       "3 2019-08-23 14:30:00+00:00            22.2            25.0          26.2   \n",
       "4 2019-08-23 14:40:00+00:00            22.2            24.9          26.2   \n",
       "\n",
       "   quantile_0_625  quantile_0_875  \n",
       "0            27.0            28.2  \n",
       "1            27.0            28.2  \n",
       "2            27.0            28.3  \n",
       "3            27.0            28.3  \n",
       "4            27.0            28.3  "
      ]
     },
     "execution_count": 8,
     "metadata": {},
     "output_type": "execute_result"
    }
   ],
   "source": [
    "weather_rollup.head()"
   ]
  },
  {
   "cell_type": "code",
   "execution_count": 9,
   "metadata": {},
   "outputs": [],
   "source": [
    "import altair as alt\n",
    "\n",
    "p_range_1 = alt.Chart(weather_rollup).mark_area(opacity=0.25).encode(\n",
    "    x=alt.X('date_start:T', axis=alt.Axis(title=\"Date\")),\n",
    "    y=alt.Y(\"quantile_0_125\", axis=alt.Axis(title=\"°C\"), scale=alt.Scale(zero=False)),\n",
    "    y2=\"quantile_0_875\"\n",
    ")\n",
    "\n",
    "p_range_2 = alt.Chart(weather_rollup).mark_area(opacity=0.5).encode(\n",
    "    x='date_start:T',\n",
    "    y=\"quantile_0_375\",\n",
    "    y2=\"quantile_0_625\"\n",
    ")\n",
    "\n",
    "p_median = alt.Chart(weather_rollup).mark_line().encode(\n",
    "    x='date_start:T',\n",
    "    y=alt.Y(\"quantile_0_5\", axis=alt.Axis(title=\"°C\"), scale=alt.Scale(zero=False)),\n",
    ")\n"
   ]
  },
  {
   "cell_type": "code",
   "execution_count": 10,
   "metadata": {},
   "outputs": [
    {
     "data": {
      "application/vnd.vegalite.v3+json": {
       "$schema": "https://vega.github.io/schema/vega-lite/v3.4.0.json",
       "config": {
        "mark": {
         "tooltip": null
        },
        "view": {
         "height": 500,
         "width": 750
        }
       },
       "data": {
        "name": "data-fffea2f2af87005648194cda5083b6f6"
       },
       "datasets": {
        "data-fffea2f2af87005648194cda5083b6f6": [
         {
          "date_start": "2019-08-23T14:00:00+00:00",
          "quantile_0_125": 22.2,
          "quantile_0_375": 24.9,
          "quantile_0_5": 26.2,
          "quantile_0_625": 27,
          "quantile_0_875": 28.2
         },
         {
          "date_start": "2019-08-23T14:10:00+00:00",
          "quantile_0_125": 22.1,
          "quantile_0_375": 25,
          "quantile_0_5": 26.2,
          "quantile_0_625": 27,
          "quantile_0_875": 28.2
         },
         {
          "date_start": "2019-08-23T14:20:00+00:00",
          "quantile_0_125": 22.3,
          "quantile_0_375": 25,
          "quantile_0_5": 26.2,
          "quantile_0_625": 27,
          "quantile_0_875": 28.3
         },
         {
          "date_start": "2019-08-23T14:30:00+00:00",
          "quantile_0_125": 22.2,
          "quantile_0_375": 25,
          "quantile_0_5": 26.2,
          "quantile_0_625": 27,
          "quantile_0_875": 28.3
         },
         {
          "date_start": "2019-08-23T14:40:00+00:00",
          "quantile_0_125": 22.2,
          "quantile_0_375": 24.9,
          "quantile_0_5": 26.2,
          "quantile_0_625": 27,
          "quantile_0_875": 28.3
         },
         {
          "date_start": "2019-08-23T14:50:00+00:00",
          "quantile_0_125": 22,
          "quantile_0_375": 25,
          "quantile_0_5": 26.2,
          "quantile_0_625": 27,
          "quantile_0_875": 28.4
         },
         {
          "date_start": "2019-08-23T15:00:00+00:00",
          "quantile_0_125": 22.2,
          "quantile_0_375": 24.9,
          "quantile_0_5": 26.2,
          "quantile_0_625": 27,
          "quantile_0_875": 28.4
         },
         {
          "date_start": "2019-08-23T15:10:00+00:00",
          "quantile_0_125": 22.2,
          "quantile_0_375": 24.9,
          "quantile_0_5": 26.2,
          "quantile_0_625": 27,
          "quantile_0_875": 28.4
         },
         {
          "date_start": "2019-08-23T15:20:00+00:00",
          "quantile_0_125": 22.2,
          "quantile_0_375": 24.9,
          "quantile_0_5": 26.1,
          "quantile_0_625": 26.9,
          "quantile_0_875": 28.3
         },
         {
          "date_start": "2019-08-23T15:30:00+00:00",
          "quantile_0_125": 22.1,
          "quantile_0_375": 24.8,
          "quantile_0_5": 26.1,
          "quantile_0_625": 26.9,
          "quantile_0_875": 28.3
         },
         {
          "date_start": "2019-08-23T15:40:00+00:00",
          "quantile_0_125": 22,
          "quantile_0_375": 24.8,
          "quantile_0_5": 26,
          "quantile_0_625": 26.9,
          "quantile_0_875": 28.2
         },
         {
          "date_start": "2019-08-23T15:50:00+00:00",
          "quantile_0_125": 21.9,
          "quantile_0_375": 24.6,
          "quantile_0_5": 25.9,
          "quantile_0_625": 26.8,
          "quantile_0_875": 28.1
         },
         {
          "date_start": "2019-08-23T16:00:00+00:00",
          "quantile_0_125": 21.8,
          "quantile_0_375": 24.5,
          "quantile_0_5": 25.8,
          "quantile_0_625": 26.8,
          "quantile_0_875": 28.1
         },
         {
          "date_start": "2019-08-23T16:10:00+00:00",
          "quantile_0_125": 21.8,
          "quantile_0_375": 24.4,
          "quantile_0_5": 25.6,
          "quantile_0_625": 26.7,
          "quantile_0_875": 28
         },
         {
          "date_start": "2019-08-23T16:20:00+00:00",
          "quantile_0_125": 21.6,
          "quantile_0_375": 24.3,
          "quantile_0_5": 25.5,
          "quantile_0_625": 26.5,
          "quantile_0_875": 27.8
         },
         {
          "date_start": "2019-08-23T16:30:00+00:00",
          "quantile_0_125": 21.4,
          "quantile_0_375": 24.2,
          "quantile_0_5": 25.3,
          "quantile_0_625": 26.3,
          "quantile_0_875": 27.7
         },
         {
          "date_start": "2019-08-23T16:40:00+00:00",
          "quantile_0_125": 21.2,
          "quantile_0_375": 24,
          "quantile_0_5": 25.1,
          "quantile_0_625": 26.2,
          "quantile_0_875": 27.5
         },
         {
          "date_start": "2019-08-23T16:50:00+00:00",
          "quantile_0_125": 21.1,
          "quantile_0_375": 23.8,
          "quantile_0_5": 24.8,
          "quantile_0_625": 26,
          "quantile_0_875": 27.3
         },
         {
          "date_start": "2019-08-23T17:00:00+00:00",
          "quantile_0_125": 20.9,
          "quantile_0_375": 23.6,
          "quantile_0_5": 24.6,
          "quantile_0_625": 25.7,
          "quantile_0_875": 27.2
         },
         {
          "date_start": "2019-08-23T17:10:00+00:00",
          "quantile_0_125": 20.7,
          "quantile_0_375": 23.4,
          "quantile_0_5": 24.4,
          "quantile_0_625": 25.5,
          "quantile_0_875": 27
         },
         {
          "date_start": "2019-08-23T17:20:00+00:00",
          "quantile_0_125": 20.5,
          "quantile_0_375": 23,
          "quantile_0_5": 24,
          "quantile_0_625": 25.2,
          "quantile_0_875": 26.6
         },
         {
          "date_start": "2019-08-23T17:30:00+00:00",
          "quantile_0_125": 20.4,
          "quantile_0_375": 22.7,
          "quantile_0_5": 23.7,
          "quantile_0_625": 24.7,
          "quantile_0_875": 26.2
         },
         {
          "date_start": "2019-08-23T17:40:00+00:00",
          "quantile_0_125": 20,
          "quantile_0_375": 22.2,
          "quantile_0_5": 23.3,
          "quantile_0_625": 24.2,
          "quantile_0_875": 25.7
         },
         {
          "date_start": "2019-08-23T17:50:00+00:00",
          "quantile_0_125": 19.6,
          "quantile_0_375": 21.7,
          "quantile_0_5": 22.7,
          "quantile_0_625": 23.6,
          "quantile_0_875": 25.1
         },
         {
          "date_start": "2019-08-23T18:00:00+00:00",
          "quantile_0_125": 19.3,
          "quantile_0_375": 21.2,
          "quantile_0_5": 22.2,
          "quantile_0_625": 22.9,
          "quantile_0_875": 24.5
         },
         {
          "date_start": "2019-08-23T18:10:00+00:00",
          "quantile_0_125": 19,
          "quantile_0_375": 20.7,
          "quantile_0_5": 21.6,
          "quantile_0_625": 22.3,
          "quantile_0_875": 23.9
         },
         {
          "date_start": "2019-08-23T18:20:00+00:00",
          "quantile_0_125": 18.5,
          "quantile_0_375": 20.3,
          "quantile_0_5": 21.1,
          "quantile_0_625": 21.7,
          "quantile_0_875": 23.3
         },
         {
          "date_start": "2019-08-23T18:30:00+00:00",
          "quantile_0_125": 18.2,
          "quantile_0_375": 19.7,
          "quantile_0_5": 20.5,
          "quantile_0_625": 21.2,
          "quantile_0_875": 22.8
         },
         {
          "date_start": "2019-08-23T18:40:00+00:00",
          "quantile_0_125": 17.8,
          "quantile_0_375": 19.3,
          "quantile_0_5": 20.1,
          "quantile_0_625": 20.8,
          "quantile_0_875": 22.4
         },
         {
          "date_start": "2019-08-23T18:50:00+00:00",
          "quantile_0_125": 17.5,
          "quantile_0_375": 19,
          "quantile_0_5": 19.6,
          "quantile_0_625": 20.3,
          "quantile_0_875": 22
         },
         {
          "date_start": "2019-08-23T19:00:00+00:00",
          "quantile_0_125": 17.1,
          "quantile_0_375": 18.6,
          "quantile_0_5": 19.3,
          "quantile_0_625": 20,
          "quantile_0_875": 21.7
         },
         {
          "date_start": "2019-08-23T19:10:00+00:00",
          "quantile_0_125": 16.8,
          "quantile_0_375": 18.3,
          "quantile_0_5": 19,
          "quantile_0_625": 19.7,
          "quantile_0_875": 21.2
         },
         {
          "date_start": "2019-08-23T19:20:00+00:00",
          "quantile_0_125": 16.5,
          "quantile_0_375": 18,
          "quantile_0_5": 18.7,
          "quantile_0_625": 19.3,
          "quantile_0_875": 21.1
         },
         {
          "date_start": "2019-08-23T19:30:00+00:00",
          "quantile_0_125": 16.2,
          "quantile_0_375": 17.8,
          "quantile_0_5": 18.5,
          "quantile_0_625": 19,
          "quantile_0_875": 20.8
         },
         {
          "date_start": "2019-08-23T19:40:00+00:00",
          "quantile_0_125": 16,
          "quantile_0_375": 17.6,
          "quantile_0_5": 18.2,
          "quantile_0_625": 18.7,
          "quantile_0_875": 20.6
         },
         {
          "date_start": "2019-08-23T19:50:00+00:00",
          "quantile_0_125": 15.6,
          "quantile_0_375": 17.4,
          "quantile_0_5": 18,
          "quantile_0_625": 18.6,
          "quantile_0_875": 20.3
         },
         {
          "date_start": "2019-08-23T20:00:00+00:00",
          "quantile_0_125": 15.5,
          "quantile_0_375": 17.2,
          "quantile_0_5": 17.8,
          "quantile_0_625": 18.6,
          "quantile_0_875": 20.2
         },
         {
          "date_start": "2019-08-23T20:10:00+00:00",
          "quantile_0_125": 15.4,
          "quantile_0_375": 16.9,
          "quantile_0_5": 17.6,
          "quantile_0_625": 18.3,
          "quantile_0_875": 19.9
         },
         {
          "date_start": "2019-08-23T20:20:00+00:00",
          "quantile_0_125": 15.1,
          "quantile_0_375": 16.7,
          "quantile_0_5": 17.5,
          "quantile_0_625": 18.2,
          "quantile_0_875": 19.7
         },
         {
          "date_start": "2019-08-23T20:30:00+00:00",
          "quantile_0_125": 14.8,
          "quantile_0_375": 16.5,
          "quantile_0_5": 17.3,
          "quantile_0_625": 18,
          "quantile_0_875": 19.5
         },
         {
          "date_start": "2019-08-23T20:40:00+00:00",
          "quantile_0_125": 14.7,
          "quantile_0_375": 16.3,
          "quantile_0_5": 17.1,
          "quantile_0_625": 17.9,
          "quantile_0_875": 19.5
         },
         {
          "date_start": "2019-08-23T20:50:00+00:00",
          "quantile_0_125": 14.5,
          "quantile_0_375": 16.3,
          "quantile_0_5": 17,
          "quantile_0_625": 17.6,
          "quantile_0_875": 19.3
         },
         {
          "date_start": "2019-08-23T21:00:00+00:00",
          "quantile_0_125": 14.3,
          "quantile_0_375": 16.1,
          "quantile_0_5": 16.9,
          "quantile_0_625": 17.6,
          "quantile_0_875": 19.2
         },
         {
          "date_start": "2019-08-23T21:10:00+00:00",
          "quantile_0_125": 14.1,
          "quantile_0_375": 15.9,
          "quantile_0_5": 16.7,
          "quantile_0_625": 17.4,
          "quantile_0_875": 19.1
         },
         {
          "date_start": "2019-08-23T21:20:00+00:00",
          "quantile_0_125": 13.9,
          "quantile_0_375": 15.8,
          "quantile_0_5": 16.5,
          "quantile_0_625": 17.3,
          "quantile_0_875": 19
         },
         {
          "date_start": "2019-08-23T21:30:00+00:00",
          "quantile_0_125": 13.7,
          "quantile_0_375": 15.6,
          "quantile_0_5": 16.3,
          "quantile_0_625": 17.2,
          "quantile_0_875": 18.9
         },
         {
          "date_start": "2019-08-23T21:40:00+00:00",
          "quantile_0_125": 13.6,
          "quantile_0_375": 15.5,
          "quantile_0_5": 16.3,
          "quantile_0_625": 17,
          "quantile_0_875": 18.7
         },
         {
          "date_start": "2019-08-23T21:50:00+00:00",
          "quantile_0_125": 13.5,
          "quantile_0_375": 15.3,
          "quantile_0_5": 16.1,
          "quantile_0_625": 16.9,
          "quantile_0_875": 18.6
         },
         {
          "date_start": "2019-08-23T22:00:00+00:00",
          "quantile_0_125": 13.4,
          "quantile_0_375": 15.2,
          "quantile_0_5": 15.9,
          "quantile_0_625": 16.7,
          "quantile_0_875": 18.5
         },
         {
          "date_start": "2019-08-23T22:10:00+00:00",
          "quantile_0_125": 13.2,
          "quantile_0_375": 15,
          "quantile_0_5": 15.8,
          "quantile_0_625": 16.6,
          "quantile_0_875": 18.3
         },
         {
          "date_start": "2019-08-23T22:20:00+00:00",
          "quantile_0_125": 13,
          "quantile_0_375": 14.9,
          "quantile_0_5": 15.7,
          "quantile_0_625": 16.5,
          "quantile_0_875": 18.2
         },
         {
          "date_start": "2019-08-23T22:30:00+00:00",
          "quantile_0_125": 12.9,
          "quantile_0_375": 14.8,
          "quantile_0_5": 15.6,
          "quantile_0_625": 16.4,
          "quantile_0_875": 18.2
         },
         {
          "date_start": "2019-08-23T22:40:00+00:00",
          "quantile_0_125": 12.8,
          "quantile_0_375": 14.7,
          "quantile_0_5": 15.5,
          "quantile_0_625": 16.3,
          "quantile_0_875": 18
         },
         {
          "date_start": "2019-08-23T22:50:00+00:00",
          "quantile_0_125": 12.6,
          "quantile_0_375": 14.5,
          "quantile_0_5": 15.4,
          "quantile_0_625": 16.2,
          "quantile_0_875": 17.8
         },
         {
          "date_start": "2019-08-23T23:00:00+00:00",
          "quantile_0_125": 12.4,
          "quantile_0_375": 14.3,
          "quantile_0_5": 15.1,
          "quantile_0_625": 16,
          "quantile_0_875": 17.8
         },
         {
          "date_start": "2019-08-23T23:10:00+00:00",
          "quantile_0_125": 12.3,
          "quantile_0_375": 14.3,
          "quantile_0_5": 14.9,
          "quantile_0_625": 15.9,
          "quantile_0_875": 17.9
         },
         {
          "date_start": "2019-08-23T23:20:00+00:00",
          "quantile_0_125": 12.2,
          "quantile_0_375": 14.2,
          "quantile_0_5": 14.9,
          "quantile_0_625": 15.7,
          "quantile_0_875": 17.7
         },
         {
          "date_start": "2019-08-23T23:30:00+00:00",
          "quantile_0_125": 12.1,
          "quantile_0_375": 14,
          "quantile_0_5": 14.7,
          "quantile_0_625": 15.5,
          "quantile_0_875": 17.6
         },
         {
          "date_start": "2019-08-23T23:40:00+00:00",
          "quantile_0_125": 12,
          "quantile_0_375": 13.9,
          "quantile_0_5": 14.6,
          "quantile_0_625": 15.4,
          "quantile_0_875": 17.5
         },
         {
          "date_start": "2019-08-23T23:50:00+00:00",
          "quantile_0_125": 11.9,
          "quantile_0_375": 13.8,
          "quantile_0_5": 14.5,
          "quantile_0_625": 15.3,
          "quantile_0_875": 17.4
         },
         {
          "date_start": "2019-08-24T00:00:00+00:00",
          "quantile_0_125": 11.7,
          "quantile_0_375": 13.7,
          "quantile_0_5": 14.4,
          "quantile_0_625": 15.3,
          "quantile_0_875": 17.3
         },
         {
          "date_start": "2019-08-24T00:10:00+00:00",
          "quantile_0_125": 11.6,
          "quantile_0_375": 13.6,
          "quantile_0_5": 14.4,
          "quantile_0_625": 15.1,
          "quantile_0_875": 17.2
         },
         {
          "date_start": "2019-08-24T00:20:00+00:00",
          "quantile_0_125": 11.5,
          "quantile_0_375": 13.6,
          "quantile_0_5": 14.2,
          "quantile_0_625": 14.9,
          "quantile_0_875": 17.2
         },
         {
          "date_start": "2019-08-24T00:30:00+00:00",
          "quantile_0_125": 11.5,
          "quantile_0_375": 13.4,
          "quantile_0_5": 14.1,
          "quantile_0_625": 14.8,
          "quantile_0_875": 17.1
         },
         {
          "date_start": "2019-08-24T00:40:00+00:00",
          "quantile_0_125": 11.3,
          "quantile_0_375": 13.3,
          "quantile_0_5": 14,
          "quantile_0_625": 14.7,
          "quantile_0_875": 17
         },
         {
          "date_start": "2019-08-24T00:50:00+00:00",
          "quantile_0_125": 11.2,
          "quantile_0_375": 13.2,
          "quantile_0_5": 13.9,
          "quantile_0_625": 14.6,
          "quantile_0_875": 17
         },
         {
          "date_start": "2019-08-24T01:00:00+00:00",
          "quantile_0_125": 11,
          "quantile_0_375": 13.2,
          "quantile_0_5": 13.9,
          "quantile_0_625": 14.5,
          "quantile_0_875": 16.7
         },
         {
          "date_start": "2019-08-24T01:10:00+00:00",
          "quantile_0_125": 10.9,
          "quantile_0_375": 13,
          "quantile_0_5": 13.7,
          "quantile_0_625": 14.3,
          "quantile_0_875": 16.7
         },
         {
          "date_start": "2019-08-24T01:20:00+00:00",
          "quantile_0_125": 10.9,
          "quantile_0_375": 12.9,
          "quantile_0_5": 13.7,
          "quantile_0_625": 14.3,
          "quantile_0_875": 16.7
         },
         {
          "date_start": "2019-08-24T01:30:00+00:00",
          "quantile_0_125": 10.9,
          "quantile_0_375": 12.8,
          "quantile_0_5": 13.6,
          "quantile_0_625": 14.3,
          "quantile_0_875": 16.6
         },
         {
          "date_start": "2019-08-24T01:40:00+00:00",
          "quantile_0_125": 10.8,
          "quantile_0_375": 12.8,
          "quantile_0_5": 13.5,
          "quantile_0_625": 14.2,
          "quantile_0_875": 16.4
         },
         {
          "date_start": "2019-08-24T01:50:00+00:00",
          "quantile_0_125": 10.6,
          "quantile_0_375": 12.6,
          "quantile_0_5": 13.5,
          "quantile_0_625": 14.2,
          "quantile_0_875": 16.3
         },
         {
          "date_start": "2019-08-24T02:00:00+00:00",
          "quantile_0_125": 10.5,
          "quantile_0_375": 12.6,
          "quantile_0_5": 13.4,
          "quantile_0_625": 14.1,
          "quantile_0_875": 16.4
         },
         {
          "date_start": "2019-08-24T02:10:00+00:00",
          "quantile_0_125": 10.5,
          "quantile_0_375": 12.5,
          "quantile_0_5": 13.3,
          "quantile_0_625": 14.1,
          "quantile_0_875": 16.1
         },
         {
          "date_start": "2019-08-24T02:20:00+00:00",
          "quantile_0_125": 10.4,
          "quantile_0_375": 12.3,
          "quantile_0_5": 13.2,
          "quantile_0_625": 14,
          "quantile_0_875": 16
         },
         {
          "date_start": "2019-08-24T02:30:00+00:00",
          "quantile_0_125": 10.3,
          "quantile_0_375": 12.3,
          "quantile_0_5": 13.2,
          "quantile_0_625": 13.9,
          "quantile_0_875": 16
         },
         {
          "date_start": "2019-08-24T02:40:00+00:00",
          "quantile_0_125": 10.2,
          "quantile_0_375": 12.2,
          "quantile_0_5": 13.1,
          "quantile_0_625": 13.9,
          "quantile_0_875": 15.9
         },
         {
          "date_start": "2019-08-24T02:50:00+00:00",
          "quantile_0_125": 10.1,
          "quantile_0_375": 12.2,
          "quantile_0_5": 13.1,
          "quantile_0_625": 13.7,
          "quantile_0_875": 15.9
         },
         {
          "date_start": "2019-08-24T03:00:00+00:00",
          "quantile_0_125": 10.1,
          "quantile_0_375": 12.1,
          "quantile_0_5": 13,
          "quantile_0_625": 13.7,
          "quantile_0_875": 15.8
         },
         {
          "date_start": "2019-08-24T03:10:00+00:00",
          "quantile_0_125": 10.1,
          "quantile_0_375": 12.1,
          "quantile_0_5": 12.9,
          "quantile_0_625": 13.6,
          "quantile_0_875": 15.8
         },
         {
          "date_start": "2019-08-24T03:20:00+00:00",
          "quantile_0_125": 10,
          "quantile_0_375": 12,
          "quantile_0_5": 12.9,
          "quantile_0_625": 13.6,
          "quantile_0_875": 15.7
         },
         {
          "date_start": "2019-08-24T03:30:00+00:00",
          "quantile_0_125": 9.9,
          "quantile_0_375": 12,
          "quantile_0_5": 12.8,
          "quantile_0_625": 13.5,
          "quantile_0_875": 15.6
         },
         {
          "date_start": "2019-08-24T03:40:00+00:00",
          "quantile_0_125": 9.9,
          "quantile_0_375": 11.9,
          "quantile_0_5": 12.8,
          "quantile_0_625": 13.5,
          "quantile_0_875": 15.5
         },
         {
          "date_start": "2019-08-24T03:50:00+00:00",
          "quantile_0_125": 9.9,
          "quantile_0_375": 11.9,
          "quantile_0_5": 12.7,
          "quantile_0_625": 13.4,
          "quantile_0_875": 15.5
         },
         {
          "date_start": "2019-08-24T04:00:00+00:00",
          "quantile_0_125": 9.8,
          "quantile_0_375": 12,
          "quantile_0_5": 12.7,
          "quantile_0_625": 13.5,
          "quantile_0_875": 15.3
         },
         {
          "date_start": "2019-08-24T04:10:00+00:00",
          "quantile_0_125": 9.7,
          "quantile_0_375": 11.9,
          "quantile_0_5": 12.6,
          "quantile_0_625": 13.4,
          "quantile_0_875": 15.4
         },
         {
          "date_start": "2019-08-24T04:20:00+00:00",
          "quantile_0_125": 9.7,
          "quantile_0_375": 11.7,
          "quantile_0_5": 12.5,
          "quantile_0_625": 13.5,
          "quantile_0_875": 15.3
         },
         {
          "date_start": "2019-08-24T04:30:00+00:00",
          "quantile_0_125": 9.6,
          "quantile_0_375": 11.7,
          "quantile_0_5": 12.6,
          "quantile_0_625": 13.5,
          "quantile_0_875": 15.3
         },
         {
          "date_start": "2019-08-24T04:40:00+00:00",
          "quantile_0_125": 9.7,
          "quantile_0_375": 11.9,
          "quantile_0_5": 12.7,
          "quantile_0_625": 13.5,
          "quantile_0_875": 15.4
         },
         {
          "date_start": "2019-08-24T04:50:00+00:00",
          "quantile_0_125": 9.9,
          "quantile_0_375": 12,
          "quantile_0_5": 12.8,
          "quantile_0_625": 13.5,
          "quantile_0_875": 15.5
         },
         {
          "date_start": "2019-08-24T05:00:00+00:00",
          "quantile_0_125": 10.1,
          "quantile_0_375": 12.3,
          "quantile_0_5": 13,
          "quantile_0_625": 13.8,
          "quantile_0_875": 15.6
         },
         {
          "date_start": "2019-08-24T05:10:00+00:00",
          "quantile_0_125": 10.5,
          "quantile_0_375": 12.6,
          "quantile_0_5": 13.3,
          "quantile_0_625": 14,
          "quantile_0_875": 15.7
         },
         {
          "date_start": "2019-08-24T05:20:00+00:00",
          "quantile_0_125": 10.8,
          "quantile_0_375": 13,
          "quantile_0_5": 13.7,
          "quantile_0_625": 14.3,
          "quantile_0_875": 16
         },
         {
          "date_start": "2019-08-24T05:30:00+00:00",
          "quantile_0_125": 11.4,
          "quantile_0_375": 13.5,
          "quantile_0_5": 14.1,
          "quantile_0_625": 14.7,
          "quantile_0_875": 16.4
         },
         {
          "date_start": "2019-08-24T05:40:00+00:00",
          "quantile_0_125": 11.9875,
          "quantile_0_375": 14.1,
          "quantile_0_5": 14.7,
          "quantile_0_625": 15.3,
          "quantile_0_875": 16.7125
         },
         {
          "date_start": "2019-08-24T05:50:00+00:00",
          "quantile_0_125": 12.4,
          "quantile_0_375": 14.5,
          "quantile_0_5": 15.2,
          "quantile_0_625": 15.7,
          "quantile_0_875": 17.2
         },
         {
          "date_start": "2019-08-24T06:00:00+00:00",
          "quantile_0_125": 13.1,
          "quantile_0_375": 15.0625,
          "quantile_0_5": 15.6,
          "quantile_0_625": 16.1,
          "quantile_0_875": 17.6
         },
         {
          "date_start": "2019-08-24T06:10:00+00:00",
          "quantile_0_125": 13.7,
          "quantile_0_375": 15.6,
          "quantile_0_5": 16.1,
          "quantile_0_625": 16.7,
          "quantile_0_875": 18
         },
         {
          "date_start": "2019-08-24T06:20:00+00:00",
          "quantile_0_125": 14.3,
          "quantile_0_375": 16,
          "quantile_0_5": 16.6,
          "quantile_0_625": 17.2,
          "quantile_0_875": 18.5125
         },
         {
          "date_start": "2019-08-24T06:30:00+00:00",
          "quantile_0_125": 14.6,
          "quantile_0_375": 16.5,
          "quantile_0_5": 17,
          "quantile_0_625": 17.7,
          "quantile_0_875": 18.8125
         },
         {
          "date_start": "2019-08-24T06:40:00+00:00",
          "quantile_0_125": 15.1,
          "quantile_0_375": 16.9,
          "quantile_0_5": 17.5,
          "quantile_0_625": 18.1,
          "quantile_0_875": 19.4
         },
         {
          "date_start": "2019-08-24T06:50:00+00:00",
          "quantile_0_125": 15.5875,
          "quantile_0_375": 17.4,
          "quantile_0_5": 18,
          "quantile_0_625": 18.5375,
          "quantile_0_875": 19.9
         },
         {
          "date_start": "2019-08-24T07:00:00+00:00",
          "quantile_0_125": 16.1,
          "quantile_0_375": 17.9,
          "quantile_0_5": 18.5,
          "quantile_0_625": 19,
          "quantile_0_875": 20.3
         },
         {
          "date_start": "2019-08-24T07:10:00+00:00",
          "quantile_0_125": 16.7,
          "quantile_0_375": 18.3625,
          "quantile_0_5": 18.85,
          "quantile_0_625": 19.4,
          "quantile_0_875": 20.8
         },
         {
          "date_start": "2019-08-24T07:20:00+00:00",
          "quantile_0_125": 17.1,
          "quantile_0_375": 18.8,
          "quantile_0_5": 19.3,
          "quantile_0_625": 19.9,
          "quantile_0_875": 21.4
         },
         {
          "date_start": "2019-08-24T07:30:00+00:00",
          "quantile_0_125": 17.5,
          "quantile_0_375": 19.2,
          "quantile_0_5": 19.7,
          "quantile_0_625": 20.2,
          "quantile_0_875": 21.8
         },
         {
          "date_start": "2019-08-24T07:40:00+00:00",
          "quantile_0_125": 17.9,
          "quantile_0_375": 19.6,
          "quantile_0_5": 20.1,
          "quantile_0_625": 20.6,
          "quantile_0_875": 22.3
         },
         {
          "date_start": "2019-08-24T07:50:00+00:00",
          "quantile_0_125": 18.3,
          "quantile_0_375": 20,
          "quantile_0_5": 20.6,
          "quantile_0_625": 21,
          "quantile_0_875": 22.7
         },
         {
          "date_start": "2019-08-24T08:00:00+00:00",
          "quantile_0_125": 18.7,
          "quantile_0_375": 20.3,
          "quantile_0_5": 20.9,
          "quantile_0_625": 21.4,
          "quantile_0_875": 23.1
         },
         {
          "date_start": "2019-08-24T08:10:00+00:00",
          "quantile_0_125": 19.2,
          "quantile_0_375": 20.8,
          "quantile_0_5": 21.3,
          "quantile_0_625": 21.8,
          "quantile_0_875": 23.5
         },
         {
          "date_start": "2019-08-24T08:20:00+00:00",
          "quantile_0_125": 19.3,
          "quantile_0_375": 21.1625,
          "quantile_0_5": 21.7,
          "quantile_0_625": 22.3,
          "quantile_0_875": 23.7
         },
         {
          "date_start": "2019-08-24T08:30:00+00:00",
          "quantile_0_125": 19.7,
          "quantile_0_375": 21.5,
          "quantile_0_5": 22.2,
          "quantile_0_625": 22.6,
          "quantile_0_875": 24.1125
         },
         {
          "date_start": "2019-08-24T08:40:00+00:00",
          "quantile_0_125": 20.087500000000002,
          "quantile_0_375": 21.9,
          "quantile_0_5": 22.45,
          "quantile_0_625": 23,
          "quantile_0_875": 24.4
         },
         {
          "date_start": "2019-08-24T08:50:00+00:00",
          "quantile_0_125": 20.3,
          "quantile_0_375": 22.1625,
          "quantile_0_5": 22.8,
          "quantile_0_625": 23.3,
          "quantile_0_875": 24.8125
         },
         {
          "date_start": "2019-08-24T09:00:00+00:00",
          "quantile_0_125": 20.5,
          "quantile_0_375": 22.4625,
          "quantile_0_5": 23.1,
          "quantile_0_625": 23.7,
          "quantile_0_875": 25.1
         },
         {
          "date_start": "2019-08-24T09:10:00+00:00",
          "quantile_0_125": 20.8,
          "quantile_0_375": 22.8,
          "quantile_0_5": 23.4,
          "quantile_0_625": 24,
          "quantile_0_875": 25.412499999999998
         },
         {
          "date_start": "2019-08-24T09:20:00+00:00",
          "quantile_0_125": 21,
          "quantile_0_375": 23,
          "quantile_0_5": 23.6,
          "quantile_0_625": 24.4,
          "quantile_0_875": 25.7
         },
         {
          "date_start": "2019-08-24T09:30:00+00:00",
          "quantile_0_125": 21.2,
          "quantile_0_375": 23.3,
          "quantile_0_5": 23.9,
          "quantile_0_625": 24.6,
          "quantile_0_875": 25.9
         },
         {
          "date_start": "2019-08-24T09:40:00+00:00",
          "quantile_0_125": 21.5,
          "quantile_0_375": 23.5,
          "quantile_0_5": 24.1,
          "quantile_0_625": 24.9,
          "quantile_0_875": 26.1
         },
         {
          "date_start": "2019-08-24T09:50:00+00:00",
          "quantile_0_125": 21.5,
          "quantile_0_375": 23.7,
          "quantile_0_5": 24.4,
          "quantile_0_625": 25.1,
          "quantile_0_875": 26.3
         },
         {
          "date_start": "2019-08-24T10:00:00+00:00",
          "quantile_0_125": 21.9,
          "quantile_0_375": 23.9,
          "quantile_0_5": 24.6,
          "quantile_0_625": 25.3,
          "quantile_0_875": 26.5
         },
         {
          "date_start": "2019-08-24T10:10:00+00:00",
          "quantile_0_125": 21.9,
          "quantile_0_375": 24.1,
          "quantile_0_5": 24.8,
          "quantile_0_625": 25.4,
          "quantile_0_875": 26.8
         },
         {
          "date_start": "2019-08-24T10:20:00+00:00",
          "quantile_0_125": 22.2,
          "quantile_0_375": 24.2625,
          "quantile_0_5": 25,
          "quantile_0_625": 25.6375,
          "quantile_0_875": 26.9
         },
         {
          "date_start": "2019-08-24T10:30:00+00:00",
          "quantile_0_125": 22.4875,
          "quantile_0_375": 24.5,
          "quantile_0_5": 25.2,
          "quantile_0_625": 25.8,
          "quantile_0_875": 27.2
         },
         {
          "date_start": "2019-08-24T10:40:00+00:00",
          "quantile_0_125": 22.4,
          "quantile_0_375": 24.6,
          "quantile_0_5": 25.5,
          "quantile_0_625": 26.0375,
          "quantile_0_875": 27.3
         },
         {
          "date_start": "2019-08-24T10:50:00+00:00",
          "quantile_0_125": 22.6,
          "quantile_0_375": 24.7,
          "quantile_0_5": 25.5,
          "quantile_0_625": 26.2,
          "quantile_0_875": 27.4
         },
         {
          "date_start": "2019-08-24T11:00:00+00:00",
          "quantile_0_125": 22.6875,
          "quantile_0_375": 24.9,
          "quantile_0_5": 25.7,
          "quantile_0_625": 26.4,
          "quantile_0_875": 27.7
         },
         {
          "date_start": "2019-08-24T11:10:00+00:00",
          "quantile_0_125": 22.8875,
          "quantile_0_375": 25.1,
          "quantile_0_5": 25.8,
          "quantile_0_625": 26.5,
          "quantile_0_875": 27.712500000000002
         },
         {
          "date_start": "2019-08-24T11:20:00+00:00",
          "quantile_0_125": 23,
          "quantile_0_375": 25.3,
          "quantile_0_5": 26.1,
          "quantile_0_625": 26.8,
          "quantile_0_875": 27.9
         },
         {
          "date_start": "2019-08-24T11:30:00+00:00",
          "quantile_0_125": 23.3,
          "quantile_0_375": 25.224999999999998,
          "quantile_0_5": 26.1,
          "quantile_0_625": 26.9,
          "quantile_0_875": 28.025
         },
         {
          "date_start": "2019-08-24T11:40:00+00:00",
          "quantile_0_125": 23.275000000000002,
          "quantile_0_375": 25.4,
          "quantile_0_5": 26.3,
          "quantile_0_625": 27,
          "quantile_0_875": 28.1
         },
         {
          "date_start": "2019-08-24T11:50:00+00:00",
          "quantile_0_125": 23.45,
          "quantile_0_375": 25.6,
          "quantile_0_5": 26.3,
          "quantile_0_625": 27.1,
          "quantile_0_875": 28.3
         },
         {
          "date_start": "2019-08-24T12:00:00+00:00",
          "quantile_0_125": 23.5,
          "quantile_0_375": 25.8,
          "quantile_0_5": 26.5,
          "quantile_0_625": 27.2,
          "quantile_0_875": 28.4
         },
         {
          "date_start": "2019-08-24T12:10:00+00:00",
          "quantile_0_125": 23.5,
          "quantile_0_375": 25.9,
          "quantile_0_5": 26.7,
          "quantile_0_625": 27.4,
          "quantile_0_875": 28.4
         },
         {
          "date_start": "2019-08-24T12:20:00+00:00",
          "quantile_0_125": 23.7,
          "quantile_0_375": 25.9,
          "quantile_0_5": 26.7,
          "quantile_0_625": 27.4,
          "quantile_0_875": 28.525
         },
         {
          "date_start": "2019-08-24T12:30:00+00:00",
          "quantile_0_125": 23.7,
          "quantile_0_375": 26.025,
          "quantile_0_5": 26.8,
          "quantile_0_625": 27.4,
          "quantile_0_875": 28.7
         },
         {
          "date_start": "2019-08-24T12:40:00+00:00",
          "quantile_0_125": 23.7,
          "quantile_0_375": 26.1,
          "quantile_0_5": 26.9,
          "quantile_0_625": 27.5,
          "quantile_0_875": 28.8
         },
         {
          "date_start": "2019-08-24T12:50:00+00:00",
          "quantile_0_125": 24,
          "quantile_0_375": 26.2,
          "quantile_0_5": 27,
          "quantile_0_625": 27.7,
          "quantile_0_875": 28.9
         },
         {
          "date_start": "2019-08-24T13:00:00+00:00",
          "quantile_0_125": 23.975,
          "quantile_0_375": 26.3,
          "quantile_0_5": 27.1,
          "quantile_0_625": 27.8,
          "quantile_0_875": 28.9
         },
         {
          "date_start": "2019-08-24T13:10:00+00:00",
          "quantile_0_125": 24.2,
          "quantile_0_375": 26.3,
          "quantile_0_5": 27.1,
          "quantile_0_625": 27.8,
          "quantile_0_875": 29
         },
         {
          "date_start": "2019-08-24T13:20:00+00:00",
          "quantile_0_125": 24.3,
          "quantile_0_375": 26.4,
          "quantile_0_5": 27.3,
          "quantile_0_625": 27.8,
          "quantile_0_875": 29.1
         },
         {
          "date_start": "2019-08-24T13:30:00+00:00",
          "quantile_0_125": 24.2,
          "quantile_0_375": 26.4,
          "quantile_0_5": 27.2,
          "quantile_0_625": 27.975,
          "quantile_0_875": 29.1
         },
         {
          "date_start": "2019-08-24T13:40:00+00:00",
          "quantile_0_125": 24.4,
          "quantile_0_375": 26.525,
          "quantile_0_5": 27.3,
          "quantile_0_625": 27.9,
          "quantile_0_875": 29.2
         },
         {
          "date_start": "2019-08-24T13:50:00+00:00",
          "quantile_0_125": 24.3,
          "quantile_0_375": 26.6,
          "quantile_0_5": 27.3,
          "quantile_0_625": 28,
          "quantile_0_875": 29.2
         },
         {
          "date_start": "2019-08-24T14:00:00+00:00",
          "quantile_0_125": 24.374999999999996,
          "quantile_0_375": 26.525,
          "quantile_0_5": 27.4,
          "quantile_0_625": 28.1,
          "quantile_0_875": 29.3
         },
         {
          "date_start": "2019-08-24T14:10:00+00:00",
          "quantile_0_125": 24.174999999999997,
          "quantile_0_375": 26.6,
          "quantile_0_5": 27.4,
          "quantile_0_625": 28.1,
          "quantile_0_875": 29.3
         },
         {
          "date_start": "2019-08-24T14:20:00+00:00",
          "quantile_0_125": 24.275000000000002,
          "quantile_0_375": 26.6,
          "quantile_0_5": 27.4,
          "quantile_0_625": 28,
          "quantile_0_875": 29.3
         },
         {
          "date_start": "2019-08-24T14:30:00+00:00",
          "quantile_0_125": 24.4,
          "quantile_0_375": 26.6,
          "quantile_0_5": 27.4,
          "quantile_0_625": 28.1,
          "quantile_0_875": 29.3
         },
         {
          "date_start": "2019-08-24T14:40:00+00:00",
          "quantile_0_125": 24.275000000000002,
          "quantile_0_375": 26.7,
          "quantile_0_5": 27.4,
          "quantile_0_625": 28,
          "quantile_0_875": 29.325000000000003
         },
         {
          "date_start": "2019-08-24T14:50:00+00:00",
          "quantile_0_125": 24.374999999999996,
          "quantile_0_375": 26.525,
          "quantile_0_5": 27.5,
          "quantile_0_625": 28.1,
          "quantile_0_875": 29.4
         },
         {
          "date_start": "2019-08-24T15:00:00+00:00",
          "quantile_0_125": 24.2,
          "quantile_0_375": 26.6,
          "quantile_0_5": 27.5,
          "quantile_0_625": 28.1,
          "quantile_0_875": 29.4
         },
         {
          "date_start": "2019-08-24T15:10:00+00:00",
          "quantile_0_125": 24.174999999999997,
          "quantile_0_375": 26.6,
          "quantile_0_5": 27.4,
          "quantile_0_625": 28,
          "quantile_0_875": 29.4
         },
         {
          "date_start": "2019-08-24T15:20:00+00:00",
          "quantile_0_125": 24.1,
          "quantile_0_375": 26.5,
          "quantile_0_5": 27.4,
          "quantile_0_625": 28,
          "quantile_0_875": 29.3
         },
         {
          "date_start": "2019-08-24T15:30:00+00:00",
          "quantile_0_125": 24,
          "quantile_0_375": 26.4,
          "quantile_0_5": 27.3,
          "quantile_0_625": 28,
          "quantile_0_875": 29.3
         },
         {
          "date_start": "2019-08-24T15:40:00+00:00",
          "quantile_0_125": 23.975,
          "quantile_0_375": 26.4,
          "quantile_0_5": 27.3,
          "quantile_0_625": 28,
          "quantile_0_875": 29.1
         },
         {
          "date_start": "2019-08-24T15:50:00+00:00",
          "quantile_0_125": 23.8,
          "quantile_0_375": 26.2,
          "quantile_0_5": 27.2,
          "quantile_0_625": 27.9,
          "quantile_0_875": 29.1
         },
         {
          "date_start": "2019-08-24T16:00:00+00:00",
          "quantile_0_125": 23.6,
          "quantile_0_375": 26.2,
          "quantile_0_5": 27.1,
          "quantile_0_625": 27.775000000000002,
          "quantile_0_875": 29
         },
         {
          "date_start": "2019-08-24T16:10:00+00:00",
          "quantile_0_125": 23.5,
          "quantile_0_375": 26.1,
          "quantile_0_5": 27,
          "quantile_0_625": 27.7,
          "quantile_0_875": 28.9
         },
         {
          "date_start": "2019-08-24T16:20:00+00:00",
          "quantile_0_125": 23.4,
          "quantile_0_375": 26,
          "quantile_0_5": 26.8,
          "quantile_0_625": 27.6,
          "quantile_0_875": 28.8
         },
         {
          "date_start": "2019-08-24T16:30:00+00:00",
          "quantile_0_125": 23.174999999999997,
          "quantile_0_375": 25.9,
          "quantile_0_5": 26.8,
          "quantile_0_625": 27.5,
          "quantile_0_875": 28.7
         },
         {
          "date_start": "2019-08-24T16:40:00+00:00",
          "quantile_0_125": 22.975,
          "quantile_0_375": 25.7,
          "quantile_0_5": 26.6,
          "quantile_0_625": 27.3,
          "quantile_0_875": 28.5
         },
         {
          "date_start": "2019-08-24T16:50:00+00:00",
          "quantile_0_125": 22.9,
          "quantile_0_375": 25.5,
          "quantile_0_5": 26.5,
          "quantile_0_625": 27.2,
          "quantile_0_875": 28.4
         },
         {
          "date_start": "2019-08-24T17:00:00+00:00",
          "quantile_0_125": 22.7,
          "quantile_0_375": 25.224999999999998,
          "quantile_0_5": 26.2,
          "quantile_0_625": 26.9,
          "quantile_0_875": 28.1
         },
         {
          "date_start": "2019-08-24T17:10:00+00:00",
          "quantile_0_125": 22.4,
          "quantile_0_375": 25,
          "quantile_0_5": 26,
          "quantile_0_625": 26.7,
          "quantile_0_875": 27.9
         },
         {
          "date_start": "2019-08-24T17:20:00+00:00",
          "quantile_0_125": 22.1,
          "quantile_0_375": 24.7,
          "quantile_0_5": 25.7,
          "quantile_0_625": 26.4,
          "quantile_0_875": 27.6
         },
         {
          "date_start": "2019-08-24T17:30:00+00:00",
          "quantile_0_125": 21.9,
          "quantile_0_375": 24.325000000000003,
          "quantile_0_5": 25.3,
          "quantile_0_625": 26.1,
          "quantile_0_875": 27.4
         },
         {
          "date_start": "2019-08-24T17:40:00+00:00",
          "quantile_0_125": 21.6,
          "quantile_0_375": 23.9,
          "quantile_0_5": 24.9,
          "quantile_0_625": 25.7,
          "quantile_0_875": 26.9
         },
         {
          "date_start": "2019-08-24T17:50:00+00:00",
          "quantile_0_125": 21.174999999999997,
          "quantile_0_375": 23.5,
          "quantile_0_5": 24.5,
          "quantile_0_625": 25.3,
          "quantile_0_875": 26.625000000000004
         },
         {
          "date_start": "2019-08-24T18:00:00+00:00",
          "quantile_0_125": 20.8,
          "quantile_0_375": 23.1,
          "quantile_0_5": 24,
          "quantile_0_625": 24.8,
          "quantile_0_875": 26.2
         },
         {
          "date_start": "2019-08-24T18:10:00+00:00",
          "quantile_0_125": 20.4,
          "quantile_0_375": 22.6,
          "quantile_0_5": 23.4,
          "quantile_0_625": 24.2,
          "quantile_0_875": 25.7
         },
         {
          "date_start": "2019-08-24T18:20:00+00:00",
          "quantile_0_125": 20.1,
          "quantile_0_375": 22.125000000000004,
          "quantile_0_5": 22.9,
          "quantile_0_625": 23.7,
          "quantile_0_875": 25.125000000000004
         },
         {
          "date_start": "2019-08-24T18:30:00+00:00",
          "quantile_0_125": 19.7,
          "quantile_0_375": 21.8,
          "quantile_0_5": 22.5,
          "quantile_0_625": 23.1,
          "quantile_0_875": 24.8
         },
         {
          "date_start": "2019-08-24T18:40:00+00:00",
          "quantile_0_125": 19.475,
          "quantile_0_375": 21.3,
          "quantile_0_5": 22.1,
          "quantile_0_625": 22.7,
          "quantile_0_875": 24.4
         },
         {
          "date_start": "2019-08-24T18:50:00+00:00",
          "quantile_0_125": 19.1,
          "quantile_0_375": 20.9,
          "quantile_0_5": 21.7,
          "quantile_0_625": 22.4,
          "quantile_0_875": 23.9
         },
         {
          "date_start": "2019-08-24T19:00:00+00:00",
          "quantile_0_125": 18.9,
          "quantile_0_375": 20.625,
          "quantile_0_5": 21.4,
          "quantile_0_625": 22,
          "quantile_0_875": 23.8
         },
         {
          "date_start": "2019-08-24T19:10:00+00:00",
          "quantile_0_125": 18.6,
          "quantile_0_375": 20.4,
          "quantile_0_5": 21.1,
          "quantile_0_625": 21.7,
          "quantile_0_875": 23.4
         },
         {
          "date_start": "2019-08-24T19:20:00+00:00",
          "quantile_0_125": 18.4,
          "quantile_0_375": 20.1,
          "quantile_0_5": 20.9,
          "quantile_0_625": 21.6,
          "quantile_0_875": 23.1
         },
         {
          "date_start": "2019-08-24T19:30:00+00:00",
          "quantile_0_125": 18.2,
          "quantile_0_375": 20,
          "quantile_0_5": 20.7,
          "quantile_0_625": 21.3,
          "quantile_0_875": 22.9
         },
         {
          "date_start": "2019-08-24T19:40:00+00:00",
          "quantile_0_125": 18,
          "quantile_0_375": 19.7,
          "quantile_0_5": 20.4,
          "quantile_0_625": 21.1,
          "quantile_0_875": 22.724999999999998
         },
         {
          "date_start": "2019-08-24T19:50:00+00:00",
          "quantile_0_125": 17.775000000000002,
          "quantile_0_375": 19.5,
          "quantile_0_5": 20.3,
          "quantile_0_625": 20.9,
          "quantile_0_875": 22.525
         },
         {
          "date_start": "2019-08-24T20:00:00+00:00",
          "quantile_0_125": 17.6,
          "quantile_0_375": 19.2,
          "quantile_0_5": 20,
          "quantile_0_625": 20.8,
          "quantile_0_875": 22.424999999999997
         },
         {
          "date_start": "2019-08-24T20:10:00+00:00",
          "quantile_0_125": 17.4,
          "quantile_0_375": 19.1,
          "quantile_0_5": 19.9,
          "quantile_0_625": 20.6,
          "quantile_0_875": 22.3
         },
         {
          "date_start": "2019-08-24T20:20:00+00:00",
          "quantile_0_125": 17.2,
          "quantile_0_375": 19.1,
          "quantile_0_5": 19.6,
          "quantile_0_625": 20.4,
          "quantile_0_875": 22.2
         },
         {
          "date_start": "2019-08-24T20:30:00+00:00",
          "quantile_0_125": 17.1,
          "quantile_0_375": 18.8,
          "quantile_0_5": 19.5,
          "quantile_0_625": 20.2,
          "quantile_0_875": 21.9
         },
         {
          "date_start": "2019-08-24T20:40:00+00:00",
          "quantile_0_125": 16.975,
          "quantile_0_375": 18.7,
          "quantile_0_5": 19.4,
          "quantile_0_625": 20.1,
          "quantile_0_875": 21.9
         },
         {
          "date_start": "2019-08-24T20:50:00+00:00",
          "quantile_0_125": 16.8,
          "quantile_0_375": 18.6,
          "quantile_0_5": 19.4,
          "quantile_0_625": 20.1,
          "quantile_0_875": 21.8
         },
         {
          "date_start": "2019-08-24T21:00:00+00:00",
          "quantile_0_125": 16.7,
          "quantile_0_375": 18.5,
          "quantile_0_5": 19.2,
          "quantile_0_625": 19.9,
          "quantile_0_875": 21.6
         },
         {
          "date_start": "2019-08-24T21:10:00+00:00",
          "quantile_0_125": 16.6,
          "quantile_0_375": 18.3,
          "quantile_0_5": 19.1,
          "quantile_0_625": 19.775000000000002,
          "quantile_0_875": 21.5
         },
         {
          "date_start": "2019-08-24T21:20:00+00:00",
          "quantile_0_125": 16.5,
          "quantile_0_375": 18.2,
          "quantile_0_5": 18.9,
          "quantile_0_625": 19.5,
          "quantile_0_875": 21.3
         },
         {
          "date_start": "2019-08-24T21:30:00+00:00",
          "quantile_0_125": 16.3,
          "quantile_0_375": 18,
          "quantile_0_5": 18.8,
          "quantile_0_625": 19.4,
          "quantile_0_875": 21.2
         },
         {
          "date_start": "2019-08-24T21:40:00+00:00",
          "quantile_0_125": 16.2,
          "quantile_0_375": 17.9,
          "quantile_0_5": 18.8,
          "quantile_0_625": 19.3,
          "quantile_0_875": 21.025
         },
         {
          "date_start": "2019-08-24T21:50:00+00:00",
          "quantile_0_125": 16,
          "quantile_0_375": 17.8,
          "quantile_0_5": 18.6,
          "quantile_0_625": 19.2,
          "quantile_0_875": 20.9
         },
         {
          "date_start": "2019-08-24T22:00:00+00:00",
          "quantile_0_125": 15.975,
          "quantile_0_375": 17.6,
          "quantile_0_5": 18.4,
          "quantile_0_625": 19.2,
          "quantile_0_875": 20.8
         },
         {
          "date_start": "2019-08-24T22:10:00+00:00",
          "quantile_0_125": 15.9,
          "quantile_0_375": 17.4,
          "quantile_0_5": 18.3,
          "quantile_0_625": 19,
          "quantile_0_875": 20.7
         },
         {
          "date_start": "2019-08-24T22:20:00+00:00",
          "quantile_0_125": 15.8,
          "quantile_0_375": 17.3,
          "quantile_0_5": 18.2,
          "quantile_0_625": 18.9,
          "quantile_0_875": 20.625
         },
         {
          "date_start": "2019-08-24T22:30:00+00:00",
          "quantile_0_125": 15.8,
          "quantile_0_375": 17.3,
          "quantile_0_5": 18.1,
          "quantile_0_625": 18.9,
          "quantile_0_875": 20.5
         },
         {
          "date_start": "2019-08-24T22:40:00+00:00",
          "quantile_0_125": 15.7,
          "quantile_0_375": 17.2,
          "quantile_0_5": 17.9,
          "quantile_0_625": 18.8,
          "quantile_0_875": 20.4
         },
         {
          "date_start": "2019-08-24T22:50:00+00:00",
          "quantile_0_125": 15.575,
          "quantile_0_375": 17.2,
          "quantile_0_5": 17.8,
          "quantile_0_625": 18.7,
          "quantile_0_875": 20.4
         },
         {
          "date_start": "2019-08-24T23:00:00+00:00",
          "quantile_0_125": 15.475,
          "quantile_0_375": 17,
          "quantile_0_5": 17.7,
          "quantile_0_625": 18.6,
          "quantile_0_875": 20.3
         },
         {
          "date_start": "2019-08-24T23:10:00+00:00",
          "quantile_0_125": 15.3,
          "quantile_0_375": 16.9,
          "quantile_0_5": 17.7,
          "quantile_0_625": 18.4,
          "quantile_0_875": 20.2
         },
         {
          "date_start": "2019-08-24T23:20:00+00:00",
          "quantile_0_125": 15.2,
          "quantile_0_375": 16.724999999999998,
          "quantile_0_5": 17.7,
          "quantile_0_625": 18.3,
          "quantile_0_875": 20.2
         },
         {
          "date_start": "2019-08-24T23:30:00+00:00",
          "quantile_0_125": 15.1,
          "quantile_0_375": 16.6,
          "quantile_0_5": 17.5,
          "quantile_0_625": 18.2,
          "quantile_0_875": 19.9
         },
         {
          "date_start": "2019-08-24T23:40:00+00:00",
          "quantile_0_125": 15,
          "quantile_0_375": 16.5,
          "quantile_0_5": 17.4,
          "quantile_0_625": 18.1,
          "quantile_0_875": 19.825000000000003
         },
         {
          "date_start": "2019-08-24T23:50:00+00:00",
          "quantile_0_125": 14.8,
          "quantile_0_375": 16.5,
          "quantile_0_5": 17.3,
          "quantile_0_625": 18,
          "quantile_0_875": 19.7
         },
         {
          "date_start": "2019-08-25T00:00:00+00:00",
          "quantile_0_125": 14.7,
          "quantile_0_375": 16.4,
          "quantile_0_5": 17.2,
          "quantile_0_625": 17.9,
          "quantile_0_875": 19.7
         },
         {
          "date_start": "2019-08-25T00:10:00+00:00",
          "quantile_0_125": 14.7,
          "quantile_0_375": 16.3,
          "quantile_0_5": 17.1,
          "quantile_0_625": 17.8,
          "quantile_0_875": 19.6
         },
         {
          "date_start": "2019-08-25T00:20:00+00:00",
          "quantile_0_125": 14.5625,
          "quantile_0_375": 16.1875,
          "quantile_0_5": 16.9,
          "quantile_0_625": 17.8,
          "quantile_0_875": 19.6375
         },
         {
          "date_start": "2019-08-25T00:30:00+00:00",
          "quantile_0_125": 14.5,
          "quantile_0_375": 16.087500000000002,
          "quantile_0_5": 16.85,
          "quantile_0_625": 17.7,
          "quantile_0_875": 19.5375
         },
         {
          "date_start": "2019-08-25T00:40:00+00:00",
          "quantile_0_125": 14.4,
          "quantile_0_375": 16,
          "quantile_0_5": 16.7,
          "quantile_0_625": 17.5,
          "quantile_0_875": 19.3375
         },
         {
          "date_start": "2019-08-25T00:50:00+00:00",
          "quantile_0_125": 14.4625,
          "quantile_0_375": 16,
          "quantile_0_5": 16.7,
          "quantile_0_625": 17.5,
          "quantile_0_875": 19.2375
         },
         {
          "date_start": "2019-08-25T01:00:00+00:00",
          "quantile_0_125": 14.4625,
          "quantile_0_375": 15.9,
          "quantile_0_5": 16.55,
          "quantile_0_625": 17.3,
          "quantile_0_875": 19.2
         },
         {
          "date_start": "2019-08-25T01:10:00+00:00",
          "quantile_0_125": 14.3,
          "quantile_0_375": 15.8,
          "quantile_0_5": 16.4,
          "quantile_0_625": 17.2,
          "quantile_0_875": 19.2
         },
         {
          "date_start": "2019-08-25T01:20:00+00:00",
          "quantile_0_125": 14.2,
          "quantile_0_375": 15.7,
          "quantile_0_5": 16.35,
          "quantile_0_625": 17.2,
          "quantile_0_875": 19
         },
         {
          "date_start": "2019-08-25T01:30:00+00:00",
          "quantile_0_125": 14.1,
          "quantile_0_375": 15.5875,
          "quantile_0_5": 16.3,
          "quantile_0_625": 17.1,
          "quantile_0_875": 18.8
         },
         {
          "date_start": "2019-08-25T01:40:00+00:00",
          "quantile_0_125": 14,
          "quantile_0_375": 15.5,
          "quantile_0_5": 16.2,
          "quantile_0_625": 17,
          "quantile_0_875": 18.8
         },
         {
          "date_start": "2019-08-25T01:50:00+00:00",
          "quantile_0_125": 13.9,
          "quantile_0_375": 15.4,
          "quantile_0_5": 16.1,
          "quantile_0_625": 17,
          "quantile_0_875": 18.7
         },
         {
          "date_start": "2019-08-25T02:00:00+00:00",
          "quantile_0_125": 13.9,
          "quantile_0_375": 15.4,
          "quantile_0_5": 16,
          "quantile_0_625": 16.912499999999998,
          "quantile_0_875": 18.5375
         },
         {
          "date_start": "2019-08-25T02:10:00+00:00",
          "quantile_0_125": 13.8,
          "quantile_0_375": 15.3,
          "quantile_0_5": 16,
          "quantile_0_625": 16.8,
          "quantile_0_875": 18.6
         },
         {
          "date_start": "2019-08-25T02:20:00+00:00",
          "quantile_0_125": 13.7,
          "quantile_0_375": 15.187499999999998,
          "quantile_0_5": 15.9,
          "quantile_0_625": 16.8,
          "quantile_0_875": 18.5
         },
         {
          "date_start": "2019-08-25T02:30:00+00:00",
          "quantile_0_125": 13.6,
          "quantile_0_375": 15.187499999999998,
          "quantile_0_5": 15.8,
          "quantile_0_625": 16.6,
          "quantile_0_875": 18.4
         },
         {
          "date_start": "2019-08-25T02:40:00+00:00",
          "quantile_0_125": 13.5625,
          "quantile_0_375": 15.1,
          "quantile_0_5": 15.7,
          "quantile_0_625": 16.5125,
          "quantile_0_875": 18.4
         },
         {
          "date_start": "2019-08-25T02:50:00+00:00",
          "quantile_0_125": 13.4,
          "quantile_0_375": 15,
          "quantile_0_5": 15.6,
          "quantile_0_625": 16.5,
          "quantile_0_875": 18.3
         },
         {
          "date_start": "2019-08-25T03:00:00+00:00",
          "quantile_0_125": 13.4,
          "quantile_0_375": 15,
          "quantile_0_5": 15.7,
          "quantile_0_625": 16.4,
          "quantile_0_875": 18.2
         },
         {
          "date_start": "2019-08-25T03:10:00+00:00",
          "quantile_0_125": 13.3,
          "quantile_0_375": 14.9,
          "quantile_0_5": 15.6,
          "quantile_0_625": 16.4,
          "quantile_0_875": 18.2375
         },
         {
          "date_start": "2019-08-25T03:20:00+00:00",
          "quantile_0_125": 13.4,
          "quantile_0_375": 14.9,
          "quantile_0_5": 15.6,
          "quantile_0_625": 16.4,
          "quantile_0_875": 18.1
         },
         {
          "date_start": "2019-08-25T03:30:00+00:00",
          "quantile_0_125": 13.3,
          "quantile_0_375": 14.8,
          "quantile_0_5": 15.5,
          "quantile_0_625": 16.3,
          "quantile_0_875": 18.1
         },
         {
          "date_start": "2019-08-25T03:40:00+00:00",
          "quantile_0_125": 13.2,
          "quantile_0_375": 14.7,
          "quantile_0_5": 15.4,
          "quantile_0_625": 16.2,
          "quantile_0_875": 18.0375
         },
         {
          "date_start": "2019-08-25T03:50:00+00:00",
          "quantile_0_125": 13.1,
          "quantile_0_375": 14.7,
          "quantile_0_5": 15.4,
          "quantile_0_625": 16.2,
          "quantile_0_875": 17.9375
         },
         {
          "date_start": "2019-08-25T04:00:00+00:00",
          "quantile_0_125": 13,
          "quantile_0_375": 14.6,
          "quantile_0_5": 15.3,
          "quantile_0_625": 16.1,
          "quantile_0_875": 17.9
         },
         {
          "date_start": "2019-08-25T04:10:00+00:00",
          "quantile_0_125": 13.0625,
          "quantile_0_375": 14.5,
          "quantile_0_5": 15.2,
          "quantile_0_625": 16,
          "quantile_0_875": 17.9375
         },
         {
          "date_start": "2019-08-25T04:20:00+00:00",
          "quantile_0_125": 13,
          "quantile_0_375": 14.5,
          "quantile_0_5": 15.2,
          "quantile_0_625": 16,
          "quantile_0_875": 17.9
         },
         {
          "date_start": "2019-08-25T04:30:00+00:00",
          "quantile_0_125": 13,
          "quantile_0_375": 14.5,
          "quantile_0_5": 15.2,
          "quantile_0_625": 16,
          "quantile_0_875": 17.9
         },
         {
          "date_start": "2019-08-25T04:40:00+00:00",
          "quantile_0_125": 13.0625,
          "quantile_0_375": 14.6,
          "quantile_0_5": 15.3,
          "quantile_0_625": 16,
          "quantile_0_875": 17.9375
         },
         {
          "date_start": "2019-08-25T04:50:00+00:00",
          "quantile_0_125": 13.1,
          "quantile_0_375": 14.7,
          "quantile_0_5": 15.2,
          "quantile_0_625": 16.1,
          "quantile_0_875": 18.1
         },
         {
          "date_start": "2019-08-25T05:00:00+00:00",
          "quantile_0_125": 13.2,
          "quantile_0_375": 14.8,
          "quantile_0_5": 15.5,
          "quantile_0_625": 16.2,
          "quantile_0_875": 18.2375
         },
         {
          "date_start": "2019-08-25T05:10:00+00:00",
          "quantile_0_125": 13.4625,
          "quantile_0_375": 15,
          "quantile_0_5": 15.6,
          "quantile_0_625": 16.5,
          "quantile_0_875": 18.4
         },
         {
          "date_start": "2019-08-25T05:20:00+00:00",
          "quantile_0_125": 13.7,
          "quantile_0_375": 15.3,
          "quantile_0_5": 15.9,
          "quantile_0_625": 16.6,
          "quantile_0_875": 18.6
         },
         {
          "date_start": "2019-08-25T05:30:00+00:00",
          "quantile_0_125": 14,
          "quantile_0_375": 15.7,
          "quantile_0_5": 16.3,
          "quantile_0_625": 16.9,
          "quantile_0_875": 18.8
         },
         {
          "date_start": "2019-08-25T05:40:00+00:00",
          "quantile_0_125": 14.5,
          "quantile_0_375": 16.2,
          "quantile_0_5": 16.7,
          "quantile_0_625": 17.3,
          "quantile_0_875": 19
         },
         {
          "date_start": "2019-08-25T05:50:00+00:00",
          "quantile_0_125": 15.0625,
          "quantile_0_375": 16.6,
          "quantile_0_5": 17.3,
          "quantile_0_625": 17.8,
          "quantile_0_875": 19.3
         },
         {
          "date_start": "2019-08-25T06:00:00+00:00",
          "quantile_0_125": 15.5,
          "quantile_0_375": 17.1,
          "quantile_0_5": 17.65,
          "quantile_0_625": 18.2125,
          "quantile_0_875": 19.6
         },
         {
          "date_start": "2019-08-25T06:10:00+00:00",
          "quantile_0_125": 16,
          "quantile_0_375": 17.6,
          "quantile_0_5": 18.1,
          "quantile_0_625": 18.7,
          "quantile_0_875": 19.9375
         },
         {
          "date_start": "2019-08-25T06:20:00+00:00",
          "quantile_0_125": 16.5,
          "quantile_0_375": 18.1,
          "quantile_0_5": 18.5,
          "quantile_0_625": 19.1,
          "quantile_0_875": 20.4
         },
         {
          "date_start": "2019-08-25T06:30:00+00:00",
          "quantile_0_125": 16.9625,
          "quantile_0_375": 18.5,
          "quantile_0_5": 19,
          "quantile_0_625": 19.5,
          "quantile_0_875": 20.9
         },
         {
          "date_start": "2019-08-25T06:40:00+00:00",
          "quantile_0_125": 17.4,
          "quantile_0_375": 18.9875,
          "quantile_0_5": 19.4,
          "quantile_0_625": 19.9,
          "quantile_0_875": 21.3
         },
         {
          "date_start": "2019-08-25T06:50:00+00:00",
          "quantile_0_125": 18,
          "quantile_0_375": 19.5,
          "quantile_0_5": 19.9,
          "quantile_0_625": 20.4,
          "quantile_0_875": 21.6
         },
         {
          "date_start": "2019-08-25T07:00:00+00:00",
          "quantile_0_125": 18.3,
          "quantile_0_375": 19.9,
          "quantile_0_5": 20.4,
          "quantile_0_625": 20.9,
          "quantile_0_875": 22.1
         },
         {
          "date_start": "2019-08-25T07:10:00+00:00",
          "quantile_0_125": 18.8,
          "quantile_0_375": 20.3,
          "quantile_0_5": 20.8,
          "quantile_0_625": 21.2,
          "quantile_0_875": 22.5
         },
         {
          "date_start": "2019-08-25T07:20:00+00:00",
          "quantile_0_125": 19.3,
          "quantile_0_375": 20.8,
          "quantile_0_5": 21.2,
          "quantile_0_625": 21.7,
          "quantile_0_875": 22.8
         },
         {
          "date_start": "2019-08-25T07:30:00+00:00",
          "quantile_0_125": 19.6,
          "quantile_0_375": 21.2,
          "quantile_0_5": 21.6,
          "quantile_0_625": 22,
          "quantile_0_875": 23.2375
         },
         {
          "date_start": "2019-08-25T07:40:00+00:00",
          "quantile_0_125": 20,
          "quantile_0_375": 21.6,
          "quantile_0_5": 22,
          "quantile_0_625": 22.4,
          "quantile_0_875": 23.6
         },
         {
          "date_start": "2019-08-25T07:50:00+00:00",
          "quantile_0_125": 20.3,
          "quantile_0_375": 22,
          "quantile_0_5": 22.45,
          "quantile_0_625": 22.9,
          "quantile_0_875": 24.0375
         },
         {
          "date_start": "2019-08-25T08:00:00+00:00",
          "quantile_0_125": 20.6625,
          "quantile_0_375": 22.4,
          "quantile_0_5": 22.75,
          "quantile_0_625": 23.2,
          "quantile_0_875": 24.4
         },
         {
          "date_start": "2019-08-25T08:10:00+00:00",
          "quantile_0_125": 21,
          "quantile_0_375": 22.787499999999998,
          "quantile_0_5": 23.2,
          "quantile_0_625": 23.7,
          "quantile_0_875": 24.7
         },
         {
          "date_start": "2019-08-25T08:20:00+00:00",
          "quantile_0_125": 21.3,
          "quantile_0_375": 23,
          "quantile_0_5": 23.5,
          "quantile_0_625": 24,
          "quantile_0_875": 25.1
         },
         {
          "date_start": "2019-08-25T08:30:00+00:00",
          "quantile_0_125": 21.6625,
          "quantile_0_375": 23.4,
          "quantile_0_5": 23.9,
          "quantile_0_625": 24.3,
          "quantile_0_875": 25.5
         },
         {
          "date_start": "2019-08-25T08:40:00+00:00",
          "quantile_0_125": 21.8625,
          "quantile_0_375": 23.7,
          "quantile_0_5": 24.3,
          "quantile_0_625": 24.7,
          "quantile_0_875": 25.8
         },
         {
          "date_start": "2019-08-25T08:50:00+00:00",
          "quantile_0_125": 22.1,
          "quantile_0_375": 24,
          "quantile_0_5": 24.5,
          "quantile_0_625": 25,
          "quantile_0_875": 26.1
         },
         {
          "date_start": "2019-08-25T09:00:00+00:00",
          "quantile_0_125": 22.3625,
          "quantile_0_375": 24.3,
          "quantile_0_5": 24.9,
          "quantile_0_625": 25.4,
          "quantile_0_875": 26.5
         },
         {
          "date_start": "2019-08-25T09:10:00+00:00",
          "quantile_0_125": 22.6625,
          "quantile_0_375": 24.6,
          "quantile_0_5": 25.2,
          "quantile_0_625": 25.7,
          "quantile_0_875": 26.8
         },
         {
          "date_start": "2019-08-25T09:20:00+00:00",
          "quantile_0_125": 22.8,
          "quantile_0_375": 24.9,
          "quantile_0_5": 25.5,
          "quantile_0_625": 26,
          "quantile_0_875": 27
         },
         {
          "date_start": "2019-08-25T09:30:00+00:00",
          "quantile_0_125": 22.9625,
          "quantile_0_375": 25.2,
          "quantile_0_5": 25.8,
          "quantile_0_625": 26.3,
          "quantile_0_875": 27.4
         },
         {
          "date_start": "2019-08-25T09:40:00+00:00",
          "quantile_0_125": 23.2,
          "quantile_0_375": 25.4,
          "quantile_0_5": 26.05,
          "quantile_0_625": 26.7,
          "quantile_0_875": 27.6375
         },
         {
          "date_start": "2019-08-25T09:50:00+00:00",
          "quantile_0_125": 23.5,
          "quantile_0_375": 25.7,
          "quantile_0_5": 26.3,
          "quantile_0_625": 26.9,
          "quantile_0_875": 27.9
         },
         {
          "date_start": "2019-08-25T10:00:00+00:00",
          "quantile_0_125": 23.6,
          "quantile_0_375": 25.9,
          "quantile_0_5": 26.55,
          "quantile_0_625": 27.1,
          "quantile_0_875": 28.2
         },
         {
          "date_start": "2019-08-25T10:10:00+00:00",
          "quantile_0_125": 23.8,
          "quantile_0_375": 26.1,
          "quantile_0_5": 26.7,
          "quantile_0_625": 27.3,
          "quantile_0_875": 28.5
         },
         {
          "date_start": "2019-08-25T10:20:00+00:00",
          "quantile_0_125": 24,
          "quantile_0_375": 26.3,
          "quantile_0_5": 26.9,
          "quantile_0_625": 27.5,
          "quantile_0_875": 28.6375
         },
         {
          "date_start": "2019-08-25T10:30:00+00:00",
          "quantile_0_125": 24,
          "quantile_0_375": 26.5,
          "quantile_0_5": 27.2,
          "quantile_0_625": 27.7,
          "quantile_0_875": 28.8375
         },
         {
          "date_start": "2019-08-25T10:40:00+00:00",
          "quantile_0_125": 24.2,
          "quantile_0_375": 26.6,
          "quantile_0_5": 27.3,
          "quantile_0_625": 27.9,
          "quantile_0_875": 29.1
         },
         {
          "date_start": "2019-08-25T10:50:00+00:00",
          "quantile_0_125": 24.4625,
          "quantile_0_375": 26.7,
          "quantile_0_5": 27.55,
          "quantile_0_625": 28.1,
          "quantile_0_875": 29.2
         },
         {
          "date_start": "2019-08-25T11:00:00+00:00",
          "quantile_0_125": 24.5,
          "quantile_0_375": 26.9,
          "quantile_0_5": 27.6,
          "quantile_0_625": 28.2,
          "quantile_0_875": 29.5
         },
         {
          "date_start": "2019-08-25T11:10:00+00:00",
          "quantile_0_125": 24.7,
          "quantile_0_375": 27,
          "quantile_0_5": 27.8,
          "quantile_0_625": 28.4,
          "quantile_0_875": 29.6
         },
         {
          "date_start": "2019-08-25T11:20:00+00:00",
          "quantile_0_125": 25,
          "quantile_0_375": 27.287499999999998,
          "quantile_0_5": 27.9,
          "quantile_0_625": 28.6,
          "quantile_0_875": 29.8
         },
         {
          "date_start": "2019-08-25T11:30:00+00:00",
          "quantile_0_125": 25,
          "quantile_0_375": 27.3,
          "quantile_0_5": 28.1,
          "quantile_0_625": 28.7,
          "quantile_0_875": 29.9
         },
         {
          "date_start": "2019-08-25T11:40:00+00:00",
          "quantile_0_125": 25,
          "quantile_0_375": 27.3875,
          "quantile_0_5": 28.2,
          "quantile_0_625": 28.8125,
          "quantile_0_875": 30.1
         },
         {
          "date_start": "2019-08-25T11:50:00+00:00",
          "quantile_0_125": 25.2,
          "quantile_0_375": 27.6,
          "quantile_0_5": 28.3,
          "quantile_0_625": 29,
          "quantile_0_875": 30.3375
         },
         {
          "date_start": "2019-08-25T12:00:00+00:00",
          "quantile_0_125": 25.3,
          "quantile_0_375": 27.787499999999998,
          "quantile_0_5": 28.5,
          "quantile_0_625": 29.1,
          "quantile_0_875": 30.3
         },
         {
          "date_start": "2019-08-25T12:10:00+00:00",
          "quantile_0_125": 25.6,
          "quantile_0_375": 27.6875,
          "quantile_0_5": 28.4,
          "quantile_0_625": 29.212500000000002,
          "quantile_0_875": 30.5
         },
         {
          "date_start": "2019-08-25T12:20:00+00:00",
          "quantile_0_125": 25.4,
          "quantile_0_375": 27.7,
          "quantile_0_5": 28.6,
          "quantile_0_625": 29.3,
          "quantile_0_875": 30.5
         },
         {
          "date_start": "2019-08-25T12:30:00+00:00",
          "quantile_0_125": 25.5,
          "quantile_0_375": 27.8,
          "quantile_0_5": 28.7,
          "quantile_0_625": 29.4,
          "quantile_0_875": 30.6
         },
         {
          "date_start": "2019-08-25T12:40:00+00:00",
          "quantile_0_125": 25.65,
          "quantile_0_375": 27.9,
          "quantile_0_5": 28.8,
          "quantile_0_625": 29.5,
          "quantile_0_875": 30.8
         },
         {
          "date_start": "2019-08-25T12:50:00+00:00",
          "quantile_0_125": 25.5,
          "quantile_0_375": 28,
          "quantile_0_5": 28.9,
          "quantile_0_625": 29.5,
          "quantile_0_875": 30.9
         },
         {
          "date_start": "2019-08-25T13:00:00+00:00",
          "quantile_0_125": 25.55,
          "quantile_0_375": 28.2,
          "quantile_0_5": 29,
          "quantile_0_625": 29.7,
          "quantile_0_875": 31
         },
         {
          "date_start": "2019-08-25T13:10:00+00:00",
          "quantile_0_125": 25.5,
          "quantile_0_375": 28.1,
          "quantile_0_5": 28.9,
          "quantile_0_625": 29.7,
          "quantile_0_875": 31
         },
         {
          "date_start": "2019-08-25T13:20:00+00:00",
          "quantile_0_125": 25.5,
          "quantile_0_375": 28.1,
          "quantile_0_5": 29,
          "quantile_0_625": 29.7,
          "quantile_0_875": 31.1
         },
         {
          "date_start": "2019-08-25T13:30:00+00:00",
          "quantile_0_125": 25.5,
          "quantile_0_375": 28.2,
          "quantile_0_5": 29.1,
          "quantile_0_625": 29.7,
          "quantile_0_875": 31.2
         },
         {
          "date_start": "2019-08-25T13:40:00+00:00",
          "quantile_0_125": 25.5,
          "quantile_0_375": 28.1,
          "quantile_0_5": 29.1,
          "quantile_0_625": 29.9,
          "quantile_0_875": 31.1
         },
         {
          "date_start": "2019-08-25T13:50:00+00:00",
          "quantile_0_125": 25.25,
          "quantile_0_375": 28.1,
          "quantile_0_5": 28.9,
          "quantile_0_625": 29.8,
          "quantile_0_875": 31.3
         },
         {
          "date_start": "2019-08-25T14:00:00+00:00",
          "quantile_0_125": 25.05,
          "quantile_0_375": 28.2,
          "quantile_0_5": 29,
          "quantile_0_625": 29.9,
          "quantile_0_875": 31.3
         },
         {
          "date_start": "2019-08-25T14:10:00+00:00",
          "quantile_0_125": 25,
          "quantile_0_375": 28.1,
          "quantile_0_5": 29.1,
          "quantile_0_625": 29.9,
          "quantile_0_875": 31.35
         },
         {
          "date_start": "2019-08-25T14:20:00+00:00",
          "quantile_0_125": 24.9,
          "quantile_0_375": 27.95,
          "quantile_0_5": 29.1,
          "quantile_0_625": 29.9,
          "quantile_0_875": 31.3
         },
         {
          "date_start": "2019-08-25T14:30:00+00:00",
          "quantile_0_125": 24.8,
          "quantile_0_375": 27.95,
          "quantile_0_5": 29.1,
          "quantile_0_625": 29.9,
          "quantile_0_875": 31.3
         },
         {
          "date_start": "2019-08-25T14:40:00+00:00",
          "quantile_0_125": 24.6,
          "quantile_0_375": 27.9,
          "quantile_0_5": 29.1,
          "quantile_0_625": 29.95,
          "quantile_0_875": 31.3
         },
         {
          "date_start": "2019-08-25T14:50:00+00:00",
          "quantile_0_125": 24.35,
          "quantile_0_375": 27.75,
          "quantile_0_5": 29.1,
          "quantile_0_625": 29.85,
          "quantile_0_875": 31.3
         },
         {
          "date_start": "2019-08-25T15:00:00+00:00",
          "quantile_0_125": 24.15,
          "quantile_0_375": 27.6,
          "quantile_0_5": 29,
          "quantile_0_625": 29.8,
          "quantile_0_875": 31.25
         },
         {
          "date_start": "2019-08-25T15:10:00+00:00",
          "quantile_0_125": 24.15,
          "quantile_0_375": 27.6,
          "quantile_0_5": 28.9,
          "quantile_0_625": 29.8,
          "quantile_0_875": 31.2
         },
         {
          "date_start": "2019-08-25T15:20:00+00:00",
          "quantile_0_125": 23.9,
          "quantile_0_375": 27.5,
          "quantile_0_5": 28.7,
          "quantile_0_625": 29.7,
          "quantile_0_875": 31.2
         },
         {
          "date_start": "2019-08-25T15:30:00+00:00",
          "quantile_0_125": 23.8,
          "quantile_0_375": 27.4,
          "quantile_0_5": 28.7,
          "quantile_0_625": 29.6,
          "quantile_0_875": 31.1
         },
         {
          "date_start": "2019-08-25T15:40:00+00:00",
          "quantile_0_125": 23.8,
          "quantile_0_375": 27.3,
          "quantile_0_5": 28.6,
          "quantile_0_625": 29.5125,
          "quantile_0_875": 31.1
         },
         {
          "date_start": "2019-08-25T15:50:00+00:00",
          "quantile_0_125": 23.525,
          "quantile_0_375": 27.1875,
          "quantile_0_5": 28.3,
          "quantile_0_625": 29.4,
          "quantile_0_875": 31
         },
         {
          "date_start": "2019-08-25T16:00:00+00:00",
          "quantile_0_125": 23.2625,
          "quantile_0_375": 26.9,
          "quantile_0_5": 28.1,
          "quantile_0_625": 29.2,
          "quantile_0_875": 30.9
         },
         {
          "date_start": "2019-08-25T16:10:00+00:00",
          "quantile_0_125": 23.2625,
          "quantile_0_375": 26.6,
          "quantile_0_5": 27.95,
          "quantile_0_625": 29.1,
          "quantile_0_875": 30.7375
         },
         {
          "date_start": "2019-08-25T16:20:00+00:00",
          "quantile_0_125": 22.8,
          "quantile_0_375": 26.6,
          "quantile_0_5": 27.9,
          "quantile_0_625": 29,
          "quantile_0_875": 30.6
         },
         {
          "date_start": "2019-08-25T16:30:00+00:00",
          "quantile_0_125": 22.925,
          "quantile_0_375": 26.4,
          "quantile_0_5": 27.7,
          "quantile_0_625": 28.8,
          "quantile_0_875": 30.4
         },
         {
          "date_start": "2019-08-25T16:40:00+00:00",
          "quantile_0_125": 22.7625,
          "quantile_0_375": 26.2,
          "quantile_0_5": 27.5,
          "quantile_0_625": 28.6,
          "quantile_0_875": 30.3
         },
         {
          "date_start": "2019-08-25T16:50:00+00:00",
          "quantile_0_125": 22.5625,
          "quantile_0_375": 26,
          "quantile_0_5": 27.2,
          "quantile_0_625": 28.3,
          "quantile_0_875": 30.1
         },
         {
          "date_start": "2019-08-25T17:00:00+00:00",
          "quantile_0_125": 22.4,
          "quantile_0_375": 25.7,
          "quantile_0_5": 26.9,
          "quantile_0_625": 28,
          "quantile_0_875": 29.9
         },
         {
          "date_start": "2019-08-25T17:10:00+00:00",
          "quantile_0_125": 22.2,
          "quantile_0_375": 25.3,
          "quantile_0_5": 26.6,
          "quantile_0_625": 27.7,
          "quantile_0_875": 29.7
         },
         {
          "date_start": "2019-08-25T17:20:00+00:00",
          "quantile_0_125": 22,
          "quantile_0_375": 24.9875,
          "quantile_0_5": 26.25,
          "quantile_0_625": 27.4,
          "quantile_0_875": 29.4
         },
         {
          "date_start": "2019-08-25T17:30:00+00:00",
          "quantile_0_125": 21.7,
          "quantile_0_375": 24.5,
          "quantile_0_5": 26,
          "quantile_0_625": 27,
          "quantile_0_875": 28.9375
         },
         {
          "date_start": "2019-08-25T17:40:00+00:00",
          "quantile_0_125": 21.4,
          "quantile_0_375": 24.287499999999998,
          "quantile_0_5": 25.7,
          "quantile_0_625": 26.6,
          "quantile_0_875": 28.5
         },
         {
          "date_start": "2019-08-25T17:50:00+00:00",
          "quantile_0_125": 21.3,
          "quantile_0_375": 23.8,
          "quantile_0_5": 25.2,
          "quantile_0_625": 26.1125,
          "quantile_0_875": 28.1
         },
         {
          "date_start": "2019-08-25T18:00:00+00:00",
          "quantile_0_125": 20.9,
          "quantile_0_375": 23.287499999999998,
          "quantile_0_5": 24.7,
          "quantile_0_625": 25.7,
          "quantile_0_875": 27.6
         },
         {
          "date_start": "2019-08-25T18:10:00+00:00",
          "quantile_0_125": 20.5625,
          "quantile_0_375": 22.8875,
          "quantile_0_5": 24.4,
          "quantile_0_625": 25.2,
          "quantile_0_875": 27.2
         },
         {
          "date_start": "2019-08-25T18:20:00+00:00",
          "quantile_0_125": 20.4,
          "quantile_0_375": 22.587500000000002,
          "quantile_0_5": 23.8,
          "quantile_0_625": 24.7,
          "quantile_0_875": 26.7
         },
         {
          "date_start": "2019-08-25T18:30:00+00:00",
          "quantile_0_125": 20.1,
          "quantile_0_375": 22.1,
          "quantile_0_5": 23.35,
          "quantile_0_625": 24.3,
          "quantile_0_875": 26.2
         },
         {
          "date_start": "2019-08-25T18:40:00+00:00",
          "quantile_0_125": 19.7,
          "quantile_0_375": 21.9,
          "quantile_0_5": 23,
          "quantile_0_625": 24,
          "quantile_0_875": 25.9
         },
         {
          "date_start": "2019-08-25T18:50:00+00:00",
          "quantile_0_125": 19.5,
          "quantile_0_375": 21.7,
          "quantile_0_5": 22.7,
          "quantile_0_625": 23.7,
          "quantile_0_875": 25.6
         },
         {
          "date_start": "2019-08-25T19:00:00+00:00",
          "quantile_0_125": 19.3,
          "quantile_0_375": 21.4,
          "quantile_0_5": 22.5,
          "quantile_0_625": 23.4,
          "quantile_0_875": 25.3375
         },
         {
          "date_start": "2019-08-25T19:10:00+00:00",
          "quantile_0_125": 19.0625,
          "quantile_0_375": 21.2,
          "quantile_0_5": 22.3,
          "quantile_0_625": 23.1,
          "quantile_0_875": 25.0375
         },
         {
          "date_start": "2019-08-25T19:20:00+00:00",
          "quantile_0_125": 19,
          "quantile_0_375": 21,
          "quantile_0_5": 22,
          "quantile_0_625": 22.912499999999998,
          "quantile_0_875": 24.7
         },
         {
          "date_start": "2019-08-25T19:30:00+00:00",
          "quantile_0_125": 18.8625,
          "quantile_0_375": 20.8,
          "quantile_0_5": 21.7,
          "quantile_0_625": 22.8,
          "quantile_0_875": 24.5
         },
         {
          "date_start": "2019-08-25T19:40:00+00:00",
          "quantile_0_125": 18.5,
          "quantile_0_375": 20.6,
          "quantile_0_5": 21.5,
          "quantile_0_625": 22.412499999999998,
          "quantile_0_875": 24.4
         },
         {
          "date_start": "2019-08-25T19:50:00+00:00",
          "quantile_0_125": 18.4,
          "quantile_0_375": 20.6,
          "quantile_0_5": 21.3,
          "quantile_0_625": 22.3,
          "quantile_0_875": 24.2
         },
         {
          "date_start": "2019-08-25T20:00:00+00:00",
          "quantile_0_125": 18.3,
          "quantile_0_375": 20.4,
          "quantile_0_5": 21.2,
          "quantile_0_625": 22.0125,
          "quantile_0_875": 24.1
         },
         {
          "date_start": "2019-08-25T20:10:00+00:00",
          "quantile_0_125": 18,
          "quantile_0_375": 20.2,
          "quantile_0_5": 21,
          "quantile_0_625": 21.8,
          "quantile_0_875": 23.8
         },
         {
          "date_start": "2019-08-25T20:20:00+00:00",
          "quantile_0_125": 18,
          "quantile_0_375": 20.1,
          "quantile_0_5": 20.9,
          "quantile_0_625": 21.7,
          "quantile_0_875": 23.7
         },
         {
          "date_start": "2019-08-25T20:30:00+00:00",
          "quantile_0_125": 17.8,
          "quantile_0_375": 20,
          "quantile_0_5": 20.8,
          "quantile_0_625": 21.5,
          "quantile_0_875": 23.5
         },
         {
          "date_start": "2019-08-25T20:40:00+00:00",
          "quantile_0_125": 17.6,
          "quantile_0_375": 19.8,
          "quantile_0_5": 20.5,
          "quantile_0_625": 21.4,
          "quantile_0_875": 23.3375
         },
         {
          "date_start": "2019-08-25T20:50:00+00:00",
          "quantile_0_125": 17.6625,
          "quantile_0_375": 19.6,
          "quantile_0_5": 20.4,
          "quantile_0_625": 21.1,
          "quantile_0_875": 23.2
         },
         {
          "date_start": "2019-08-25T21:00:00+00:00",
          "quantile_0_125": 17.5,
          "quantile_0_375": 19.4875,
          "quantile_0_5": 20.2,
          "quantile_0_625": 21.1,
          "quantile_0_875": 23.1
         },
         {
          "date_start": "2019-08-25T21:10:00+00:00",
          "quantile_0_125": 17.3,
          "quantile_0_375": 19.4,
          "quantile_0_5": 20,
          "quantile_0_625": 21,
          "quantile_0_875": 23
         },
         {
          "date_start": "2019-08-25T21:20:00+00:00",
          "quantile_0_125": 17.2,
          "quantile_0_375": 19.287499999999998,
          "quantile_0_5": 20,
          "quantile_0_625": 20.8,
          "quantile_0_875": 22.9
         },
         {
          "date_start": "2019-08-25T21:30:00+00:00",
          "quantile_0_125": 17.1,
          "quantile_0_375": 19.1,
          "quantile_0_5": 20,
          "quantile_0_625": 20.6,
          "quantile_0_875": 22.7
         },
         {
          "date_start": "2019-08-25T21:40:00+00:00",
          "quantile_0_125": 16.9,
          "quantile_0_375": 18.9,
          "quantile_0_5": 19.8,
          "quantile_0_625": 20.5,
          "quantile_0_875": 22.5
         },
         {
          "date_start": "2019-08-25T21:50:00+00:00",
          "quantile_0_125": 16.7625,
          "quantile_0_375": 18.8,
          "quantile_0_5": 19.7,
          "quantile_0_625": 20.4,
          "quantile_0_875": 22.5
         },
         {
          "date_start": "2019-08-25T22:00:00+00:00",
          "quantile_0_125": 16.7,
          "quantile_0_375": 18.6,
          "quantile_0_5": 19.5,
          "quantile_0_625": 20.4,
          "quantile_0_875": 22.2
         },
         {
          "date_start": "2019-08-25T22:10:00+00:00",
          "quantile_0_125": 16.5625,
          "quantile_0_375": 18.5,
          "quantile_0_5": 19.4,
          "quantile_0_625": 20.1,
          "quantile_0_875": 22.1
         },
         {
          "date_start": "2019-08-25T22:20:00+00:00",
          "quantile_0_125": 16.4,
          "quantile_0_375": 18.4,
          "quantile_0_5": 19.3,
          "quantile_0_625": 20,
          "quantile_0_875": 22.1
         },
         {
          "date_start": "2019-08-25T22:30:00+00:00",
          "quantile_0_125": 16.4,
          "quantile_0_375": 18.3875,
          "quantile_0_5": 19.2,
          "quantile_0_625": 19.9,
          "quantile_0_875": 21.9
         },
         {
          "date_start": "2019-08-25T22:40:00+00:00",
          "quantile_0_125": 16.3,
          "quantile_0_375": 18.2,
          "quantile_0_5": 19,
          "quantile_0_625": 19.8,
          "quantile_0_875": 21.7375
         },
         {
          "date_start": "2019-08-25T22:50:00+00:00",
          "quantile_0_125": 16.1625,
          "quantile_0_375": 18.1,
          "quantile_0_5": 18.9,
          "quantile_0_625": 19.6,
          "quantile_0_875": 21.6375
         },
         {
          "date_start": "2019-08-25T23:00:00+00:00",
          "quantile_0_125": 16,
          "quantile_0_375": 18,
          "quantile_0_5": 18.8,
          "quantile_0_625": 19.5,
          "quantile_0_875": 21.5375
         },
         {
          "date_start": "2019-08-25T23:10:00+00:00",
          "quantile_0_125": 15.9,
          "quantile_0_375": 17.9,
          "quantile_0_5": 18.7,
          "quantile_0_625": 19.3125,
          "quantile_0_875": 21.3
         },
         {
          "date_start": "2019-08-25T23:20:00+00:00",
          "quantile_0_125": 15.8,
          "quantile_0_375": 17.7875,
          "quantile_0_5": 18.6,
          "quantile_0_625": 19.3,
          "quantile_0_875": 21.3
         },
         {
          "date_start": "2019-08-25T23:30:00+00:00",
          "quantile_0_125": 15.7625,
          "quantile_0_375": 17.6875,
          "quantile_0_5": 18.4,
          "quantile_0_625": 19.1,
          "quantile_0_875": 21.1
         },
         {
          "date_start": "2019-08-25T23:40:00+00:00",
          "quantile_0_125": 15.7,
          "quantile_0_375": 17.587500000000002,
          "quantile_0_5": 18.3,
          "quantile_0_625": 19,
          "quantile_0_875": 20.8
         },
         {
          "date_start": "2019-08-25T23:50:00+00:00",
          "quantile_0_125": 15.7,
          "quantile_0_375": 17.4875,
          "quantile_0_5": 18.2,
          "quantile_0_625": 18.9,
          "quantile_0_875": 20.7
         },
         {
          "date_start": "2019-08-26T00:00:00+00:00",
          "quantile_0_125": 15.5,
          "quantile_0_375": 17.3,
          "quantile_0_5": 18.1,
          "quantile_0_625": 18.8125,
          "quantile_0_875": 20.6375
         },
         {
          "date_start": "2019-08-26T00:10:00+00:00",
          "quantile_0_125": 15.4,
          "quantile_0_375": 17.3,
          "quantile_0_5": 18,
          "quantile_0_625": 18.7,
          "quantile_0_875": 20.5
         },
         {
          "date_start": "2019-08-26T00:20:00+00:00",
          "quantile_0_125": 15.3,
          "quantile_0_375": 17.2,
          "quantile_0_5": 17.9,
          "quantile_0_625": 18.7,
          "quantile_0_875": 20.5
         },
         {
          "date_start": "2019-08-26T00:30:00+00:00",
          "quantile_0_125": 15.3,
          "quantile_0_375": 17,
          "quantile_0_5": 17.8,
          "quantile_0_625": 18.5,
          "quantile_0_875": 20.4
         },
         {
          "date_start": "2019-08-26T00:40:00+00:00",
          "quantile_0_125": 15.2,
          "quantile_0_375": 16.9,
          "quantile_0_5": 17.75,
          "quantile_0_625": 18.4,
          "quantile_0_875": 20.2375
         },
         {
          "date_start": "2019-08-26T00:50:00+00:00",
          "quantile_0_125": 15.1,
          "quantile_0_375": 16.8,
          "quantile_0_5": 17.6,
          "quantile_0_625": 18.4,
          "quantile_0_875": 20.2
         },
         {
          "date_start": "2019-08-26T01:00:00+00:00",
          "quantile_0_125": 15,
          "quantile_0_375": 16.7,
          "quantile_0_5": 17.4,
          "quantile_0_625": 18.3,
          "quantile_0_875": 20.1
         },
         {
          "date_start": "2019-08-26T01:10:00+00:00",
          "quantile_0_125": 15,
          "quantile_0_375": 16.6875,
          "quantile_0_5": 17.4,
          "quantile_0_625": 18.2,
          "quantile_0_875": 19.9375
         },
         {
          "date_start": "2019-08-26T01:20:00+00:00",
          "quantile_0_125": 14.9,
          "quantile_0_375": 16.6,
          "quantile_0_5": 17.3,
          "quantile_0_625": 18,
          "quantile_0_875": 19.8
         },
         {
          "date_start": "2019-08-26T01:30:00+00:00",
          "quantile_0_125": 14.9,
          "quantile_0_375": 16.5,
          "quantile_0_5": 17.3,
          "quantile_0_625": 18,
          "quantile_0_875": 19.7
         },
         {
          "date_start": "2019-08-26T01:40:00+00:00",
          "quantile_0_125": 14.8,
          "quantile_0_375": 16.4,
          "quantile_0_5": 17.1,
          "quantile_0_625": 17.8,
          "quantile_0_875": 19.6
         },
         {
          "date_start": "2019-08-26T01:50:00+00:00",
          "quantile_0_125": 14.7,
          "quantile_0_375": 16.3,
          "quantile_0_5": 17.1,
          "quantile_0_625": 17.7,
          "quantile_0_875": 19.5
         },
         {
          "date_start": "2019-08-26T02:00:00+00:00",
          "quantile_0_125": 14.5,
          "quantile_0_375": 16.2,
          "quantile_0_5": 17,
          "quantile_0_625": 17.6,
          "quantile_0_875": 19.4375
         },
         {
          "date_start": "2019-08-26T02:10:00+00:00",
          "quantile_0_125": 14.5,
          "quantile_0_375": 16.1875,
          "quantile_0_5": 16.9,
          "quantile_0_625": 17.5,
          "quantile_0_875": 19.4
         },
         {
          "date_start": "2019-08-26T02:20:00+00:00",
          "quantile_0_125": 14.4,
          "quantile_0_375": 16.1,
          "quantile_0_5": 16.85,
          "quantile_0_625": 17.412499999999998,
          "quantile_0_875": 19.2375
         },
         {
          "date_start": "2019-08-26T02:30:00+00:00",
          "quantile_0_125": 14.4,
          "quantile_0_375": 16.1,
          "quantile_0_5": 16.75,
          "quantile_0_625": 17.4,
          "quantile_0_875": 19.2
         },
         {
          "date_start": "2019-08-26T02:40:00+00:00",
          "quantile_0_125": 14.3,
          "quantile_0_375": 16,
          "quantile_0_5": 16.7,
          "quantile_0_625": 17.3,
          "quantile_0_875": 19.1
         },
         {
          "date_start": "2019-08-26T02:50:00+00:00",
          "quantile_0_125": 14.3,
          "quantile_0_375": 16,
          "quantile_0_5": 16.6,
          "quantile_0_625": 17.2,
          "quantile_0_875": 19
         },
         {
          "date_start": "2019-08-26T03:00:00+00:00",
          "quantile_0_125": 14.1,
          "quantile_0_375": 15.9,
          "quantile_0_5": 16.5,
          "quantile_0_625": 17,
          "quantile_0_875": 18.9
         },
         {
          "date_start": "2019-08-26T03:10:00+00:00",
          "quantile_0_125": 14.0625,
          "quantile_0_375": 15.8,
          "quantile_0_5": 16.4,
          "quantile_0_625": 17,
          "quantile_0_875": 19
         },
         {
          "date_start": "2019-08-26T03:20:00+00:00",
          "quantile_0_125": 14,
          "quantile_0_375": 15.7,
          "quantile_0_5": 16.3,
          "quantile_0_625": 17,
          "quantile_0_875": 18.9
         },
         {
          "date_start": "2019-08-26T03:30:00+00:00",
          "quantile_0_125": 13.9,
          "quantile_0_375": 15.6,
          "quantile_0_5": 16.2,
          "quantile_0_625": 16.9,
          "quantile_0_875": 18.9
         },
         {
          "date_start": "2019-08-26T03:40:00+00:00",
          "quantile_0_125": 13.9,
          "quantile_0_375": 15.6,
          "quantile_0_5": 16.2,
          "quantile_0_625": 16.8,
          "quantile_0_875": 18.8375
         },
         {
          "date_start": "2019-08-26T03:50:00+00:00",
          "quantile_0_125": 13.8625,
          "quantile_0_375": 15.5,
          "quantile_0_5": 16.15,
          "quantile_0_625": 16.7,
          "quantile_0_875": 18.7
         },
         {
          "date_start": "2019-08-26T04:00:00+00:00",
          "quantile_0_125": 13.8,
          "quantile_0_375": 15.5,
          "quantile_0_5": 16.1,
          "quantile_0_625": 16.6,
          "quantile_0_875": 18.6
         },
         {
          "date_start": "2019-08-26T04:10:00+00:00",
          "quantile_0_125": 13.8,
          "quantile_0_375": 15.5,
          "quantile_0_5": 16,
          "quantile_0_625": 16.7,
          "quantile_0_875": 18.6
         },
         {
          "date_start": "2019-08-26T04:20:00+00:00",
          "quantile_0_125": 13.7,
          "quantile_0_375": 15.4,
          "quantile_0_5": 15.95,
          "quantile_0_625": 16.5,
          "quantile_0_875": 18.4375
         },
         {
          "date_start": "2019-08-26T04:30:00+00:00",
          "quantile_0_125": 13.7,
          "quantile_0_375": 15.4,
          "quantile_0_5": 15.9,
          "quantile_0_625": 16.7,
          "quantile_0_875": 18.5
         },
         {
          "date_start": "2019-08-26T04:40:00+00:00",
          "quantile_0_125": 13.8,
          "quantile_0_375": 15.4,
          "quantile_0_5": 15.9,
          "quantile_0_625": 16.6,
          "quantile_0_875": 18.4375
         },
         {
          "date_start": "2019-08-26T04:50:00+00:00",
          "quantile_0_125": 13.8625,
          "quantile_0_375": 15.6,
          "quantile_0_5": 16,
          "quantile_0_625": 16.7,
          "quantile_0_875": 18.5
         },
         {
          "date_start": "2019-08-26T05:00:00+00:00",
          "quantile_0_125": 13.9,
          "quantile_0_375": 15.7,
          "quantile_0_5": 16.2,
          "quantile_0_625": 16.8125,
          "quantile_0_875": 18.6
         },
         {
          "date_start": "2019-08-26T05:10:00+00:00",
          "quantile_0_125": 14.2,
          "quantile_0_375": 15.8,
          "quantile_0_5": 16.45,
          "quantile_0_625": 17.1,
          "quantile_0_875": 18.6375
         },
         {
          "date_start": "2019-08-26T05:20:00+00:00",
          "quantile_0_125": 14.5,
          "quantile_0_375": 16.1,
          "quantile_0_5": 16.7,
          "quantile_0_625": 17.3,
          "quantile_0_875": 18.9375
         },
         {
          "date_start": "2019-08-26T05:30:00+00:00",
          "quantile_0_125": 14.8625,
          "quantile_0_375": 16.5,
          "quantile_0_5": 17.1,
          "quantile_0_625": 17.7,
          "quantile_0_875": 19.3
         },
         {
          "date_start": "2019-08-26T05:40:00+00:00",
          "quantile_0_125": 15.3,
          "quantile_0_375": 16.9,
          "quantile_0_5": 17.5,
          "quantile_0_625": 18.3,
          "quantile_0_875": 19.6
         },
         {
          "date_start": "2019-08-26T05:50:00+00:00",
          "quantile_0_125": 15.7,
          "quantile_0_375": 17.3,
          "quantile_0_5": 17.9,
          "quantile_0_625": 18.8,
          "quantile_0_875": 20.0375
         },
         {
          "date_start": "2019-08-26T06:00:00+00:00",
          "quantile_0_125": 16.1,
          "quantile_0_375": 17.7,
          "quantile_0_5": 18.45,
          "quantile_0_625": 19.2,
          "quantile_0_875": 20.5375
         },
         {
          "date_start": "2019-08-26T06:10:00+00:00",
          "quantile_0_125": 16.6,
          "quantile_0_375": 18.3,
          "quantile_0_5": 18.9,
          "quantile_0_625": 19.7,
          "quantile_0_875": 21
         },
         {
          "date_start": "2019-08-26T06:20:00+00:00",
          "quantile_0_125": 16.9625,
          "quantile_0_375": 18.7,
          "quantile_0_5": 19.35,
          "quantile_0_625": 20.1,
          "quantile_0_875": 21.4375
         },
         {
          "date_start": "2019-08-26T06:30:00+00:00",
          "quantile_0_125": 17.5,
          "quantile_0_375": 19.2,
          "quantile_0_5": 19.8,
          "quantile_0_625": 20.4,
          "quantile_0_875": 21.8
         },
         {
          "date_start": "2019-08-26T06:40:00+00:00",
          "quantile_0_125": 17.9,
          "quantile_0_375": 19.6,
          "quantile_0_5": 20.3,
          "quantile_0_625": 20.9,
          "quantile_0_875": 22.3
         },
         {
          "date_start": "2019-08-26T06:50:00+00:00",
          "quantile_0_125": 18.3625,
          "quantile_0_375": 20.1,
          "quantile_0_5": 20.7,
          "quantile_0_625": 21.4,
          "quantile_0_875": 22.5
         },
         {
          "date_start": "2019-08-26T07:00:00+00:00",
          "quantile_0_125": 18.8625,
          "quantile_0_375": 20.5,
          "quantile_0_5": 21.1,
          "quantile_0_625": 21.8,
          "quantile_0_875": 23.1
         },
         {
          "date_start": "2019-08-26T07:10:00+00:00",
          "quantile_0_125": 19.3,
          "quantile_0_375": 20.9,
          "quantile_0_5": 21.5,
          "quantile_0_625": 22.3,
          "quantile_0_875": 23.5
         },
         {
          "date_start": "2019-08-26T07:20:00+00:00",
          "quantile_0_125": 19.7,
          "quantile_0_375": 21.287499999999998,
          "quantile_0_5": 21.9,
          "quantile_0_625": 22.7,
          "quantile_0_875": 24
         },
         {
          "date_start": "2019-08-26T07:30:00+00:00",
          "quantile_0_125": 20.2,
          "quantile_0_375": 21.7,
          "quantile_0_5": 22.4,
          "quantile_0_625": 23.1,
          "quantile_0_875": 24.3
         },
         {
          "date_start": "2019-08-26T07:40:00+00:00",
          "quantile_0_125": 20.5,
          "quantile_0_375": 22.1,
          "quantile_0_5": 22.8,
          "quantile_0_625": 23.5,
          "quantile_0_875": 24.7
         },
         {
          "date_start": "2019-08-26T07:50:00+00:00",
          "quantile_0_125": 20.8,
          "quantile_0_375": 22.5,
          "quantile_0_5": 23.2,
          "quantile_0_625": 23.9,
          "quantile_0_875": 25.2
         },
         {
          "date_start": "2019-08-26T08:00:00+00:00",
          "quantile_0_125": 21.2,
          "quantile_0_375": 22.9,
          "quantile_0_5": 23.65,
          "quantile_0_625": 24.3,
          "quantile_0_875": 25.6
         },
         {
          "date_start": "2019-08-26T08:10:00+00:00",
          "quantile_0_125": 21.6,
          "quantile_0_375": 23.3875,
          "quantile_0_5": 24,
          "quantile_0_625": 24.7,
          "quantile_0_875": 25.9
         },
         {
          "date_start": "2019-08-26T08:20:00+00:00",
          "quantile_0_125": 21.8,
          "quantile_0_375": 23.7,
          "quantile_0_5": 24.4,
          "quantile_0_625": 25,
          "quantile_0_875": 26.4
         },
         {
          "date_start": "2019-08-26T08:30:00+00:00",
          "quantile_0_125": 22.2,
          "quantile_0_375": 24,
          "quantile_0_5": 24.85,
          "quantile_0_625": 25.4,
          "quantile_0_875": 26.6
         },
         {
          "date_start": "2019-08-26T08:40:00+00:00",
          "quantile_0_125": 22.3,
          "quantile_0_375": 24.3,
          "quantile_0_5": 25.1,
          "quantile_0_625": 25.7,
          "quantile_0_875": 27
         },
         {
          "date_start": "2019-08-26T08:50:00+00:00",
          "quantile_0_125": 22.6,
          "quantile_0_375": 24.825000000000003,
          "quantile_0_5": 25.5,
          "quantile_0_625": 26.075000000000003,
          "quantile_0_875": 27.3
         },
         {
          "date_start": "2019-08-26T09:00:00+00:00",
          "quantile_0_125": 22.8,
          "quantile_0_375": 25.1,
          "quantile_0_5": 25.8,
          "quantile_0_625": 26.4,
          "quantile_0_875": 27.7
         },
         {
          "date_start": "2019-08-26T09:10:00+00:00",
          "quantile_0_125": 23.1,
          "quantile_0_375": 25.3875,
          "quantile_0_5": 26,
          "quantile_0_625": 26.7,
          "quantile_0_875": 27.9
         },
         {
          "date_start": "2019-08-26T09:20:00+00:00",
          "quantile_0_125": 23.2,
          "quantile_0_375": 25.6,
          "quantile_0_5": 26.3,
          "quantile_0_625": 27,
          "quantile_0_875": 28.3
         },
         {
          "date_start": "2019-08-26T09:30:00+00:00",
          "quantile_0_125": 23.5,
          "quantile_0_375": 25.9,
          "quantile_0_5": 26.65,
          "quantile_0_625": 27.3,
          "quantile_0_875": 28.6375
         },
         {
          "date_start": "2019-08-26T09:40:00+00:00",
          "quantile_0_125": 23.7,
          "quantile_0_375": 26.2,
          "quantile_0_5": 27,
          "quantile_0_625": 27.5,
          "quantile_0_875": 28.8
         },
         {
          "date_start": "2019-08-26T09:50:00+00:00",
          "quantile_0_125": 23.8,
          "quantile_0_375": 26.4875,
          "quantile_0_5": 27.3,
          "quantile_0_625": 27.7,
          "quantile_0_875": 29.1
         },
         {
          "date_start": "2019-08-26T10:00:00+00:00",
          "quantile_0_125": 24.1,
          "quantile_0_375": 26.6,
          "quantile_0_5": 27.4,
          "quantile_0_625": 28.1,
          "quantile_0_875": 29.4
         },
         {
          "date_start": "2019-08-26T10:10:00+00:00",
          "quantile_0_125": 24.15,
          "quantile_0_375": 26.7,
          "quantile_0_5": 27.7,
          "quantile_0_625": 28.3,
          "quantile_0_875": 29.5
         },
         {
          "date_start": "2019-08-26T10:20:00+00:00",
          "quantile_0_125": 24.3,
          "quantile_0_375": 26.9,
          "quantile_0_5": 27.9,
          "quantile_0_625": 28.5,
          "quantile_0_875": 29.9
         },
         {
          "date_start": "2019-08-26T10:30:00+00:00",
          "quantile_0_125": 24.5,
          "quantile_0_375": 27.2,
          "quantile_0_5": 28.1,
          "quantile_0_625": 28.7,
          "quantile_0_875": 30
         },
         {
          "date_start": "2019-08-26T10:40:00+00:00",
          "quantile_0_125": 24.65,
          "quantile_0_375": 27.3,
          "quantile_0_5": 28.3,
          "quantile_0_625": 28.9,
          "quantile_0_875": 30.3
         },
         {
          "date_start": "2019-08-26T10:50:00+00:00",
          "quantile_0_125": 24.8,
          "quantile_0_375": 27.4,
          "quantile_0_5": 28.4,
          "quantile_0_625": 29.1,
          "quantile_0_875": 30.4
         },
         {
          "date_start": "2019-08-26T11:00:00+00:00",
          "quantile_0_125": 24.9,
          "quantile_0_375": 27.5,
          "quantile_0_5": 28.6,
          "quantile_0_625": 29.3,
          "quantile_0_875": 30.55
         },
         {
          "date_start": "2019-08-26T11:10:00+00:00",
          "quantile_0_125": 24.9,
          "quantile_0_375": 27.65,
          "quantile_0_5": 28.7,
          "quantile_0_625": 29.5,
          "quantile_0_875": 30.7
         },
         {
          "date_start": "2019-08-26T11:20:00+00:00",
          "quantile_0_125": 25.1,
          "quantile_0_375": 27.8,
          "quantile_0_5": 28.9,
          "quantile_0_625": 29.6,
          "quantile_0_875": 30.9
         },
         {
          "date_start": "2019-08-26T11:30:00+00:00",
          "quantile_0_125": 25.1,
          "quantile_0_375": 27.8,
          "quantile_0_5": 29,
          "quantile_0_625": 29.7,
          "quantile_0_875": 31.1
         },
         {
          "date_start": "2019-08-26T11:40:00+00:00",
          "quantile_0_125": 25.1625,
          "quantile_0_375": 28,
          "quantile_0_5": 29.1,
          "quantile_0_625": 29.9,
          "quantile_0_875": 31.2
         },
         {
          "date_start": "2019-08-26T11:50:00+00:00",
          "quantile_0_125": 25.3,
          "quantile_0_375": 28,
          "quantile_0_5": 29.15,
          "quantile_0_625": 30,
          "quantile_0_875": 31.4375
         },
         {
          "date_start": "2019-08-26T12:00:00+00:00",
          "quantile_0_125": 25.1625,
          "quantile_0_375": 28,
          "quantile_0_5": 29.3,
          "quantile_0_625": 30.2,
          "quantile_0_875": 31.5
         },
         {
          "date_start": "2019-08-26T12:10:00+00:00",
          "quantile_0_125": 25.1625,
          "quantile_0_375": 28.2,
          "quantile_0_5": 29.4,
          "quantile_0_625": 30.1,
          "quantile_0_875": 31.6
         },
         {
          "date_start": "2019-08-26T12:20:00+00:00",
          "quantile_0_125": 25.2,
          "quantile_0_375": 28.1,
          "quantile_0_5": 29.4,
          "quantile_0_625": 30.1,
          "quantile_0_875": 31.7
         },
         {
          "date_start": "2019-08-26T12:30:00+00:00",
          "quantile_0_125": 25.174999999999997,
          "quantile_0_375": 28.3,
          "quantile_0_5": 29.5,
          "quantile_0_625": 30.3,
          "quantile_0_875": 31.7
         },
         {
          "date_start": "2019-08-26T12:40:00+00:00",
          "quantile_0_125": 25.3,
          "quantile_0_375": 28.1,
          "quantile_0_5": 29.5,
          "quantile_0_625": 30.4,
          "quantile_0_875": 31.8
         },
         {
          "date_start": "2019-08-26T12:50:00+00:00",
          "quantile_0_125": 25.1,
          "quantile_0_375": 28.224999999999998,
          "quantile_0_5": 29.6,
          "quantile_0_625": 30.475,
          "quantile_0_875": 32.025
         },
         {
          "date_start": "2019-08-26T13:00:00+00:00",
          "quantile_0_125": 25.2,
          "quantile_0_375": 28.325000000000003,
          "quantile_0_5": 29.7,
          "quantile_0_625": 30.6,
          "quantile_0_875": 32.025
         },
         {
          "date_start": "2019-08-26T13:10:00+00:00",
          "quantile_0_125": 25.174999999999997,
          "quantile_0_375": 27.9,
          "quantile_0_5": 29.7,
          "quantile_0_625": 30.4,
          "quantile_0_875": 32
         },
         {
          "date_start": "2019-08-26T13:20:00+00:00",
          "quantile_0_125": 25.4,
          "quantile_0_375": 28.1,
          "quantile_0_5": 29.6,
          "quantile_0_625": 30.4,
          "quantile_0_875": 32.025
         },
         {
          "date_start": "2019-08-26T13:30:00+00:00",
          "quantile_0_125": 25.374999999999996,
          "quantile_0_375": 27.9,
          "quantile_0_5": 29.6,
          "quantile_0_625": 30.475,
          "quantile_0_875": 32.1
         },
         {
          "date_start": "2019-08-26T13:40:00+00:00",
          "quantile_0_125": 25.3,
          "quantile_0_375": 28,
          "quantile_0_5": 29.3,
          "quantile_0_625": 30.475,
          "quantile_0_875": 32
         },
         {
          "date_start": "2019-08-26T13:50:00+00:00",
          "quantile_0_125": 25.1,
          "quantile_0_375": 27.9,
          "quantile_0_5": 29.3,
          "quantile_0_625": 30.5,
          "quantile_0_875": 32.225
         },
         {
          "date_start": "2019-08-26T14:00:00+00:00",
          "quantile_0_125": 24.975,
          "quantile_0_375": 27.7,
          "quantile_0_5": 29.3,
          "quantile_0_625": 30.5,
          "quantile_0_875": 32.2
         },
         {
          "date_start": "2019-08-26T14:10:00+00:00",
          "quantile_0_125": 24.7,
          "quantile_0_375": 27.8,
          "quantile_0_5": 29.2,
          "quantile_0_625": 30.4,
          "quantile_0_875": 32.1
         },
         {
          "date_start": "2019-08-26T14:20:00+00:00",
          "quantile_0_125": 24.674999999999997,
          "quantile_0_375": 27.724999999999998,
          "quantile_0_5": 29.2,
          "quantile_0_625": 30.3,
          "quantile_0_875": 32.125
         },
         {
          "date_start": "2019-08-26T14:30:00+00:00",
          "quantile_0_125": 24.6,
          "quantile_0_375": 27.7,
          "quantile_0_5": 29.15,
          "quantile_0_625": 30.2,
          "quantile_0_875": 32
         },
         {
          "date_start": "2019-08-26T14:40:00+00:00",
          "quantile_0_125": 24.5,
          "quantile_0_375": 27.6,
          "quantile_0_5": 29,
          "quantile_0_625": 30.3,
          "quantile_0_875": 32.0375
         },
         {
          "date_start": "2019-08-26T14:50:00+00:00",
          "quantile_0_125": 24.5625,
          "quantile_0_375": 27.4,
          "quantile_0_5": 28.65,
          "quantile_0_625": 30.2,
          "quantile_0_875": 32
         },
         {
          "date_start": "2019-08-26T15:00:00+00:00",
          "quantile_0_125": 24.2,
          "quantile_0_375": 27.3,
          "quantile_0_5": 28.6,
          "quantile_0_625": 30.212500000000002,
          "quantile_0_875": 32.0375
         },
         {
          "date_start": "2019-08-26T15:10:00+00:00",
          "quantile_0_125": 24.1625,
          "quantile_0_375": 27.287499999999998,
          "quantile_0_5": 28.5,
          "quantile_0_625": 30.1,
          "quantile_0_875": 31.9
         },
         {
          "date_start": "2019-08-26T15:20:00+00:00",
          "quantile_0_125": 24.0625,
          "quantile_0_375": 26.9875,
          "quantile_0_5": 28.4,
          "quantile_0_625": 29.9,
          "quantile_0_875": 31.8
         },
         {
          "date_start": "2019-08-26T15:30:00+00:00",
          "quantile_0_125": 24.1,
          "quantile_0_375": 26.8,
          "quantile_0_5": 28.2,
          "quantile_0_625": 29.9,
          "quantile_0_875": 31.8
         },
         {
          "date_start": "2019-08-26T15:40:00+00:00",
          "quantile_0_125": 24.1,
          "quantile_0_375": 26.7,
          "quantile_0_5": 28.1,
          "quantile_0_625": 29.6,
          "quantile_0_875": 31.7
         },
         {
          "date_start": "2019-08-26T15:50:00+00:00",
          "quantile_0_125": 24.174999999999997,
          "quantile_0_375": 26.7,
          "quantile_0_5": 27.9,
          "quantile_0_625": 29.5,
          "quantile_0_875": 31.7
         },
         {
          "date_start": "2019-08-26T16:00:00+00:00",
          "quantile_0_125": 23.775000000000002,
          "quantile_0_375": 26.4,
          "quantile_0_5": 27.6,
          "quantile_0_625": 29.4,
          "quantile_0_875": 31.6
         },
         {
          "date_start": "2019-08-26T16:10:00+00:00",
          "quantile_0_125": 23.4,
          "quantile_0_375": 26.325000000000003,
          "quantile_0_5": 27.5,
          "quantile_0_625": 29.1,
          "quantile_0_875": 31.3
         },
         {
          "date_start": "2019-08-26T16:20:00+00:00",
          "quantile_0_125": 23.3,
          "quantile_0_375": 26.2,
          "quantile_0_5": 27.5,
          "quantile_0_625": 28.9,
          "quantile_0_875": 31.1
         },
         {
          "date_start": "2019-08-26T16:30:00+00:00",
          "quantile_0_125": 23.1,
          "quantile_0_375": 26.1,
          "quantile_0_5": 27.2,
          "quantile_0_625": 28.6,
          "quantile_0_875": 31
         },
         {
          "date_start": "2019-08-26T16:40:00+00:00",
          "quantile_0_125": 22.975,
          "quantile_0_375": 26,
          "quantile_0_5": 27.1,
          "quantile_0_625": 28.475,
          "quantile_0_875": 30.9
         },
         {
          "date_start": "2019-08-26T16:50:00+00:00",
          "quantile_0_125": 22.674999999999997,
          "quantile_0_375": 25.625000000000004,
          "quantile_0_5": 26.9,
          "quantile_0_625": 28.1,
          "quantile_0_875": 30.6
         },
         {
          "date_start": "2019-08-26T17:00:00+00:00",
          "quantile_0_125": 22.4,
          "quantile_0_375": 25.4,
          "quantile_0_5": 26.6,
          "quantile_0_625": 27.874999999999996,
          "quantile_0_875": 30.5
         },
         {
          "date_start": "2019-08-26T17:10:00+00:00",
          "quantile_0_125": 22.1,
          "quantile_0_375": 24.9,
          "quantile_0_5": 26.3,
          "quantile_0_625": 27.6,
          "quantile_0_875": 30.1
         },
         {
          "date_start": "2019-08-26T17:20:00+00:00",
          "quantile_0_125": 21.874999999999996,
          "quantile_0_375": 24.6,
          "quantile_0_5": 25.8,
          "quantile_0_625": 27.3,
          "quantile_0_875": 29.8
         },
         {
          "date_start": "2019-08-26T17:30:00+00:00",
          "quantile_0_125": 21.6,
          "quantile_0_375": 24.325000000000003,
          "quantile_0_5": 25.4,
          "quantile_0_625": 27,
          "quantile_0_875": 29.5
         },
         {
          "date_start": "2019-08-26T17:40:00+00:00",
          "quantile_0_125": 21.4,
          "quantile_0_375": 23.9,
          "quantile_0_5": 25.1,
          "quantile_0_625": 26.475,
          "quantile_0_875": 28.924999999999997
         },
         {
          "date_start": "2019-08-26T17:50:00+00:00",
          "quantile_0_125": 21.3,
          "quantile_0_375": 23.5,
          "quantile_0_5": 24.6,
          "quantile_0_625": 26,
          "quantile_0_875": 28.4
         },
         {
          "date_start": "2019-08-26T18:00:00+00:00",
          "quantile_0_125": 21.1,
          "quantile_0_375": 23.1,
          "quantile_0_5": 24.2,
          "quantile_0_625": 25.475,
          "quantile_0_875": 27.9
         },
         {
          "date_start": "2019-08-26T18:10:00+00:00",
          "quantile_0_125": 20.7,
          "quantile_0_375": 22.825000000000003,
          "quantile_0_5": 23.9,
          "quantile_0_625": 24.9,
          "quantile_0_875": 27.4
         },
         {
          "date_start": "2019-08-26T18:20:00+00:00",
          "quantile_0_125": 20.375,
          "quantile_0_375": 22.5,
          "quantile_0_5": 23.5,
          "quantile_0_625": 24.6,
          "quantile_0_875": 26.924999999999997
         },
         {
          "date_start": "2019-08-26T18:30:00+00:00",
          "quantile_0_125": 20.1,
          "quantile_0_375": 22.1,
          "quantile_0_5": 23.2,
          "quantile_0_625": 24.1,
          "quantile_0_875": 26.4
         },
         {
          "date_start": "2019-08-26T18:40:00+00:00",
          "quantile_0_125": 19.975,
          "quantile_0_375": 21.8,
          "quantile_0_5": 22.9,
          "quantile_0_625": 23.8,
          "quantile_0_875": 26
         },
         {
          "date_start": "2019-08-26T18:50:00+00:00",
          "quantile_0_125": 19.7,
          "quantile_0_375": 21.6,
          "quantile_0_5": 22.8,
          "quantile_0_625": 23.5,
          "quantile_0_875": 25.6
         },
         {
          "date_start": "2019-08-26T19:00:00+00:00",
          "quantile_0_125": 19.5,
          "quantile_0_375": 21.3,
          "quantile_0_5": 22.5,
          "quantile_0_625": 23.2,
          "quantile_0_875": 25.2
         },
         {
          "date_start": "2019-08-26T19:10:00+00:00",
          "quantile_0_125": 19.375,
          "quantile_0_375": 21.224999999999998,
          "quantile_0_5": 22.2,
          "quantile_0_625": 22.9,
          "quantile_0_875": 25.1
         },
         {
          "date_start": "2019-08-26T19:20:00+00:00",
          "quantile_0_125": 19.2,
          "quantile_0_375": 21.1,
          "quantile_0_5": 22,
          "quantile_0_625": 22.8,
          "quantile_0_875": 24.724999999999998
         },
         {
          "date_start": "2019-08-26T19:30:00+00:00",
          "quantile_0_125": 18.9,
          "quantile_0_375": 20.825000000000003,
          "quantile_0_5": 21.9,
          "quantile_0_625": 22.6,
          "quantile_0_875": 24.625000000000004
         },
         {
          "date_start": "2019-08-26T19:40:00+00:00",
          "quantile_0_125": 18.775000000000002,
          "quantile_0_375": 20.8,
          "quantile_0_5": 21.6,
          "quantile_0_625": 22.3,
          "quantile_0_875": 24.4
         },
         {
          "date_start": "2019-08-26T19:50:00+00:00",
          "quantile_0_125": 18.55,
          "quantile_0_375": 20.6,
          "quantile_0_5": 21.5,
          "quantile_0_625": 22.1,
          "quantile_0_875": 24.1
         },
         {
          "date_start": "2019-08-26T20:00:00+00:00",
          "quantile_0_125": 18.475,
          "quantile_0_375": 20.5,
          "quantile_0_5": 21.2,
          "quantile_0_625": 21.9,
          "quantile_0_875": 24
         },
         {
          "date_start": "2019-08-26T20:10:00+00:00",
          "quantile_0_125": 18.4,
          "quantile_0_375": 20.3,
          "quantile_0_5": 21,
          "quantile_0_625": 21.7,
          "quantile_0_875": 23.8
         },
         {
          "date_start": "2019-08-26T20:20:00+00:00",
          "quantile_0_125": 18.1,
          "quantile_0_375": 20.2,
          "quantile_0_5": 20.9,
          "quantile_0_625": 21.6,
          "quantile_0_875": 23.6
         },
         {
          "date_start": "2019-08-26T20:30:00+00:00",
          "quantile_0_125": 18.1,
          "quantile_0_375": 20.1,
          "quantile_0_5": 20.8,
          "quantile_0_625": 21.4,
          "quantile_0_875": 23.4
         },
         {
          "date_start": "2019-08-26T20:40:00+00:00",
          "quantile_0_125": 17.9,
          "quantile_0_375": 19.9,
          "quantile_0_5": 20.6,
          "quantile_0_625": 21.275000000000002,
          "quantile_0_875": 23.4
         },
         {
          "date_start": "2019-08-26T20:50:00+00:00",
          "quantile_0_125": 17.775000000000002,
          "quantile_0_375": 19.7,
          "quantile_0_5": 20.6,
          "quantile_0_625": 21.1,
          "quantile_0_875": 23.025
         },
         {
          "date_start": "2019-08-26T21:00:00+00:00",
          "quantile_0_125": 17.6,
          "quantile_0_375": 19.6,
          "quantile_0_5": 20.4,
          "quantile_0_625": 21,
          "quantile_0_875": 22.8
         },
         {
          "date_start": "2019-08-26T21:10:00+00:00",
          "quantile_0_125": 17.575000000000003,
          "quantile_0_375": 19.4,
          "quantile_0_5": 20.3,
          "quantile_0_625": 20.9,
          "quantile_0_875": 22.7
         },
         {
          "date_start": "2019-08-26T21:20:00+00:00",
          "quantile_0_125": 17.4,
          "quantile_0_375": 19.4,
          "quantile_0_5": 20.1,
          "quantile_0_625": 20.8,
          "quantile_0_875": 22.6
         },
         {
          "date_start": "2019-08-26T21:30:00+00:00",
          "quantile_0_125": 17.3,
          "quantile_0_375": 19.2,
          "quantile_0_5": 20,
          "quantile_0_625": 20.674999999999997,
          "quantile_0_875": 22.4
         },
         {
          "date_start": "2019-08-26T21:40:00+00:00",
          "quantile_0_125": 17.2,
          "quantile_0_375": 19.2,
          "quantile_0_5": 19.8,
          "quantile_0_625": 20.6,
          "quantile_0_875": 22.3
         },
         {
          "date_start": "2019-08-26T21:50:00+00:00",
          "quantile_0_125": 17.174999999999997,
          "quantile_0_375": 18.9,
          "quantile_0_5": 19.7,
          "quantile_0_625": 20.475,
          "quantile_0_875": 22.1
         },
         {
          "date_start": "2019-08-26T22:00:00+00:00",
          "quantile_0_125": 17.1,
          "quantile_0_375": 18.8,
          "quantile_0_5": 19.5,
          "quantile_0_625": 20.275000000000002,
          "quantile_0_875": 21.9
         },
         {
          "date_start": "2019-08-26T22:10:00+00:00",
          "quantile_0_125": 16.9,
          "quantile_0_375": 18.7,
          "quantile_0_5": 19.4,
          "quantile_0_625": 20.1,
          "quantile_0_875": 21.7
         },
         {
          "date_start": "2019-08-26T22:20:00+00:00",
          "quantile_0_125": 16.9,
          "quantile_0_375": 18.625,
          "quantile_0_5": 19.3,
          "quantile_0_625": 20.1,
          "quantile_0_875": 21.625000000000004
         },
         {
          "date_start": "2019-08-26T22:30:00+00:00",
          "quantile_0_125": 16.7,
          "quantile_0_375": 18.5,
          "quantile_0_5": 19.2,
          "quantile_0_625": 19.8,
          "quantile_0_875": 21.6
         },
         {
          "date_start": "2019-08-26T22:40:00+00:00",
          "quantile_0_125": 16.7,
          "quantile_0_375": 18.424999999999997,
          "quantile_0_5": 19.1,
          "quantile_0_625": 19.8,
          "quantile_0_875": 21.5
         },
         {
          "date_start": "2019-08-26T22:50:00+00:00",
          "quantile_0_125": 16.5,
          "quantile_0_375": 18.4,
          "quantile_0_5": 19,
          "quantile_0_625": 19.674999999999997,
          "quantile_0_875": 21.3
         },
         {
          "date_start": "2019-08-26T23:00:00+00:00",
          "quantile_0_125": 16.5,
          "quantile_0_375": 18.3,
          "quantile_0_5": 18.9,
          "quantile_0_625": 19.5,
          "quantile_0_875": 21.3
         },
         {
          "date_start": "2019-08-26T23:10:00+00:00",
          "quantile_0_125": 16.375,
          "quantile_0_375": 18.125,
          "quantile_0_5": 18.9,
          "quantile_0_625": 19.5,
          "quantile_0_875": 21.2
         },
         {
          "date_start": "2019-08-26T23:20:00+00:00",
          "quantile_0_125": 16.475,
          "quantile_0_375": 18.1,
          "quantile_0_5": 18.7,
          "quantile_0_625": 19.4,
          "quantile_0_875": 21.1
         },
         {
          "date_start": "2019-08-26T23:30:00+00:00",
          "quantile_0_125": 16.3,
          "quantile_0_375": 18,
          "quantile_0_5": 18.6,
          "quantile_0_625": 19.3,
          "quantile_0_875": 21
         },
         {
          "date_start": "2019-08-26T23:40:00+00:00",
          "quantile_0_125": 16.2,
          "quantile_0_375": 17.9,
          "quantile_0_5": 18.5,
          "quantile_0_625": 19.3,
          "quantile_0_875": 20.825000000000003
         },
         {
          "date_start": "2019-08-26T23:50:00+00:00",
          "quantile_0_125": 16,
          "quantile_0_375": 17.8,
          "quantile_0_5": 18.4,
          "quantile_0_625": 19.1,
          "quantile_0_875": 20.9
         },
         {
          "date_start": "2019-08-27T00:00:00+00:00",
          "quantile_0_125": 16.075000000000003,
          "quantile_0_375": 17.8,
          "quantile_0_5": 18.4,
          "quantile_0_625": 19,
          "quantile_0_875": 20.724999999999998
         },
         {
          "date_start": "2019-08-27T00:10:00+00:00",
          "quantile_0_125": 15.9,
          "quantile_0_375": 17.7,
          "quantile_0_5": 18.2,
          "quantile_0_625": 18.9,
          "quantile_0_875": 20.7
         },
         {
          "date_start": "2019-08-27T00:20:00+00:00",
          "quantile_0_125": 15.8,
          "quantile_0_375": 17.6,
          "quantile_0_5": 18.2,
          "quantile_0_625": 18.8,
          "quantile_0_875": 20.525
         },
         {
          "date_start": "2019-08-27T00:30:00+00:00",
          "quantile_0_125": 15.775000000000002,
          "quantile_0_375": 17.5,
          "quantile_0_5": 18.1,
          "quantile_0_625": 18.7,
          "quantile_0_875": 20.5
         },
         {
          "date_start": "2019-08-27T00:40:00+00:00",
          "quantile_0_125": 15.7,
          "quantile_0_375": 17.4,
          "quantile_0_5": 18,
          "quantile_0_625": 18.6,
          "quantile_0_875": 20.4
         },
         {
          "date_start": "2019-08-27T00:50:00+00:00",
          "quantile_0_125": 15.6,
          "quantile_0_375": 17.3,
          "quantile_0_5": 17.8,
          "quantile_0_625": 18.5,
          "quantile_0_875": 20.3
         },
         {
          "date_start": "2019-08-27T01:00:00+00:00",
          "quantile_0_125": 15.5,
          "quantile_0_375": 17.2,
          "quantile_0_5": 17.8,
          "quantile_0_625": 18.4,
          "quantile_0_875": 20.3
         },
         {
          "date_start": "2019-08-27T01:10:00+00:00",
          "quantile_0_125": 15.4,
          "quantile_0_375": 17,
          "quantile_0_5": 17.7,
          "quantile_0_625": 18.4,
          "quantile_0_875": 20.3
         },
         {
          "date_start": "2019-08-27T01:20:00+00:00",
          "quantile_0_125": 15.4,
          "quantile_0_375": 17,
          "quantile_0_5": 17.6,
          "quantile_0_625": 18.3,
          "quantile_0_875": 20.2
         },
         {
          "date_start": "2019-08-27T01:30:00+00:00",
          "quantile_0_125": 15.3,
          "quantile_0_375": 16.9,
          "quantile_0_5": 17.5,
          "quantile_0_625": 18.1,
          "quantile_0_875": 20.1
         },
         {
          "date_start": "2019-08-27T01:40:00+00:00",
          "quantile_0_125": 15.3,
          "quantile_0_375": 16.8,
          "quantile_0_5": 17.4,
          "quantile_0_625": 18.1,
          "quantile_0_875": 20
         },
         {
          "date_start": "2019-08-27T01:50:00+00:00",
          "quantile_0_125": 15.2,
          "quantile_0_375": 16.8,
          "quantile_0_5": 17.3,
          "quantile_0_625": 18.075000000000003,
          "quantile_0_875": 20
         },
         {
          "date_start": "2019-08-27T02:00:00+00:00",
          "quantile_0_125": 15.2,
          "quantile_0_375": 16.625,
          "quantile_0_5": 17.3,
          "quantile_0_625": 18.075000000000003,
          "quantile_0_875": 20
         },
         {
          "date_start": "2019-08-27T02:10:00+00:00",
          "quantile_0_125": 15.075,
          "quantile_0_375": 16.6,
          "quantile_0_5": 17.2,
          "quantile_0_625": 17.9,
          "quantile_0_875": 19.7
         },
         {
          "date_start": "2019-08-27T02:20:00+00:00",
          "quantile_0_125": 15,
          "quantile_0_375": 16.525,
          "quantile_0_5": 17.1,
          "quantile_0_625": 17.8,
          "quantile_0_875": 19.724999999999998
         },
         {
          "date_start": "2019-08-27T02:30:00+00:00",
          "quantile_0_125": 14.9,
          "quantile_0_375": 16.424999999999997,
          "quantile_0_5": 17.1,
          "quantile_0_625": 17.8,
          "quantile_0_875": 19.724999999999998
         },
         {
          "date_start": "2019-08-27T02:40:00+00:00",
          "quantile_0_125": 15,
          "quantile_0_375": 16.5,
          "quantile_0_5": 17,
          "quantile_0_625": 17.7,
          "quantile_0_875": 19.525
         },
         {
          "date_start": "2019-08-27T02:50:00+00:00",
          "quantile_0_125": 14.8,
          "quantile_0_375": 16.4,
          "quantile_0_5": 17,
          "quantile_0_625": 17.7,
          "quantile_0_875": 19.6
         },
         {
          "date_start": "2019-08-27T03:00:00+00:00",
          "quantile_0_125": 14.8,
          "quantile_0_375": 16.3,
          "quantile_0_5": 16.9,
          "quantile_0_625": 17.6,
          "quantile_0_875": 19.5
         },
         {
          "date_start": "2019-08-27T03:10:00+00:00",
          "quantile_0_125": 14.674999999999999,
          "quantile_0_375": 16.2,
          "quantile_0_5": 16.8,
          "quantile_0_625": 17.5,
          "quantile_0_875": 19.325000000000003
         },
         {
          "date_start": "2019-08-27T03:20:00+00:00",
          "quantile_0_125": 14.6,
          "quantile_0_375": 16.1,
          "quantile_0_5": 16.8,
          "quantile_0_625": 17.5,
          "quantile_0_875": 19.3
         },
         {
          "date_start": "2019-08-27T03:30:00+00:00",
          "quantile_0_125": 14.5,
          "quantile_0_375": 16.1,
          "quantile_0_5": 16.8,
          "quantile_0_625": 17.4,
          "quantile_0_875": 19.2
         },
         {
          "date_start": "2019-08-27T03:40:00+00:00",
          "quantile_0_125": 14.5,
          "quantile_0_375": 16.1,
          "quantile_0_5": 16.8,
          "quantile_0_625": 17.4,
          "quantile_0_875": 19.3
         },
         {
          "date_start": "2019-08-27T03:50:00+00:00",
          "quantile_0_125": 14.4,
          "quantile_0_375": 16,
          "quantile_0_5": 16.7,
          "quantile_0_625": 17.4,
          "quantile_0_875": 19.2
         },
         {
          "date_start": "2019-08-27T04:00:00+00:00",
          "quantile_0_125": 14.4,
          "quantile_0_375": 16,
          "quantile_0_5": 16.7,
          "quantile_0_625": 17.3,
          "quantile_0_875": 19.025
         },
         {
          "date_start": "2019-08-27T04:10:00+00:00",
          "quantile_0_125": 14.4,
          "quantile_0_375": 15.9,
          "quantile_0_5": 16.6,
          "quantile_0_625": 17.2,
          "quantile_0_875": 19.1
         },
         {
          "date_start": "2019-08-27T04:20:00+00:00",
          "quantile_0_125": 14.4,
          "quantile_0_375": 15.9,
          "quantile_0_5": 16.6,
          "quantile_0_625": 17.2,
          "quantile_0_875": 19.2
         },
         {
          "date_start": "2019-08-27T04:30:00+00:00",
          "quantile_0_125": 14.275000000000002,
          "quantile_0_375": 15.8,
          "quantile_0_5": 16.5,
          "quantile_0_625": 17.2,
          "quantile_0_875": 19.2
         },
         {
          "date_start": "2019-08-27T04:40:00+00:00",
          "quantile_0_125": 14.3,
          "quantile_0_375": 15.9,
          "quantile_0_5": 16.5,
          "quantile_0_625": 17.2,
          "quantile_0_875": 19.224999999999998
         },
         {
          "date_start": "2019-08-27T04:50:00+00:00",
          "quantile_0_125": 14.4,
          "quantile_0_375": 15.8,
          "quantile_0_5": 16.4,
          "quantile_0_625": 17.2,
          "quantile_0_875": 19.3
         },
         {
          "date_start": "2019-08-27T05:00:00+00:00",
          "quantile_0_125": 14.4,
          "quantile_0_375": 16,
          "quantile_0_5": 16.5,
          "quantile_0_625": 17.3,
          "quantile_0_875": 19.4
         },
         {
          "date_start": "2019-08-27T05:10:00+00:00",
          "quantile_0_125": 14.6,
          "quantile_0_375": 16.025,
          "quantile_0_5": 16.8,
          "quantile_0_625": 17.5,
          "quantile_0_875": 19.6
         },
         {
          "date_start": "2019-08-27T05:20:00+00:00",
          "quantile_0_125": 14.775000000000002,
          "quantile_0_375": 16.325000000000003,
          "quantile_0_5": 17.1,
          "quantile_0_625": 17.9,
          "quantile_0_875": 19.8
         },
         {
          "date_start": "2019-08-27T05:30:00+00:00",
          "quantile_0_125": 15.174999999999999,
          "quantile_0_375": 16.6,
          "quantile_0_5": 17.4,
          "quantile_0_625": 18.2,
          "quantile_0_875": 20
         },
         {
          "date_start": "2019-08-27T05:40:00+00:00",
          "quantile_0_125": 15.4,
          "quantile_0_375": 17.1,
          "quantile_0_5": 17.9,
          "quantile_0_625": 18.6,
          "quantile_0_875": 20.3
         },
         {
          "date_start": "2019-08-27T05:50:00+00:00",
          "quantile_0_125": 15.875,
          "quantile_0_375": 17.5,
          "quantile_0_5": 18.3,
          "quantile_0_625": 19,
          "quantile_0_875": 20.7
         },
         {
          "date_start": "2019-08-27T06:00:00+00:00",
          "quantile_0_125": 16.2,
          "quantile_0_375": 17.9,
          "quantile_0_5": 18.6,
          "quantile_0_625": 19.5,
          "quantile_0_875": 21.1
         },
         {
          "date_start": "2019-08-27T06:10:00+00:00",
          "quantile_0_125": 16.8,
          "quantile_0_375": 18.4,
          "quantile_0_5": 19.2,
          "quantile_0_625": 20,
          "quantile_0_875": 21.5
         },
         {
          "date_start": "2019-08-27T06:20:00+00:00",
          "quantile_0_125": 17.2,
          "quantile_0_375": 18.9,
          "quantile_0_5": 19.7,
          "quantile_0_625": 20.4,
          "quantile_0_875": 21.924999999999997
         },
         {
          "date_start": "2019-08-27T06:30:00+00:00",
          "quantile_0_125": 17.7,
          "quantile_0_375": 19.4,
          "quantile_0_5": 20.2,
          "quantile_0_625": 20.9,
          "quantile_0_875": 22.3
         },
         {
          "date_start": "2019-08-27T06:40:00+00:00",
          "quantile_0_125": 18.2,
          "quantile_0_375": 19.825000000000003,
          "quantile_0_5": 20.5,
          "quantile_0_625": 21.3,
          "quantile_0_875": 22.7
         },
         {
          "date_start": "2019-08-27T06:50:00+00:00",
          "quantile_0_125": 18.6,
          "quantile_0_375": 20.2,
          "quantile_0_5": 20.8,
          "quantile_0_625": 21.8,
          "quantile_0_875": 23
         },
         {
          "date_start": "2019-08-27T07:00:00+00:00",
          "quantile_0_125": 19,
          "quantile_0_375": 20.7,
          "quantile_0_5": 21.4,
          "quantile_0_625": 22.2,
          "quantile_0_875": 23.5
         },
         {
          "date_start": "2019-08-27T07:10:00+00:00",
          "quantile_0_125": 19.5,
          "quantile_0_375": 21.1,
          "quantile_0_5": 21.9,
          "quantile_0_625": 22.6,
          "quantile_0_875": 23.9
         },
         {
          "date_start": "2019-08-27T07:20:00+00:00",
          "quantile_0_125": 20,
          "quantile_0_375": 21.5,
          "quantile_0_5": 22.2,
          "quantile_0_625": 22.9,
          "quantile_0_875": 24.3375
         },
         {
          "date_start": "2019-08-27T07:30:00+00:00",
          "quantile_0_125": 20.3,
          "quantile_0_375": 22,
          "quantile_0_5": 22.7,
          "quantile_0_625": 23.4,
          "quantile_0_875": 24.6
         },
         {
          "date_start": "2019-08-27T07:40:00+00:00",
          "quantile_0_125": 20.8,
          "quantile_0_375": 22.3,
          "quantile_0_5": 23,
          "quantile_0_625": 23.8,
          "quantile_0_875": 25
         },
         {
          "date_start": "2019-08-27T07:50:00+00:00",
          "quantile_0_125": 21.1,
          "quantile_0_375": 22.8,
          "quantile_0_5": 23.5,
          "quantile_0_625": 24.2,
          "quantile_0_875": 25.4
         },
         {
          "date_start": "2019-08-27T08:00:00+00:00",
          "quantile_0_125": 21.4,
          "quantile_0_375": 23.2,
          "quantile_0_5": 23.95,
          "quantile_0_625": 24.5,
          "quantile_0_875": 25.7375
         },
         {
          "date_start": "2019-08-27T08:10:00+00:00",
          "quantile_0_125": 21.8,
          "quantile_0_375": 23.6,
          "quantile_0_5": 24.3,
          "quantile_0_625": 24.9,
          "quantile_0_875": 26.1
         },
         {
          "date_start": "2019-08-27T08:20:00+00:00",
          "quantile_0_125": 22.0625,
          "quantile_0_375": 24,
          "quantile_0_5": 24.6,
          "quantile_0_625": 25.3,
          "quantile_0_875": 26.6
         },
         {
          "date_start": "2019-08-27T08:30:00+00:00",
          "quantile_0_125": 22.3,
          "quantile_0_375": 24.3,
          "quantile_0_5": 25,
          "quantile_0_625": 25.7,
          "quantile_0_875": 26.9
         },
         {
          "date_start": "2019-08-27T08:40:00+00:00",
          "quantile_0_125": 22.6,
          "quantile_0_375": 24.6,
          "quantile_0_5": 25.3,
          "quantile_0_625": 26,
          "quantile_0_875": 27.2
         },
         {
          "date_start": "2019-08-27T08:50:00+00:00",
          "quantile_0_125": 22.8,
          "quantile_0_375": 24.9,
          "quantile_0_5": 25.7,
          "quantile_0_625": 26.212500000000002,
          "quantile_0_875": 27.6375
         },
         {
          "date_start": "2019-08-27T09:00:00+00:00",
          "quantile_0_125": 23.1,
          "quantile_0_375": 25.1875,
          "quantile_0_5": 26,
          "quantile_0_625": 26.7,
          "quantile_0_875": 27.9
         },
         {
          "date_start": "2019-08-27T09:10:00+00:00",
          "quantile_0_125": 23.4,
          "quantile_0_375": 25.4,
          "quantile_0_5": 26.4,
          "quantile_0_625": 27,
          "quantile_0_875": 28.3375
         },
         {
          "date_start": "2019-08-27T09:20:00+00:00",
          "quantile_0_125": 23.6,
          "quantile_0_375": 25.8875,
          "quantile_0_5": 26.6,
          "quantile_0_625": 27.3,
          "quantile_0_875": 28.6
         },
         {
          "date_start": "2019-08-27T09:30:00+00:00",
          "quantile_0_125": 23.8,
          "quantile_0_375": 25.9,
          "quantile_0_5": 26.9,
          "quantile_0_625": 27.5,
          "quantile_0_875": 28.9
         },
         {
          "date_start": "2019-08-27T09:40:00+00:00",
          "quantile_0_125": 24.1,
          "quantile_0_375": 26.3,
          "quantile_0_5": 27.1,
          "quantile_0_625": 27.9,
          "quantile_0_875": 29.2
         },
         {
          "date_start": "2019-08-27T09:50:00+00:00",
          "quantile_0_125": 24.2,
          "quantile_0_375": 26.5,
          "quantile_0_5": 27.4,
          "quantile_0_625": 28.1,
          "quantile_0_875": 29.6
         },
         {
          "date_start": "2019-08-27T10:00:00+00:00",
          "quantile_0_125": 24.3,
          "quantile_0_375": 26.787499999999998,
          "quantile_0_5": 27.7,
          "quantile_0_625": 28.3,
          "quantile_0_875": 29.8
         },
         {
          "date_start": "2019-08-27T10:10:00+00:00",
          "quantile_0_125": 24.5625,
          "quantile_0_375": 26.9,
          "quantile_0_5": 27.9,
          "quantile_0_625": 28.5,
          "quantile_0_875": 29.9
         },
         {
          "date_start": "2019-08-27T10:20:00+00:00",
          "quantile_0_125": 24.7,
          "quantile_0_375": 27.287499999999998,
          "quantile_0_5": 28.1,
          "quantile_0_625": 28.7,
          "quantile_0_875": 30.2
         },
         {
          "date_start": "2019-08-27T10:30:00+00:00",
          "quantile_0_125": 24.9,
          "quantile_0_375": 27.3,
          "quantile_0_5": 28.25,
          "quantile_0_625": 29,
          "quantile_0_875": 30.4
         },
         {
          "date_start": "2019-08-27T10:40:00+00:00",
          "quantile_0_125": 25.2,
          "quantile_0_375": 27.3,
          "quantile_0_5": 28.3,
          "quantile_0_625": 29.1,
          "quantile_0_875": 30.6
         },
         {
          "date_start": "2019-08-27T10:50:00+00:00",
          "quantile_0_125": 25.2,
          "quantile_0_375": 27.4,
          "quantile_0_5": 28.55,
          "quantile_0_625": 29.3,
          "quantile_0_875": 30.875
         },
         {
          "date_start": "2019-08-27T11:00:00+00:00",
          "quantile_0_125": 25.4,
          "quantile_0_375": 27.5,
          "quantile_0_5": 28.6,
          "quantile_0_625": 29.3,
          "quantile_0_875": 31
         },
         {
          "date_start": "2019-08-27T11:10:00+00:00",
          "quantile_0_125": 25.4625,
          "quantile_0_375": 27.6,
          "quantile_0_5": 28.7,
          "quantile_0_625": 29.6,
          "quantile_0_875": 31.2
         },
         {
          "date_start": "2019-08-27T11:20:00+00:00",
          "quantile_0_125": 25.6625,
          "quantile_0_375": 27.8875,
          "quantile_0_5": 28.9,
          "quantile_0_625": 29.6,
          "quantile_0_875": 31.2
         },
         {
          "date_start": "2019-08-27T11:30:00+00:00",
          "quantile_0_125": 25.7,
          "quantile_0_375": 27.8,
          "quantile_0_5": 29.05,
          "quantile_0_625": 29.9,
          "quantile_0_875": 31.5
         },
         {
          "date_start": "2019-08-27T11:40:00+00:00",
          "quantile_0_125": 25.8625,
          "quantile_0_375": 27.9875,
          "quantile_0_5": 28.9,
          "quantile_0_625": 29.912499999999998,
          "quantile_0_875": 31.5
         },
         {
          "date_start": "2019-08-27T11:50:00+00:00",
          "quantile_0_125": 26,
          "quantile_0_375": 28,
          "quantile_0_5": 29.1,
          "quantile_0_625": 30,
          "quantile_0_875": 31.7
         },
         {
          "date_start": "2019-08-27T12:00:00+00:00",
          "quantile_0_125": 25.9625,
          "quantile_0_375": 28.087500000000002,
          "quantile_0_5": 29.2,
          "quantile_0_625": 30.1,
          "quantile_0_875": 31.8
         },
         {
          "date_start": "2019-08-27T12:10:00+00:00",
          "quantile_0_125": 26.1,
          "quantile_0_375": 28.1,
          "quantile_0_5": 29.2,
          "quantile_0_625": 30.1125,
          "quantile_0_875": 31.8
         },
         {
          "date_start": "2019-08-27T12:20:00+00:00",
          "quantile_0_125": 26,
          "quantile_0_375": 28.1,
          "quantile_0_5": 29.2,
          "quantile_0_625": 30.212500000000002,
          "quantile_0_875": 31.8
         },
         {
          "date_start": "2019-08-27T12:30:00+00:00",
          "quantile_0_125": 26.174999999999997,
          "quantile_0_375": 28.224999999999998,
          "quantile_0_5": 29.3,
          "quantile_0_625": 30.374999999999996,
          "quantile_0_875": 32
         },
         {
          "date_start": "2019-08-27T12:40:00+00:00",
          "quantile_0_125": 26,
          "quantile_0_375": 28.2,
          "quantile_0_5": 29.2,
          "quantile_0_625": 30.3,
          "quantile_0_875": 32.1
         },
         {
          "date_start": "2019-08-27T12:50:00+00:00",
          "quantile_0_125": 26,
          "quantile_0_375": 28.3,
          "quantile_0_5": 29.3,
          "quantile_0_625": 30.3,
          "quantile_0_875": 32.025
         },
         {
          "date_start": "2019-08-27T13:00:00+00:00",
          "quantile_0_125": 25.8,
          "quantile_0_375": 28.3,
          "quantile_0_5": 29.3,
          "quantile_0_625": 30.3,
          "quantile_0_875": 32.1
         },
         {
          "date_start": "2019-08-27T13:10:00+00:00",
          "quantile_0_125": 25.8,
          "quantile_0_375": 28.3,
          "quantile_0_5": 29.2,
          "quantile_0_625": 30.4,
          "quantile_0_875": 32.1
         },
         {
          "date_start": "2019-08-27T13:20:00+00:00",
          "quantile_0_125": 25.8,
          "quantile_0_375": 28.2,
          "quantile_0_5": 29.3,
          "quantile_0_625": 30.374999999999996,
          "quantile_0_875": 32.1
         },
         {
          "date_start": "2019-08-27T13:30:00+00:00",
          "quantile_0_125": 25.9,
          "quantile_0_375": 28.3,
          "quantile_0_5": 29.3,
          "quantile_0_625": 30.3,
          "quantile_0_875": 32.1
         },
         {
          "date_start": "2019-08-27T13:40:00+00:00",
          "quantile_0_125": 25.7,
          "quantile_0_375": 28.2,
          "quantile_0_5": 29.2,
          "quantile_0_625": 30.3,
          "quantile_0_875": 32.1
         },
         {
          "date_start": "2019-08-27T13:50:00+00:00",
          "quantile_0_125": 25.7,
          "quantile_0_375": 28.2,
          "quantile_0_5": 29.2,
          "quantile_0_625": 30.2,
          "quantile_0_875": 32.1
         },
         {
          "date_start": "2019-08-27T14:00:00+00:00",
          "quantile_0_125": 25.7,
          "quantile_0_375": 28.2,
          "quantile_0_5": 29.1,
          "quantile_0_625": 30.174999999999997,
          "quantile_0_875": 32.1
         },
         {
          "date_start": "2019-08-27T14:10:00+00:00",
          "quantile_0_125": 25.6,
          "quantile_0_375": 28.1875,
          "quantile_0_5": 29,
          "quantile_0_625": 30.2,
          "quantile_0_875": 32.1
         },
         {
          "date_start": "2019-08-27T14:20:00+00:00",
          "quantile_0_125": 25.674999999999997,
          "quantile_0_375": 28.1,
          "quantile_0_5": 29,
          "quantile_0_625": 30.2,
          "quantile_0_875": 32.025
         },
         {
          "date_start": "2019-08-27T14:30:00+00:00",
          "quantile_0_125": 25.5,
          "quantile_0_375": 28,
          "quantile_0_5": 28.9,
          "quantile_0_625": 30,
          "quantile_0_875": 31.8
         },
         {
          "date_start": "2019-08-27T14:40:00+00:00",
          "quantile_0_125": 25.3,
          "quantile_0_375": 28,
          "quantile_0_5": 29,
          "quantile_0_625": 29.9,
          "quantile_0_875": 31.7
         },
         {
          "date_start": "2019-08-27T14:50:00+00:00",
          "quantile_0_125": 25.2,
          "quantile_0_375": 28,
          "quantile_0_5": 28.9,
          "quantile_0_625": 29.8,
          "quantile_0_875": 31.7
         },
         {
          "date_start": "2019-08-27T15:00:00+00:00",
          "quantile_0_125": 25,
          "quantile_0_375": 28,
          "quantile_0_5": 28.7,
          "quantile_0_625": 29.6,
          "quantile_0_875": 31.5
         },
         {
          "date_start": "2019-08-27T15:10:00+00:00",
          "quantile_0_125": 24.6625,
          "quantile_0_375": 27.9,
          "quantile_0_5": 28.6,
          "quantile_0_625": 29.6,
          "quantile_0_875": 31.5
         },
         {
          "date_start": "2019-08-27T15:20:00+00:00",
          "quantile_0_125": 24.5,
          "quantile_0_375": 27.7,
          "quantile_0_5": 28.5,
          "quantile_0_625": 29.5,
          "quantile_0_875": 31.424999999999997
         },
         {
          "date_start": "2019-08-27T15:30:00+00:00",
          "quantile_0_125": 24.4,
          "quantile_0_375": 27.6,
          "quantile_0_5": 28.2,
          "quantile_0_625": 29.374999999999996,
          "quantile_0_875": 31.3
         },
         {
          "date_start": "2019-08-27T15:40:00+00:00",
          "quantile_0_125": 24.3,
          "quantile_0_375": 27.4875,
          "quantile_0_5": 28.2,
          "quantile_0_625": 29.1,
          "quantile_0_875": 31.1
         },
         {
          "date_start": "2019-08-27T15:50:00+00:00",
          "quantile_0_125": 24.2,
          "quantile_0_375": 27.3,
          "quantile_0_5": 28,
          "quantile_0_625": 29.1,
          "quantile_0_875": 31.1
         },
         {
          "date_start": "2019-08-27T16:00:00+00:00",
          "quantile_0_125": 24.1,
          "quantile_0_375": 27.1,
          "quantile_0_5": 27.9,
          "quantile_0_625": 28.712500000000002,
          "quantile_0_875": 30.9
         },
         {
          "date_start": "2019-08-27T16:10:00+00:00",
          "quantile_0_125": 23.8,
          "quantile_0_375": 26.924999999999997,
          "quantile_0_5": 27.7,
          "quantile_0_625": 28.6,
          "quantile_0_875": 30.8
         },
         {
          "date_start": "2019-08-27T16:20:00+00:00",
          "quantile_0_125": 23.374999999999996,
          "quantile_0_375": 26.7,
          "quantile_0_5": 27.7,
          "quantile_0_625": 28.5,
          "quantile_0_875": 30.7
         },
         {
          "date_start": "2019-08-27T16:30:00+00:00",
          "quantile_0_125": 23.1,
          "quantile_0_375": 26.6,
          "quantile_0_5": 27.4,
          "quantile_0_625": 28.2,
          "quantile_0_875": 30.4
         },
         {
          "date_start": "2019-08-27T16:40:00+00:00",
          "quantile_0_125": 23.1,
          "quantile_0_375": 26.3,
          "quantile_0_5": 27.1,
          "quantile_0_625": 28,
          "quantile_0_875": 30.0375
         },
         {
          "date_start": "2019-08-27T16:50:00+00:00",
          "quantile_0_125": 22.8,
          "quantile_0_375": 26,
          "quantile_0_5": 26.9,
          "quantile_0_625": 27.7,
          "quantile_0_875": 29.8
         },
         {
          "date_start": "2019-08-27T17:00:00+00:00",
          "quantile_0_125": 22.7,
          "quantile_0_375": 25.625000000000004,
          "quantile_0_5": 26.6,
          "quantile_0_625": 27.3,
          "quantile_0_875": 29.4
         },
         {
          "date_start": "2019-08-27T17:10:00+00:00",
          "quantile_0_125": 22.5,
          "quantile_0_375": 25.3,
          "quantile_0_5": 26.2,
          "quantile_0_625": 27,
          "quantile_0_875": 29.2
         },
         {
          "date_start": "2019-08-27T17:20:00+00:00",
          "quantile_0_125": 22.4,
          "quantile_0_375": 24.8,
          "quantile_0_5": 25.8,
          "quantile_0_625": 26.7,
          "quantile_0_875": 28.9
         },
         {
          "date_start": "2019-08-27T17:30:00+00:00",
          "quantile_0_125": 22.1,
          "quantile_0_375": 24.4,
          "quantile_0_5": 25.4,
          "quantile_0_625": 26.1,
          "quantile_0_875": 28.6
         },
         {
          "date_start": "2019-08-27T17:40:00+00:00",
          "quantile_0_125": 21.5,
          "quantile_0_375": 23.8,
          "quantile_0_5": 24.9,
          "quantile_0_625": 25.8,
          "quantile_0_875": 28.1
         },
         {
          "date_start": "2019-08-27T17:50:00+00:00",
          "quantile_0_125": 21.4,
          "quantile_0_375": 23.5,
          "quantile_0_5": 24.5,
          "quantile_0_625": 25.3,
          "quantile_0_875": 27.625000000000004
         },
         {
          "date_start": "2019-08-27T18:00:00+00:00",
          "quantile_0_125": 21.2,
          "quantile_0_375": 23.1,
          "quantile_0_5": 24.1,
          "quantile_0_625": 24.975,
          "quantile_0_875": 27.3
         },
         {
          "date_start": "2019-08-27T18:10:00+00:00",
          "quantile_0_125": 20.7,
          "quantile_0_375": 22.7,
          "quantile_0_5": 23.7,
          "quantile_0_625": 24.6,
          "quantile_0_875": 26.924999999999997
         },
         {
          "date_start": "2019-08-27T18:20:00+00:00",
          "quantile_0_125": 20.5,
          "quantile_0_375": 22.4,
          "quantile_0_5": 23.3,
          "quantile_0_625": 24.2,
          "quantile_0_875": 26.5
         },
         {
          "date_start": "2019-08-27T18:30:00+00:00",
          "quantile_0_125": 20.3,
          "quantile_0_375": 22,
          "quantile_0_5": 22.9,
          "quantile_0_625": 24,
          "quantile_0_875": 26.1
         },
         {
          "date_start": "2019-08-27T18:40:00+00:00",
          "quantile_0_125": 20.075000000000003,
          "quantile_0_375": 21.7,
          "quantile_0_5": 22.7,
          "quantile_0_625": 23.6,
          "quantile_0_875": 25.724999999999998
         },
         {
          "date_start": "2019-08-27T18:50:00+00:00",
          "quantile_0_125": 19.775000000000002,
          "quantile_0_375": 21.6,
          "quantile_0_5": 22.5,
          "quantile_0_625": 23.4,
          "quantile_0_875": 25.6
         },
         {
          "date_start": "2019-08-27T19:00:00+00:00",
          "quantile_0_125": 19.5,
          "quantile_0_375": 21.3,
          "quantile_0_5": 22.2,
          "quantile_0_625": 23.1,
          "quantile_0_875": 25.224999999999998
         },
         {
          "date_start": "2019-08-27T19:10:00+00:00",
          "quantile_0_125": 19.3,
          "quantile_0_375": 21.2,
          "quantile_0_5": 22.1,
          "quantile_0_625": 22.9,
          "quantile_0_875": 25
         },
         {
          "date_start": "2019-08-27T19:20:00+00:00",
          "quantile_0_125": 19.1,
          "quantile_0_375": 21,
          "quantile_0_5": 22,
          "quantile_0_625": 22.6,
          "quantile_0_875": 24.7
         },
         {
          "date_start": "2019-08-27T19:30:00+00:00",
          "quantile_0_125": 19,
          "quantile_0_375": 20.8,
          "quantile_0_5": 21.7,
          "quantile_0_625": 22.6,
          "quantile_0_875": 24.7
         },
         {
          "date_start": "2019-08-27T19:40:00+00:00",
          "quantile_0_125": 18.8,
          "quantile_0_375": 20.7,
          "quantile_0_5": 21.5,
          "quantile_0_625": 22.4,
          "quantile_0_875": 24.4
         },
         {
          "date_start": "2019-08-27T19:50:00+00:00",
          "quantile_0_125": 18.674999999999997,
          "quantile_0_375": 20.625,
          "quantile_0_5": 21.4,
          "quantile_0_625": 22.3,
          "quantile_0_875": 24.3
         },
         {
          "date_start": "2019-08-27T20:00:00+00:00",
          "quantile_0_125": 18.6,
          "quantile_0_375": 20.5,
          "quantile_0_5": 21.3,
          "quantile_0_625": 22.1,
          "quantile_0_875": 24.1
         },
         {
          "date_start": "2019-08-27T20:10:00+00:00",
          "quantile_0_125": 18.3,
          "quantile_0_375": 20.4,
          "quantile_0_5": 21.2,
          "quantile_0_625": 22.075000000000003,
          "quantile_0_875": 23.9
         },
         {
          "date_start": "2019-08-27T20:20:00+00:00",
          "quantile_0_125": 18.2,
          "quantile_0_375": 20.224999999999998,
          "quantile_0_5": 21.1,
          "quantile_0_625": 21.8,
          "quantile_0_875": 23.8
         },
         {
          "date_start": "2019-08-27T20:30:00+00:00",
          "quantile_0_125": 18,
          "quantile_0_375": 20.1,
          "quantile_0_5": 20.9,
          "quantile_0_625": 21.7,
          "quantile_0_875": 23.5
         },
         {
          "date_start": "2019-08-27T20:40:00+00:00",
          "quantile_0_125": 17.9,
          "quantile_0_375": 20,
          "quantile_0_5": 20.9,
          "quantile_0_625": 21.4,
          "quantile_0_875": 23.3
         },
         {
          "date_start": "2019-08-27T20:50:00+00:00",
          "quantile_0_125": 17.8,
          "quantile_0_375": 19.9,
          "quantile_0_5": 20.8,
          "quantile_0_625": 21.4,
          "quantile_0_875": 23.3
         },
         {
          "date_start": "2019-08-27T21:00:00+00:00",
          "quantile_0_125": 17.7,
          "quantile_0_375": 19.8,
          "quantile_0_5": 20.7,
          "quantile_0_625": 21.275000000000002,
          "quantile_0_875": 23.125000000000004
         },
         {
          "date_start": "2019-08-27T21:10:00+00:00",
          "quantile_0_125": 17.575000000000003,
          "quantile_0_375": 19.8,
          "quantile_0_5": 20.5,
          "quantile_0_625": 21.2,
          "quantile_0_875": 23.025
         },
         {
          "date_start": "2019-08-27T21:20:00+00:00",
          "quantile_0_125": 17.4,
          "quantile_0_375": 19.7,
          "quantile_0_5": 20.5,
          "quantile_0_625": 21,
          "quantile_0_875": 22.8
         },
         {
          "date_start": "2019-08-27T21:30:00+00:00",
          "quantile_0_125": 17.3,
          "quantile_0_375": 19.6,
          "quantile_0_5": 20.4,
          "quantile_0_625": 21,
          "quantile_0_875": 22.6
         },
         {
          "date_start": "2019-08-27T21:40:00+00:00",
          "quantile_0_125": 17.3,
          "quantile_0_375": 19.424999999999997,
          "quantile_0_5": 20.2,
          "quantile_0_625": 20.875,
          "quantile_0_875": 22.6
         },
         {
          "date_start": "2019-08-27T21:50:00+00:00",
          "quantile_0_125": 17.2,
          "quantile_0_375": 19.3,
          "quantile_0_5": 20.2,
          "quantile_0_625": 20.9,
          "quantile_0_875": 22.3
         },
         {
          "date_start": "2019-08-27T22:00:00+00:00",
          "quantile_0_125": 17.1,
          "quantile_0_375": 19.3,
          "quantile_0_5": 20,
          "quantile_0_625": 20.7,
          "quantile_0_875": 22.224999999999998
         },
         {
          "date_start": "2019-08-27T22:10:00+00:00",
          "quantile_0_125": 17,
          "quantile_0_375": 19.1,
          "quantile_0_5": 19.9,
          "quantile_0_625": 20.5,
          "quantile_0_875": 22.125000000000004
         },
         {
          "date_start": "2019-08-27T22:20:00+00:00",
          "quantile_0_125": 16.8,
          "quantile_0_375": 19,
          "quantile_0_5": 19.8,
          "quantile_0_625": 20.4,
          "quantile_0_875": 22.1
         },
         {
          "date_start": "2019-08-27T22:30:00+00:00",
          "quantile_0_125": 16.8,
          "quantile_0_375": 19,
          "quantile_0_5": 19.7,
          "quantile_0_625": 20.3,
          "quantile_0_875": 22.1
         },
         {
          "date_start": "2019-08-27T22:40:00+00:00",
          "quantile_0_125": 16.674999999999997,
          "quantile_0_375": 18.8,
          "quantile_0_5": 19.6,
          "quantile_0_625": 20.2,
          "quantile_0_875": 22.025
         },
         {
          "date_start": "2019-08-27T22:50:00+00:00",
          "quantile_0_125": 16.6,
          "quantile_0_375": 18.7,
          "quantile_0_5": 19.5,
          "quantile_0_625": 20.1,
          "quantile_0_875": 22
         },
         {
          "date_start": "2019-08-27T23:00:00+00:00",
          "quantile_0_125": 16.5,
          "quantile_0_375": 18.6,
          "quantile_0_5": 19.4,
          "quantile_0_625": 20.1,
          "quantile_0_875": 21.825000000000003
         },
         {
          "date_start": "2019-08-27T23:10:00+00:00",
          "quantile_0_125": 16.5,
          "quantile_0_375": 18.6,
          "quantile_0_5": 19.4,
          "quantile_0_625": 20,
          "quantile_0_875": 21.7
         },
         {
          "date_start": "2019-08-27T23:20:00+00:00",
          "quantile_0_125": 16.4,
          "quantile_0_375": 18.5,
          "quantile_0_5": 19.2,
          "quantile_0_625": 19.8,
          "quantile_0_875": 21.8
         },
         {
          "date_start": "2019-08-27T23:30:00+00:00",
          "quantile_0_125": 16.375,
          "quantile_0_375": 18.4,
          "quantile_0_5": 19.2,
          "quantile_0_625": 19.8,
          "quantile_0_875": 21.7
         },
         {
          "date_start": "2019-08-27T23:40:00+00:00",
          "quantile_0_125": 16.4,
          "quantile_0_375": 18.3,
          "quantile_0_5": 19.1,
          "quantile_0_625": 19.7,
          "quantile_0_875": 21.5
         },
         {
          "date_start": "2019-08-27T23:50:00+00:00",
          "quantile_0_125": 16.174999999999997,
          "quantile_0_375": 18.3,
          "quantile_0_5": 19,
          "quantile_0_625": 19.674999999999997,
          "quantile_0_875": 21.424999999999997
         },
         {
          "date_start": "2019-08-28T00:00:00+00:00",
          "quantile_0_125": 16.174999999999997,
          "quantile_0_375": 18.2,
          "quantile_0_5": 19,
          "quantile_0_625": 19.7,
          "quantile_0_875": 21.3
         },
         {
          "date_start": "2019-08-28T00:10:00+00:00",
          "quantile_0_125": 16,
          "quantile_0_375": 18.1,
          "quantile_0_5": 18.9,
          "quantile_0_625": 19.5,
          "quantile_0_875": 21.3
         },
         {
          "date_start": "2019-08-28T00:20:00+00:00",
          "quantile_0_125": 15.975,
          "quantile_0_375": 18,
          "quantile_0_5": 18.8,
          "quantile_0_625": 19.475,
          "quantile_0_875": 21.3
         },
         {
          "date_start": "2019-08-28T00:30:00+00:00",
          "quantile_0_125": 15.975,
          "quantile_0_375": 17.9,
          "quantile_0_5": 18.8,
          "quantile_0_625": 19.4,
          "quantile_0_875": 21.2
         },
         {
          "date_start": "2019-08-28T00:40:00+00:00",
          "quantile_0_125": 15.875,
          "quantile_0_375": 17.9,
          "quantile_0_5": 18.7,
          "quantile_0_625": 19.3,
          "quantile_0_875": 21.2
         },
         {
          "date_start": "2019-08-28T00:50:00+00:00",
          "quantile_0_125": 15.8,
          "quantile_0_375": 18,
          "quantile_0_5": 18.6,
          "quantile_0_625": 19.3,
          "quantile_0_875": 21.2
         },
         {
          "date_start": "2019-08-28T01:00:00+00:00",
          "quantile_0_125": 15.8,
          "quantile_0_375": 17.825000000000003,
          "quantile_0_5": 18.6,
          "quantile_0_625": 19.375,
          "quantile_0_875": 21.1
         },
         {
          "date_start": "2019-08-28T01:10:00+00:00",
          "quantile_0_125": 15.6,
          "quantile_0_375": 17.8,
          "quantile_0_5": 18.6,
          "quantile_0_625": 19.3,
          "quantile_0_875": 21
         },
         {
          "date_start": "2019-08-28T01:20:00+00:00",
          "quantile_0_125": 15.575,
          "quantile_0_375": 17.8,
          "quantile_0_5": 18.6,
          "quantile_0_625": 19.2,
          "quantile_0_875": 21
         },
         {
          "date_start": "2019-08-28T01:30:00+00:00",
          "quantile_0_125": 15.6,
          "quantile_0_375": 17.6,
          "quantile_0_5": 18.5,
          "quantile_0_625": 19.2,
          "quantile_0_875": 21
         },
         {
          "date_start": "2019-08-28T01:40:00+00:00",
          "quantile_0_125": 15.5,
          "quantile_0_375": 17.6,
          "quantile_0_5": 18.4,
          "quantile_0_625": 19,
          "quantile_0_875": 20.9
         },
         {
          "date_start": "2019-08-28T01:50:00+00:00",
          "quantile_0_125": 15.5,
          "quantile_0_375": 17.6,
          "quantile_0_5": 18.3,
          "quantile_0_625": 19.1,
          "quantile_0_875": 20.9
         },
         {
          "date_start": "2019-08-28T02:00:00+00:00",
          "quantile_0_125": 15.4,
          "quantile_0_375": 17.5,
          "quantile_0_5": 18.4,
          "quantile_0_625": 19.1,
          "quantile_0_875": 20.724999999999998
         },
         {
          "date_start": "2019-08-28T02:10:00+00:00",
          "quantile_0_125": 15.4,
          "quantile_0_375": 17.5,
          "quantile_0_5": 18.2,
          "quantile_0_625": 19,
          "quantile_0_875": 20.724999999999998
         },
         {
          "date_start": "2019-08-28T02:20:00+00:00",
          "quantile_0_125": 15.375,
          "quantile_0_375": 17.5,
          "quantile_0_5": 18.1,
          "quantile_0_625": 19,
          "quantile_0_875": 20.7
         },
         {
          "date_start": "2019-08-28T02:30:00+00:00",
          "quantile_0_125": 15.375,
          "quantile_0_375": 17.3,
          "quantile_0_5": 18.1,
          "quantile_0_625": 18.9,
          "quantile_0_875": 20.6
         },
         {
          "date_start": "2019-08-28T02:40:00+00:00",
          "quantile_0_125": 15.3,
          "quantile_0_375": 17.3,
          "quantile_0_5": 18,
          "quantile_0_625": 18.8,
          "quantile_0_875": 20.6
         },
         {
          "date_start": "2019-08-28T02:50:00+00:00",
          "quantile_0_125": 15.3,
          "quantile_0_375": 17.3,
          "quantile_0_5": 18,
          "quantile_0_625": 18.8,
          "quantile_0_875": 20.7
         },
         {
          "date_start": "2019-08-28T03:00:00+00:00",
          "quantile_0_125": 15.3,
          "quantile_0_375": 17.2,
          "quantile_0_5": 18.1,
          "quantile_0_625": 18.8,
          "quantile_0_875": 20.6
         },
         {
          "date_start": "2019-08-28T03:10:00+00:00",
          "quantile_0_125": 15.2,
          "quantile_0_375": 17.1,
          "quantile_0_5": 18,
          "quantile_0_625": 18.775000000000002,
          "quantile_0_875": 20.5
         },
         {
          "date_start": "2019-08-28T03:20:00+00:00",
          "quantile_0_125": 15.2,
          "quantile_0_375": 17.1,
          "quantile_0_5": 17.9,
          "quantile_0_625": 18.8,
          "quantile_0_875": 20.424999999999997
         },
         {
          "date_start": "2019-08-28T03:30:00+00:00",
          "quantile_0_125": 15.2,
          "quantile_0_375": 17.025,
          "quantile_0_5": 17.9,
          "quantile_0_625": 18.7,
          "quantile_0_875": 20.4
         },
         {
          "date_start": "2019-08-28T03:40:00+00:00",
          "quantile_0_125": 15.275000000000002,
          "quantile_0_375": 17,
          "quantile_0_5": 17.9,
          "quantile_0_625": 18.6,
          "quantile_0_875": 20.4
         },
         {
          "date_start": "2019-08-28T03:50:00+00:00",
          "quantile_0_125": 15.2,
          "quantile_0_375": 16.924999999999997,
          "quantile_0_5": 17.8,
          "quantile_0_625": 18.6,
          "quantile_0_875": 20.2
         },
         {
          "date_start": "2019-08-28T04:00:00+00:00",
          "quantile_0_125": 15.275000000000002,
          "quantile_0_375": 17,
          "quantile_0_5": 17.8,
          "quantile_0_625": 18.5,
          "quantile_0_875": 20.125
         },
         {
          "date_start": "2019-08-28T04:10:00+00:00",
          "quantile_0_125": 15.174999999999999,
          "quantile_0_375": 17,
          "quantile_0_5": 17.7,
          "quantile_0_625": 18.5,
          "quantile_0_875": 20.125
         },
         {
          "date_start": "2019-08-28T04:20:00+00:00",
          "quantile_0_125": 15.2,
          "quantile_0_375": 16.9,
          "quantile_0_5": 17.6,
          "quantile_0_625": 18.5,
          "quantile_0_875": 20.2
         },
         {
          "date_start": "2019-08-28T04:30:00+00:00",
          "quantile_0_125": 15.174999999999999,
          "quantile_0_375": 16.9,
          "quantile_0_5": 17.6,
          "quantile_0_625": 18.4,
          "quantile_0_875": 20.2
         },
         {
          "date_start": "2019-08-28T04:40:00+00:00",
          "quantile_0_125": 15.2,
          "quantile_0_375": 16.9,
          "quantile_0_5": 17.7,
          "quantile_0_625": 18.4,
          "quantile_0_875": 20.3
         },
         {
          "date_start": "2019-08-28T04:50:00+00:00",
          "quantile_0_125": 15.375,
          "quantile_0_375": 17,
          "quantile_0_5": 17.7,
          "quantile_0_625": 18.6,
          "quantile_0_875": 20.4
         },
         {
          "date_start": "2019-08-28T05:00:00+00:00",
          "quantile_0_125": 15.375,
          "quantile_0_375": 17.1,
          "quantile_0_5": 17.8,
          "quantile_0_625": 18.7,
          "quantile_0_875": 20.5
         },
         {
          "date_start": "2019-08-28T05:10:00+00:00",
          "quantile_0_125": 15.5,
          "quantile_0_375": 17.3,
          "quantile_0_5": 18,
          "quantile_0_625": 18.9,
          "quantile_0_875": 20.6
         },
         {
          "date_start": "2019-08-28T05:20:00+00:00",
          "quantile_0_125": 15.7,
          "quantile_0_375": 17.5,
          "quantile_0_5": 18.2,
          "quantile_0_625": 19.174999999999997,
          "quantile_0_875": 20.724999999999998
         },
         {
          "date_start": "2019-08-28T05:30:00+00:00",
          "quantile_0_125": 15.8,
          "quantile_0_375": 17.724999999999998,
          "quantile_0_5": 18.5,
          "quantile_0_625": 19.375,
          "quantile_0_875": 21
         },
         {
          "date_start": "2019-08-28T05:40:00+00:00",
          "quantile_0_125": 16.1,
          "quantile_0_375": 18.1,
          "quantile_0_5": 18.8,
          "quantile_0_625": 19.6,
          "quantile_0_875": 21.2
         },
         {
          "date_start": "2019-08-28T05:50:00+00:00",
          "quantile_0_125": 16.4,
          "quantile_0_375": 18.3,
          "quantile_0_5": 19.2,
          "quantile_0_625": 20,
          "quantile_0_875": 21.4
         },
         {
          "date_start": "2019-08-28T06:00:00+00:00",
          "quantile_0_125": 16.775000000000002,
          "quantile_0_375": 18.5,
          "quantile_0_5": 19.5,
          "quantile_0_625": 20.4,
          "quantile_0_875": 21.7
         },
         {
          "date_start": "2019-08-28T06:10:00+00:00",
          "quantile_0_125": 17.1,
          "quantile_0_375": 18.8,
          "quantile_0_5": 19.9,
          "quantile_0_625": 20.7,
          "quantile_0_875": 22
         },
         {
          "date_start": "2019-08-28T06:20:00+00:00",
          "quantile_0_125": 17.4,
          "quantile_0_375": 19.1875,
          "quantile_0_5": 20.3,
          "quantile_0_625": 21,
          "quantile_0_875": 22.3
         },
         {
          "date_start": "2019-08-28T06:30:00+00:00",
          "quantile_0_125": 17.8,
          "quantile_0_375": 19.6,
          "quantile_0_5": 20.6,
          "quantile_0_625": 21.4,
          "quantile_0_875": 22.8
         },
         {
          "date_start": "2019-08-28T06:40:00+00:00",
          "quantile_0_125": 18.2,
          "quantile_0_375": 19.9,
          "quantile_0_5": 20.9,
          "quantile_0_625": 21.7,
          "quantile_0_875": 23.2
         },
         {
          "date_start": "2019-08-28T06:50:00+00:00",
          "quantile_0_125": 18.6,
          "quantile_0_375": 20.1875,
          "quantile_0_5": 21.3,
          "quantile_0_625": 22,
          "quantile_0_875": 23.7
         },
         {
          "date_start": "2019-08-28T07:00:00+00:00",
          "quantile_0_125": 19,
          "quantile_0_375": 20.55,
          "quantile_0_5": 21.6,
          "quantile_0_625": 22.4,
          "quantile_0_875": 24.2
         },
         {
          "date_start": "2019-08-28T07:10:00+00:00",
          "quantile_0_125": 19.2,
          "quantile_0_375": 20.95,
          "quantile_0_5": 22,
          "quantile_0_625": 22.8,
          "quantile_0_875": 24.6
         },
         {
          "date_start": "2019-08-28T07:20:00+00:00",
          "quantile_0_125": 19.6,
          "quantile_0_375": 21.2,
          "quantile_0_5": 22.3,
          "quantile_0_625": 23.1,
          "quantile_0_875": 25
         },
         {
          "date_start": "2019-08-28T07:30:00+00:00",
          "quantile_0_125": 20,
          "quantile_0_375": 21.55,
          "quantile_0_5": 22.7,
          "quantile_0_625": 23.5,
          "quantile_0_875": 25.4
         },
         {
          "date_start": "2019-08-28T07:40:00+00:00",
          "quantile_0_125": 20.4,
          "quantile_0_375": 22,
          "quantile_0_5": 23.1,
          "quantile_0_625": 23.7,
          "quantile_0_875": 25.8
         },
         {
          "date_start": "2019-08-28T07:50:00+00:00",
          "quantile_0_125": 20.7,
          "quantile_0_375": 22.2,
          "quantile_0_5": 23.4,
          "quantile_0_625": 24.1,
          "quantile_0_875": 26.1
         },
         {
          "date_start": "2019-08-28T08:00:00+00:00",
          "quantile_0_125": 21.1,
          "quantile_0_375": 22.65,
          "quantile_0_5": 23.6,
          "quantile_0_625": 24.45,
          "quantile_0_875": 26.4
         },
         {
          "date_start": "2019-08-28T08:10:00+00:00",
          "quantile_0_125": 21.35,
          "quantile_0_375": 22.8,
          "quantile_0_5": 23.9,
          "quantile_0_625": 24.75,
          "quantile_0_875": 26.75
         },
         {
          "date_start": "2019-08-28T08:20:00+00:00",
          "quantile_0_125": 21.6,
          "quantile_0_375": 23.1,
          "quantile_0_5": 24.2,
          "quantile_0_625": 25.1,
          "quantile_0_875": 27.15
         },
         {
          "date_start": "2019-08-28T08:30:00+00:00",
          "quantile_0_125": 21.9,
          "quantile_0_375": 23.45,
          "quantile_0_5": 24.6,
          "quantile_0_625": 25.5,
          "quantile_0_875": 27.5
         },
         {
          "date_start": "2019-08-28T08:40:00+00:00",
          "quantile_0_125": 22.1,
          "quantile_0_375": 23.8,
          "quantile_0_5": 24.9,
          "quantile_0_625": 25.8,
          "quantile_0_875": 27.8
         },
         {
          "date_start": "2019-08-28T08:50:00+00:00",
          "quantile_0_125": 22.4,
          "quantile_0_375": 24.1,
          "quantile_0_5": 25.15,
          "quantile_0_625": 26.1,
          "quantile_0_875": 28.1
         },
         {
          "date_start": "2019-08-28T09:00:00+00:00",
          "quantile_0_125": 22.7,
          "quantile_0_375": 24.5,
          "quantile_0_5": 25.5,
          "quantile_0_625": 26.4,
          "quantile_0_875": 28.5
         },
         {
          "date_start": "2019-08-28T09:10:00+00:00",
          "quantile_0_125": 22.9,
          "quantile_0_375": 24.8,
          "quantile_0_5": 25.6,
          "quantile_0_625": 26.7,
          "quantile_0_875": 28.8
         },
         {
          "date_start": "2019-08-28T09:20:00+00:00",
          "quantile_0_125": 23.2,
          "quantile_0_375": 25,
          "quantile_0_5": 26,
          "quantile_0_625": 26.9,
          "quantile_0_875": 29.1
         },
         {
          "date_start": "2019-08-28T09:30:00+00:00",
          "quantile_0_125": 23.4,
          "quantile_0_375": 25.3,
          "quantile_0_5": 26.3,
          "quantile_0_625": 27.212500000000002,
          "quantile_0_875": 29.3375
         },
         {
          "date_start": "2019-08-28T09:40:00+00:00",
          "quantile_0_125": 23.8,
          "quantile_0_375": 25.6,
          "quantile_0_5": 26.6,
          "quantile_0_625": 27.5,
          "quantile_0_875": 29.6
         },
         {
          "date_start": "2019-08-28T09:50:00+00:00",
          "quantile_0_125": 24.1,
          "quantile_0_375": 25.9,
          "quantile_0_5": 26.9,
          "quantile_0_625": 27.7,
          "quantile_0_875": 29.7
         },
         {
          "date_start": "2019-08-28T10:00:00+00:00",
          "quantile_0_125": 24.2375,
          "quantile_0_375": 26.1125,
          "quantile_0_5": 27.1,
          "quantile_0_625": 27.8,
          "quantile_0_875": 29.9625
         },
         {
          "date_start": "2019-08-28T10:10:00+00:00",
          "quantile_0_125": 24.5,
          "quantile_0_375": 26.4,
          "quantile_0_5": 27.45,
          "quantile_0_625": 28.1,
          "quantile_0_875": 30.2625
         },
         {
          "date_start": "2019-08-28T10:20:00+00:00",
          "quantile_0_125": 24.7,
          "quantile_0_375": 26.6,
          "quantile_0_5": 27.6,
          "quantile_0_625": 28.5,
          "quantile_0_875": 30.4
         },
         {
          "date_start": "2019-08-28T10:30:00+00:00",
          "quantile_0_125": 24.95,
          "quantile_0_375": 26.7,
          "quantile_0_5": 27.8,
          "quantile_0_625": 28.6,
          "quantile_0_875": 30.7
         },
         {
          "date_start": "2019-08-28T10:40:00+00:00",
          "quantile_0_125": 25,
          "quantile_0_375": 26.9,
          "quantile_0_5": 28,
          "quantile_0_625": 28.8,
          "quantile_0_875": 30.9
         },
         {
          "date_start": "2019-08-28T10:50:00+00:00",
          "quantile_0_125": 25.15,
          "quantile_0_375": 27.1,
          "quantile_0_5": 28.1,
          "quantile_0_625": 29,
          "quantile_0_875": 31.1
         },
         {
          "date_start": "2019-08-28T11:00:00+00:00",
          "quantile_0_125": 25.35,
          "quantile_0_375": 27.3,
          "quantile_0_5": 28.3,
          "quantile_0_625": 29.1,
          "quantile_0_875": 31.1
         },
         {
          "date_start": "2019-08-28T11:10:00+00:00",
          "quantile_0_125": 25.6,
          "quantile_0_375": 27.6,
          "quantile_0_5": 28.5,
          "quantile_0_625": 29.3,
          "quantile_0_875": 31.3
         },
         {
          "date_start": "2019-08-28T11:20:00+00:00",
          "quantile_0_125": 25.75,
          "quantile_0_375": 27.65,
          "quantile_0_5": 28.6,
          "quantile_0_625": 29.45,
          "quantile_0_875": 31.45
         },
         {
          "date_start": "2019-08-28T11:30:00+00:00",
          "quantile_0_125": 26,
          "quantile_0_375": 27.8,
          "quantile_0_5": 28.8,
          "quantile_0_625": 29.6,
          "quantile_0_875": 31.6
         },
         {
          "date_start": "2019-08-28T11:40:00+00:00",
          "quantile_0_125": 26.1,
          "quantile_0_375": 28,
          "quantile_0_5": 28.8,
          "quantile_0_625": 29.75,
          "quantile_0_875": 31.7
         },
         {
          "date_start": "2019-08-28T11:50:00+00:00",
          "quantile_0_125": 26.05,
          "quantile_0_375": 28.1,
          "quantile_0_5": 28.9,
          "quantile_0_625": 29.8,
          "quantile_0_875": 31.9
         },
         {
          "date_start": "2019-08-28T12:00:00+00:00",
          "quantile_0_125": 26.2,
          "quantile_0_375": 28.2,
          "quantile_0_5": 29.2,
          "quantile_0_625": 30,
          "quantile_0_875": 31.9
         },
         {
          "date_start": "2019-08-28T12:10:00+00:00",
          "quantile_0_125": 26.3625,
          "quantile_0_375": 28.3,
          "quantile_0_5": 29.15,
          "quantile_0_625": 30.212500000000002,
          "quantile_0_875": 32
         },
         {
          "date_start": "2019-08-28T12:20:00+00:00",
          "quantile_0_125": 26.3,
          "quantile_0_375": 28.4,
          "quantile_0_5": 29.35,
          "quantile_0_625": 30.4,
          "quantile_0_875": 31.9
         },
         {
          "date_start": "2019-08-28T12:30:00+00:00",
          "quantile_0_125": 26.3,
          "quantile_0_375": 28.5,
          "quantile_0_5": 29.4,
          "quantile_0_625": 30.3,
          "quantile_0_875": 32.2
         },
         {
          "date_start": "2019-08-28T12:40:00+00:00",
          "quantile_0_125": 26.5,
          "quantile_0_375": 28.5,
          "quantile_0_5": 29.4,
          "quantile_0_625": 30.374999999999996,
          "quantile_0_875": 32.3
         },
         {
          "date_start": "2019-08-28T12:50:00+00:00",
          "quantile_0_125": 26.5,
          "quantile_0_375": 28.6,
          "quantile_0_5": 29.5,
          "quantile_0_625": 30.3,
          "quantile_0_875": 32.3
         },
         {
          "date_start": "2019-08-28T13:00:00+00:00",
          "quantile_0_125": 26.5,
          "quantile_0_375": 28.6,
          "quantile_0_5": 29.5,
          "quantile_0_625": 30.4,
          "quantile_0_875": 32.225
         },
         {
          "date_start": "2019-08-28T13:10:00+00:00",
          "quantile_0_125": 26.5,
          "quantile_0_375": 28.7,
          "quantile_0_5": 29.5,
          "quantile_0_625": 30.4,
          "quantile_0_875": 32.4
         },
         {
          "date_start": "2019-08-28T13:20:00+00:00",
          "quantile_0_125": 26.5,
          "quantile_0_375": 28.7,
          "quantile_0_5": 29.6,
          "quantile_0_625": 30.4,
          "quantile_0_875": 32.3
         },
         {
          "date_start": "2019-08-28T13:30:00+00:00",
          "quantile_0_125": 26.575000000000003,
          "quantile_0_375": 28.7,
          "quantile_0_5": 29.5,
          "quantile_0_625": 30.3,
          "quantile_0_875": 32.3
         },
         {
          "date_start": "2019-08-28T13:40:00+00:00",
          "quantile_0_125": 26.6,
          "quantile_0_375": 28.6,
          "quantile_0_5": 29.5,
          "quantile_0_625": 30.4,
          "quantile_0_875": 32.2375
         },
         {
          "date_start": "2019-08-28T13:50:00+00:00",
          "quantile_0_125": 26.6625,
          "quantile_0_375": 28.7,
          "quantile_0_5": 29.5,
          "quantile_0_625": 30.3,
          "quantile_0_875": 32.2
         },
         {
          "date_start": "2019-08-28T14:00:00+00:00",
          "quantile_0_125": 26.5625,
          "quantile_0_375": 28.787499999999998,
          "quantile_0_5": 29.5,
          "quantile_0_625": 30.412499999999998,
          "quantile_0_875": 32.0375
         },
         {
          "date_start": "2019-08-28T14:10:00+00:00",
          "quantile_0_125": 26.6,
          "quantile_0_375": 28.8,
          "quantile_0_5": 29.4,
          "quantile_0_625": 30.3,
          "quantile_0_875": 32
         },
         {
          "date_start": "2019-08-28T14:20:00+00:00",
          "quantile_0_125": 26.5,
          "quantile_0_375": 28.8,
          "quantile_0_5": 29.4,
          "quantile_0_625": 30.3,
          "quantile_0_875": 32
         },
         {
          "date_start": "2019-08-28T14:30:00+00:00",
          "quantile_0_125": 26.4,
          "quantile_0_375": 28.8,
          "quantile_0_5": 29.5,
          "quantile_0_625": 30.3,
          "quantile_0_875": 31.9
         },
         {
          "date_start": "2019-08-28T14:40:00+00:00",
          "quantile_0_125": 26.4,
          "quantile_0_375": 28.6,
          "quantile_0_5": 29.4,
          "quantile_0_625": 30.2,
          "quantile_0_875": 31.8
         },
         {
          "date_start": "2019-08-28T14:50:00+00:00",
          "quantile_0_125": 26.3,
          "quantile_0_375": 28.5,
          "quantile_0_5": 29.3,
          "quantile_0_625": 30.2,
          "quantile_0_875": 31.625000000000004
         },
         {
          "date_start": "2019-08-28T15:00:00+00:00",
          "quantile_0_125": 26.2,
          "quantile_0_375": 28.5,
          "quantile_0_5": 29.2,
          "quantile_0_625": 30.174999999999997,
          "quantile_0_875": 31.6
         },
         {
          "date_start": "2019-08-28T15:10:00+00:00",
          "quantile_0_125": 26,
          "quantile_0_375": 28.325000000000003,
          "quantile_0_5": 29.2,
          "quantile_0_625": 29.975,
          "quantile_0_875": 31.6
         },
         {
          "date_start": "2019-08-28T15:20:00+00:00",
          "quantile_0_125": 25.8,
          "quantile_0_375": 28.3,
          "quantile_0_5": 29.2,
          "quantile_0_625": 29.9,
          "quantile_0_875": 31.4
         },
         {
          "date_start": "2019-08-28T15:30:00+00:00",
          "quantile_0_125": 25.9,
          "quantile_0_375": 28.2,
          "quantile_0_5": 29,
          "quantile_0_625": 29.775000000000002,
          "quantile_0_875": 31.3
         },
         {
          "date_start": "2019-08-28T15:40:00+00:00",
          "quantile_0_125": 25.6,
          "quantile_0_375": 28.025,
          "quantile_0_5": 28.9,
          "quantile_0_625": 29.6,
          "quantile_0_875": 31.2
         },
         {
          "date_start": "2019-08-28T15:50:00+00:00",
          "quantile_0_125": 25.275000000000002,
          "quantile_0_375": 27.9,
          "quantile_0_5": 28.7,
          "quantile_0_625": 29.4,
          "quantile_0_875": 31.1
         },
         {
          "date_start": "2019-08-28T16:00:00+00:00",
          "quantile_0_125": 25.2,
          "quantile_0_375": 27.8,
          "quantile_0_5": 28.5,
          "quantile_0_625": 29.2,
          "quantile_0_875": 30.9
         },
         {
          "date_start": "2019-08-28T16:10:00+00:00",
          "quantile_0_125": 25.1,
          "quantile_0_375": 27.424999999999997,
          "quantile_0_5": 28.3,
          "quantile_0_625": 28.9,
          "quantile_0_875": 30.7
         },
         {
          "date_start": "2019-08-28T16:20:00+00:00",
          "quantile_0_125": 24.775000000000002,
          "quantile_0_375": 27.325000000000003,
          "quantile_0_5": 28.1,
          "quantile_0_625": 28.7,
          "quantile_0_875": 30.4
         },
         {
          "date_start": "2019-08-28T16:30:00+00:00",
          "quantile_0_125": 24.575000000000003,
          "quantile_0_375": 26.9,
          "quantile_0_5": 27.8,
          "quantile_0_625": 28.4,
          "quantile_0_875": 30.2
         },
         {
          "date_start": "2019-08-28T16:40:00+00:00",
          "quantile_0_125": 24.2,
          "quantile_0_375": 26.7,
          "quantile_0_5": 27.4,
          "quantile_0_625": 28.2,
          "quantile_0_875": 29.924999999999997
         },
         {
          "date_start": "2019-08-28T16:50:00+00:00",
          "quantile_0_125": 23.9,
          "quantile_0_375": 26.325000000000003,
          "quantile_0_5": 27.2,
          "quantile_0_625": 27.9,
          "quantile_0_875": 29.5
         },
         {
          "date_start": "2019-08-28T17:00:00+00:00",
          "quantile_0_125": 23.575000000000003,
          "quantile_0_375": 26,
          "quantile_0_5": 26.8,
          "quantile_0_625": 27.5,
          "quantile_0_875": 29.1
         },
         {
          "date_start": "2019-08-28T17:10:00+00:00",
          "quantile_0_125": 23.275000000000002,
          "quantile_0_375": 25.5,
          "quantile_0_5": 26.4,
          "quantile_0_625": 27.1,
          "quantile_0_875": 28.7
         },
         {
          "date_start": "2019-08-28T17:20:00+00:00",
          "quantile_0_125": 23,
          "quantile_0_375": 25.2,
          "quantile_0_5": 26,
          "quantile_0_625": 26.6,
          "quantile_0_875": 28.2
         },
         {
          "date_start": "2019-08-28T17:30:00+00:00",
          "quantile_0_125": 22.674999999999997,
          "quantile_0_375": 24.8,
          "quantile_0_5": 25.5,
          "quantile_0_625": 26.2,
          "quantile_0_875": 27.9
         },
         {
          "date_start": "2019-08-28T17:40:00+00:00",
          "quantile_0_125": 22.3,
          "quantile_0_375": 24.2,
          "quantile_0_5": 25,
          "quantile_0_625": 25.7,
          "quantile_0_875": 27.4
         },
         {
          "date_start": "2019-08-28T17:50:00+00:00",
          "quantile_0_125": 21.9,
          "quantile_0_375": 23.8,
          "quantile_0_5": 24.5,
          "quantile_0_625": 25.3,
          "quantile_0_875": 26.8
         },
         {
          "date_start": "2019-08-28T18:00:00+00:00",
          "quantile_0_125": 21.5,
          "quantile_0_375": 23.3,
          "quantile_0_5": 24.2,
          "quantile_0_625": 24.9,
          "quantile_0_875": 26.325000000000003
         },
         {
          "date_start": "2019-08-28T18:10:00+00:00",
          "quantile_0_125": 21.2,
          "quantile_0_375": 23,
          "quantile_0_5": 23.8,
          "quantile_0_625": 24.5,
          "quantile_0_875": 25.9
         },
         {
          "date_start": "2019-08-28T18:20:00+00:00",
          "quantile_0_125": 20.9,
          "quantile_0_375": 22.6,
          "quantile_0_5": 23.4,
          "quantile_0_625": 24,
          "quantile_0_875": 25.6
         },
         {
          "date_start": "2019-08-28T18:30:00+00:00",
          "quantile_0_125": 20.5,
          "quantile_0_375": 22.3,
          "quantile_0_5": 23,
          "quantile_0_625": 23.7,
          "quantile_0_875": 25.3
         },
         {
          "date_start": "2019-08-28T18:40:00+00:00",
          "quantile_0_125": 20.2,
          "quantile_0_375": 21.924999999999997,
          "quantile_0_5": 22.7,
          "quantile_0_625": 23.374999999999996,
          "quantile_0_875": 24.9
         },
         {
          "date_start": "2019-08-28T18:50:00+00:00",
          "quantile_0_125": 19.9,
          "quantile_0_375": 21.7,
          "quantile_0_5": 22.5,
          "quantile_0_625": 23.1,
          "quantile_0_875": 24.6
         },
         {
          "date_start": "2019-08-28T19:00:00+00:00",
          "quantile_0_125": 19.7,
          "quantile_0_375": 21.5,
          "quantile_0_5": 22.2,
          "quantile_0_625": 22.7,
          "quantile_0_875": 24.4
         },
         {
          "date_start": "2019-08-28T19:10:00+00:00",
          "quantile_0_125": 19.4,
          "quantile_0_375": 21.2,
          "quantile_0_5": 21.8,
          "quantile_0_625": 22.575000000000003,
          "quantile_0_875": 24.3
         },
         {
          "date_start": "2019-08-28T19:20:00+00:00",
          "quantile_0_125": 19.3,
          "quantile_0_375": 21,
          "quantile_0_5": 21.6,
          "quantile_0_625": 22.2,
          "quantile_0_875": 24
         },
         {
          "date_start": "2019-08-28T19:30:00+00:00",
          "quantile_0_125": 19.2,
          "quantile_0_375": 20.8,
          "quantile_0_5": 21.5,
          "quantile_0_625": 22.1,
          "quantile_0_875": 23.9
         },
         {
          "date_start": "2019-08-28T19:40:00+00:00",
          "quantile_0_125": 19,
          "quantile_0_375": 20.7,
          "quantile_0_5": 21.2,
          "quantile_0_625": 22,
          "quantile_0_875": 23.7
         },
         {
          "date_start": "2019-08-28T19:50:00+00:00",
          "quantile_0_125": 18.9,
          "quantile_0_375": 20.6,
          "quantile_0_5": 21,
          "quantile_0_625": 21.775000000000002,
          "quantile_0_875": 23.5
         },
         {
          "date_start": "2019-08-28T20:00:00+00:00",
          "quantile_0_125": 18.7,
          "quantile_0_375": 20.4,
          "quantile_0_5": 20.9,
          "quantile_0_625": 21.6,
          "quantile_0_875": 23.325000000000003
         },
         {
          "date_start": "2019-08-28T20:10:00+00:00",
          "quantile_0_125": 18.7,
          "quantile_0_375": 20.3,
          "quantile_0_5": 20.8,
          "quantile_0_625": 21.5,
          "quantile_0_875": 23.2
         },
         {
          "date_start": "2019-08-28T20:20:00+00:00",
          "quantile_0_125": 18.5,
          "quantile_0_375": 20.1,
          "quantile_0_5": 20.6,
          "quantile_0_625": 21.4,
          "quantile_0_875": 23.1
         },
         {
          "date_start": "2019-08-28T20:30:00+00:00",
          "quantile_0_125": 18.4,
          "quantile_0_375": 19.9,
          "quantile_0_5": 20.5,
          "quantile_0_625": 21.3,
          "quantile_0_875": 22.8
         },
         {
          "date_start": "2019-08-28T20:40:00+00:00",
          "quantile_0_125": 18.3,
          "quantile_0_375": 19.825000000000003,
          "quantile_0_5": 20.5,
          "quantile_0_625": 21.1,
          "quantile_0_875": 22.7
         },
         {
          "date_start": "2019-08-28T20:50:00+00:00",
          "quantile_0_125": 18.1,
          "quantile_0_375": 19.7,
          "quantile_0_5": 20.3,
          "quantile_0_625": 21,
          "quantile_0_875": 22.8
         },
         {
          "date_start": "2019-08-28T21:00:00+00:00",
          "quantile_0_125": 18.1,
          "quantile_0_375": 19.5,
          "quantile_0_5": 20.2,
          "quantile_0_625": 20.8,
          "quantile_0_875": 22.7
         },
         {
          "date_start": "2019-08-28T21:10:00+00:00",
          "quantile_0_125": 18,
          "quantile_0_375": 19.4,
          "quantile_0_5": 20.1,
          "quantile_0_625": 20.7,
          "quantile_0_875": 22.4
         },
         {
          "date_start": "2019-08-28T21:20:00+00:00",
          "quantile_0_125": 17.9,
          "quantile_0_375": 19.3,
          "quantile_0_5": 19.9,
          "quantile_0_625": 20.6,
          "quantile_0_875": 22.3
         },
         {
          "date_start": "2019-08-28T21:30:00+00:00",
          "quantile_0_125": 17.8,
          "quantile_0_375": 19.3,
          "quantile_0_5": 19.9,
          "quantile_0_625": 20.5,
          "quantile_0_875": 22.2
         },
         {
          "date_start": "2019-08-28T21:40:00+00:00",
          "quantile_0_125": 17.7,
          "quantile_0_375": 19.1,
          "quantile_0_5": 19.7,
          "quantile_0_625": 20.475,
          "quantile_0_875": 22.025
         },
         {
          "date_start": "2019-08-28T21:50:00+00:00",
          "quantile_0_125": 17.674999999999997,
          "quantile_0_375": 19.1,
          "quantile_0_5": 19.7,
          "quantile_0_625": 20.4,
          "quantile_0_875": 21.924999999999997
         },
         {
          "date_start": "2019-08-28T22:00:00+00:00",
          "quantile_0_125": 17.7,
          "quantile_0_375": 19,
          "quantile_0_5": 19.6,
          "quantile_0_625": 20.2,
          "quantile_0_875": 21.8
         },
         {
          "date_start": "2019-08-28T22:10:00+00:00",
          "quantile_0_125": 17.5,
          "quantile_0_375": 18.924999999999997,
          "quantile_0_5": 19.5,
          "quantile_0_625": 20.1,
          "quantile_0_875": 21.625000000000004
         },
         {
          "date_start": "2019-08-28T22:20:00+00:00",
          "quantile_0_125": 17.5,
          "quantile_0_375": 18.8,
          "quantile_0_5": 19.4,
          "quantile_0_625": 20,
          "quantile_0_875": 21.5
         },
         {
          "date_start": "2019-08-28T22:30:00+00:00",
          "quantile_0_125": 17.4,
          "quantile_0_375": 18.7,
          "quantile_0_5": 19.3,
          "quantile_0_625": 20,
          "quantile_0_875": 21.4
         },
         {
          "date_start": "2019-08-28T22:40:00+00:00",
          "quantile_0_125": 17.3,
          "quantile_0_375": 18.6,
          "quantile_0_5": 19.2,
          "quantile_0_625": 19.9,
          "quantile_0_875": 21.325000000000003
         },
         {
          "date_start": "2019-08-28T22:50:00+00:00",
          "quantile_0_125": 17.174999999999997,
          "quantile_0_375": 18.6,
          "quantile_0_5": 19.2,
          "quantile_0_625": 19.8,
          "quantile_0_875": 21.3
         },
         {
          "date_start": "2019-08-28T23:00:00+00:00",
          "quantile_0_125": 17.1,
          "quantile_0_375": 18.5,
          "quantile_0_5": 19.1,
          "quantile_0_625": 19.6,
          "quantile_0_875": 21.2
         },
         {
          "date_start": "2019-08-28T23:10:00+00:00",
          "quantile_0_125": 17,
          "quantile_0_375": 18.5,
          "quantile_0_5": 19,
          "quantile_0_625": 19.6,
          "quantile_0_875": 21.2
         },
         {
          "date_start": "2019-08-28T23:20:00+00:00",
          "quantile_0_125": 17,
          "quantile_0_375": 18.4,
          "quantile_0_5": 18.9,
          "quantile_0_625": 19.5,
          "quantile_0_875": 20.9
         },
         {
          "date_start": "2019-08-28T23:30:00+00:00",
          "quantile_0_125": 16.9,
          "quantile_0_375": 18.3,
          "quantile_0_5": 18.9,
          "quantile_0_625": 19.4,
          "quantile_0_875": 20.924999999999997
         },
         {
          "date_start": "2019-08-28T23:40:00+00:00",
          "quantile_0_125": 16.9,
          "quantile_0_375": 18.2,
          "quantile_0_5": 18.7,
          "quantile_0_625": 19.3,
          "quantile_0_875": 20.825000000000003
         },
         {
          "date_start": "2019-08-28T23:50:00+00:00",
          "quantile_0_125": 16.8,
          "quantile_0_375": 18.2,
          "quantile_0_5": 18.7,
          "quantile_0_625": 19.2,
          "quantile_0_875": 20.9
         },
         {
          "date_start": "2019-08-29T00:00:00+00:00",
          "quantile_0_125": 16.7,
          "quantile_0_375": 18.1,
          "quantile_0_5": 18.7,
          "quantile_0_625": 19.1,
          "quantile_0_875": 20.724999999999998
         },
         {
          "date_start": "2019-08-29T00:10:00+00:00",
          "quantile_0_125": 16.6,
          "quantile_0_375": 18.1,
          "quantile_0_5": 18.5,
          "quantile_0_625": 19,
          "quantile_0_875": 20.6
         },
         {
          "date_start": "2019-08-29T00:20:00+00:00",
          "quantile_0_125": 16.5,
          "quantile_0_375": 18,
          "quantile_0_5": 18.4,
          "quantile_0_625": 19,
          "quantile_0_875": 20.5
         },
         {
          "date_start": "2019-08-29T00:30:00+00:00",
          "quantile_0_125": 16.475,
          "quantile_0_375": 17.9,
          "quantile_0_5": 18.3,
          "quantile_0_625": 18.9,
          "quantile_0_875": 20.325000000000003
         },
         {
          "date_start": "2019-08-29T00:40:00+00:00",
          "quantile_0_125": 16.4,
          "quantile_0_375": 17.8,
          "quantile_0_5": 18.3,
          "quantile_0_625": 18.8,
          "quantile_0_875": 20.3
         },
         {
          "date_start": "2019-08-29T00:50:00+00:00",
          "quantile_0_125": 16.2,
          "quantile_0_375": 17.7,
          "quantile_0_5": 18.3,
          "quantile_0_625": 18.8,
          "quantile_0_875": 20.2
         },
         {
          "date_start": "2019-08-29T01:00:00+00:00",
          "quantile_0_125": 16.2,
          "quantile_0_375": 17.6,
          "quantile_0_5": 18.1,
          "quantile_0_625": 18.7,
          "quantile_0_875": 20.1
         },
         {
          "date_start": "2019-08-29T01:10:00+00:00",
          "quantile_0_125": 16.275000000000002,
          "quantile_0_375": 17.5,
          "quantile_0_5": 18,
          "quantile_0_625": 18.5,
          "quantile_0_875": 20
         },
         {
          "date_start": "2019-08-29T01:20:00+00:00",
          "quantile_0_125": 16.2,
          "quantile_0_375": 17.4,
          "quantile_0_5": 17.9,
          "quantile_0_625": 18.4,
          "quantile_0_875": 19.9
         },
         {
          "date_start": "2019-08-29T01:30:00+00:00",
          "quantile_0_125": 16.1,
          "quantile_0_375": 17.4,
          "quantile_0_5": 17.9,
          "quantile_0_625": 18.4,
          "quantile_0_875": 19.9
         },
         {
          "date_start": "2019-08-29T01:40:00+00:00",
          "quantile_0_125": 16.1,
          "quantile_0_375": 17.4,
          "quantile_0_5": 17.8,
          "quantile_0_625": 18.4,
          "quantile_0_875": 19.9
         },
         {
          "date_start": "2019-08-29T01:50:00+00:00",
          "quantile_0_125": 15.9,
          "quantile_0_375": 17.3,
          "quantile_0_5": 17.8,
          "quantile_0_625": 18.3,
          "quantile_0_875": 19.7
         },
         {
          "date_start": "2019-08-29T02:00:00+00:00",
          "quantile_0_125": 15.8,
          "quantile_0_375": 17.3,
          "quantile_0_5": 17.7,
          "quantile_0_625": 18.2,
          "quantile_0_875": 19.7
         },
         {
          "date_start": "2019-08-29T02:10:00+00:00",
          "quantile_0_125": 15.8,
          "quantile_0_375": 17.2,
          "quantile_0_5": 17.6,
          "quantile_0_625": 18.1,
          "quantile_0_875": 19.625
         },
         {
          "date_start": "2019-08-29T02:20:00+00:00",
          "quantile_0_125": 15.7,
          "quantile_0_375": 17.1,
          "quantile_0_5": 17.5,
          "quantile_0_625": 18.1,
          "quantile_0_875": 19.7
         },
         {
          "date_start": "2019-08-29T02:30:00+00:00",
          "quantile_0_125": 15.6,
          "quantile_0_375": 17.1,
          "quantile_0_5": 17.5,
          "quantile_0_625": 18,
          "quantile_0_875": 19.6
         },
         {
          "date_start": "2019-08-29T02:40:00+00:00",
          "quantile_0_125": 15.5,
          "quantile_0_375": 17.1,
          "quantile_0_5": 17.5,
          "quantile_0_625": 18,
          "quantile_0_875": 19.6
         },
         {
          "date_start": "2019-08-29T02:50:00+00:00",
          "quantile_0_125": 15.575,
          "quantile_0_375": 17,
          "quantile_0_5": 17.4,
          "quantile_0_625": 18,
          "quantile_0_875": 19.5
         },
         {
          "date_start": "2019-08-29T03:00:00+00:00",
          "quantile_0_125": 15.4,
          "quantile_0_375": 17,
          "quantile_0_5": 17.4,
          "quantile_0_625": 17.9,
          "quantile_0_875": 19.4
         },
         {
          "date_start": "2019-08-29T03:10:00+00:00",
          "quantile_0_125": 15.4,
          "quantile_0_375": 16.9,
          "quantile_0_5": 17.4,
          "quantile_0_625": 17.8,
          "quantile_0_875": 19.325000000000003
         },
         {
          "date_start": "2019-08-29T03:20:00+00:00",
          "quantile_0_125": 15.375,
          "quantile_0_375": 16.9,
          "quantile_0_5": 17.3,
          "quantile_0_625": 17.8,
          "quantile_0_875": 19.4
         },
         {
          "date_start": "2019-08-29T03:30:00+00:00",
          "quantile_0_125": 15.3,
          "quantile_0_375": 16.8,
          "quantile_0_5": 17.4,
          "quantile_0_625": 17.8,
          "quantile_0_875": 19.3
         },
         {
          "date_start": "2019-08-29T03:40:00+00:00",
          "quantile_0_125": 15.4,
          "quantile_0_375": 16.7,
          "quantile_0_5": 17.3,
          "quantile_0_625": 17.7,
          "quantile_0_875": 19.3
         },
         {
          "date_start": "2019-08-29T03:50:00+00:00",
          "quantile_0_125": 15.3,
          "quantile_0_375": 16.7,
          "quantile_0_5": 17.2,
          "quantile_0_625": 17.7,
          "quantile_0_875": 19.2
         },
         {
          "date_start": "2019-08-29T04:00:00+00:00",
          "quantile_0_125": 15.2,
          "quantile_0_375": 16.6,
          "quantile_0_5": 17.1,
          "quantile_0_625": 17.7,
          "quantile_0_875": 19.1
         },
         {
          "date_start": "2019-08-29T04:10:00+00:00",
          "quantile_0_125": 15.2,
          "quantile_0_375": 16.6,
          "quantile_0_5": 17.2,
          "quantile_0_625": 17.6,
          "quantile_0_875": 19.1
         },
         {
          "date_start": "2019-08-29T04:20:00+00:00",
          "quantile_0_125": 15.275000000000002,
          "quantile_0_375": 16.6,
          "quantile_0_5": 17.2,
          "quantile_0_625": 17.7,
          "quantile_0_875": 19.1
         },
         {
          "date_start": "2019-08-29T04:30:00+00:00",
          "quantile_0_125": 15.2,
          "quantile_0_375": 16.6,
          "quantile_0_5": 17.1,
          "quantile_0_625": 17.6,
          "quantile_0_875": 19.1
         },
         {
          "date_start": "2019-08-29T04:40:00+00:00",
          "quantile_0_125": 15.2,
          "quantile_0_375": 16.7,
          "quantile_0_5": 17.2,
          "quantile_0_625": 17.7,
          "quantile_0_875": 19.1
         },
         {
          "date_start": "2019-08-29T04:50:00+00:00",
          "quantile_0_125": 15.375,
          "quantile_0_375": 16.7,
          "quantile_0_5": 17.2,
          "quantile_0_625": 17.775000000000002,
          "quantile_0_875": 19.2
         },
         {
          "date_start": "2019-08-29T05:00:00+00:00",
          "quantile_0_125": 15.4,
          "quantile_0_375": 16.9,
          "quantile_0_5": 17.3,
          "quantile_0_625": 17.8,
          "quantile_0_875": 19.2
         },
         {
          "date_start": "2019-08-29T05:10:00+00:00",
          "quantile_0_125": 15.6,
          "quantile_0_375": 17,
          "quantile_0_5": 17.5,
          "quantile_0_625": 17.9,
          "quantile_0_875": 19.2
         },
         {
          "date_start": "2019-08-29T05:20:00+00:00",
          "quantile_0_125": 15.8,
          "quantile_0_375": 17.1,
          "quantile_0_5": 17.6,
          "quantile_0_625": 18.1,
          "quantile_0_875": 19.3
         },
         {
          "date_start": "2019-08-29T05:30:00+00:00",
          "quantile_0_125": 16.1,
          "quantile_0_375": 17.3,
          "quantile_0_5": 17.8,
          "quantile_0_625": 18.275000000000002,
          "quantile_0_875": 19.4
         },
         {
          "date_start": "2019-08-29T05:40:00+00:00",
          "quantile_0_125": 16.3,
          "quantile_0_375": 17.6,
          "quantile_0_5": 18,
          "quantile_0_625": 18.475,
          "quantile_0_875": 19.7
         },
         {
          "date_start": "2019-08-29T05:50:00+00:00",
          "quantile_0_125": 16.475,
          "quantile_0_375": 17.8,
          "quantile_0_5": 18.2,
          "quantile_0_625": 18.7,
          "quantile_0_875": 19.8
         },
         {
          "date_start": "2019-08-29T06:00:00+00:00",
          "quantile_0_125": 16.8,
          "quantile_0_375": 18,
          "quantile_0_5": 18.5,
          "quantile_0_625": 18.9,
          "quantile_0_875": 20.2
         },
         {
          "date_start": "2019-08-29T06:10:00+00:00",
          "quantile_0_125": 17,
          "quantile_0_375": 18.3,
          "quantile_0_5": 18.7,
          "quantile_0_625": 19.1,
          "quantile_0_875": 20.5
         },
         {
          "date_start": "2019-08-29T06:20:00+00:00",
          "quantile_0_125": 17.4,
          "quantile_0_375": 18.5,
          "quantile_0_5": 18.9,
          "quantile_0_625": 19.4,
          "quantile_0_875": 20.8
         },
         {
          "date_start": "2019-08-29T06:30:00+00:00",
          "quantile_0_125": 17.674999999999997,
          "quantile_0_375": 18.8,
          "quantile_0_5": 19.2,
          "quantile_0_625": 19.7,
          "quantile_0_875": 21.2
         },
         {
          "date_start": "2019-08-29T06:40:00+00:00",
          "quantile_0_125": 17.8,
          "quantile_0_375": 19,
          "quantile_0_5": 19.5,
          "quantile_0_625": 19.975,
          "quantile_0_875": 21.7
         },
         {
          "date_start": "2019-08-29T06:50:00+00:00",
          "quantile_0_125": 18,
          "quantile_0_375": 19.2,
          "quantile_0_5": 19.7,
          "quantile_0_625": 20.375,
          "quantile_0_875": 21.9
         },
         {
          "date_start": "2019-08-29T07:00:00+00:00",
          "quantile_0_125": 18.3,
          "quantile_0_375": 19.5,
          "quantile_0_5": 20,
          "quantile_0_625": 20.575000000000003,
          "quantile_0_875": 22.4
         },
         {
          "date_start": "2019-08-29T07:10:00+00:00",
          "quantile_0_125": 18.5,
          "quantile_0_375": 19.6,
          "quantile_0_5": 20.3,
          "quantile_0_625": 21,
          "quantile_0_875": 22.8
         },
         {
          "date_start": "2019-08-29T07:20:00+00:00",
          "quantile_0_125": 18.6,
          "quantile_0_375": 19.9,
          "quantile_0_5": 20.5,
          "quantile_0_625": 21.2,
          "quantile_0_875": 23.125000000000004
         },
         {
          "date_start": "2019-08-29T07:30:00+00:00",
          "quantile_0_125": 18.7,
          "quantile_0_375": 20.1,
          "quantile_0_5": 20.9,
          "quantile_0_625": 21.5,
          "quantile_0_875": 23.525
         },
         {
          "date_start": "2019-08-29T07:40:00+00:00",
          "quantile_0_125": 18.8,
          "quantile_0_375": 20.3,
          "quantile_0_5": 21,
          "quantile_0_625": 21.9,
          "quantile_0_875": 23.9375
         },
         {
          "date_start": "2019-08-29T07:50:00+00:00",
          "quantile_0_125": 19.1,
          "quantile_0_375": 20.5,
          "quantile_0_5": 21.1,
          "quantile_0_625": 22.1,
          "quantile_0_875": 24.2
         },
         {
          "date_start": "2019-08-29T08:00:00+00:00",
          "quantile_0_125": 19.15,
          "quantile_0_375": 20.7,
          "quantile_0_5": 21.4,
          "quantile_0_625": 22.4,
          "quantile_0_875": 24.65
         },
         {
          "date_start": "2019-08-29T08:10:00+00:00",
          "quantile_0_125": 19.35,
          "quantile_0_375": 20.8,
          "quantile_0_5": 21.6,
          "quantile_0_625": 22.7,
          "quantile_0_875": 25
         },
         {
          "date_start": "2019-08-29T08:20:00+00:00",
          "quantile_0_125": 19.4,
          "quantile_0_375": 20.9,
          "quantile_0_5": 21.8,
          "quantile_0_625": 23,
          "quantile_0_875": 25.3625
         },
         {
          "date_start": "2019-08-29T08:30:00+00:00",
          "quantile_0_125": 19.6,
          "quantile_0_375": 21.05,
          "quantile_0_5": 22.1,
          "quantile_0_625": 23.15,
          "quantile_0_875": 25.6
         },
         {
          "date_start": "2019-08-29T08:40:00+00:00",
          "quantile_0_125": 19.7,
          "quantile_0_375": 21.2,
          "quantile_0_5": 22.4,
          "quantile_0_625": 23.45,
          "quantile_0_875": 25.9
         },
         {
          "date_start": "2019-08-29T08:50:00+00:00",
          "quantile_0_125": 19.9,
          "quantile_0_375": 21.3,
          "quantile_0_5": 22.4,
          "quantile_0_625": 23.8,
          "quantile_0_875": 26.3
         },
         {
          "date_start": "2019-08-29T09:00:00+00:00",
          "quantile_0_125": 20.1,
          "quantile_0_375": 21.587500000000002,
          "quantile_0_5": 22.65,
          "quantile_0_625": 24,
          "quantile_0_875": 26.5375
         },
         {
          "date_start": "2019-08-29T09:10:00+00:00",
          "quantile_0_125": 20.1,
          "quantile_0_375": 21.6,
          "quantile_0_5": 22.8,
          "quantile_0_625": 24.2,
          "quantile_0_875": 26.7
         },
         {
          "date_start": "2019-08-29T09:20:00+00:00",
          "quantile_0_125": 20.3,
          "quantile_0_375": 21.7,
          "quantile_0_5": 23.05,
          "quantile_0_625": 24.4,
          "quantile_0_875": 27
         },
         {
          "date_start": "2019-08-29T09:30:00+00:00",
          "quantile_0_125": 20.3,
          "quantile_0_375": 22,
          "quantile_0_5": 23.3,
          "quantile_0_625": 24.7,
          "quantile_0_875": 27.3
         },
         {
          "date_start": "2019-08-29T09:40:00+00:00",
          "quantile_0_125": 20.5,
          "quantile_0_375": 22.1875,
          "quantile_0_5": 23.5,
          "quantile_0_625": 24.8,
          "quantile_0_875": 27.5
         },
         {
          "date_start": "2019-08-29T09:50:00+00:00",
          "quantile_0_125": 20.6,
          "quantile_0_375": 22.287499999999998,
          "quantile_0_5": 23.7,
          "quantile_0_625": 25.1,
          "quantile_0_875": 27.7
         },
         {
          "date_start": "2019-08-29T10:00:00+00:00",
          "quantile_0_125": 20.6625,
          "quantile_0_375": 22.3875,
          "quantile_0_5": 23.8,
          "quantile_0_625": 25.212500000000002,
          "quantile_0_875": 27.7375
         },
         {
          "date_start": "2019-08-29T10:10:00+00:00",
          "quantile_0_125": 20.7,
          "quantile_0_375": 22.6,
          "quantile_0_5": 23.9,
          "quantile_0_625": 25.4,
          "quantile_0_875": 28.1
         },
         {
          "date_start": "2019-08-29T10:20:00+00:00",
          "quantile_0_125": 21,
          "quantile_0_375": 22.7,
          "quantile_0_5": 24,
          "quantile_0_625": 25.5,
          "quantile_0_875": 28.2
         },
         {
          "date_start": "2019-08-29T10:30:00+00:00",
          "quantile_0_125": 21.0625,
          "quantile_0_375": 22.7,
          "quantile_0_5": 24.05,
          "quantile_0_625": 25.6125,
          "quantile_0_875": 28.4
         },
         {
          "date_start": "2019-08-29T10:40:00+00:00",
          "quantile_0_125": 21.1625,
          "quantile_0_375": 22.8,
          "quantile_0_5": 24.05,
          "quantile_0_625": 25.8,
          "quantile_0_875": 28.3
         },
         {
          "date_start": "2019-08-29T10:50:00+00:00",
          "quantile_0_125": 21.2625,
          "quantile_0_375": 22.9,
          "quantile_0_5": 24.1,
          "quantile_0_625": 25.912499999999998,
          "quantile_0_875": 28.6
         },
         {
          "date_start": "2019-08-29T11:00:00+00:00",
          "quantile_0_125": 21.3,
          "quantile_0_375": 23.1,
          "quantile_0_5": 24.1,
          "quantile_0_625": 26.1,
          "quantile_0_875": 28.7
         },
         {
          "date_start": "2019-08-29T11:10:00+00:00",
          "quantile_0_125": 21.5,
          "quantile_0_375": 23.2,
          "quantile_0_5": 24.3,
          "quantile_0_625": 26.1,
          "quantile_0_875": 28.7
         },
         {
          "date_start": "2019-08-29T11:20:00+00:00",
          "quantile_0_125": 21.6,
          "quantile_0_375": 23.4,
          "quantile_0_5": 24.4,
          "quantile_0_625": 26.2,
          "quantile_0_875": 28.9
         },
         {
          "date_start": "2019-08-29T11:30:00+00:00",
          "quantile_0_125": 21.7625,
          "quantile_0_375": 23.4,
          "quantile_0_5": 24.5,
          "quantile_0_625": 26.1,
          "quantile_0_875": 28.8375
         },
         {
          "date_start": "2019-08-29T11:40:00+00:00",
          "quantile_0_125": 21.9,
          "quantile_0_375": 23.5,
          "quantile_0_5": 24.65,
          "quantile_0_625": 26.2,
          "quantile_0_875": 29.1
         },
         {
          "date_start": "2019-08-29T11:50:00+00:00",
          "quantile_0_125": 22.2,
          "quantile_0_375": 23.8,
          "quantile_0_5": 24.8,
          "quantile_0_625": 26.1125,
          "quantile_0_875": 29.1
         },
         {
          "date_start": "2019-08-29T12:00:00+00:00",
          "quantile_0_125": 22.0625,
          "quantile_0_375": 23.9,
          "quantile_0_5": 24.8,
          "quantile_0_625": 26.1,
          "quantile_0_875": 29.1375
         },
         {
          "date_start": "2019-08-29T12:10:00+00:00",
          "quantile_0_125": 22.1,
          "quantile_0_375": 24,
          "quantile_0_5": 24.85,
          "quantile_0_625": 26.212500000000002,
          "quantile_0_875": 29
         },
         {
          "date_start": "2019-08-29T12:20:00+00:00",
          "quantile_0_125": 22.1,
          "quantile_0_375": 24.1,
          "quantile_0_5": 25,
          "quantile_0_625": 26.2,
          "quantile_0_875": 29.1
         },
         {
          "date_start": "2019-08-29T12:30:00+00:00",
          "quantile_0_125": 22.1625,
          "quantile_0_375": 24,
          "quantile_0_5": 24.95,
          "quantile_0_625": 26.212500000000002,
          "quantile_0_875": 29
         },
         {
          "date_start": "2019-08-29T12:40:00+00:00",
          "quantile_0_125": 22.0625,
          "quantile_0_375": 24.1,
          "quantile_0_5": 25.15,
          "quantile_0_625": 26.3,
          "quantile_0_875": 29
         },
         {
          "date_start": "2019-08-29T12:50:00+00:00",
          "quantile_0_125": 22.0625,
          "quantile_0_375": 24.1875,
          "quantile_0_5": 25.1,
          "quantile_0_625": 26.3,
          "quantile_0_875": 29
         },
         {
          "date_start": "2019-08-29T13:00:00+00:00",
          "quantile_0_125": 22.05,
          "quantile_0_375": 24.2,
          "quantile_0_5": 25.2,
          "quantile_0_625": 26.2,
          "quantile_0_875": 29
         },
         {
          "date_start": "2019-08-29T13:10:00+00:00",
          "quantile_0_125": 22.15,
          "quantile_0_375": 24.2,
          "quantile_0_5": 25.1,
          "quantile_0_625": 26.1,
          "quantile_0_875": 29.1
         },
         {
          "date_start": "2019-08-29T13:20:00+00:00",
          "quantile_0_125": 22.2,
          "quantile_0_375": 24.2,
          "quantile_0_5": 25,
          "quantile_0_625": 26,
          "quantile_0_875": 29.2
         },
         {
          "date_start": "2019-08-29T13:30:00+00:00",
          "quantile_0_125": 22.2,
          "quantile_0_375": 24.3,
          "quantile_0_5": 25.1,
          "quantile_0_625": 26.1,
          "quantile_0_875": 29.2
         },
         {
          "date_start": "2019-08-29T13:40:00+00:00",
          "quantile_0_125": 22.3,
          "quantile_0_375": 24.3,
          "quantile_0_5": 25.1,
          "quantile_0_625": 26.3,
          "quantile_0_875": 29.3
         },
         {
          "date_start": "2019-08-29T13:50:00+00:00",
          "quantile_0_125": 22.2,
          "quantile_0_375": 24.2,
          "quantile_0_5": 25.15,
          "quantile_0_625": 26.3,
          "quantile_0_875": 29.2375
         },
         {
          "date_start": "2019-08-29T14:00:00+00:00",
          "quantile_0_125": 22.1,
          "quantile_0_375": 24.287499999999998,
          "quantile_0_5": 25.15,
          "quantile_0_625": 26.2,
          "quantile_0_875": 29.1
         },
         {
          "date_start": "2019-08-29T14:10:00+00:00",
          "quantile_0_125": 22.3,
          "quantile_0_375": 24.2,
          "quantile_0_5": 25.1,
          "quantile_0_625": 26.1,
          "quantile_0_875": 29.1
         },
         {
          "date_start": "2019-08-29T14:20:00+00:00",
          "quantile_0_125": 22.3,
          "quantile_0_375": 24.287499999999998,
          "quantile_0_5": 25,
          "quantile_0_625": 26.2,
          "quantile_0_875": 28.9
         },
         {
          "date_start": "2019-08-29T14:30:00+00:00",
          "quantile_0_125": 22.3,
          "quantile_0_375": 24.2,
          "quantile_0_5": 25,
          "quantile_0_625": 26.1,
          "quantile_0_875": 28.9
         },
         {
          "date_start": "2019-08-29T14:40:00+00:00",
          "quantile_0_125": 22.2,
          "quantile_0_375": 24.1,
          "quantile_0_5": 24.9,
          "quantile_0_625": 26,
          "quantile_0_875": 28.8
         },
         {
          "date_start": "2019-08-29T14:50:00+00:00",
          "quantile_0_125": 22.1,
          "quantile_0_375": 24.1,
          "quantile_0_5": 24.8,
          "quantile_0_625": 25.8125,
          "quantile_0_875": 28.6
         },
         {
          "date_start": "2019-08-29T15:00:00+00:00",
          "quantile_0_125": 22,
          "quantile_0_375": 24.1,
          "quantile_0_5": 24.9,
          "quantile_0_625": 25.6,
          "quantile_0_875": 28.6375
         },
         {
          "date_start": "2019-08-29T15:10:00+00:00",
          "quantile_0_125": 22,
          "quantile_0_375": 24,
          "quantile_0_5": 24.7,
          "quantile_0_625": 25.5,
          "quantile_0_875": 28.3
         },
         {
          "date_start": "2019-08-29T15:20:00+00:00",
          "quantile_0_125": 22.1,
          "quantile_0_375": 24,
          "quantile_0_5": 24.6,
          "quantile_0_625": 25.6,
          "quantile_0_875": 28.3375
         },
         {
          "date_start": "2019-08-29T15:30:00+00:00",
          "quantile_0_125": 22.0625,
          "quantile_0_375": 23.9,
          "quantile_0_5": 24.6,
          "quantile_0_625": 25.412499999999998,
          "quantile_0_875": 27.9375
         },
         {
          "date_start": "2019-08-29T15:40:00+00:00",
          "quantile_0_125": 21.7625,
          "quantile_0_375": 23.8,
          "quantile_0_5": 24.5,
          "quantile_0_625": 25.3125,
          "quantile_0_875": 27.9375
         },
         {
          "date_start": "2019-08-29T15:50:00+00:00",
          "quantile_0_125": 21.7,
          "quantile_0_375": 23.787499999999998,
          "quantile_0_5": 24.45,
          "quantile_0_625": 25.2,
          "quantile_0_875": 27.7
         },
         {
          "date_start": "2019-08-29T16:00:00+00:00",
          "quantile_0_125": 21.7,
          "quantile_0_375": 23.6,
          "quantile_0_5": 24.25,
          "quantile_0_625": 25.2,
          "quantile_0_875": 27.7
         },
         {
          "date_start": "2019-08-29T16:10:00+00:00",
          "quantile_0_125": 21.6,
          "quantile_0_375": 23.5,
          "quantile_0_5": 24.2,
          "quantile_0_625": 25.0125,
          "quantile_0_875": 27.5
         },
         {
          "date_start": "2019-08-29T16:20:00+00:00",
          "quantile_0_125": 21.4625,
          "quantile_0_375": 23.5,
          "quantile_0_5": 24,
          "quantile_0_625": 24.7,
          "quantile_0_875": 27.3
         },
         {
          "date_start": "2019-08-29T16:30:00+00:00",
          "quantile_0_125": 21.2,
          "quantile_0_375": 23.3,
          "quantile_0_5": 23.85,
          "quantile_0_625": 24.7,
          "quantile_0_875": 27.3
         },
         {
          "date_start": "2019-08-29T16:40:00+00:00",
          "quantile_0_125": 21.1,
          "quantile_0_375": 23.2,
          "quantile_0_5": 23.7,
          "quantile_0_625": 24.5,
          "quantile_0_875": 27.0375
         },
         {
          "date_start": "2019-08-29T16:50:00+00:00",
          "quantile_0_125": 21.1,
          "quantile_0_375": 23,
          "quantile_0_5": 23.5,
          "quantile_0_625": 24.3,
          "quantile_0_875": 26.7
         },
         {
          "date_start": "2019-08-29T17:00:00+00:00",
          "quantile_0_125": 21,
          "quantile_0_375": 22.8,
          "quantile_0_5": 23.3,
          "quantile_0_625": 24,
          "quantile_0_875": 26.4375
         },
         {
          "date_start": "2019-08-29T17:10:00+00:00",
          "quantile_0_125": 20.6625,
          "quantile_0_375": 22.6,
          "quantile_0_5": 23.05,
          "quantile_0_625": 23.8,
          "quantile_0_875": 26.3375
         },
         {
          "date_start": "2019-08-29T17:20:00+00:00",
          "quantile_0_125": 20.5,
          "quantile_0_375": 22.4,
          "quantile_0_5": 22.8,
          "quantile_0_625": 23.5125,
          "quantile_0_875": 26.2
         },
         {
          "date_start": "2019-08-29T17:30:00+00:00",
          "quantile_0_125": 20.2625,
          "quantile_0_375": 22,
          "quantile_0_5": 22.6,
          "quantile_0_625": 23.2,
          "quantile_0_875": 25.8
         },
         {
          "date_start": "2019-08-29T17:40:00+00:00",
          "quantile_0_125": 19.9625,
          "quantile_0_375": 21.787499999999998,
          "quantile_0_5": 22.3,
          "quantile_0_625": 22.9,
          "quantile_0_875": 25.4
         },
         {
          "date_start": "2019-08-29T17:50:00+00:00",
          "quantile_0_125": 19.8,
          "quantile_0_375": 21.4,
          "quantile_0_5": 22,
          "quantile_0_625": 22.6125,
          "quantile_0_875": 25.1
         },
         {
          "date_start": "2019-08-29T18:00:00+00:00",
          "quantile_0_125": 19.5625,
          "quantile_0_375": 21.087500000000002,
          "quantile_0_5": 21.6,
          "quantile_0_625": 22.3,
          "quantile_0_875": 24.6375
         },
         {
          "date_start": "2019-08-29T18:10:00+00:00",
          "quantile_0_125": 19.3,
          "quantile_0_375": 20.7,
          "quantile_0_5": 21.3,
          "quantile_0_625": 22,
          "quantile_0_875": 24.3375
         },
         {
          "date_start": "2019-08-29T18:20:00+00:00",
          "quantile_0_125": 19.1,
          "quantile_0_375": 20.4,
          "quantile_0_5": 21,
          "quantile_0_625": 21.8,
          "quantile_0_875": 24.1
         },
         {
          "date_start": "2019-08-29T18:30:00+00:00",
          "quantile_0_125": 18.8,
          "quantile_0_375": 20.1,
          "quantile_0_5": 20.7,
          "quantile_0_625": 21.6,
          "quantile_0_875": 23.6
         },
         {
          "date_start": "2019-08-29T18:40:00+00:00",
          "quantile_0_125": 18.4,
          "quantile_0_375": 19.9,
          "quantile_0_5": 20.5,
          "quantile_0_625": 21.2,
          "quantile_0_875": 23.4375
         },
         {
          "date_start": "2019-08-29T18:50:00+00:00",
          "quantile_0_125": 18.1625,
          "quantile_0_375": 19.7,
          "quantile_0_5": 20.3,
          "quantile_0_625": 21,
          "quantile_0_875": 23.3
         },
         {
          "date_start": "2019-08-29T19:00:00+00:00",
          "quantile_0_125": 18,
          "quantile_0_375": 19.5,
          "quantile_0_5": 20.2,
          "quantile_0_625": 20.8125,
          "quantile_0_875": 23
         },
         {
          "date_start": "2019-08-29T19:10:00+00:00",
          "quantile_0_125": 17.9,
          "quantile_0_375": 19.4,
          "quantile_0_5": 19.9,
          "quantile_0_625": 20.7,
          "quantile_0_875": 22.8
         },
         {
          "date_start": "2019-08-29T19:20:00+00:00",
          "quantile_0_125": 17.7,
          "quantile_0_375": 19.1,
          "quantile_0_5": 19.8,
          "quantile_0_625": 20.5,
          "quantile_0_875": 22.5
         },
         {
          "date_start": "2019-08-29T19:30:00+00:00",
          "quantile_0_125": 17.5,
          "quantile_0_375": 19.1,
          "quantile_0_5": 19.6,
          "quantile_0_625": 20.4,
          "quantile_0_875": 22.4
         },
         {
          "date_start": "2019-08-29T19:40:00+00:00",
          "quantile_0_125": 17.4,
          "quantile_0_375": 18.9,
          "quantile_0_5": 19.5,
          "quantile_0_625": 20.2,
          "quantile_0_875": 22.1
         },
         {
          "date_start": "2019-08-29T19:50:00+00:00",
          "quantile_0_125": 17.3,
          "quantile_0_375": 18.8,
          "quantile_0_5": 19.4,
          "quantile_0_625": 20,
          "quantile_0_875": 21.924999999999997
         },
         {
          "date_start": "2019-08-29T20:00:00+00:00",
          "quantile_0_125": 17.174999999999997,
          "quantile_0_375": 18.6,
          "quantile_0_5": 19.2,
          "quantile_0_625": 19.975,
          "quantile_0_875": 21.825000000000003
         },
         {
          "date_start": "2019-08-29T20:10:00+00:00",
          "quantile_0_125": 17,
          "quantile_0_375": 18.5,
          "quantile_0_5": 19.1,
          "quantile_0_625": 19.8,
          "quantile_0_875": 21.7
         },
         {
          "date_start": "2019-08-29T20:20:00+00:00",
          "quantile_0_125": 16.9,
          "quantile_0_375": 18.4,
          "quantile_0_5": 19,
          "quantile_0_625": 19.7,
          "quantile_0_875": 21.6
         },
         {
          "date_start": "2019-08-29T20:30:00+00:00",
          "quantile_0_125": 16.775000000000002,
          "quantile_0_375": 18.3,
          "quantile_0_5": 19,
          "quantile_0_625": 19.5,
          "quantile_0_875": 21.325000000000003
         },
         {
          "date_start": "2019-08-29T20:40:00+00:00",
          "quantile_0_125": 16.5,
          "quantile_0_375": 18.2,
          "quantile_0_5": 18.8,
          "quantile_0_625": 19.5,
          "quantile_0_875": 21.1
         },
         {
          "date_start": "2019-08-29T20:50:00+00:00",
          "quantile_0_125": 16.475,
          "quantile_0_375": 18.1,
          "quantile_0_5": 18.7,
          "quantile_0_625": 19.4,
          "quantile_0_875": 21.1
         },
         {
          "date_start": "2019-08-29T21:00:00+00:00",
          "quantile_0_125": 16.375,
          "quantile_0_375": 18,
          "quantile_0_5": 18.7,
          "quantile_0_625": 19.375,
          "quantile_0_875": 21.1
         },
         {
          "date_start": "2019-08-29T21:10:00+00:00",
          "quantile_0_125": 16.2,
          "quantile_0_375": 17.9,
          "quantile_0_5": 18.5,
          "quantile_0_625": 19.2,
          "quantile_0_875": 20.924999999999997
         },
         {
          "date_start": "2019-08-29T21:20:00+00:00",
          "quantile_0_125": 16.1,
          "quantile_0_375": 17.8,
          "quantile_0_5": 18.5,
          "quantile_0_625": 19.174999999999997,
          "quantile_0_875": 20.8
         },
         {
          "date_start": "2019-08-29T21:30:00+00:00",
          "quantile_0_125": 16.075000000000003,
          "quantile_0_375": 17.7,
          "quantile_0_5": 18.4,
          "quantile_0_625": 19,
          "quantile_0_875": 20.6
         },
         {
          "date_start": "2019-08-29T21:40:00+00:00",
          "quantile_0_125": 16.1,
          "quantile_0_375": 17.6,
          "quantile_0_5": 18.2,
          "quantile_0_625": 18.9,
          "quantile_0_875": 20.6
         },
         {
          "date_start": "2019-08-29T21:50:00+00:00",
          "quantile_0_125": 16,
          "quantile_0_375": 17.5,
          "quantile_0_5": 18.2,
          "quantile_0_625": 18.9,
          "quantile_0_875": 20.424999999999997
         },
         {
          "date_start": "2019-08-29T22:00:00+00:00",
          "quantile_0_125": 15.8625,
          "quantile_0_375": 17.4,
          "quantile_0_5": 18.1,
          "quantile_0_625": 18.8,
          "quantile_0_875": 20.4
         },
         {
          "date_start": "2019-08-29T22:10:00+00:00",
          "quantile_0_125": 15.7,
          "quantile_0_375": 17.4,
          "quantile_0_5": 17.9,
          "quantile_0_625": 18.6,
          "quantile_0_875": 20.3
         },
         {
          "date_start": "2019-08-29T22:20:00+00:00",
          "quantile_0_125": 15.6,
          "quantile_0_375": 17.3,
          "quantile_0_5": 17.9,
          "quantile_0_625": 18.6,
          "quantile_0_875": 20.2375
         },
         {
          "date_start": "2019-08-29T22:30:00+00:00",
          "quantile_0_125": 15.5,
          "quantile_0_375": 17.1875,
          "quantile_0_5": 17.8,
          "quantile_0_625": 18.5,
          "quantile_0_875": 20.2
         },
         {
          "date_start": "2019-08-29T22:40:00+00:00",
          "quantile_0_125": 15.4,
          "quantile_0_375": 17.1,
          "quantile_0_5": 17.8,
          "quantile_0_625": 18.4,
          "quantile_0_875": 20.1
         },
         {
          "date_start": "2019-08-29T22:50:00+00:00",
          "quantile_0_125": 15.3,
          "quantile_0_375": 17,
          "quantile_0_5": 17.7,
          "quantile_0_625": 18.3,
          "quantile_0_875": 20.0375
         },
         {
          "date_start": "2019-08-29T23:00:00+00:00",
          "quantile_0_125": 15.3,
          "quantile_0_375": 16.9,
          "quantile_0_5": 17.6,
          "quantile_0_625": 18.2,
          "quantile_0_875": 19.9
         },
         {
          "date_start": "2019-08-29T23:10:00+00:00",
          "quantile_0_125": 15.3,
          "quantile_0_375": 16.8,
          "quantile_0_5": 17.5,
          "quantile_0_625": 18.1,
          "quantile_0_875": 19.8375
         },
         {
          "date_start": "2019-08-29T23:20:00+00:00",
          "quantile_0_125": 15.0625,
          "quantile_0_375": 16.7,
          "quantile_0_5": 17.4,
          "quantile_0_625": 18.1,
          "quantile_0_875": 19.8
         },
         {
          "date_start": "2019-08-29T23:30:00+00:00",
          "quantile_0_125": 15,
          "quantile_0_375": 16.5,
          "quantile_0_5": 17.3,
          "quantile_0_625": 18,
          "quantile_0_875": 19.7
         },
         {
          "date_start": "2019-08-29T23:40:00+00:00",
          "quantile_0_125": 15,
          "quantile_0_375": 16.4875,
          "quantile_0_5": 17.1,
          "quantile_0_625": 17.8,
          "quantile_0_875": 19.7
         },
         {
          "date_start": "2019-08-29T23:50:00+00:00",
          "quantile_0_125": 14.9,
          "quantile_0_375": 16.4,
          "quantile_0_5": 17,
          "quantile_0_625": 17.7125,
          "quantile_0_875": 19.5
         },
         {
          "date_start": "2019-08-30T00:00:00+00:00",
          "quantile_0_125": 14.8,
          "quantile_0_375": 16.3,
          "quantile_0_5": 17,
          "quantile_0_625": 17.6,
          "quantile_0_875": 19.424999999999997
         },
         {
          "date_start": "2019-08-30T00:10:00+00:00",
          "quantile_0_125": 14.7,
          "quantile_0_375": 16.2,
          "quantile_0_5": 16.9,
          "quantile_0_625": 17.6,
          "quantile_0_875": 19.325000000000003
         },
         {
          "date_start": "2019-08-30T00:20:00+00:00",
          "quantile_0_125": 14.775000000000002,
          "quantile_0_375": 16.2,
          "quantile_0_5": 16.9,
          "quantile_0_625": 17.5,
          "quantile_0_875": 19.3
         },
         {
          "date_start": "2019-08-30T00:30:00+00:00",
          "quantile_0_125": 14.6,
          "quantile_0_375": 16,
          "quantile_0_5": 16.8,
          "quantile_0_625": 17.5,
          "quantile_0_875": 19.2
         },
         {
          "date_start": "2019-08-30T00:40:00+00:00",
          "quantile_0_125": 14.6,
          "quantile_0_375": 16,
          "quantile_0_5": 16.7,
          "quantile_0_625": 17.3,
          "quantile_0_875": 19.125
         },
         {
          "date_start": "2019-08-30T00:50:00+00:00",
          "quantile_0_125": 14.5,
          "quantile_0_375": 16,
          "quantile_0_5": 16.6,
          "quantile_0_625": 17.2,
          "quantile_0_875": 19
         },
         {
          "date_start": "2019-08-30T01:00:00+00:00",
          "quantile_0_125": 14.5,
          "quantile_0_375": 16,
          "quantile_0_5": 16.5,
          "quantile_0_625": 17.1,
          "quantile_0_875": 19
         },
         {
          "date_start": "2019-08-30T01:10:00+00:00",
          "quantile_0_125": 14.275000000000002,
          "quantile_0_375": 15.825000000000001,
          "quantile_0_5": 16.4,
          "quantile_0_625": 17.2,
          "quantile_0_875": 19
         },
         {
          "date_start": "2019-08-30T01:20:00+00:00",
          "quantile_0_125": 14.2,
          "quantile_0_375": 15.8,
          "quantile_0_5": 16.4,
          "quantile_0_625": 17.1,
          "quantile_0_875": 18.9
         },
         {
          "date_start": "2019-08-30T01:30:00+00:00",
          "quantile_0_125": 14.2,
          "quantile_0_375": 15.7,
          "quantile_0_5": 16.4,
          "quantile_0_625": 17.1,
          "quantile_0_875": 18.7
         },
         {
          "date_start": "2019-08-30T01:40:00+00:00",
          "quantile_0_125": 14.1,
          "quantile_0_375": 15.6,
          "quantile_0_5": 16.3,
          "quantile_0_625": 17,
          "quantile_0_875": 18.6
         },
         {
          "date_start": "2019-08-30T01:50:00+00:00",
          "quantile_0_125": 14.1,
          "quantile_0_375": 15.6,
          "quantile_0_5": 16.3,
          "quantile_0_625": 17,
          "quantile_0_875": 18.625
         },
         {
          "date_start": "2019-08-30T02:00:00+00:00",
          "quantile_0_125": 14.075,
          "quantile_0_375": 15.5,
          "quantile_0_5": 16.2,
          "quantile_0_625": 16.875,
          "quantile_0_875": 18.6
         },
         {
          "date_start": "2019-08-30T02:10:00+00:00",
          "quantile_0_125": 14,
          "quantile_0_375": 15.4,
          "quantile_0_5": 16.1,
          "quantile_0_625": 16.7,
          "quantile_0_875": 18.4
         },
         {
          "date_start": "2019-08-30T02:20:00+00:00",
          "quantile_0_125": 13.9,
          "quantile_0_375": 15.4,
          "quantile_0_5": 16.1,
          "quantile_0_625": 16.674999999999997,
          "quantile_0_875": 18.325000000000003
         },
         {
          "date_start": "2019-08-30T02:30:00+00:00",
          "quantile_0_125": 13.8,
          "quantile_0_375": 15.3,
          "quantile_0_5": 16,
          "quantile_0_625": 16.6,
          "quantile_0_875": 18.3
         },
         {
          "date_start": "2019-08-30T02:40:00+00:00",
          "quantile_0_125": 13.7,
          "quantile_0_375": 15.3,
          "quantile_0_5": 15.9,
          "quantile_0_625": 16.6,
          "quantile_0_875": 18.1
         },
         {
          "date_start": "2019-08-30T02:50:00+00:00",
          "quantile_0_125": 13.7,
          "quantile_0_375": 15.2,
          "quantile_0_5": 15.9,
          "quantile_0_625": 16.5,
          "quantile_0_875": 18.1
         },
         {
          "date_start": "2019-08-30T03:00:00+00:00",
          "quantile_0_125": 13.7,
          "quantile_0_375": 15.2,
          "quantile_0_5": 15.9,
          "quantile_0_625": 16.5,
          "quantile_0_875": 18
         },
         {
          "date_start": "2019-08-30T03:10:00+00:00",
          "quantile_0_125": 13.6,
          "quantile_0_375": 15.1,
          "quantile_0_5": 15.8,
          "quantile_0_625": 16.4,
          "quantile_0_875": 18
         },
         {
          "date_start": "2019-08-30T03:20:00+00:00",
          "quantile_0_125": 13.5,
          "quantile_0_375": 15.1,
          "quantile_0_5": 15.8,
          "quantile_0_625": 16.4,
          "quantile_0_875": 17.9
         },
         {
          "date_start": "2019-08-30T03:30:00+00:00",
          "quantile_0_125": 13.575,
          "quantile_0_375": 15.025,
          "quantile_0_5": 15.7,
          "quantile_0_625": 16.4,
          "quantile_0_875": 17.8
         },
         {
          "date_start": "2019-08-30T03:40:00+00:00",
          "quantile_0_125": 13.5,
          "quantile_0_375": 14.9,
          "quantile_0_5": 15.6,
          "quantile_0_625": 16.3,
          "quantile_0_875": 17.8
         },
         {
          "date_start": "2019-08-30T03:50:00+00:00",
          "quantile_0_125": 13.4,
          "quantile_0_375": 14.9,
          "quantile_0_5": 15.6,
          "quantile_0_625": 16.3,
          "quantile_0_875": 17.8
         },
         {
          "date_start": "2019-08-30T04:00:00+00:00",
          "quantile_0_125": 13.3,
          "quantile_0_375": 14.9,
          "quantile_0_5": 15.6,
          "quantile_0_625": 16.3,
          "quantile_0_875": 17.7
         },
         {
          "date_start": "2019-08-30T04:10:00+00:00",
          "quantile_0_125": 13.3,
          "quantile_0_375": 14.7,
          "quantile_0_5": 15.5,
          "quantile_0_625": 16.2,
          "quantile_0_875": 17.7
         },
         {
          "date_start": "2019-08-30T04:20:00+00:00",
          "quantile_0_125": 13.075,
          "quantile_0_375": 14.7,
          "quantile_0_5": 15.5,
          "quantile_0_625": 16.2,
          "quantile_0_875": 17.625
         },
         {
          "date_start": "2019-08-30T04:30:00+00:00",
          "quantile_0_125": 13.174999999999999,
          "quantile_0_375": 14.8,
          "quantile_0_5": 15.4,
          "quantile_0_625": 16.174999999999997,
          "quantile_0_875": 17.7
         },
         {
          "date_start": "2019-08-30T04:40:00+00:00",
          "quantile_0_125": 13.2,
          "quantile_0_375": 14.724999999999998,
          "quantile_0_5": 15.4,
          "quantile_0_625": 16.2,
          "quantile_0_875": 17.7
         },
         {
          "date_start": "2019-08-30T04:50:00+00:00",
          "quantile_0_125": 13.2,
          "quantile_0_375": 14.8,
          "quantile_0_5": 15.4,
          "quantile_0_625": 16.2,
          "quantile_0_875": 17.6
         },
         {
          "date_start": "2019-08-30T05:00:00+00:00",
          "quantile_0_125": 13.375,
          "quantile_0_375": 14.8,
          "quantile_0_5": 15.5,
          "quantile_0_625": 16.275000000000002,
          "quantile_0_875": 17.6
         },
         {
          "date_start": "2019-08-30T05:10:00+00:00",
          "quantile_0_125": 13.4,
          "quantile_0_375": 15,
          "quantile_0_5": 15.7,
          "quantile_0_625": 16.375,
          "quantile_0_875": 17.7
         },
         {
          "date_start": "2019-08-30T05:20:00+00:00",
          "quantile_0_125": 13.6,
          "quantile_0_375": 15.1,
          "quantile_0_5": 15.8,
          "quantile_0_625": 16.5,
          "quantile_0_875": 17.9
         },
         {
          "date_start": "2019-08-30T05:30:00+00:00",
          "quantile_0_125": 13.9,
          "quantile_0_375": 15.325000000000001,
          "quantile_0_5": 16,
          "quantile_0_625": 16.6,
          "quantile_0_875": 18.025
         },
         {
          "date_start": "2019-08-30T05:40:00+00:00",
          "quantile_0_125": 14.2,
          "quantile_0_375": 15.6,
          "quantile_0_5": 16.3,
          "quantile_0_625": 16.9,
          "quantile_0_875": 18.3
         },
         {
          "date_start": "2019-08-30T05:50:00+00:00",
          "quantile_0_125": 14.5,
          "quantile_0_375": 15.9,
          "quantile_0_5": 16.6,
          "quantile_0_625": 17.2,
          "quantile_0_875": 18.6
         },
         {
          "date_start": "2019-08-30T06:00:00+00:00",
          "quantile_0_125": 14.875,
          "quantile_0_375": 16.3,
          "quantile_0_5": 16.9,
          "quantile_0_625": 17.4,
          "quantile_0_875": 19.125
         },
         {
          "date_start": "2019-08-30T06:10:00+00:00",
          "quantile_0_125": 15.1,
          "quantile_0_375": 16.7,
          "quantile_0_5": 17.3,
          "quantile_0_625": 17.8,
          "quantile_0_875": 19.525
         },
         {
          "date_start": "2019-08-30T06:20:00+00:00",
          "quantile_0_125": 15.6,
          "quantile_0_375": 17.1,
          "quantile_0_5": 17.6,
          "quantile_0_625": 18.2,
          "quantile_0_875": 19.724999999999998
         },
         {
          "date_start": "2019-08-30T06:30:00+00:00",
          "quantile_0_125": 15.9,
          "quantile_0_375": 17.4,
          "quantile_0_5": 18,
          "quantile_0_625": 18.575000000000003,
          "quantile_0_875": 20.2
         },
         {
          "date_start": "2019-08-30T06:40:00+00:00",
          "quantile_0_125": 16.2,
          "quantile_0_375": 17.8,
          "quantile_0_5": 18.5,
          "quantile_0_625": 19,
          "quantile_0_875": 20.5
         },
         {
          "date_start": "2019-08-30T06:50:00+00:00",
          "quantile_0_125": 16.6,
          "quantile_0_375": 18.2,
          "quantile_0_5": 18.9,
          "quantile_0_625": 19.375,
          "quantile_0_875": 20.9
         },
         {
          "date_start": "2019-08-30T07:00:00+00:00",
          "quantile_0_125": 16.9,
          "quantile_0_375": 18.525,
          "quantile_0_5": 19.3,
          "quantile_0_625": 19.7,
          "quantile_0_875": 21.025
         },
         {
          "date_start": "2019-08-30T07:10:00+00:00",
          "quantile_0_125": 17.375,
          "quantile_0_375": 18.8,
          "quantile_0_5": 19.6,
          "quantile_0_625": 20.1,
          "quantile_0_875": 21.625000000000004
         },
         {
          "date_start": "2019-08-30T07:20:00+00:00",
          "quantile_0_125": 17.6,
          "quantile_0_375": 19.1,
          "quantile_0_5": 19.9,
          "quantile_0_625": 20.5,
          "quantile_0_875": 21.825000000000003
         },
         {
          "date_start": "2019-08-30T07:30:00+00:00",
          "quantile_0_125": 18,
          "quantile_0_375": 19.4,
          "quantile_0_5": 20.2,
          "quantile_0_625": 20.8,
          "quantile_0_875": 22.2
         },
         {
          "date_start": "2019-08-30T07:40:00+00:00",
          "quantile_0_125": 18.3,
          "quantile_0_375": 19.8,
          "quantile_0_5": 20.6,
          "quantile_0_625": 21.1,
          "quantile_0_875": 22.525
         },
         {
          "date_start": "2019-08-30T07:50:00+00:00",
          "quantile_0_125": 18.575000000000003,
          "quantile_0_375": 20.1,
          "quantile_0_5": 20.8,
          "quantile_0_625": 21.5,
          "quantile_0_875": 22.9
         },
         {
          "date_start": "2019-08-30T08:00:00+00:00",
          "quantile_0_125": 18.8,
          "quantile_0_375": 20.5,
          "quantile_0_5": 21.2,
          "quantile_0_625": 21.8,
          "quantile_0_875": 23.2
         },
         {
          "date_start": "2019-08-30T08:10:00+00:00",
          "quantile_0_125": 19.1,
          "quantile_0_375": 20.8,
          "quantile_0_5": 21.5,
          "quantile_0_625": 22.2,
          "quantile_0_875": 23.6
         },
         {
          "date_start": "2019-08-30T08:20:00+00:00",
          "quantile_0_125": 19.3,
          "quantile_0_375": 21.2,
          "quantile_0_5": 21.8,
          "quantile_0_625": 22.575000000000003,
          "quantile_0_875": 23.9
         },
         {
          "date_start": "2019-08-30T08:30:00+00:00",
          "quantile_0_125": 19.6,
          "quantile_0_375": 21.4,
          "quantile_0_5": 22.1,
          "quantile_0_625": 22.8,
          "quantile_0_875": 24.2
         },
         {
          "date_start": "2019-08-30T08:40:00+00:00",
          "quantile_0_125": 19.7,
          "quantile_0_375": 21.7,
          "quantile_0_5": 22.4,
          "quantile_0_625": 23,
          "quantile_0_875": 24.5
         },
         {
          "date_start": "2019-08-30T08:50:00+00:00",
          "quantile_0_125": 20,
          "quantile_0_375": 22,
          "quantile_0_5": 22.7,
          "quantile_0_625": 23.3,
          "quantile_0_875": 24.7
         },
         {
          "date_start": "2019-08-30T09:00:00+00:00",
          "quantile_0_125": 20.2,
          "quantile_0_375": 22.2,
          "quantile_0_5": 22.95,
          "quantile_0_625": 23.6,
          "quantile_0_875": 24.9
         },
         {
          "date_start": "2019-08-30T09:10:00+00:00",
          "quantile_0_125": 20.3,
          "quantile_0_375": 22.424999999999997,
          "quantile_0_5": 23.2,
          "quantile_0_625": 23.9,
          "quantile_0_875": 25.2
         },
         {
          "date_start": "2019-08-30T09:20:00+00:00",
          "quantile_0_125": 20.5,
          "quantile_0_375": 22.6,
          "quantile_0_5": 23.4,
          "quantile_0_625": 24,
          "quantile_0_875": 25.4
         },
         {
          "date_start": "2019-08-30T09:30:00+00:00",
          "quantile_0_125": 20.7,
          "quantile_0_375": 22.924999999999997,
          "quantile_0_5": 23.7,
          "quantile_0_625": 24.374999999999996,
          "quantile_0_875": 25.7
         },
         {
          "date_start": "2019-08-30T09:40:00+00:00",
          "quantile_0_125": 20.875,
          "quantile_0_375": 23.1,
          "quantile_0_5": 23.9,
          "quantile_0_625": 24.6,
          "quantile_0_875": 26
         },
         {
          "date_start": "2019-08-30T09:50:00+00:00",
          "quantile_0_125": 21.1,
          "quantile_0_375": 23.3,
          "quantile_0_5": 24.1,
          "quantile_0_625": 24.7,
          "quantile_0_875": 26.3
         },
         {
          "date_start": "2019-08-30T10:00:00+00:00",
          "quantile_0_125": 21.2,
          "quantile_0_375": 23.5,
          "quantile_0_5": 24.3,
          "quantile_0_625": 25,
          "quantile_0_875": 26.525
         },
         {
          "date_start": "2019-08-30T10:10:00+00:00",
          "quantile_0_125": 21.5,
          "quantile_0_375": 23.5,
          "quantile_0_5": 24.5,
          "quantile_0_625": 25.2,
          "quantile_0_875": 26.7
         },
         {
          "date_start": "2019-08-30T10:20:00+00:00",
          "quantile_0_125": 21.5,
          "quantile_0_375": 23.7,
          "quantile_0_5": 24.7,
          "quantile_0_625": 25.4,
          "quantile_0_875": 26.9
         },
         {
          "date_start": "2019-08-30T10:30:00+00:00",
          "quantile_0_125": 21.674999999999997,
          "quantile_0_375": 23.9,
          "quantile_0_5": 24.9,
          "quantile_0_625": 25.6,
          "quantile_0_875": 27.1
         },
         {
          "date_start": "2019-08-30T10:40:00+00:00",
          "quantile_0_125": 21.8,
          "quantile_0_375": 24.2,
          "quantile_0_5": 25,
          "quantile_0_625": 25.7,
          "quantile_0_875": 27.224999999999998
         },
         {
          "date_start": "2019-08-30T10:50:00+00:00",
          "quantile_0_125": 22,
          "quantile_0_375": 24.2,
          "quantile_0_5": 25.1,
          "quantile_0_625": 25.8,
          "quantile_0_875": 27.525
         },
         {
          "date_start": "2019-08-30T11:00:00+00:00",
          "quantile_0_125": 22,
          "quantile_0_375": 24.4875,
          "quantile_0_5": 25.3,
          "quantile_0_625": 26.1,
          "quantile_0_875": 27.8
         },
         {
          "date_start": "2019-08-30T11:10:00+00:00",
          "quantile_0_125": 22.2,
          "quantile_0_375": 24.6,
          "quantile_0_5": 25.4,
          "quantile_0_625": 26.2,
          "quantile_0_875": 27.8375
         },
         {
          "date_start": "2019-08-30T11:20:00+00:00",
          "quantile_0_125": 22.3625,
          "quantile_0_375": 24.8,
          "quantile_0_5": 25.55,
          "quantile_0_625": 26.3,
          "quantile_0_875": 28
         },
         {
          "date_start": "2019-08-30T11:30:00+00:00",
          "quantile_0_125": 22.6,
          "quantile_0_375": 24.8875,
          "quantile_0_5": 25.8,
          "quantile_0_625": 26.3125,
          "quantile_0_875": 28.1
         },
         {
          "date_start": "2019-08-30T11:40:00+00:00",
          "quantile_0_125": 22.7,
          "quantile_0_375": 25,
          "quantile_0_5": 25.9,
          "quantile_0_625": 26.6,
          "quantile_0_875": 28.2
         },
         {
          "date_start": "2019-08-30T11:50:00+00:00",
          "quantile_0_125": 22.7625,
          "quantile_0_375": 25.1,
          "quantile_0_5": 25.85,
          "quantile_0_625": 26.7,
          "quantile_0_875": 28.4
         },
         {
          "date_start": "2019-08-30T12:00:00+00:00",
          "quantile_0_125": 22.9,
          "quantile_0_375": 25.2,
          "quantile_0_5": 26,
          "quantile_0_625": 26.8,
          "quantile_0_875": 28.6
         },
         {
          "date_start": "2019-08-30T12:10:00+00:00",
          "quantile_0_125": 22.9,
          "quantile_0_375": 25.287499999999998,
          "quantile_0_5": 26.05,
          "quantile_0_625": 26.9,
          "quantile_0_875": 28.6
         },
         {
          "date_start": "2019-08-30T12:20:00+00:00",
          "quantile_0_125": 23.2,
          "quantile_0_375": 25.224999999999998,
          "quantile_0_5": 26.1,
          "quantile_0_625": 26.9,
          "quantile_0_875": 28.8
         },
         {
          "date_start": "2019-08-30T12:30:00+00:00",
          "quantile_0_125": 23.3,
          "quantile_0_375": 25.3,
          "quantile_0_5": 26.3,
          "quantile_0_625": 27.1,
          "quantile_0_875": 28.825000000000003
         },
         {
          "date_start": "2019-08-30T12:40:00+00:00",
          "quantile_0_125": 23.275000000000002,
          "quantile_0_375": 25.424999999999997,
          "quantile_0_5": 26.3,
          "quantile_0_625": 27.1,
          "quantile_0_875": 28.825000000000003
         },
         {
          "date_start": "2019-08-30T12:50:00+00:00",
          "quantile_0_125": 23.4,
          "quantile_0_375": 25.5,
          "quantile_0_5": 26.4,
          "quantile_0_625": 27.2,
          "quantile_0_875": 28.924999999999997
         },
         {
          "date_start": "2019-08-30T13:00:00+00:00",
          "quantile_0_125": 23.4,
          "quantile_0_375": 25.5,
          "quantile_0_5": 26.5,
          "quantile_0_625": 27.3,
          "quantile_0_875": 29.1
         },
         {
          "date_start": "2019-08-30T13:10:00+00:00",
          "quantile_0_125": 23.4,
          "quantile_0_375": 25.7,
          "quantile_0_5": 26.5,
          "quantile_0_625": 27.3,
          "quantile_0_875": 29.125000000000004
         },
         {
          "date_start": "2019-08-30T13:20:00+00:00",
          "quantile_0_125": 23.575000000000003,
          "quantile_0_375": 25.7,
          "quantile_0_5": 26.6,
          "quantile_0_625": 27.4,
          "quantile_0_875": 29.3
         },
         {
          "date_start": "2019-08-30T13:30:00+00:00",
          "quantile_0_125": 23.6625,
          "quantile_0_375": 25.7,
          "quantile_0_5": 26.6,
          "quantile_0_625": 27.6,
          "quantile_0_875": 29.3
         },
         {
          "date_start": "2019-08-30T13:40:00+00:00",
          "quantile_0_125": 23.6,
          "quantile_0_375": 25.7,
          "quantile_0_5": 26.7,
          "quantile_0_625": 27.6,
          "quantile_0_875": 29.3
         },
         {
          "date_start": "2019-08-30T13:50:00+00:00",
          "quantile_0_125": 23.6625,
          "quantile_0_375": 25.7,
          "quantile_0_5": 26.7,
          "quantile_0_625": 27.6,
          "quantile_0_875": 29.3
         }
        ]
       },
       "layer": [
        {
         "encoding": {
          "x": {
           "axis": {
            "title": "Date"
           },
           "field": "date_start",
           "type": "temporal"
          },
          "y": {
           "axis": {
            "title": "°C"
           },
           "field": "quantile_0_125",
           "scale": {
            "zero": false
           },
           "type": "quantitative"
          },
          "y2": {
           "field": "quantile_0_875"
          }
         },
         "mark": {
          "opacity": 0.25,
          "type": "area"
         }
        },
        {
         "encoding": {
          "x": {
           "field": "date_start",
           "type": "temporal"
          },
          "y": {
           "field": "quantile_0_375",
           "type": "quantitative"
          },
          "y2": {
           "field": "quantile_0_625"
          }
         },
         "mark": {
          "opacity": 0.5,
          "type": "area"
         }
        },
        {
         "encoding": {
          "x": {
           "field": "date_start",
           "type": "temporal"
          },
          "y": {
           "axis": {
            "title": "°C"
           },
           "field": "quantile_0_5",
           "scale": {
            "zero": false
           },
           "type": "quantitative"
          }
         },
         "mark": "line"
        }
       ],
       "title": "Median Recorded Temperature in Germany"
      },
      "image/png": "[encoded data removed]",
      "text/plain": [
       "<VegaLite 3 object>\n",
       "\n",
       "If you see this message, it means the renderer has not been properly enabled\n",
       "for the frontend that you are using. For more information, see\n",
       "https://altair-viz.github.io/user_guide/troubleshooting.html\n"
      ]
     },
     "execution_count": 10,
     "metadata": {},
     "output_type": "execute_result"
    }
   ],
   "source": [
    "(p_range_1 + p_range_2 + p_median) \\\n",
    "    .configure_view(height=500, width=750) \\\n",
    "    .properties(title=\"Median Recorded Temperature in Germany\")"
   ]
  },
  {
   "cell_type": "code",
   "execution_count": 11,
   "metadata": {},
   "outputs": [],
   "source": [
    "df_stations = observations.get_stations(resolution, parameter)"
   ]
  },
  {
   "cell_type": "code",
   "execution_count": 12,
   "metadata": {},
   "outputs": [],
   "source": [
    "# Subset stations with data\n",
    "df_stations = df_stations[df_stations.station_id.isin(df.station_id.tolist())]"
   ]
  },
  {
   "cell_type": "code",
   "execution_count": 15,
   "metadata": {},
   "outputs": [
    {
     "data": {
      "application/vnd.vegalite.v3+json": {
       "$schema": "https://vega.github.io/schema/vega-lite/v3.4.0.json",
       "config": {
        "mark": {
         "tooltip": null
        },
        "view": {
         "height": 300,
         "width": 400
        }
       },
       "datasets": {
        "data-ffda33a12366972b67c4c07cf2c10025": [
         {
          "date_end": "2019-08-30T00:00:00+00:00",
          "date_start": "2007-02-08T00:00:00+00:00",
          "geo_lat": 52.9336,
          "geo_lon": 8.237,
          "height": 44,
          "name": "Großenkneten",
          "state": "Niedersachsen",
          "station_id": "00044"
         },
         {
          "date_end": "2019-08-30T00:00:00+00:00",
          "date_start": "2009-10-26T00:00:00+00:00",
          "geo_lat": 48.2156,
          "geo_lon": 8.9784,
          "height": 759,
          "name": "Albstadt-Badkap",
          "state": "Baden-Württemberg",
          "station_id": "00071"
         },
         {
          "date_end": "2019-08-30T00:00:00+00:00",
          "date_start": "2007-02-13T00:00:00+00:00",
          "geo_lat": 48.6159,
          "geo_lon": 13.0506,
          "height": 340,
          "name": "Aldersbach-Kriestorf",
          "state": "Bayern",
          "station_id": "00073"
         },
         {
          "date_end": "2019-08-30T00:00:00+00:00",
          "date_start": "2004-10-10T00:00:00+00:00",
          "geo_lat": 52.4853,
          "geo_lon": 7.9126,
          "height": 65,
          "name": "Alfhausen",
          "state": "Niedersachsen",
          "station_id": "00078"
         },
         {
          "date_end": "2019-08-30T00:00:00+00:00",
          "date_start": "2002-08-19T00:00:00+00:00",
          "geo_lat": 50.7446,
          "geo_lon": 9.345,
          "height": 300,
          "name": "Alsfeld-Eifa",
          "state": "Hessen",
          "station_id": "00091"
         },
         {
          "date_end": "2019-08-30T00:00:00+00:00",
          "date_start": "2019-04-09T00:00:00+00:00",
          "geo_lat": 52.9437,
          "geo_lon": 12.8518,
          "height": 50,
          "name": "Neuruppin-Alt Ruppin",
          "state": "Brandenburg",
          "station_id": "00096"
         },
         {
          "date_end": "2019-08-30T00:00:00+00:00",
          "date_start": "2004-09-07T00:00:00+00:00",
          "geo_lat": 51.0881,
          "geo_lon": 12.9326,
          "height": 296,
          "name": "Geringswalde-Altgeringswalde",
          "state": "Sachsen",
          "station_id": "00131"
         },
         {
          "date_end": "2019-08-30T00:00:00+00:00",
          "date_start": "2005-10-25T00:00:00+00:00",
          "geo_lat": 48.406,
          "geo_lon": 11.3117,
          "height": 510,
          "name": "Altomünster-Maisbrunn",
          "state": "Bayern",
          "station_id": "00142"
         },
         {
          "date_end": "2019-08-30T00:00:00+00:00",
          "date_start": "2004-09-05T00:00:00+00:00",
          "geo_lat": 49.7273,
          "geo_lon": 8.1164,
          "height": 215,
          "name": "Alzey",
          "state": "Rheinland-Pfalz",
          "station_id": "00150"
         },
         {
          "date_end": "2019-08-30T00:00:00+00:00",
          "date_start": "2004-11-23T00:00:00+00:00",
          "geo_lat": 49.4691,
          "geo_lon": 11.8546,
          "height": 383,
          "name": "Amberg-Unterammersricht",
          "state": "Bayern",
          "station_id": "00151"
         },
         {
          "date_end": "2019-08-30T00:00:00+00:00",
          "date_start": "2005-01-12T00:00:00+00:00",
          "geo_lat": 48.0197,
          "geo_lon": 12.2924,
          "height": 515,
          "name": "Amerang-Pfaffing",
          "state": "Bayern",
          "station_id": "00154"
         },
         {
          "date_end": "2019-08-30T00:00:00+00:00",
          "date_start": "2011-08-30T00:00:00+00:00",
          "geo_lat": 50.4237,
          "geo_lon": 7.4202,
          "height": 75,
          "name": "Andernach",
          "state": "Rheinland-Pfalz",
          "station_id": "00161"
         },
         {
          "date_end": "2019-08-30T00:00:00+00:00",
          "date_start": "1991-10-31T00:00:00+00:00",
          "geo_lat": 53.0316,
          "geo_lon": 13.9908,
          "height": 54,
          "name": "Angermünde",
          "state": "Brandenburg",
          "station_id": "00164"
         },
         {
          "date_end": "2019-08-30T00:00:00+00:00",
          "date_start": "2004-05-31T00:00:00+00:00",
          "geo_lat": 53.8412,
          "geo_lon": 13.6846,
          "height": 9,
          "name": "Anklam",
          "state": "Mecklenburg-Vorpommern",
          "station_id": "00167"
         },
         {
          "date_end": "2019-08-30T00:00:00+00:00",
          "date_start": "1991-11-01T00:00:00+00:00",
          "geo_lat": 54.6792,
          "geo_lon": 13.4343,
          "height": 42,
          "name": "Arkona",
          "state": "Mecklenburg-Vorpommern",
          "station_id": "00183"
         },
         {
          "date_end": "2019-08-30T00:00:00+00:00",
          "date_start": "2004-11-03T00:00:00+00:00",
          "geo_lat": 49.9695,
          "geo_lon": 9.9113,
          "height": 220,
          "name": "Arnstein-Müdesheim",
          "state": "Bayern",
          "station_id": "00191"
         },
         {
          "date_end": "2019-08-30T00:00:00+00:00",
          "date_start": "1991-10-31T00:00:00+00:00",
          "geo_lat": 51.3745,
          "geo_lon": 11.292,
          "height": 164,
          "name": "Artern",
          "state": "Thüringen",
          "station_id": "00198"
         },
         {
          "date_end": "2019-08-30T00:00:00+00:00",
          "date_start": "2004-11-16T00:00:00+00:00",
          "geo_lat": 47.8774,
          "geo_lon": 11.3642,
          "height": 672,
          "name": "Attenkam",
          "state": "Bayern",
          "station_id": "00217"
         },
         {
          "date_end": "2019-08-30T00:00:00+00:00",
          "date_start": "1991-11-01T00:00:00+00:00",
          "geo_lat": 50.5907,
          "geo_lon": 12.714,
          "height": 387,
          "name": "Aue",
          "state": "Sachsen",
          "station_id": "00222"
         },
         {
          "date_end": "2019-08-30T00:00:00+00:00",
          "date_start": "1996-11-07T00:00:00+00:00",
          "geo_lat": 48.4254,
          "geo_lon": 10.942,
          "height": 461,
          "name": "Augsburg",
          "state": "Bayern",
          "station_id": "00232"
         },
         {
          "date_end": "2019-08-30T00:00:00+00:00",
          "date_start": "2002-09-08T00:00:00+00:00",
          "geo_lat": 48.727,
          "geo_lon": 8.2458,
          "height": 240,
          "name": "Baden-Baden-Geroldsau",
          "state": "Baden-Württemberg",
          "station_id": "00257"
         },
         {
          "date_end": "2019-08-30T00:00:00+00:00",
          "date_start": "2003-03-24T00:00:00+00:00",
          "geo_lat": 47.8064,
          "geo_lon": 7.6387,
          "height": 273,
          "name": "Müllheim",
          "state": "Baden-Württemberg",
          "station_id": "00259"
         },
         {
          "date_end": "2019-08-30T00:00:00+00:00",
          "date_start": "1995-05-31T00:00:00+00:00",
          "geo_lat": 49.8742,
          "geo_lon": 10.9206,
          "height": 240,
          "name": "Bamberg",
          "state": "Bayern",
          "station_id": "00282"
         },
         {
          "date_end": "2019-08-30T00:00:00+00:00",
          "date_start": "2004-04-22T00:00:00+00:00",
          "geo_lat": 52.3199,
          "geo_lon": 9.43,
          "height": 110,
          "name": "Barsinghausen-Hohenbostel",
          "state": "Niedersachsen",
          "station_id": "00294"
         },
         {
          "date_end": "2019-08-30T00:00:00+00:00",
          "date_start": "1991-10-31T00:00:00+00:00",
          "geo_lat": 54.3406,
          "geo_lon": 12.7108,
          "height": 3,
          "name": "Barth",
          "state": "Mecklenburg-Vorpommern",
          "station_id": "00298"
         },
         {
          "date_end": "2019-08-30T00:00:00+00:00",
          "date_start": "1993-09-01T00:00:00+00:00",
          "geo_lat": 52.0614,
          "geo_lon": 13.4996,
          "height": 55,
          "name": "Baruth",
          "state": "Brandenburg",
          "station_id": "00303"
         },
         {
          "date_end": "2019-08-30T00:00:00+00:00",
          "date_start": "2003-07-13T00:00:00+00:00",
          "geo_lat": 51.1604,
          "geo_lon": 14.5042,
          "height": 232,
          "name": "Kubschütz, Kr. Bautzen",
          "state": "Sachsen",
          "station_id": "00314"
         },
         {
          "date_end": "2019-08-30T00:00:00+00:00",
          "date_start": "2006-05-10T00:00:00+00:00",
          "geo_lat": 49.9667,
          "geo_lon": 11.5197,
          "height": 350,
          "name": "Heinersreuth-Vollhof",
          "state": "Bayern",
          "station_id": "00320"
         },
         {
          "date_end": "2019-08-30T00:00:00+00:00",
          "date_start": "2004-06-08T00:00:00+00:00",
          "geo_lat": 49.5617,
          "geo_lon": 8.9673,
          "height": 450,
          "name": "Oberzent-Beerfelden",
          "state": "Hessen",
          "station_id": "00330"
         },
         {
          "date_end": "2019-08-30T00:00:00+00:00",
          "date_start": "2010-11-30T00:00:00+00:00",
          "geo_lat": 52.317,
          "geo_lon": 8.1694,
          "height": 103,
          "name": "Belm",
          "state": "Niedersachsen",
          "station_id": "00342"
         },
         {
          "date_end": "2019-08-30T00:00:00+00:00",
          "date_start": "2003-03-13T00:00:00+00:00",
          "geo_lat": 49.107,
          "geo_lon": 7.9967,
          "height": 210,
          "name": "Bergzabern, Bad",
          "state": "Rheinland-Pfalz",
          "station_id": "00377"
         },
         {
          "date_end": "2019-08-30T00:00:00+00:00",
          "date_start": "2017-08-07T00:00:00+00:00",
          "geo_lat": 50.9074,
          "geo_lon": 11.2665,
          "height": 303,
          "name": "Berka, Bad (Flugplatz)",
          "state": "Thüringen",
          "station_id": "00379"
         },
         {
          "date_end": "2019-08-30T00:00:00+00:00",
          "date_start": "2003-01-22T00:00:00+00:00",
          "geo_lat": 50.9837,
          "geo_lon": 8.3683,
          "height": 610,
          "name": "Berleburg, Bad-Stünzel",
          "state": "Nordrhein-Westfalen",
          "station_id": "00390"
         },
         {
          "date_end": "2019-08-30T00:00:00+00:00",
          "date_start": "2003-06-09T00:00:00+00:00",
          "geo_lat": 52.6309,
          "geo_lon": 13.5022,
          "height": 60,
          "name": "Berlin-Buch",
          "state": "Berlin",
          "station_id": "00400"
         },
         {
          "date_end": "2019-08-30T00:00:00+00:00",
          "date_start": "2007-06-27T00:00:00+00:00",
          "geo_lat": 52.5447,
          "geo_lon": 13.5598,
          "height": 60,
          "name": "Berlin-Marzahn",
          "state": "Berlin",
          "station_id": "00420"
         },
         {
          "date_end": "2019-08-30T00:00:00+00:00",
          "date_start": "1991-10-31T00:00:00+00:00",
          "geo_lat": 52.3807,
          "geo_lon": 13.5306,
          "height": 46,
          "name": "Berlin-Schönefeld",
          "state": "Brandenburg",
          "station_id": "00427"
         },
         {
          "date_end": "2019-08-30T00:00:00+00:00",
          "date_start": "1994-12-22T00:00:00+00:00",
          "geo_lat": 52.5644,
          "geo_lon": 13.3088,
          "height": 36,
          "name": "Berlin-Tegel",
          "state": "Berlin",
          "station_id": "00430"
         },
         {
          "date_end": "2019-08-30T00:00:00+00:00",
          "date_start": "1995-05-31T00:00:00+00:00",
          "geo_lat": 52.4675,
          "geo_lon": 13.4021,
          "height": 48,
          "name": "Berlin-Tempelhof",
          "state": "Berlin",
          "station_id": "00433"
         },
         {
          "date_end": "2019-08-30T00:00:00+00:00",
          "date_start": "2003-05-27T00:00:00+00:00",
          "geo_lat": 51.8218,
          "geo_lon": 11.7109,
          "height": 84,
          "name": "Bernburg/Saale (Nord)",
          "state": "Sachsen-Anhalt",
          "station_id": "00445"
         },
         {
          "date_end": "2019-08-30T00:00:00+00:00",
          "date_start": "1993-09-30T00:00:00+00:00",
          "geo_lat": 49.264,
          "geo_lon": 6.6868,
          "height": 363,
          "name": "Berus",
          "state": "Saarland",
          "station_id": "00460"
         },
         {
          "date_end": "2019-08-30T00:00:00+00:00",
          "date_start": "2003-04-23T00:00:00+00:00",
          "geo_lat": 50.0372,
          "geo_lon": 7.3079,
          "height": 417,
          "name": "Blankenrath",
          "state": "Rheinland-Pfalz",
          "station_id": "00535"
         },
         {
          "date_end": "2019-08-30T00:00:00+00:00",
          "date_start": "1991-10-31T00:00:00+00:00",
          "geo_lat": 53.3911,
          "geo_lon": 10.6878,
          "height": 45,
          "name": "Boizenburg",
          "state": "Mecklenburg-Vorpommern",
          "station_id": "00591"
         },
         {
          "date_end": "2019-08-30T00:00:00+00:00",
          "date_start": "1991-11-06T00:00:00+00:00",
          "geo_lat": 54.0028,
          "geo_lon": 11.1908,
          "height": 15,
          "name": "Boltenhagen",
          "state": "Mecklenburg-Vorpommern",
          "station_id": "00596"
         },
         {
          "date_end": "2019-08-30T00:00:00+00:00",
          "date_start": "2007-10-25T00:00:00+00:00",
          "geo_lat": 50.7349,
          "geo_lon": 7.1931,
          "height": 159,
          "name": "Bonn-Roleber",
          "state": "Nordrhein-Westfalen",
          "station_id": "00603"
         },
         {
          "date_end": "2019-08-30T00:00:00+00:00",
          "date_start": "2003-01-22T00:00:00+00:00",
          "geo_lat": 51.873,
          "geo_lon": 6.8863,
          "height": 47,
          "name": "Borken in Westfalen",
          "state": "Nordrhein-Westfalen",
          "station_id": "00617"
         },
         {
          "date_end": "2019-08-30T00:00:00+00:00",
          "date_start": "1991-08-08T00:00:00+00:00",
          "geo_lat": 51.7234,
          "geo_lon": 10.6021,
          "height": 607,
          "name": "Braunlage",
          "state": "Niedersachsen",
          "station_id": "00656"
         },
         {
          "date_end": "2019-08-30T00:00:00+00:00",
          "date_start": "1997-07-01T00:00:00+00:00",
          "geo_lat": 52.2915,
          "geo_lon": 10.4464,
          "height": 81,
          "name": "Braunschweig",
          "state": "Niedersachsen",
          "station_id": "00662"
         },
         {
          "date_end": "2019-08-30T00:00:00+00:00",
          "date_start": "1991-06-19T00:00:00+00:00",
          "geo_lat": 53.045,
          "geo_lon": 8.7979,
          "height": 4,
          "name": "Bremen",
          "state": "Bremen",
          "station_id": "00691"
         },
         {
          "date_end": "2019-08-30T00:00:00+00:00",
          "date_start": "1997-11-19T00:00:00+00:00",
          "geo_lat": 53.5332,
          "geo_lon": 8.5761,
          "height": 7,
          "name": "Bremerhaven",
          "state": "Bremen",
          "station_id": "00701"
         },
         {
          "date_end": "2019-08-30T00:00:00+00:00",
          "date_start": "2002-07-16T00:00:00+00:00",
          "geo_lat": 53.4451,
          "geo_lon": 9.139,
          "height": 11,
          "name": "Bremervörde",
          "state": "Niedersachsen",
          "station_id": "00704"
         },
         {
          "date_end": "2019-08-30T00:00:00+00:00",
          "date_start": "1997-06-04T00:00:00+00:00",
          "geo_lat": 51.7986,
          "geo_lon": 10.6183,
          "height": 1134,
          "name": "Brocken",
          "state": "Sachsen-Anhalt",
          "station_id": "00722"
         },
         {
          "date_end": "2019-08-30T00:00:00+00:00",
          "date_start": "2004-03-23T00:00:00+00:00",
          "geo_lat": 49.5182,
          "geo_lon": 9.3213,
          "height": 340,
          "name": "Buchen, Kr. Neckar-Odenwald",
          "state": "Baden-Württemberg",
          "station_id": "00755"
         },
         {
          "date_end": "2019-08-30T00:00:00+00:00",
          "date_start": "2003-03-25T00:00:00+00:00",
          "geo_lat": 47.9625,
          "geo_lon": 7.9983,
          "height": 445,
          "name": "Buchenbach",
          "state": "Baden-Württemberg",
          "station_id": "00757"
         },
         {
          "date_end": "2019-08-30T00:00:00+00:00",
          "date_start": "2017-11-23T00:00:00+00:00",
          "geo_lat": 53.3629,
          "geo_lon": 9.9435,
          "height": 82,
          "name": "Rosengarten-Klecken",
          "state": "Niedersachsen",
          "station_id": "00760"
         },
         {
          "date_end": "2019-08-30T00:00:00+00:00",
          "date_start": "2004-09-26T00:00:00+00:00",
          "geo_lat": 51.0306,
          "geo_lon": 8.8146,
          "height": 293,
          "name": "Burgwald-Bottendorf",
          "state": "Hessen",
          "station_id": "00817"
         },
         {
          "date_end": "2019-08-30T00:00:00+00:00",
          "date_start": "1991-11-06T00:00:00+00:00",
          "geo_lat": 50.4313,
          "geo_lon": 12.6114,
          "height": 897,
          "name": "Carlsfeld",
          "state": "Sachsen",
          "station_id": "00840"
         },
         {
          "date_end": "2019-08-30T00:00:00+00:00",
          "date_start": "1991-11-06T00:00:00+00:00",
          "geo_lat": 50.7913,
          "geo_lon": 12.872,
          "height": 418,
          "name": "Chemnitz",
          "state": "Sachsen",
          "station_id": "00853"
         },
         {
          "date_end": "2019-08-30T00:00:00+00:00",
          "date_start": "2003-05-01T00:00:00+00:00",
          "geo_lat": 47.8843,
          "geo_lon": 12.5404,
          "height": 551,
          "name": "Chieming",
          "state": "Bayern",
          "station_id": "00856"
         },
         {
          "date_end": "2019-08-30T00:00:00+00:00",
          "date_start": "1992-02-14T00:00:00+00:00",
          "geo_lat": 50.3066,
          "geo_lon": 10.9679,
          "height": 344,
          "name": "Lautertal-Oberlauter",
          "state": "Bayern",
          "station_id": "00867"
         },
         {
          "date_end": "2019-08-30T00:00:00+00:00",
          "date_start": "1991-10-31T00:00:00+00:00",
          "geo_lat": 51.776,
          "geo_lon": 14.3168,
          "height": 69,
          "name": "Cottbus",
          "state": "Brandenburg",
          "station_id": "00880"
         },
         {
          "date_end": "2019-08-30T00:00:00+00:00",
          "date_start": "1999-04-28T00:00:00+00:00",
          "geo_lat": 53.8713,
          "geo_lon": 8.7058,
          "height": 5,
          "name": "Cuxhaven",
          "state": "Niedersachsen",
          "station_id": "00891"
         },
         {
          "date_end": "2019-08-30T00:00:00+00:00",
          "date_start": "2003-06-10T00:00:00+00:00",
          "geo_lat": 51.0778,
          "geo_lon": 10.8619,
          "height": 170,
          "name": "Dachwig",
          "state": "Thüringen",
          "station_id": "00896"
         },
         {
          "date_end": "2019-08-30T00:00:00+00:00",
          "date_start": "2004-07-12T00:00:00+00:00",
          "geo_lat": 49.8809,
          "geo_lon": 8.6779,
          "height": 162,
          "name": "Darmstadt",
          "state": "Hessen",
          "station_id": "00917"
         },
         {
          "date_end": "2019-08-30T00:00:00+00:00",
          "date_start": "1997-07-30T00:00:00+00:00",
          "geo_lat": 49.7619,
          "geo_lon": 7.0541,
          "height": 481,
          "name": "Deuselbach",
          "state": "Rheinland-Pfalz",
          "station_id": "00953"
         },
         {
          "date_end": "2019-08-30T00:00:00+00:00",
          "date_start": "1996-06-13T00:00:00+00:00",
          "geo_lat": 52.5881,
          "geo_lon": 8.3424,
          "height": 38,
          "name": "Diepholz",
          "state": "Niedersachsen",
          "station_id": "00963"
         },
         {
          "date_end": "2019-08-30T00:00:00+00:00",
          "date_start": "2003-07-07T00:00:00+00:00",
          "geo_lat": 50.7364,
          "geo_lon": 8.2672,
          "height": 314,
          "name": "Dillenburg",
          "state": "Hessen",
          "station_id": "00979"
         },
         {
          "date_end": "2019-08-30T00:00:00+00:00",
          "date_start": "2006-10-03T00:00:00+00:00",
          "geo_lat": 48.5562,
          "geo_lon": 10.5599,
          "height": 419,
          "name": "Dillingen/Donau-Fristingen",
          "state": "Bayern",
          "station_id": "00983"
         },
         {
          "date_end": "2019-08-30T00:00:00+00:00",
          "date_start": "2004-09-12T00:00:00+00:00",
          "geo_lat": 50.9117,
          "geo_lon": 13.7087,
          "height": 365,
          "name": "Dippoldiswalde-Reinberg",
          "state": "Sachsen",
          "station_id": "00991"
         },
         {
          "date_end": "2019-08-30T00:00:00+00:00",
          "date_start": "1991-11-06T00:00:00+00:00",
          "geo_lat": 51.6451,
          "geo_lon": 13.5747,
          "height": 97,
          "name": "Doberlug-Kirchhain",
          "state": "Brandenburg",
          "station_id": "01001"
         },
         {
          "date_end": "2019-08-30T00:00:00+00:00",
          "date_start": "1991-11-19T00:00:00+00:00",
          "geo_lat": 51.128,
          "geo_lon": 13.7543,
          "height": 227,
          "name": "Dresden-Klotzsche",
          "state": "Sachsen",
          "station_id": "01048"
         },
         {
          "date_end": "2019-08-30T00:00:00+00:00",
          "date_start": "2005-08-09T00:00:00+00:00",
          "geo_lat": 51.0221,
          "geo_lon": 13.847,
          "height": 114,
          "name": "Dresden-Hosterwitz",
          "state": "Sachsen",
          "station_id": "01050"
         },
         {
          "date_end": "2019-08-30T00:00:00+00:00",
          "date_start": "2007-01-22T00:00:00+00:00",
          "geo_lat": 51.0248,
          "geo_lon": 13.775,
          "height": 120,
          "name": "Dresden-Strehlen",
          "state": "Sachsen",
          "station_id": "01051"
         },
         {
          "date_end": "2019-08-30T00:00:00+00:00",
          "date_start": "2003-03-16T00:00:00+00:00",
          "geo_lat": 52.2174,
          "geo_lon": 12.1641,
          "height": 80,
          "name": "Drewitz bei Burg",
          "state": "Sachsen-Anhalt",
          "station_id": "01052"
         },
         {
          "date_end": "2019-08-30T00:00:00+00:00",
          "date_start": "2004-05-05T00:00:00+00:00",
          "geo_lat": 49.4719,
          "geo_lon": 8.1929,
          "height": 107,
          "name": "Dürkheim, Bad",
          "state": "Rheinland-Pfalz",
          "station_id": "01072"
         },
         {
          "date_end": "2019-08-30T00:00:00+00:00",
          "date_start": "1992-09-11T00:00:00+00:00",
          "geo_lat": 51.296,
          "geo_lon": 6.7686,
          "height": 37,
          "name": "Düsseldorf",
          "state": "Nordrhein-Westfalen",
          "station_id": "01078"
         },
         {
          "date_end": "2019-08-30T00:00:00+00:00",
          "date_start": "2006-08-22T00:00:00+00:00",
          "geo_lat": 48.1002,
          "geo_lon": 11.9872,
          "height": 592,
          "name": "Ebersberg-Halbing",
          "state": "Bayern",
          "station_id": "01103"
         },
         {
          "date_end": "2019-08-30T00:00:00+00:00",
          "date_start": "2004-10-06T00:00:00+00:00",
          "geo_lat": 49.852,
          "geo_lon": 10.499,
          "height": 346,
          "name": "Ebrach",
          "state": "Bayern",
          "station_id": "01107"
         },
         {
          "date_end": "2019-08-30T00:00:00+00:00",
          "date_start": "2004-11-29T00:00:00+00:00",
          "geo_lat": 48.8777,
          "geo_lon": 11.2349,
          "height": 384,
          "name": "Eichstätt-Landershofen",
          "state": "Bayern",
          "station_id": "01161"
         },
         {
          "date_end": "2019-08-30T00:00:00+00:00",
          "date_start": "2002-08-29T00:00:00+00:00",
          "geo_lat": 48.9895,
          "geo_lon": 10.1312,
          "height": 460,
          "name": "Ellwangen-Rindelbach",
          "state": "Baden-Württemberg",
          "station_id": "01197"
         },
         {
          "date_end": "2019-08-30T00:00:00+00:00",
          "date_start": "2005-11-24T00:00:00+00:00",
          "geo_lat": 54.0691,
          "geo_lon": 9.0105,
          "height": 3,
          "name": "Elpersbüttel",
          "state": "Schleswig-Holstein",
          "station_id": "01200"
         },
         {
          "date_end": "2019-08-30T00:00:00+00:00",
          "date_start": "2005-12-21T00:00:00+00:00",
          "geo_lat": 50.2705,
          "geo_lon": 12.2742,
          "height": 560,
          "name": "Elster, Bad-Sohl",
          "state": "Sachsen",
          "station_id": "01207"
         },
         {
          "date_end": "2019-08-30T00:00:00+00:00",
          "date_start": "2003-07-06T00:00:00+00:00",
          "geo_lat": 48.2012,
          "geo_lon": 8.1089,
          "height": 440,
          "name": "Elzach-Fisnacht",
          "state": "Baden-Württemberg",
          "station_id": "01214"
         },
         {
          "date_end": "2019-08-30T00:00:00+00:00",
          "date_start": "2002-10-29T00:00:00+00:00",
          "geo_lat": 48.1378,
          "geo_lon": 7.8351,
          "height": 201,
          "name": "Emmendingen-Mundingen",
          "state": "Baden-Württemberg",
          "station_id": "01224"
         },
         {
          "date_end": "2019-08-30T00:00:00+00:00",
          "date_start": "2015-07-01T00:00:00+00:00",
          "geo_lat": 51.8418,
          "geo_lon": 8.0607,
          "height": 104,
          "name": "Ennigerloh-Ostenfelde",
          "state": "Nordrhein-Westfalen",
          "station_id": "01246"
         },
         {
          "date_end": "2019-08-30T00:00:00+00:00",
          "date_start": "1992-05-19T00:00:00+00:00",
          "geo_lat": 48.3477,
          "geo_lon": 11.8133,
          "height": 446,
          "name": "München-Flughafen",
          "state": "Bayern",
          "station_id": "01262"
         },
         {
          "date_end": "2019-08-30T00:00:00+00:00",
          "date_start": "2003-09-11T00:00:00+00:00",
          "geo_lat": 54.2992,
          "geo_lon": 9.3162,
          "height": 18,
          "name": "Erfde",
          "state": "Schleswig-Holstein",
          "station_id": "01266"
         },
         {
          "date_end": "2019-08-30T00:00:00+00:00",
          "date_start": "1991-11-04T00:00:00+00:00",
          "geo_lat": 50.9829,
          "geo_lon": 10.9608,
          "height": 316,
          "name": "Erfurt-Weimar",
          "state": "Thüringen",
          "station_id": "01270"
         },
         {
          "date_end": "2019-08-30T00:00:00+00:00",
          "date_start": "2006-05-03T00:00:00+00:00",
          "geo_lat": 49.6497,
          "geo_lon": 11.0074,
          "height": 268,
          "name": "Möhrendorf-Kleinseebach",
          "state": "Bayern",
          "station_id": "01279"
         },
         {
          "date_end": "2019-08-30T00:00:00+00:00",
          "date_start": "2004-04-06T00:00:00+00:00",
          "geo_lat": 51.2041,
          "geo_lon": 10.0138,
          "height": 156,
          "name": "Eschwege",
          "state": "Hessen",
          "station_id": "01297"
         },
         {
          "date_end": "2019-08-30T00:00:00+00:00",
          "date_start": "2002-09-12T00:00:00+00:00",
          "geo_lat": 51.254,
          "geo_lon": 8.1565,
          "height": 351,
          "name": "Eslohe",
          "state": "Nordrhein-Westfalen",
          "station_id": "01300"
         },
         {
          "date_end": "2019-08-30T00:00:00+00:00",
          "date_start": "1994-05-03T00:00:00+00:00",
          "geo_lat": 51.4041,
          "geo_lon": 6.9677,
          "height": 150,
          "name": "Essen-Bredeney",
          "state": "Nordrhein-Westfalen",
          "station_id": "01303"
         },
         {
          "date_end": "2019-08-30T00:00:00+00:00",
          "date_start": "2004-07-07T00:00:00+00:00",
          "geo_lat": 50.7119,
          "geo_lon": 6.7905,
          "height": 147,
          "name": "Weilerswist-Lommersum",
          "state": "Nordrhein-Westfalen",
          "station_id": "01327"
         },
         {
          "date_end": "2019-08-30T00:00:00+00:00",
          "date_start": "2004-12-08T00:00:00+00:00",
          "geo_lat": 48.4832,
          "geo_lon": 12.7241,
          "height": 472,
          "name": "Falkenberg,Kr.Rottal-Inn",
          "state": "Bayern",
          "station_id": "01332"
         },
         {
          "date_end": "2019-08-30T00:00:00+00:00",
          "date_start": "1995-10-26T00:00:00+00:00",
          "geo_lat": 47.8749,
          "geo_lon": 8.0038,
          "height": 1490,
          "name": "Feldberg/Schwarzwald",
          "state": "Baden-Württemberg",
          "station_id": "01346"
         },
         {
          "date_end": "2019-08-30T00:00:00+00:00",
          "date_start": "2004-12-01T00:00:00+00:00",
          "geo_lat": 49.9807,
          "geo_lon": 11.8376,
          "height": 654,
          "name": "Fichtelberg/Oberfranken-Hütt",
          "state": "Bayern",
          "station_id": "01357"
         },
         {
          "date_end": "2019-08-30T00:00:00+00:00",
          "date_start": "1991-11-11T00:00:00+00:00",
          "geo_lat": 50.4283,
          "geo_lon": 12.9535,
          "height": 1213,
          "name": "Fichtelberg",
          "state": "Sachsen",
          "station_id": "01358"
         },
         {
          "date_end": "2019-08-30T00:00:00+00:00",
          "date_start": "2006-11-19T00:00:00+00:00",
          "geo_lat": 50.5309,
          "geo_lon": 10.048,
          "height": 745,
          "name": "Birx/Rhön",
          "state": "Thüringen",
          "station_id": "01411"
         },
         {
          "date_end": "2019-08-30T00:00:00+00:00",
          "date_start": "1993-03-04T00:00:00+00:00",
          "geo_lat": 50.0259,
          "geo_lon": 8.5213,
          "height": 100,
          "name": "Frankfurt/Main",
          "state": "Hessen",
          "station_id": "01420"
         },
         {
          "date_end": "2019-08-30T00:00:00+00:00",
          "date_start": "2008-06-23T00:00:00+00:00",
          "geo_lat": 50.1269,
          "geo_lon": 8.6694,
          "height": 124,
          "name": "Frankfurt/Main-Westend",
          "state": "Hessen",
          "station_id": "01424"
         },
         {
          "date_end": "2019-08-30T00:00:00+00:00",
          "date_start": "1994-04-26T00:00:00+00:00",
          "geo_lat": 48.0233,
          "geo_lon": 7.8344,
          "height": 236,
          "name": "Freiburg",
          "state": "Baden-Württemberg",
          "station_id": "01443"
         },
         {
          "date_end": "2019-08-30T00:00:00+00:00",
          "date_start": "2003-05-15T00:00:00+00:00",
          "geo_lat": 53.8277,
          "geo_lon": 9.2493,
          "height": 2,
          "name": "Freiburg/Elbe",
          "state": "Niedersachsen",
          "station_id": "01451"
         },
         {
          "date_end": "2019-08-30T00:00:00+00:00",
          "date_start": "1991-01-01T00:00:00+00:00",
          "geo_lat": 48.4537,
          "geo_lon": 8.4091,
          "height": 797,
          "name": "Freudenstadt",
          "state": "Baden-Württemberg",
          "station_id": "01468"
         },
         {
          "date_end": "2019-08-30T00:00:00+00:00",
          "date_start": "2012-09-01T00:00:00+00:00",
          "geo_lat": 53.0643,
          "geo_lon": 7.9022,
          "height": 6,
          "name": "Friesoythe-Altenoythe",
          "state": "Niedersachsen",
          "station_id": "01503"
         },
         {
          "date_end": "2019-08-30T00:00:00+00:00",
          "date_start": "2004-09-13T00:00:00+00:00",
          "geo_lat": 50.5668,
          "geo_lon": 9.6533,
          "height": 242,
          "name": "Fulda-Horas",
          "state": "Hessen",
          "station_id": "01526"
         },
         {
          "date_end": "2019-08-30T00:00:00+00:00",
          "date_start": "1991-11-01T00:00:00+00:00",
          "geo_lat": 52.5129,
          "geo_lon": 11.3941,
          "height": 47,
          "name": "Gardelegen",
          "state": "Sachsen-Anhalt",
          "station_id": "01544"
         },
         {
          "date_end": "2019-08-30T00:00:00+00:00",
          "date_start": "1991-01-01T00:00:00+00:00",
          "geo_lat": 47.483,
          "geo_lon": 11.0621,
          "height": 719,
          "name": "Garmisch-Partenkirchen",
          "state": "Bayern",
          "station_id": "01550"
         },
         {
          "date_end": "2019-08-30T00:00:00+00:00",
          "date_start": "1997-01-01T00:00:00+00:00",
          "geo_lat": 49.9859,
          "geo_lon": 7.9549,
          "height": 110,
          "name": "Geisenheim",
          "state": "Hessen",
          "station_id": "01580"
         },
         {
          "date_end": "2019-08-30T00:00:00+00:00",
          "date_start": "2009-04-23T00:00:00+00:00",
          "geo_lat": 47.9242,
          "geo_lon": 8.6473,
          "height": 672,
          "name": "Geisingen",
          "state": "Baden-Württemberg",
          "station_id": "01584"
         },
         {
          "date_end": "2019-08-30T00:00:00+00:00",
          "date_start": "2003-12-10T00:00:00+00:00",
          "geo_lat": 48.9481,
          "geo_lon": 11.4289,
          "height": 536,
          "name": "Gelbelsee",
          "state": "Bayern",
          "station_id": "01587"
         },
         {
          "date_end": "2019-08-30T00:00:00+00:00",
          "date_start": "2002-10-22T00:00:00+00:00",
          "geo_lat": 51.4942,
          "geo_lon": 6.2463,
          "height": 37,
          "name": "Geldern-Walbeck",
          "state": "Nordrhein-Westfalen",
          "station_id": "01590"
         },
         {
          "date_end": "2019-08-30T00:00:00+00:00",
          "date_start": "2003-03-19T00:00:00+00:00",
          "geo_lat": 48.4329,
          "geo_lon": 7.9931,
          "height": 176,
          "name": "Ohlsbach",
          "state": "Baden-Württemberg",
          "station_id": "01602"
         },
         {
          "date_end": "2019-08-30T00:00:00+00:00",
          "date_start": "1991-11-05T00:00:00+00:00",
          "geo_lat": 52.3875,
          "geo_lon": 12.1601,
          "height": 35,
          "name": "Genthin",
          "state": "Sachsen-Anhalt",
          "station_id": "01605"
         },
         {
          "date_end": "2019-08-30T00:00:00+00:00",
          "date_start": "1991-11-06T00:00:00+00:00",
          "geo_lat": 50.8813,
          "geo_lon": 12.1289,
          "height": 311,
          "name": "Gera-Leumnitz",
          "state": "Thüringen",
          "station_id": "01612"
         },
         {
          "date_end": "2019-08-30T00:00:00+00:00",
          "date_start": "1996-10-10T00:00:00+00:00",
          "geo_lat": 50.6017,
          "geo_lon": 8.6439,
          "height": 203,
          "name": "Gießen/Wettenberg",
          "state": "Hessen",
          "station_id": "01639"
         },
         {
          "date_end": "2019-08-29T00:00:00+00:00",
          "date_start": "2002-08-19T00:00:00+00:00",
          "geo_lat": 50.9656,
          "geo_lon": 9.05,
          "height": 340,
          "name": "Gilserberg-Moischeid",
          "state": "Hessen",
          "station_id": "01645"
         },
         {
          "date_end": "2019-08-30T00:00:00+00:00",
          "date_start": "1991-11-01T00:00:00+00:00",
          "geo_lat": 51.1622,
          "geo_lon": 14.9506,
          "height": 238,
          "name": "Görlitz",
          "state": "Sachsen",
          "station_id": "01684"
         },
         {
          "date_end": "2019-08-30T00:00:00+00:00",
          "date_start": "1993-11-09T00:00:00+00:00",
          "geo_lat": 51.5002,
          "geo_lon": 9.9507,
          "height": 167,
          "name": "Göttingen",
          "state": "Niedersachsen",
          "station_id": "01691"
         },
         {
          "date_end": "2019-08-30T00:00:00+00:00",
          "date_start": "1991-11-06T00:00:00+00:00",
          "geo_lat": 53.606,
          "geo_lon": 12.1033,
          "height": 58,
          "name": "Goldberg",
          "state": "Mecklenburg-Vorpommern",
          "station_id": "01694"
         },
         {
          "date_end": "2019-08-30T00:00:00+00:00",
          "date_start": "2006-08-21T00:00:00+00:00",
          "geo_lat": 49.664,
          "geo_lon": 11.2239,
          "height": 506,
          "name": "Gräfenberg-Kasberg",
          "state": "Bayern",
          "station_id": "01721"
         },
         {
          "date_end": "2019-08-30T00:00:00+00:00",
          "date_start": "2004-12-12T00:00:00+00:00",
          "geo_lat": 48.7893,
          "geo_lon": 13.6291,
          "height": 628,
          "name": "Grainet-Rehberg",
          "state": "Bayern",
          "station_id": "01735"
         },
         {
          "date_end": "2019-08-30T00:00:00+00:00",
          "date_start": "2001-11-01T00:00:00+00:00",
          "geo_lat": 53.5731,
          "geo_lon": 10.6797,
          "height": 27,
          "name": "Grambek",
          "state": "Schleswig-Holstein",
          "station_id": "01736"
         },
         {
          "date_end": "2019-08-30T00:00:00+00:00",
          "date_start": "1991-10-31T00:00:00+00:00",
          "geo_lat": 54.0967,
          "geo_lon": 13.4056,
          "height": 2,
          "name": "Greifswald",
          "state": "Mecklenburg-Vorpommern",
          "station_id": "01757"
         },
         {
          "date_end": "2019-08-30T00:00:00+00:00",
          "date_start": "2000-10-25T00:00:00+00:00",
          "geo_lat": 54.2437,
          "geo_lon": 13.9102,
          "height": 12,
          "name": "Greifswalder Oie",
          "state": "Mecklenburg-Vorpommern",
          "station_id": "01759"
         },
         {
          "date_end": "2019-08-30T00:00:00+00:00",
          "date_start": "1995-07-04T00:00:00+00:00",
          "geo_lat": 52.1344,
          "geo_lon": 7.6969,
          "height": 48,
          "name": "Münster/Osnabrück",
          "state": "Nordrhein-Westfalen",
          "station_id": "01766"
         },
         {
          "date_end": "2019-08-30T00:00:00+00:00",
          "date_start": "2004-07-27T00:00:00+00:00",
          "geo_lat": 54.0714,
          "geo_lon": 12.3238,
          "height": 34,
          "name": "Groß Lüsewitz",
          "state": "Mecklenburg-Vorpommern",
          "station_id": "01803"
         },
         {
          "date_end": "2019-08-30T00:00:00+00:00",
          "date_start": "1998-02-25T00:00:00+00:00",
          "geo_lat": 49.1129,
          "geo_lon": 13.1338,
          "height": 1436,
          "name": "Großer Arber",
          "state": "Bayern",
          "station_id": "01832"
         },
         {
          "date_end": "2019-08-30T00:00:00+00:00",
          "date_start": "2007-10-07T00:00:00+00:00",
          "geo_lat": 50.2667,
          "geo_lon": 9.1854,
          "height": 258,
          "name": "Gründau-Breitenborn",
          "state": "Hessen",
          "station_id": "01863"
         },
         {
          "date_end": "2019-08-30T00:00:00+00:00",
          "date_start": "1991-10-31T00:00:00+00:00",
          "geo_lat": 53.3153,
          "geo_lon": 13.9338,
          "height": 56,
          "name": "Grünow",
          "state": "Brandenburg",
          "station_id": "01869"
         },
         {
          "date_end": "2019-08-30T00:00:00+00:00",
          "date_start": "2016-08-11T00:00:00+00:00",
          "geo_lat": 48.4878,
          "geo_lon": 10.2607,
          "height": 444,
          "name": "Günzburg",
          "state": "Bayern",
          "station_id": "01886"
         },
         {
          "date_end": "2019-08-30T00:00:00+00:00",
          "date_start": "1995-08-28T00:00:00+00:00",
          "geo_lat": 53.6332,
          "geo_lon": 9.9881,
          "height": 14,
          "name": "Hamburg-Fuhlsbüttel",
          "state": "Hamburg",
          "station_id": "01975"
         },
         {
          "date_end": "2019-08-30T00:00:00+00:00",
          "date_start": "2005-02-14T00:00:00+00:00",
          "geo_lat": 53.4777,
          "geo_lon": 9.8957,
          "height": 3,
          "name": "Hamburg-Neuwiedenthal",
          "state": "Hamburg",
          "station_id": "01981"
         },
         {
          "date_end": "2019-08-30T00:00:00+00:00",
          "date_start": "1992-04-29T00:00:00+00:00",
          "geo_lat": 52.4644,
          "geo_lon": 9.6779,
          "height": 59,
          "name": "Hannover",
          "state": "Niedersachsen",
          "station_id": "02014"
         },
         {
          "date_end": "2019-08-30T00:00:00+00:00",
          "date_start": "2002-11-13T00:00:00+00:00",
          "geo_lat": 48.7918,
          "geo_lon": 10.7062,
          "height": 501,
          "name": "Harburg",
          "state": "Bayern",
          "station_id": "02023"
         },
         {
          "date_end": "2019-08-30T00:00:00+00:00",
          "date_start": "2006-10-17T00:00:00+00:00",
          "geo_lat": 51.9002,
          "geo_lon": 10.5699,
          "height": 201,
          "name": "Harzburg, Bad",
          "state": "Niedersachsen",
          "station_id": "02039"
         },
         {
          "date_end": "2019-08-30T00:00:00+00:00",
          "date_start": "1991-01-14T00:00:00+00:00",
          "geo_lat": 51.652,
          "geo_lon": 11.1367,
          "height": 404,
          "name": "Harzgerode",
          "state": "Sachsen-Anhalt",
          "station_id": "02044"
         },
         {
          "date_end": "2019-08-30T00:00:00+00:00",
          "date_start": "2003-06-29T00:00:00+00:00",
          "geo_lat": 48.3751,
          "geo_lon": 8.9801,
          "height": 522,
          "name": "Hechingen",
          "state": "Baden-Württemberg",
          "station_id": "02074"
         },
         {
          "date_end": "2019-08-30T00:00:00+00:00",
          "date_start": "2002-10-23T00:00:00+00:00",
          "geo_lat": 51.0411,
          "geo_lon": 6.1042,
          "height": 57,
          "name": "Heinsberg-Schleiden",
          "state": "Nordrhein-Westfalen",
          "station_id": "02110"
         },
         {
          "date_end": "2019-08-30T00:00:00+00:00",
          "date_start": "1996-12-19T00:00:00+00:00",
          "geo_lat": 54.175,
          "geo_lon": 7.892,
          "height": 4,
          "name": "Helgoland",
          "state": "Schleswig-Holstein",
          "station_id": "02115"
         },
         {
          "date_end": "2019-08-30T00:00:00+00:00",
          "date_start": "1994-12-20T00:00:00+00:00",
          "geo_lat": 50.8519,
          "geo_lon": 9.7378,
          "height": 272,
          "name": "Hersfeld, Bad",
          "state": "Hessen",
          "station_id": "02171"
         },
         {
          "date_end": "2019-08-30T00:00:00+00:00",
          "date_start": "2010-09-22T00:00:00+00:00",
          "geo_lat": 51.6255,
          "geo_lon": 10.3695,
          "height": 238,
          "name": "Herzberg",
          "state": "Niedersachsen",
          "station_id": "02174"
         },
         {
          "date_end": "2019-08-30T00:00:00+00:00",
          "date_start": "2005-05-31T00:00:00+00:00",
          "geo_lat": 54.575,
          "geo_lon": 13.1044,
          "height": 1,
          "name": "Hiddensee-Vitte",
          "state": "Mecklenburg-Vorpommern",
          "station_id": "02201"
         },
         {
          "date_end": "2019-08-30T00:00:00+00:00",
          "date_start": "2003-07-07T00:00:00+00:00",
          "geo_lat": 50.7371,
          "geo_lon": 7.6528,
          "height": 295,
          "name": "Hilgenroth",
          "state": "Rheinland-Pfalz",
          "station_id": "02211"
         },
         {
          "date_end": "2019-08-30T00:00:00+00:00",
          "date_start": "2005-03-20T00:00:00+00:00",
          "geo_lat": 50.899,
          "geo_lon": 14.7457,
          "height": 270,
          "name": "Bertsdorf-Hörnitz",
          "state": "Sachsen",
          "station_id": "02252"
         },
         {
          "date_end": "2019-08-30T00:00:00+00:00",
          "date_start": "1998-02-11T00:00:00+00:00",
          "geo_lat": 50.3122,
          "geo_lon": 11.8761,
          "height": 565,
          "name": "Hof",
          "state": "Bayern",
          "station_id": "02261"
         },
         {
          "date_end": "2019-08-30T00:00:00+00:00",
          "date_start": "1993-12-09T00:00:00+00:00",
          "geo_lat": 47.8009,
          "geo_lon": 11.0108,
          "height": 977,
          "name": "Hohenpeißenberg",
          "state": "Bayern",
          "station_id": "02290"
         },
         {
          "date_end": "2019-08-30T00:00:00+00:00",
          "date_start": "2005-07-05T00:00:00+00:00",
          "geo_lat": 54.3194,
          "geo_lon": 10.6732,
          "height": 8,
          "name": "Hohwacht",
          "state": "Schleswig-Holstein",
          "station_id": "02306"
         },
         {
          "date_end": "2019-08-30T00:00:00+00:00",
          "date_start": "2005-04-28T00:00:00+00:00",
          "geo_lat": 47.8823,
          "geo_lon": 11.6962,
          "height": 685,
          "name": "Holzkirchen",
          "state": "Bayern",
          "station_id": "02319"
         },
         {
          "date_end": "2019-08-30T00:00:00+00:00",
          "date_start": "2006-06-13T00:00:00+00:00",
          "geo_lat": 51.8529,
          "geo_lon": 9.4953,
          "height": 110,
          "name": "Bevern, Kr. Holzminden",
          "state": "Niedersachsen",
          "station_id": "02323"
         },
         {
          "date_end": "2019-08-30T00:00:00+00:00",
          "date_start": "2003-07-08T00:00:00+00:00",
          "geo_lat": 50.5651,
          "geo_lon": 7.4843,
          "height": 328,
          "name": "Hümmerich",
          "state": "Rheinland-Pfalz",
          "station_id": "02362"
         },
         {
          "date_end": "2019-08-30T00:00:00+00:00",
          "date_start": "2003-07-03T00:00:00+00:00",
          "geo_lat": 53.9897,
          "geo_lon": 9.5696,
          "height": 21,
          "name": "Itzehoe",
          "state": "Schleswig-Holstein",
          "station_id": "02429"
         },
         {
          "date_end": "2019-08-30T00:00:00+00:00",
          "date_start": "2004-05-11T00:00:00+00:00",
          "geo_lat": 50.9251,
          "geo_lon": 11.583,
          "height": 155,
          "name": "Jena (Sternwarte)",
          "state": "Thüringen",
          "station_id": "02444"
         },
         {
          "date_end": "2019-08-30T00:00:00+00:00",
          "date_start": "2004-07-15T00:00:00+00:00",
          "geo_lat": 50.0643,
          "geo_lon": 8.993,
          "height": 107,
          "name": "Kahl/Main",
          "state": "Bayern",
          "station_id": "02480"
         },
         {
          "date_end": "2019-08-30T00:00:00+00:00",
          "date_start": "1995-08-03T00:00:00+00:00",
          "geo_lat": 51.1803,
          "geo_lon": 8.4891,
          "height": 839,
          "name": "Kahler Asten",
          "state": "Nordrhein-Westfalen",
          "station_id": "02483"
         },
         {
          "date_end": "2019-08-30T00:00:00+00:00",
          "date_start": "2011-04-10T00:00:00+00:00",
          "geo_lat": 48.9171,
          "geo_lon": 9.6872,
          "height": 489,
          "name": "Kaisersbach-Cronhütte",
          "state": "Baden-Württemberg",
          "station_id": "02485"
         },
         {
          "date_end": "2019-08-30T00:00:00+00:00",
          "date_start": "2004-06-13T00:00:00+00:00",
          "geo_lat": 49.4262,
          "geo_lon": 7.7557,
          "height": 271,
          "name": "Kaiserslautern",
          "state": "Rheinland-Pfalz",
          "station_id": "02486"
         },
         {
          "date_end": "2019-08-30T00:00:00+00:00",
          "date_start": "2003-06-04T00:00:00+00:00",
          "geo_lat": 50.5014,
          "geo_lon": 6.5264,
          "height": 505,
          "name": "Kall-Sistig",
          "state": "Nordrhein-Westfalen",
          "station_id": "02497"
         },
         {
          "date_end": "2019-08-30T00:00:00+00:00",
          "date_start": "1992-04-29T00:00:00+00:00",
          "geo_lat": 47.7233,
          "geo_lon": 10.3348,
          "height": 705,
          "name": "Kempten",
          "state": "Bayern",
          "station_id": "02559"
         },
         {
          "date_end": "2019-08-30T00:00:00+00:00",
          "date_start": "2013-04-23T00:00:00+00:00",
          "geo_lat": 54.3761,
          "geo_lon": 10.1433,
          "height": 27,
          "name": "Kiel-Holtenau",
          "state": "Schleswig-Holstein",
          "station_id": "02564"
         },
         {
          "date_end": "2019-08-30T00:00:00+00:00",
          "date_start": "2007-05-22T00:00:00+00:00",
          "geo_lat": 49.1804,
          "geo_lon": 9.98,
          "height": 426,
          "name": "Kirchberg/Jagst-Herboldshaus",
          "state": "Baden-Württemberg",
          "station_id": "02575"
         },
         {
          "date_end": "2019-08-30T00:00:00+00:00",
          "date_start": "2003-07-22T00:00:00+00:00",
          "geo_lat": 53.9995,
          "geo_lon": 11.4341,
          "height": 12,
          "name": "Kirchdorf/Poel",
          "state": "Mecklenburg-Vorpommern",
          "station_id": "02578"
         },
         {
          "date_end": "2019-08-30T00:00:00+00:00",
          "date_start": "1995-06-01T00:00:00+00:00",
          "geo_lat": 50.2241,
          "geo_lon": 10.0792,
          "height": 282,
          "name": "Kissingen, Bad",
          "state": "Bayern",
          "station_id": "02597"
         },
         {
          "date_end": "2019-08-30T00:00:00+00:00",
          "date_start": "2004-11-02T00:00:00+00:00",
          "geo_lat": 49.7363,
          "geo_lon": 10.1781,
          "height": 188,
          "name": "Kitzingen",
          "state": "Bayern",
          "station_id": "02600"
         },
         {
          "date_end": "2019-08-30T00:00:00+00:00",
          "date_start": "1992-10-01T00:00:00+00:00",
          "geo_lat": 50.2218,
          "geo_lon": 8.4469,
          "height": 826,
          "name": "Kleiner Feldberg/Taunus",
          "state": "Hessen",
          "station_id": "02601"
         },
         {
          "date_end": "2019-08-30T00:00:00+00:00",
          "date_start": "2004-08-10T00:00:00+00:00",
          "geo_lat": 50.8458,
          "geo_lon": 10.4803,
          "height": 732,
          "name": "Kleiner Inselsberg",
          "state": "Thüringen",
          "station_id": "02618"
         },
         {
          "date_end": "2019-08-30T00:00:00+00:00",
          "date_start": "2003-04-29T00:00:00+00:00",
          "geo_lat": 51.5555,
          "geo_lon": 13.8845,
          "height": 128,
          "name": "Klettwitz",
          "state": "Brandenburg",
          "station_id": "02627"
         },
         {
          "date_end": "2019-08-30T00:00:00+00:00",
          "date_start": "2002-10-22T00:00:00+00:00",
          "geo_lat": 51.7612,
          "geo_lon": 6.0954,
          "height": 46,
          "name": "Kleve",
          "state": "Nordrhein-Westfalen",
          "station_id": "02629"
         },
         {
          "date_end": "2019-08-30T00:00:00+00:00",
          "date_start": "1992-11-05T00:00:00+00:00",
          "geo_lat": 48.1054,
          "geo_lon": 8.7548,
          "height": 974,
          "name": "Klippeneck",
          "state": "Baden-Württemberg",
          "station_id": "02638"
         },
         {
          "date_end": "2019-08-30T00:00:00+00:00",
          "date_start": "2004-04-18T00:00:00+00:00",
          "geo_lat": 51.5185,
          "geo_lon": 12.9065,
          "height": 85,
          "name": "Klitzschen bei Torgau",
          "state": "Sachsen",
          "station_id": "02641"
         },
         {
          "date_end": "2019-08-30T00:00:00+00:00",
          "date_start": "1993-11-11T00:00:00+00:00",
          "geo_lat": 50.8646,
          "geo_lon": 7.1575,
          "height": 92,
          "name": "Köln-Bonn",
          "state": "Nordrhein-Westfalen",
          "station_id": "02667"
         },
         {
          "date_end": "2019-08-30T00:00:00+00:00",
          "date_start": "2005-04-05T00:00:00+00:00",
          "geo_lat": 50.284,
          "geo_lon": 10.4456,
          "height": 289,
          "name": "Königshofen, Bad",
          "state": "Bayern",
          "station_id": "02680"
         },
         {
          "date_end": "2019-08-30T00:00:00+00:00",
          "date_start": "2004-10-24T00:00:00+00:00",
          "geo_lat": 48.8302,
          "geo_lon": 11.4872,
          "height": 416,
          "name": "Kösching",
          "state": "Bayern",
          "station_id": "02700"
         },
         {
          "date_end": "2019-08-30T00:00:00+00:00",
          "date_start": "2003-06-05T00:00:00+00:00",
          "geo_lat": 51.7511,
          "geo_lon": 12.0094,
          "height": 76,
          "name": "Köthen (Anhalt)",
          "state": "Sachsen-Anhalt",
          "station_id": "02704"
         },
         {
          "date_end": "2019-08-30T00:00:00+00:00",
          "date_start": "2006-06-06T00:00:00+00:00",
          "geo_lat": 47.6652,
          "geo_lon": 11.0804,
          "height": 740,
          "name": "Kohlgrub, Bad (Rosshof)",
          "state": "Bayern",
          "station_id": "02708"
         },
         {
          "date_end": "2019-08-30T00:00:00+00:00",
          "date_start": "1993-08-12T00:00:00+00:00",
          "geo_lat": 47.6774,
          "geo_lon": 9.1901,
          "height": 443,
          "name": "Konstanz",
          "state": "Baden-Württemberg",
          "station_id": "02712"
         },
         {
          "date_end": "2019-08-30T00:00:00+00:00",
          "date_start": "2005-07-31T00:00:00+00:00",
          "geo_lat": 50.2523,
          "geo_lon": 11.3209,
          "height": 312,
          "name": "Kronach",
          "state": "Bayern",
          "station_id": "02750"
         },
         {
          "date_end": "2019-08-30T00:00:00+00:00",
          "date_start": "1991-11-01T00:00:00+00:00",
          "geo_lat": 52.9363,
          "geo_lon": 12.4093,
          "height": 40,
          "name": "Kyritz",
          "state": "Brandenburg",
          "station_id": "02794"
         },
         {
          "date_end": "2019-08-30T00:00:00+00:00",
          "date_start": "1996-08-28T00:00:00+00:00",
          "geo_lat": 48.3647,
          "geo_lon": 7.828,
          "height": 155,
          "name": "Lahr",
          "state": "Baden-Württemberg",
          "station_id": "02812"
         },
         {
          "date_end": "2019-08-30T00:00:00+00:00",
          "date_start": "2002-09-03T00:00:00+00:00",
          "geo_lat": 48.5121,
          "geo_lon": 9.7645,
          "height": 685,
          "name": "Merklingen",
          "state": "Baden-Württemberg",
          "station_id": "02814"
         },
         {
          "date_end": "2019-08-30T00:00:00+00:00",
          "date_start": "2003-07-21T00:00:00+00:00",
          "geo_lat": 51.9173,
          "geo_lon": 13.0878,
          "height": 91,
          "name": "Langenlipsdorf",
          "state": "Brandenburg",
          "station_id": "02856"
         },
         {
          "date_end": "2019-08-30T00:00:00+00:00",
          "date_start": "1993-01-21T00:00:00+00:00",
          "geo_lat": 51.391,
          "geo_lon": 11.8788,
          "height": 118,
          "name": "Lauchstädt, Bad",
          "state": "Sachsen-Anhalt",
          "station_id": "02878"
         },
         {
          "date_end": "2019-08-30T00:00:00+00:00",
          "date_start": "1999-02-01T00:00:00+00:00",
          "geo_lat": 54.7903,
          "geo_lon": 8.9514,
          "height": 7,
          "name": "Leck",
          "state": "Schleswig-Holstein",
          "station_id": "02907"
         },
         {
          "date_end": "2019-08-30T00:00:00+00:00",
          "date_start": "1991-11-03T00:00:00+00:00",
          "geo_lat": 51.3933,
          "geo_lon": 10.3123,
          "height": 356,
          "name": "Leinefelde",
          "state": "Thüringen",
          "station_id": "02925"
         },
         {
          "date_end": "2019-08-30T00:00:00+00:00",
          "date_start": "1997-02-05T00:00:00+00:00",
          "geo_lat": 51.3151,
          "geo_lon": 12.4462,
          "height": 138,
          "name": "Leipzig-Holzhausen",
          "state": "Sachsen",
          "station_id": "02928"
         },
         {
          "date_end": "2019-08-30T00:00:00+00:00",
          "date_start": "1991-10-31T00:00:00+00:00",
          "geo_lat": 51.4348,
          "geo_lon": 12.2396,
          "height": 131,
          "name": "Leipzig/Halle",
          "state": "Sachsen",
          "station_id": "02932"
         },
         {
          "date_end": "2019-08-30T00:00:00+00:00",
          "date_start": "2006-08-30T00:00:00+00:00",
          "geo_lat": 51.1333,
          "geo_lon": 8.0348,
          "height": 286,
          "name": "Lennestadt-Theten",
          "state": "Nordrhein-Westfalen",
          "station_id": "02947"
         },
         {
          "date_end": "2019-08-30T00:00:00+00:00",
          "date_start": "2003-03-04T00:00:00+00:00",
          "geo_lat": 53.1007,
          "geo_lon": 11.4864,
          "height": 20,
          "name": "Lenzen/Elbe",
          "state": "Brandenburg",
          "station_id": "02951"
         },
         {
          "date_end": "2019-08-30T00:00:00+00:00",
          "date_start": "2007-02-21T00:00:00+00:00",
          "geo_lat": 47.8597,
          "geo_lon": 8.2308,
          "height": 852,
          "name": "Lenzkirch-Ruhbühl",
          "state": "Baden-Württemberg",
          "station_id": "02953"
         },
         {
          "date_end": "2019-08-30T00:00:00+00:00",
          "date_start": "2018-08-08T00:00:00+00:00",
          "geo_lat": 54.4996,
          "geo_lon": 10.2737,
          "height": 31,
          "name": "Leuchtturm Kiel",
          "state": "Schleswig-Holstein",
          "station_id": "02961"
         },
         {
          "date_end": "2019-08-30T00:00:00+00:00",
          "date_start": "2008-11-19T00:00:00+00:00",
          "geo_lat": 50.9894,
          "geo_lon": 6.9777,
          "height": 43,
          "name": "Köln-Stammheim",
          "state": "Nordrhein-Westfalen",
          "station_id": "02968"
         },
         {
          "date_end": "2019-08-30T00:00:00+00:00",
          "date_start": "1991-11-01T00:00:00+00:00",
          "geo_lat": 50.9383,
          "geo_lon": 14.2093,
          "height": 321,
          "name": "Lichtenhain-Mittelndorf",
          "state": "Sachsen",
          "station_id": "02985"
         },
         {
          "date_end": "2019-08-30T00:00:00+00:00",
          "date_start": "1992-10-13T00:00:00+00:00",
          "geo_lat": 52.2085,
          "geo_lon": 14.118,
          "height": 98,
          "name": "Lindenberg",
          "state": "Brandenburg",
          "station_id": "03015"
         },
         {
          "date_end": "2019-08-30T00:00:00+00:00",
          "date_start": "1991-01-01T00:00:00+00:00",
          "geo_lat": 52.5181,
          "geo_lon": 7.3081,
          "height": 22,
          "name": "Lingen",
          "state": "Niedersachsen",
          "station_id": "03023"
         },
         {
          "date_end": "2019-08-30T00:00:00+00:00",
          "date_start": "1992-08-05T00:00:00+00:00",
          "geo_lat": 51.7855,
          "geo_lon": 8.8388,
          "height": 157,
          "name": "Lippspringe, Bad",
          "state": "Nordrhein-Westfalen",
          "station_id": "03028"
         },
         {
          "date_end": "2019-08-30T00:00:00+00:00",
          "date_start": "2002-09-19T00:00:00+00:00",
          "geo_lat": 51.6336,
          "geo_lon": 8.3945,
          "height": 92,
          "name": "Lippstadt-Bökenförde",
          "state": "Nordrhein-Westfalen",
          "station_id": "03031"
         },
         {
          "date_end": "2019-08-30T00:00:00+00:00",
          "date_start": "1995-12-01T00:00:00+00:00",
          "geo_lat": 55.011,
          "geo_lon": 8.4125,
          "height": 25,
          "name": "List auf Sylt",
          "state": "Schleswig-Holstein",
          "station_id": "03032"
         },
         {
          "date_end": "2019-08-30T00:00:00+00:00",
          "date_start": "2006-11-12T00:00:00+00:00",
          "geo_lat": 50.4505,
          "geo_lon": 11.635,
          "height": 500,
          "name": "Lobenstein, Bad",
          "state": "Thüringen",
          "station_id": "03034"
         },
         {
          "date_end": "2019-08-30T00:00:00+00:00",
          "date_start": "2008-04-22T00:00:00+00:00",
          "geo_lat": 50.5617,
          "geo_lon": 8.2386,
          "height": 230,
          "name": "Löhnberg-Obershausen",
          "state": "Hessen",
          "station_id": "03042"
         },
         {
          "date_end": "2019-08-30T00:00:00+00:00",
          "date_start": "2004-09-29T00:00:00+00:00",
          "geo_lat": 51.9267,
          "geo_lon": 13.8797,
          "height": 57,
          "name": "Lübben-Blumenfelde",
          "state": "Brandenburg",
          "station_id": "03083"
         },
         {
          "date_end": "2019-08-30T00:00:00+00:00",
          "date_start": "1996-07-01T00:00:00+00:00",
          "geo_lat": 53.8025,
          "geo_lon": 10.6988,
          "height": 16,
          "name": "Lübeck-Blankensee",
          "state": "Schleswig-Holstein",
          "station_id": "03086"
         },
         {
          "date_end": "2019-08-30T00:00:00+00:00",
          "date_start": "1993-09-22T00:00:00+00:00",
          "geo_lat": 52.9724,
          "geo_lon": 11.1374,
          "height": 16,
          "name": "Lüchow",
          "state": "Niedersachsen",
          "station_id": "03093"
         },
         {
          "date_end": "2019-08-30T00:00:00+00:00",
          "date_start": "1993-12-22T00:00:00+00:00",
          "geo_lat": 51.2452,
          "geo_lon": 7.6425,
          "height": 387,
          "name": "Lüdenscheid",
          "state": "Nordrhein-Westfalen",
          "station_id": "03098"
         },
         {
          "date_end": "2019-08-30T00:00:00+00:00",
          "date_start": "1991-11-01T00:00:00+00:00",
          "geo_lat": 52.1029,
          "geo_lon": 11.5827,
          "height": 76,
          "name": "Magdeburg",
          "state": "Sachsen-Anhalt",
          "station_id": "03126"
         },
         {
          "date_end": "2019-08-30T00:00:00+00:00",
          "date_start": "2008-02-27T00:00:00+00:00",
          "geo_lat": 49.9656,
          "geo_lon": 8.2139,
          "height": 195,
          "name": "Mainz-Lerchenberg (ZDF)",
          "state": "Rheinland-Pfalz",
          "station_id": "03137"
         },
         {
          "date_end": "2019-08-30T00:00:00+00:00",
          "date_start": "2013-07-23T00:00:00+00:00",
          "geo_lat": 48.7726,
          "geo_lon": 12.2177,
          "height": 418,
          "name": "Mallersdorf-Pfaffenberg/Nied",
          "state": "Bayern",
          "station_id": "03147"
         },
         {
          "date_end": "2019-08-30T00:00:00+00:00",
          "date_start": "2003-06-11T00:00:00+00:00",
          "geo_lat": 50.1015,
          "geo_lon": 6.8009,
          "height": 413,
          "name": "Manderscheid-Sonnenhof",
          "state": "Rheinland-Pfalz",
          "station_id": "03155"
         },
         {
          "date_end": "2019-08-30T00:00:00+00:00",
          "date_start": "1991-10-31T00:00:00+00:00",
          "geo_lat": 52.5468,
          "geo_lon": 14.5452,
          "height": 12,
          "name": "Manschnow",
          "state": "Brandenburg",
          "station_id": "03158"
         },
         {
          "date_end": "2019-08-30T00:00:00+00:00",
          "date_start": "2006-06-07T00:00:00+00:00",
          "geo_lat": 50.8492,
          "geo_lon": 8.7746,
          "height": 187,
          "name": "Cölbe, Kr. Marburg-Biedenkop",
          "state": "Hessen",
          "station_id": "03164"
         },
         {
          "date_end": "2019-08-30T00:00:00+00:00",
          "date_start": "1991-11-01T00:00:00+00:00",
          "geo_lat": 50.651,
          "geo_lon": 13.1469,
          "height": 639,
          "name": "Marienberg",
          "state": "Sachsen",
          "station_id": "03166"
         },
         {
          "date_end": "2019-08-30T00:00:00+00:00",
          "date_start": "1999-06-01T00:00:00+00:00",
          "geo_lat": 50.662,
          "geo_lon": 7.9602,
          "height": 547,
          "name": "Marienberg, Bad",
          "state": "Rheinland-Pfalz",
          "station_id": "03167"
         },
         {
          "date_end": "2019-08-30T00:00:00+00:00",
          "date_start": "1992-06-16T00:00:00+00:00",
          "geo_lat": 53.3223,
          "geo_lon": 11.9319,
          "height": 81,
          "name": "Marnitz",
          "state": "Mecklenburg-Vorpommern",
          "station_id": "03196"
         },
         {
          "date_end": "2019-08-30T00:00:00+00:00",
          "date_start": "2008-05-29T00:00:00+00:00",
          "geo_lat": 50.7334,
          "geo_lon": 10.8815,
          "height": 427,
          "name": "Martinroda",
          "state": "Thüringen",
          "station_id": "03204"
         },
         {
          "date_end": "2019-08-30T00:00:00+00:00",
          "date_start": "2006-06-27T00:00:00+00:00",
          "geo_lat": 51.7259,
          "geo_lon": 11.5109,
          "height": 107,
          "name": "Aschersleben-Mehringen",
          "state": "Sachsen-Anhalt",
          "station_id": "03226"
         },
         {
          "date_end": "2019-08-30T00:00:00+00:00",
          "date_start": "1991-11-01T00:00:00+00:00",
          "geo_lat": 50.5612,
          "geo_lon": 10.3771,
          "height": 450,
          "name": "Meiningen",
          "state": "Thüringen",
          "station_id": "03231"
         },
         {
          "date_end": "2019-08-30T00:00:00+00:00",
          "date_start": "2004-10-20T00:00:00+00:00",
          "geo_lat": 51.1294,
          "geo_lon": 13.4327,
          "height": 157,
          "name": "Garsebach bei Meißen",
          "state": "Sachsen",
          "station_id": "03234"
         },
         {
          "date_end": "2019-08-30T00:00:00+00:00",
          "date_start": "2009-07-19T00:00:00+00:00",
          "geo_lat": 47.982,
          "geo_lon": 10.1384,
          "height": 615,
          "name": "Memmingen",
          "state": "Bayern",
          "station_id": "03244"
         },
         {
          "date_end": "2019-08-30T00:00:00+00:00",
          "date_start": "2004-04-28T00:00:00+00:00",
          "geo_lat": 49.4773,
          "geo_lon": 9.7622,
          "height": 250,
          "name": "Mergentheim, Bad-Neunkirchen",
          "state": "Baden-Württemberg",
          "station_id": "03257"
         },
         {
          "date_end": "2019-08-30T00:00:00+00:00",
          "date_start": "2013-10-01T00:00:00+00:00",
          "geo_lat": 48.1694,
          "geo_lon": 8.9433,
          "height": 900,
          "name": "Meßstetten-Appental",
          "state": "Baden-Württemberg",
          "station_id": "03268"
         },
         {
          "date_end": "2019-08-30T00:00:00+00:00",
          "date_start": "2004-10-12T00:00:00+00:00",
          "geo_lat": 48.8548,
          "geo_lon": 12.9189,
          "height": 313,
          "name": "Metten",
          "state": "Bayern",
          "station_id": "03271"
         },
         {
          "date_end": "2019-08-30T00:00:00+00:00",
          "date_start": "2002-10-24T00:00:00+00:00",
          "geo_lat": 48.5376,
          "geo_lon": 9.2734,
          "height": 353,
          "name": "Metzingen",
          "state": "Baden-Württemberg",
          "station_id": "03278"
         },
         {
          "date_end": "2019-08-30T00:00:00+00:00",
          "date_start": "2005-04-05T00:00:00+00:00",
          "geo_lat": 49.6691,
          "geo_lon": 9.0085,
          "height": 240,
          "name": "Michelstadt",
          "state": "Hessen",
          "station_id": "03284"
         },
         {
          "date_end": "2019-08-30T00:00:00+00:00",
          "date_start": "1991-01-01T00:00:00+00:00",
          "geo_lat": 49.7176,
          "geo_lon": 9.0997,
          "height": 453,
          "name": "Michelstadt-Vielbrunn",
          "state": "Hessen",
          "station_id": "03287"
         },
         {
          "date_end": "2019-08-30T00:00:00+00:00",
          "date_start": "2004-08-11T00:00:00+00:00",
          "geo_lat": 50.7281,
          "geo_lon": 11.7838,
          "height": 355,
          "name": "Schmieritz-Weltwitz",
          "state": "Thüringen",
          "station_id": "03289"
         },
         {
          "date_end": "2019-08-30T00:00:00+00:00",
          "date_start": "2008-01-27T00:00:00+00:00",
          "geo_lat": 47.4779,
          "geo_lon": 11.2653,
          "height": 981,
          "name": "Mittenwald-Buckelwiesen",
          "state": "Bayern",
          "station_id": "03307"
         },
         {
          "date_end": "2019-08-30T00:00:00+00:00",
          "date_start": "2006-06-11T00:00:00+00:00",
          "geo_lat": 49.7644,
          "geo_lon": 9.253,
          "height": 239,
          "name": "Röllbach",
          "state": "Bayern",
          "station_id": "03319"
         },
         {
          "date_end": "2019-08-30T00:00:00+00:00",
          "date_start": "2005-03-30T00:00:00+00:00",
          "geo_lat": 50.4383,
          "geo_lon": 7.8061,
          "height": 265,
          "name": "Montabaur",
          "state": "Rheinland-Pfalz",
          "station_id": "03340"
         },
         {
          "date_end": "2019-08-30T00:00:00+00:00",
          "date_start": "2006-06-20T00:00:00+00:00",
          "geo_lat": 48.9721,
          "geo_lon": 8.8734,
          "height": 244,
          "name": "Mühlacker",
          "state": "Baden-Württemberg",
          "station_id": "03362"
         },
         {
          "date_end": "2019-08-30T00:00:00+00:00",
          "date_start": "1989-03-06T00:00:00+00:00",
          "geo_lat": 48.2791,
          "geo_lon": 12.5024,
          "height": 406,
          "name": "Mühldorf",
          "state": "Bayern",
          "station_id": "03366"
         },
         {
          "date_end": "2019-08-30T00:00:00+00:00",
          "date_start": "2003-12-18T00:00:00+00:00",
          "geo_lat": 52.5176,
          "geo_lon": 14.1232,
          "height": 63,
          "name": "Müncheberg",
          "state": "Brandenburg",
          "station_id": "03376"
         },
         {
          "date_end": "2019-08-30T00:00:00+00:00",
          "date_start": "1997-07-10T00:00:00+00:00",
          "geo_lat": 48.1631,
          "geo_lon": 11.5429,
          "height": 515,
          "name": "München-Stadt",
          "state": "Bayern",
          "station_id": "03379"
         },
         {
          "date_end": "2019-08-30T00:00:00+00:00",
          "date_start": "2002-09-03T00:00:00+00:00",
          "geo_lat": 48.3851,
          "geo_lon": 9.4837,
          "height": 750,
          "name": "Münsingen-Apfelstetten",
          "state": "Baden-Württemberg",
          "station_id": "03402"
         },
         {
          "date_end": "2019-08-30T00:00:00+00:00",
          "date_start": "2002-12-17T00:00:00+00:00",
          "geo_lat": 51.566,
          "geo_lon": 14.7009,
          "height": 125,
          "name": "Muskau, Bad",
          "state": "Sachsen",
          "station_id": "03426"
         },
         {
          "date_end": "2019-08-30T00:00:00+00:00",
          "date_start": "2004-06-30T00:00:00+00:00",
          "geo_lat": 50.3574,
          "geo_lon": 8.7506,
          "height": 149,
          "name": "Nauheim, Bad",
          "state": "Hessen",
          "station_id": "03442"
         },
         {
          "date_end": "2019-08-30T00:00:00+00:00",
          "date_start": "2004-11-21T00:00:00+00:00",
          "geo_lat": 48.3115,
          "geo_lon": 10.3773,
          "height": 486,
          "name": "Neuburg/Kammel-Langenhaslach",
          "state": "Bayern",
          "station_id": "03485"
         },
         {
          "date_end": "2019-08-30T00:00:00+00:00",
          "date_start": "2003-07-06T00:00:00+00:00",
          "geo_lat": 50.5346,
          "geo_lon": 7.0853,
          "height": 111,
          "name": "Neuenahr, Bad-Ahrweiler",
          "state": "Rheinland-Pfalz",
          "station_id": "03490"
         },
         {
          "date_end": "2019-08-30T00:00:00+00:00",
          "date_start": "2004-08-24T00:00:00+00:00",
          "geo_lat": 53.102,
          "geo_lon": 13.0421,
          "height": 77,
          "name": "Menz",
          "state": "Brandenburg",
          "station_id": "03509"
         },
         {
          "date_end": "2019-08-30T00:00:00+00:00",
          "date_start": "1991-11-01T00:00:00+00:00",
          "geo_lat": 50.5002,
          "geo_lon": 11.1344,
          "height": 845,
          "name": "Neuhaus am Rennweg",
          "state": "Thüringen",
          "station_id": "03513"
         },
         {
          "date_end": "2019-08-30T00:00:00+00:00",
          "date_start": "2003-05-22T00:00:00+00:00",
          "geo_lat": 50.8923,
          "geo_lon": 9.405,
          "height": 500,
          "name": "Neukirchen-Hauptschwenda",
          "state": "Hessen",
          "station_id": "03527"
         },
         {
          "date_end": "2019-08-30T00:00:00+00:00",
          "date_start": "2004-08-17T00:00:00+00:00",
          "geo_lat": 50.8446,
          "geo_lon": 7.372,
          "height": 195,
          "name": "Neunkirchen-Seelscheid-Krawi",
          "state": "Nordrhein-Westfalen",
          "station_id": "03540"
         },
         {
          "date_end": "2019-08-30T00:00:00+00:00",
          "date_start": "2004-11-30T00:00:00+00:00",
          "geo_lat": 49.344,
          "geo_lon": 7.2297,
          "height": 236,
          "name": "Neunkirchen-Wellesweiler",
          "state": "Saarland",
          "station_id": "03545"
         },
         {
          "date_end": "2019-08-30T00:00:00+00:00",
          "date_start": "2007-11-27T00:00:00+00:00",
          "geo_lat": 49.8174,
          "geo_lon": 11.8638,
          "height": 452,
          "name": "Neustadt am Kulm-Filchendorf",
          "state": "Bayern",
          "station_id": "03571"
         },
         {
          "date_end": "2019-08-30T00:00:00+00:00",
          "date_start": "2003-06-04T00:00:00+00:00",
          "geo_lat": 50.6743,
          "geo_lon": 6.424,
          "height": 350,
          "name": "Nideggen-Schmidt",
          "state": "Nordrhein-Westfalen",
          "station_id": "03591"
         },
         {
          "date_end": "2019-08-30T00:00:00+00:00",
          "date_start": "2007-02-21T00:00:00+00:00",
          "geo_lat": 52.6711,
          "geo_lon": 9.2229,
          "height": 25,
          "name": "Nienburg",
          "state": "Niedersachsen",
          "station_id": "03612"
         },
         {
          "date_end": "2019-08-30T00:00:00+00:00",
          "date_start": "2005-11-08T00:00:00+00:00",
          "geo_lat": 48.8253,
          "geo_lon": 10.5067,
          "height": 435,
          "name": "Reimlingen",
          "state": "Bayern",
          "station_id": "03621"
         },
         {
          "date_end": "2019-08-30T00:00:00+00:00",
          "date_start": "1993-09-14T00:00:00+00:00",
          "geo_lat": 53.7123,
          "geo_lon": 7.1519,
          "height": 12,
          "name": "Norderney",
          "state": "Niedersachsen",
          "station_id": "03631"
         },
         {
          "date_end": "2019-08-30T00:00:00+00:00",
          "date_start": "1995-05-31T00:00:00+00:00",
          "geo_lat": 50.3601,
          "geo_lon": 6.8697,
          "height": 485,
          "name": "Nürburg-Barweiler",
          "state": "Rheinland-Pfalz",
          "station_id": "03660"
         },
         {
          "date_end": "2019-08-30T00:00:00+00:00",
          "date_start": "2004-11-22T00:00:00+00:00",
          "geo_lat": 49.4258,
          "geo_lon": 11.2538,
          "height": 368,
          "name": "Nürnberg-Netzstall",
          "state": "Bayern",
          "station_id": "03667"
         },
         {
          "date_end": "2019-08-30T00:00:00+00:00",
          "date_start": "1995-08-04T00:00:00+00:00",
          "geo_lat": 49.503,
          "geo_lon": 11.0549,
          "height": 314,
          "name": "Nürnberg",
          "state": "Bayern",
          "station_id": "03668"
         },
         {
          "date_end": "2019-08-30T00:00:00+00:00",
          "date_start": "2006-10-01T00:00:00+00:00",
          "geo_lat": 47.6187,
          "geo_lon": 12.1665,
          "height": 518,
          "name": "Kiefersfelden-Gach",
          "state": "Bayern",
          "station_id": "03679"
         },
         {
          "date_end": "2019-08-30T00:00:00+00:00",
          "date_start": "1994-07-31T00:00:00+00:00",
          "geo_lat": 47.3984,
          "geo_lon": 10.2759,
          "height": 806,
          "name": "Oberstdorf",
          "state": "Bayern",
          "station_id": "03730"
         },
         {
          "date_end": "2019-08-30T00:00:00+00:00",
          "date_start": "2003-09-25T00:00:00+00:00",
          "geo_lat": 49.128,
          "geo_lon": 9.3525,
          "height": 230,
          "name": "Obersulm-Willsbach",
          "state": "Baden-Württemberg",
          "station_id": "03734"
         },
         {
          "date_end": "2019-08-30T00:00:00+00:00",
          "date_start": "2005-01-09T00:00:00+00:00",
          "geo_lat": 49.4521,
          "geo_lon": 12.4366,
          "height": 596,
          "name": "Oberviechtach",
          "state": "Bayern",
          "station_id": "03739"
         },
         {
          "date_end": "2019-08-30T00:00:00+00:00",
          "date_start": "1992-07-01T00:00:00+00:00",
          "geo_lat": 49.207,
          "geo_lon": 9.5175,
          "height": 276,
          "name": "Öhringen",
          "state": "Baden-Württemberg",
          "station_id": "03761"
         },
         {
          "date_end": "2019-08-30T00:00:00+00:00",
          "date_start": "1991-11-06T00:00:00+00:00",
          "geo_lat": 51.296,
          "geo_lon": 13.0928,
          "height": 150,
          "name": "Oschatz",
          "state": "Sachsen",
          "station_id": "03811"
         },
         {
          "date_end": "2019-08-30T00:00:00+00:00",
          "date_start": "1991-11-01T00:00:00+00:00",
          "geo_lat": 51.0873,
          "geo_lon": 11.9292,
          "height": 246,
          "name": "Osterfeld",
          "state": "Sachsen-Anhalt",
          "station_id": "03821"
         },
         {
          "date_end": "2019-08-30T00:00:00+00:00",
          "date_start": "2006-01-03T00:00:00+00:00",
          "geo_lat": 50.4538,
          "geo_lon": 10.2211,
          "height": 312,
          "name": "Ostheim v.d. Rhön",
          "state": "Bayern",
          "station_id": "03836"
         },
         {
          "date_end": "2019-08-30T00:00:00+00:00",
          "date_start": "2004-11-17T00:00:00+00:00",
          "geo_lat": 47.6362,
          "geo_lon": 10.3892,
          "height": 885,
          "name": "Oy-Mittelberg-Petersthal",
          "state": "Bayern",
          "station_id": "03857"
         },
         {
          "date_end": "2019-08-30T00:00:00+00:00",
          "date_start": "2004-10-14T00:00:00+00:00",
          "geo_lat": 49.151,
          "geo_lon": 11.6896,
          "height": 549,
          "name": "Parsberg/Oberpfalz-Eglwang",
          "state": "Bayern",
          "station_id": "03875"
         },
         {
          "date_end": "2019-08-30T00:00:00+00:00",
          "date_start": "2006-08-02T00:00:00+00:00",
          "geo_lat": 54.0893,
          "geo_lon": 10.8773,
          "height": 2,
          "name": "Pelzerhaken",
          "state": "Schleswig-Holstein",
          "station_id": "03897"
         },
         {
          "date_end": "2019-08-30T00:00:00+00:00",
          "date_start": "2004-06-08T00:00:00+00:00",
          "geo_lat": 49.5354,
          "geo_lon": 6.3789,
          "height": 152,
          "name": "Perl-Nennig",
          "state": "Saarland",
          "station_id": "03904"
         },
         {
          "date_end": "2019-08-30T00:00:00+00:00",
          "date_start": "2005-07-08T00:00:00+00:00",
          "geo_lat": 48.9329,
          "geo_lon": 8.6973,
          "height": 333,
          "name": "Pforzheim-Ispringen",
          "state": "Baden-Württemberg",
          "station_id": "03925"
         },
         {
          "date_end": "2019-08-30T00:00:00+00:00",
          "date_start": "2003-07-30T00:00:00+00:00",
          "geo_lat": 47.9344,
          "geo_lon": 9.2869,
          "height": 630,
          "name": "Pfullendorf",
          "state": "Baden-Württemberg",
          "station_id": "03927"
         },
         {
          "date_end": "2019-08-30T00:00:00+00:00",
          "date_start": "2004-06-06T00:00:00+00:00",
          "geo_lat": 49.1912,
          "geo_lon": 7.5879,
          "height": 385,
          "name": "Pirmasens",
          "state": "Rheinland-Pfalz",
          "station_id": "03939"
         },
         {
          "date_end": "2019-08-30T00:00:00+00:00",
          "date_start": "1991-11-01T00:00:00+00:00",
          "geo_lat": 50.4819,
          "geo_lon": 12.13,
          "height": 386,
          "name": "Plauen",
          "state": "Sachsen",
          "station_id": "03946"
         },
         {
          "date_end": "2019-08-30T00:00:00+00:00",
          "date_start": "2004-11-23T00:00:00+00:00",
          "geo_lat": 49.4777,
          "geo_lon": 11.5357,
          "height": 522,
          "name": "Pommelsbrunn-Mittelburg",
          "state": "Bayern",
          "station_id": "03975"
         },
         {
          "date_end": "2019-08-30T00:00:00+00:00",
          "date_start": "1992-08-16T00:00:00+00:00",
          "geo_lat": 52.3813,
          "geo_lon": 13.0622,
          "height": 81,
          "name": "Potsdam",
          "state": "Brandenburg",
          "station_id": "03987"
         },
         {
          "date_end": "2019-08-30T00:00:00+00:00",
          "date_start": "1991-11-01T00:00:00+00:00",
          "geo_lat": 54.3643,
          "geo_lon": 13.4771,
          "height": 40,
          "name": "Putbus",
          "state": "Mecklenburg-Vorpommern",
          "station_id": "04024"
         },
         {
          "date_end": "2019-08-30T00:00:00+00:00",
          "date_start": "2006-11-02T00:00:00+00:00",
          "geo_lat": 51.7953,
          "geo_lon": 11.132,
          "height": 142,
          "name": "Quedlinburg",
          "state": "Sachsen-Anhalt",
          "station_id": "04032"
         },
         {
          "date_end": "2019-08-30T00:00:00+00:00",
          "date_start": "2007-01-16T00:00:00+00:00",
          "geo_lat": 51.3895,
          "geo_lon": 11.5412,
          "height": 204,
          "name": "Querfurt-Mühle Lodersleben",
          "state": "Sachsen-Anhalt",
          "station_id": "04036"
         },
         {
          "date_end": "2019-08-30T00:00:00+00:00",
          "date_start": "2003-05-12T00:00:00+00:00",
          "geo_lat": 53.7331,
          "geo_lon": 9.8776,
          "height": 11,
          "name": "Quickborn",
          "state": "Schleswig-Holstein",
          "station_id": "04039"
         },
         {
          "date_end": "2019-08-30T00:00:00+00:00",
          "date_start": "2002-10-21T00:00:00+00:00",
          "geo_lat": 52.4461,
          "geo_lon": 8.5906,
          "height": 41,
          "name": "Rahden-Kleinendorf",
          "state": "Nordrhein-Westfalen",
          "station_id": "04063"
         },
         {
          "date_end": "2019-08-30T00:00:00+00:00",
          "date_start": "2003-07-16T00:00:00+00:00",
          "geo_lat": 47.8062,
          "geo_lon": 9.6206,
          "height": 440,
          "name": "Weingarten, Kr. Ravensburg",
          "state": "Baden-Württemberg",
          "station_id": "04094"
         },
         {
          "date_end": "2019-08-30T00:00:00+00:00",
          "date_start": "1994-03-15T00:00:00+00:00",
          "geo_lat": 49.0425,
          "geo_lon": 12.1019,
          "height": 365,
          "name": "Regensburg",
          "state": "Bayern",
          "station_id": "04104"
         },
         {
          "date_end": "2019-08-30T00:00:00+00:00",
          "date_start": "2004-12-12T00:00:00+00:00",
          "geo_lat": 50.9906,
          "geo_lon": 7.6958,
          "height": 350,
          "name": "Reichshof-Eckenhagen",
          "state": "Nordrhein-Westfalen",
          "station_id": "04127"
         },
         {
          "date_end": "2019-08-30T00:00:00+00:00",
          "date_start": "2002-07-17T00:00:00+00:00",
          "geo_lat": 48.7425,
          "geo_lon": 8.924,
          "height": 478,
          "name": "Renningen-Ihinger Hof",
          "state": "Baden-Württemberg",
          "station_id": "04160"
         },
         {
          "date_end": "2019-08-30T00:00:00+00:00",
          "date_start": "2002-10-22T00:00:00+00:00",
          "geo_lat": 48.6703,
          "geo_lon": 7.9939,
          "height": 131,
          "name": "Rheinau-Memprechtshofen",
          "state": "Baden-Württemberg",
          "station_id": "04169"
         },
         {
          "date_end": "2019-08-30T00:00:00+00:00",
          "date_start": "2003-04-09T00:00:00+00:00",
          "geo_lat": 47.559,
          "geo_lon": 7.7721,
          "height": 282,
          "name": "Rheinfelden",
          "state": "Baden-Württemberg",
          "station_id": "04175"
         },
         {
          "date_end": "2019-08-30T00:00:00+00:00",
          "date_start": "2008-10-28T00:00:00+00:00",
          "geo_lat": 48.9726,
          "geo_lon": 8.3301,
          "height": 116,
          "name": "Rheinstetten",
          "state": "Baden-Württemberg",
          "station_id": "04177"
         },
         {
          "date_end": "2019-08-30T00:00:00+00:00",
          "date_start": "2003-08-05T00:00:00+00:00",
          "geo_lat": 48.1479,
          "geo_lon": 9.4596,
          "height": 533,
          "name": "Altheim, Kreis Biberach",
          "state": "Baden-Württemberg",
          "station_id": "04189"
         },
         {
          "date_end": "2019-08-30T00:00:00+00:00",
          "date_start": "2006-02-07T00:00:00+00:00",
          "geo_lat": 47.8754,
          "geo_lon": 12.128,
          "height": 444,
          "name": "Rosenheim",
          "state": "Bayern",
          "station_id": "04261"
         },
         {
          "date_end": "2019-08-30T00:00:00+00:00",
          "date_start": "1991-11-13T00:00:00+00:00",
          "geo_lat": 54.1803,
          "geo_lon": 12.0808,
          "height": 4,
          "name": "Rostock-Warnemünde",
          "state": "Mecklenburg-Vorpommern",
          "station_id": "04271"
         },
         {
          "date_end": "2019-08-30T00:00:00+00:00",
          "date_start": "2004-11-10T00:00:00+00:00",
          "geo_lat": 53.1288,
          "geo_lon": 9.3398,
          "height": 32,
          "name": "Rotenburg (Wümme)",
          "state": "Niedersachsen",
          "station_id": "04275"
         },
         {
          "date_end": "2019-08-30T00:00:00+00:00",
          "date_start": "2013-12-11T00:00:00+00:00",
          "geo_lat": 49.2164,
          "geo_lon": 11.1036,
          "height": 386,
          "name": "Roth",
          "state": "Bayern",
          "station_id": "04280"
         },
         {
          "date_end": "2019-08-30T00:00:00+00:00",
          "date_start": "2004-10-05T00:00:00+00:00",
          "geo_lat": 49.3848,
          "geo_lon": 10.1732,
          "height": 415,
          "name": "Rothenburg ob der Tauber",
          "state": "Bayern",
          "station_id": "04287"
         },
         {
          "date_end": "2019-08-30T00:00:00+00:00",
          "date_start": "2002-11-18T00:00:00+00:00",
          "geo_lat": 48.1814,
          "geo_lon": 8.6356,
          "height": 588,
          "name": "Rottweil",
          "state": "Baden-Württemberg",
          "station_id": "04300"
         },
         {
          "date_end": "2019-08-30T00:00:00+00:00",
          "date_start": "2004-08-30T00:00:00+00:00",
          "geo_lat": 49.8502,
          "geo_lon": 7.871,
          "height": 102,
          "name": "Kreuznach, Bad",
          "state": "Rheinland-Pfalz",
          "station_id": "04301"
         },
         {
          "date_end": "2019-08-30T00:00:00+00:00",
          "date_start": "2005-02-08T00:00:00+00:00",
          "geo_lat": 49.6468,
          "geo_lon": 7.8837,
          "height": 461,
          "name": "Ruppertsecken",
          "state": "Rheinland-Pfalz",
          "station_id": "04323"
         },
         {
          "date_end": "2019-08-30T00:00:00+00:00",
          "date_start": "1996-06-20T00:00:00+00:00",
          "geo_lat": 49.2128,
          "geo_lon": 7.1077,
          "height": 320,
          "name": "Saarbrücken-Ensheim",
          "state": "Saarland",
          "station_id": "04336"
         },
         {
          "date_end": "2019-08-30T00:00:00+00:00",
          "date_start": "2004-03-10T00:00:00+00:00",
          "geo_lat": 48.9569,
          "geo_lon": 9.071,
          "height": 248,
          "name": "Sachsenheim",
          "state": "Baden-Württemberg",
          "station_id": "04349"
         },
         {
          "date_end": "2019-08-30T00:00:00+00:00",
          "date_start": "2005-11-29T00:00:00+00:00",
          "geo_lat": 48.7832,
          "geo_lon": 13.3146,
          "height": 456,
          "name": "Saldenburg-Entschenreuth",
          "state": "Bayern",
          "station_id": "04354"
         },
         {
          "date_end": "2019-08-30T00:00:00+00:00",
          "date_start": "1992-06-03T00:00:00+00:00",
          "geo_lat": 52.1042,
          "geo_lon": 8.7521,
          "height": 135,
          "name": "Salzuflen, Bad",
          "state": "Nordrhein-Westfalen",
          "station_id": "04371"
         },
         {
          "date_end": "2019-08-30T00:00:00+00:00",
          "date_start": "2005-07-27T00:00:00+00:00",
          "geo_lat": 50.3518,
          "geo_lon": 10.0034,
          "height": 518,
          "name": "Sandberg",
          "state": "Bayern",
          "station_id": "04377"
         },
         {
          "date_end": "2019-08-30T00:00:00+00:00",
          "date_start": "1999-12-01T00:00:00+00:00",
          "geo_lat": 54.3279,
          "geo_lon": 8.6031,
          "height": 5,
          "name": "Sankt Peter-Ording",
          "state": "Schleswig-Holstein",
          "station_id": "04393"
         },
         {
          "date_end": "2019-08-30T00:00:00+00:00",
          "date_start": "2001-11-01T00:00:00+00:00",
          "geo_lat": 49.9195,
          "geo_lon": 8.9671,
          "height": 155,
          "name": "Schaafheim-Schlierbach",
          "state": "Hessen",
          "station_id": "04411"
         },
         {
          "date_end": "2019-08-30T00:00:00+00:00",
          "date_start": "1991-11-12T00:00:00+00:00",
          "geo_lat": 51.7658,
          "geo_lon": 10.6533,
          "height": 609,
          "name": "Wernigerode-Schierke",
          "state": "Sachsen-Anhalt",
          "station_id": "04445"
         },
         {
          "date_end": "2019-08-30T00:00:00+00:00",
          "date_start": "1991-10-31T00:00:00+00:00",
          "geo_lat": 50.5679,
          "geo_lon": 11.8041,
          "height": 501,
          "name": "Schleiz",
          "state": "Thüringen",
          "station_id": "04464"
         },
         {
          "date_end": "2019-08-30T00:00:00+00:00",
          "date_start": "1991-04-17T00:00:00+00:00",
          "geo_lat": 54.5275,
          "geo_lon": 9.5487,
          "height": 43,
          "name": "Schleswig",
          "state": "Schleswig-Holstein",
          "station_id": "04466"
         },
         {
          "date_end": "2019-08-30T00:00:00+00:00",
          "date_start": "2002-09-30T00:00:00+00:00",
          "geo_lat": 50.3447,
          "geo_lon": 9.5534,
          "height": 230,
          "name": "Schlüchtern-Herolz",
          "state": "Hessen",
          "station_id": "04480"
         },
         {
          "date_end": "2019-08-30T00:00:00+00:00",
          "date_start": "1992-09-19T00:00:00+00:00",
          "geo_lat": 50.6546,
          "geo_lon": 10.7693,
          "height": 937,
          "name": "Schmücke",
          "state": "Thüringen",
          "station_id": "04501"
         },
         {
          "date_end": "2019-08-30T00:00:00+00:00",
          "date_start": "2003-07-14T00:00:00+00:00",
          "geo_lat": 50.2968,
          "geo_lon": 6.4194,
          "height": 649,
          "name": "Schneifelforsthaus",
          "state": "Rheinland-Pfalz",
          "station_id": "04508"
         },
         {
          "date_end": "2019-08-30T00:00:00+00:00",
          "date_start": "2007-04-24T00:00:00+00:00",
          "geo_lat": 50.2046,
          "geo_lon": 12.1435,
          "height": 609,
          "name": "Selb/Oberfranken-Lauterbach",
          "state": "Bayern",
          "station_id": "04548"
         },
         {
          "date_end": "2019-08-30T00:00:00+00:00",
          "date_start": "2004-12-13T00:00:00+00:00",
          "geo_lat": 49.1643,
          "geo_lon": 12.6175,
          "height": 399,
          "name": "Schorndorf-Knöbling",
          "state": "Bayern",
          "station_id": "04559"
         },
         {
          "date_end": "2019-08-30T00:00:00+00:00",
          "date_start": "2004-08-31T00:00:00+00:00",
          "geo_lat": 50.4925,
          "geo_lon": 9.1226,
          "height": 265,
          "name": "Schotten",
          "state": "Hessen",
          "station_id": "04560"
         },
         {
          "date_end": "2019-08-30T00:00:00+00:00",
          "date_start": "2005-09-28T00:00:00+00:00",
          "geo_lat": 49.3278,
          "geo_lon": 12.087,
          "height": 356,
          "name": "Schwandorf",
          "state": "Bayern",
          "station_id": "04592"
         },
         {
          "date_end": "2019-08-30T00:00:00+00:00",
          "date_start": "2003-06-19T00:00:00+00:00",
          "geo_lat": 50.6441,
          "geo_lon": 11.1936,
          "height": 277,
          "name": "Schwarzburg",
          "state": "Thüringen",
          "station_id": "04605"
         },
         {
          "date_end": "2019-08-30T00:00:00+00:00",
          "date_start": "1991-11-01T00:00:00+00:00",
          "geo_lat": 53.6425,
          "geo_lon": 11.3872,
          "height": 59,
          "name": "Schwerin",
          "state": "Mecklenburg-Vorpommern",
          "station_id": "04625"
         },
         {
          "date_end": "2019-08-30T00:00:00+00:00",
          "date_start": "1991-10-31T00:00:00+00:00",
          "geo_lat": 52.8911,
          "geo_lon": 11.7297,
          "height": 21,
          "name": "Seehausen",
          "state": "Sachsen-Anhalt",
          "station_id": "04642"
         },
         {
          "date_end": "2019-08-30T00:00:00+00:00",
          "date_start": "2004-10-13T00:00:00+00:00",
          "geo_lat": 51.904,
          "geo_lon": 10.1885,
          "height": 186,
          "name": "Seesen",
          "state": "Niedersachsen",
          "station_id": "04651"
         },
         {
          "date_end": "2019-08-30T00:00:00+00:00",
          "date_start": "2002-09-01T00:00:00+00:00",
          "geo_lat": 48.0719,
          "geo_lon": 9.1942,
          "height": 580,
          "name": "Sigmaringen-Laiz",
          "state": "Baden-Württemberg",
          "station_id": "04703"
         },
         {
          "date_end": "2019-08-30T00:00:00+00:00",
          "date_start": "2005-01-17T00:00:00+00:00",
          "geo_lat": 47.5776,
          "geo_lon": 9.7404,
          "height": 507,
          "name": "Sigmarszell-Zeisertsweiler",
          "state": "Bayern",
          "station_id": "04704"
         },
         {
          "date_end": "2019-08-30T00:00:00+00:00",
          "date_start": "2004-12-09T00:00:00+00:00",
          "geo_lat": 48.2719,
          "geo_lon": 13.0273,
          "height": 360,
          "name": "Simbach/Inn",
          "state": "Bayern",
          "station_id": "04706"
         },
         {
          "date_end": "2019-08-30T00:00:00+00:00",
          "date_start": "2011-10-05T00:00:00+00:00",
          "geo_lat": 49.9996,
          "geo_lon": 7.5981,
          "height": 445,
          "name": "Simmern-Wahlbach",
          "state": "Rheinland-Pfalz",
          "station_id": "04709"
         },
         {
          "date_end": "2019-08-30T00:00:00+00:00",
          "date_start": "1992-10-27T00:00:00+00:00",
          "geo_lat": 52.9604,
          "geo_lon": 9.793,
          "height": 75,
          "name": "Soltau",
          "state": "Niedersachsen",
          "station_id": "04745"
         },
         {
          "date_end": "2019-08-30T00:00:00+00:00",
          "date_start": "2003-05-19T00:00:00+00:00",
          "geo_lat": 51.0607,
          "geo_lon": 9.9266,
          "height": 265,
          "name": "Sontra",
          "state": "Hessen",
          "station_id": "04763"
         },
         {
          "date_end": "2019-08-30T00:00:00+00:00",
          "date_start": "2004-05-11T00:00:00+00:00",
          "geo_lat": 53.6946,
          "geo_lon": 8.8735,
          "height": 1,
          "name": "Steinau, Kr. Cuxhaven",
          "state": "Niedersachsen",
          "station_id": "04841"
         },
         {
          "date_end": "2019-08-30T00:00:00+00:00",
          "date_start": "2004-07-27T00:00:00+00:00",
          "geo_lat": 53.5534,
          "geo_lon": 9.6097,
          "height": 1,
          "name": "Mittelnkirchen-Hohenfelde",
          "state": "Niedersachsen",
          "station_id": "04857"
         },
         {
          "date_end": "2019-08-30T00:00:00+00:00",
          "date_start": "2004-10-04T00:00:00+00:00",
          "geo_lat": 51.6646,
          "geo_lon": 10.8811,
          "height": 504,
          "name": "Oberharz am Brocken-Stiege",
          "state": "Sachsen-Anhalt",
          "station_id": "04878"
         },
         {
          "date_end": "2019-08-30T00:00:00+00:00",
          "date_start": "1994-12-02T00:00:00+00:00",
          "geo_lat": 48.6656,
          "geo_lon": 9.8648,
          "height": 734,
          "name": "Stötten",
          "state": "Baden-Württemberg",
          "station_id": "04887"
         },
         {
          "date_end": "2019-08-30T00:00:00+00:00",
          "date_start": "2005-05-17T00:00:00+00:00",
          "geo_lat": 54.6654,
          "geo_lon": 9.805,
          "height": 40,
          "name": "Wagersrott",
          "state": "Schleswig-Holstein",
          "station_id": "04896"
         },
         {
          "date_end": "2019-08-30T00:00:00+00:00",
          "date_start": "1996-10-24T00:00:00+00:00",
          "geo_lat": 48.8275,
          "geo_lon": 12.5597,
          "height": 351,
          "name": "Straubing",
          "state": "Bayern",
          "station_id": "04911"
         },
         {
          "date_end": "2019-08-30T00:00:00+00:00",
          "date_start": "1998-06-04T00:00:00+00:00",
          "geo_lat": 48.8281,
          "geo_lon": 9.2,
          "height": 314,
          "name": "Stuttgart (Schnarrenberg)",
          "state": "Baden-Württemberg",
          "station_id": "04928"
         },
         {
          "date_end": "2019-08-30T00:00:00+00:00",
          "date_start": "1995-09-29T00:00:00+00:00",
          "geo_lat": 48.6883,
          "geo_lon": 9.2235,
          "height": 371,
          "name": "Stuttgart-Echterdingen",
          "state": "Baden-Württemberg",
          "station_id": "04931"
         },
         {
          "date_end": "2019-08-30T00:00:00+00:00",
          "date_start": "2002-09-24T00:00:00+00:00",
          "geo_lat": 50.639,
          "geo_lon": 10.0228,
          "height": 395,
          "name": "Tann/Rhön",
          "state": "Hessen",
          "station_id": "04978"
         },
         {
          "date_end": "2019-08-30T00:00:00+00:00",
          "date_start": "2004-10-14T00:00:00+00:00",
          "geo_lat": 50.9771,
          "geo_lon": 12.3419,
          "height": 196,
          "name": "Starkenberg-Tegkwitz",
          "state": "Thüringen",
          "station_id": "04997"
         },
         {
          "date_end": "2019-08-30T00:00:00+00:00",
          "date_start": "1991-10-31T00:00:00+00:00",
          "geo_lat": 53.761,
          "geo_lon": 12.5574,
          "height": 38,
          "name": "Teterow",
          "state": "Mecklenburg-Vorpommern",
          "station_id": "05009"
         },
         {
          "date_end": "2019-08-30T00:00:00+00:00",
          "date_start": "2004-05-11T00:00:00+00:00",
          "geo_lat": 53.2758,
          "geo_lon": 8.9857,
          "height": 7,
          "name": "Worpswede-Hüttenbusch",
          "state": "Niedersachsen",
          "station_id": "05014"
         },
         {
          "date_end": "2019-08-30T00:00:00+00:00",
          "date_start": "2005-07-31T00:00:00+00:00",
          "geo_lat": 50.4002,
          "geo_lon": 11.3889,
          "height": 633,
          "name": "Teuschnitz",
          "state": "Bayern",
          "station_id": "05017"
         },
         {
          "date_end": "2019-08-30T00:00:00+00:00",
          "date_start": "1993-11-10T00:00:00+00:00",
          "geo_lat": 49.4738,
          "geo_lon": 7.0386,
          "height": 386,
          "name": "Tholey",
          "state": "Saarland",
          "station_id": "05029"
         },
         {
          "date_end": "2019-08-30T00:00:00+00:00",
          "date_start": "2008-01-29T00:00:00+00:00",
          "geo_lat": 49.8576,
          "geo_lon": 12.3542,
          "height": 500,
          "name": "Tirschenreuth-Lodermühl",
          "state": "Bayern",
          "station_id": "05046"
         },
         {
          "date_end": "2019-08-30T00:00:00+00:00",
          "date_start": "2004-10-19T00:00:00+00:00",
          "geo_lat": 51.2897,
          "geo_lon": 6.4437,
          "height": 37,
          "name": "Tönisvorst",
          "state": "Nordrhein-Westfalen",
          "station_id": "05064"
         },
         {
          "date_end": "2019-08-30T00:00:00+00:00",
          "date_start": "2004-11-22T00:00:00+00:00",
          "geo_lat": 54.0661,
          "geo_lon": 12.7675,
          "height": 10,
          "name": "Tribsees",
          "state": "Mecklenburg-Vorpommern",
          "station_id": "05097"
         },
         {
          "date_end": "2019-08-30T00:00:00+00:00",
          "date_start": "2008-04-09T00:00:00+00:00",
          "geo_lat": 49.7326,
          "geo_lon": 6.6131,
          "height": 132,
          "name": "Trier-Zewen",
          "state": "Rheinland-Pfalz",
          "station_id": "05099"
         },
         {
          "date_end": "2019-08-30T00:00:00+00:00",
          "date_start": "2000-10-18T00:00:00+00:00",
          "geo_lat": 49.7479,
          "geo_lon": 6.6582,
          "height": 265,
          "name": "Trier-Petrisberg",
          "state": "Rheinland-Pfalz",
          "station_id": "05100"
         },
         {
          "date_end": "2019-08-30T00:00:00+00:00",
          "date_start": "2013-10-01T00:00:00+00:00",
          "geo_lat": 53.5997,
          "geo_lon": 13.3039,
          "height": 69,
          "name": "Trollenhagen",
          "state": "Mecklenburg-Vorpommern",
          "station_id": "05109"
         },
         {
          "date_end": "2019-08-30T00:00:00+00:00",
          "date_start": "2005-12-19T00:00:00+00:00",
          "geo_lat": 48.0311,
          "geo_lon": 12.5396,
          "height": 559,
          "name": "Trostberg",
          "state": "Bayern",
          "station_id": "05111"
         },
         {
          "date_end": "2019-08-30T00:00:00+00:00",
          "date_start": "2004-07-26T00:00:00+00:00",
          "geo_lat": 51.3344,
          "geo_lon": 8.9132,
          "height": 295,
          "name": "Twistetal-Mühlhausen",
          "state": "Hessen",
          "station_id": "05133"
         },
         {
          "date_end": "2019-08-30T00:00:00+00:00",
          "date_start": "1992-08-16T00:00:00+00:00",
          "geo_lat": 53.7444,
          "geo_lon": 14.0697,
          "height": 1,
          "name": "Ueckermünde",
          "state": "Mecklenburg-Vorpommern",
          "station_id": "05142"
         },
         {
          "date_end": "2019-08-30T00:00:00+00:00",
          "date_start": "2003-07-14T00:00:00+00:00",
          "geo_lat": 52.9414,
          "geo_lon": 10.5289,
          "height": 50,
          "name": "Uelzen",
          "state": "Niedersachsen",
          "station_id": "05146"
         },
         {
          "date_end": "2019-08-30T00:00:00+00:00",
          "date_start": "2004-10-05T00:00:00+00:00",
          "geo_lat": 49.5741,
          "geo_lon": 10.1916,
          "height": 308,
          "name": "Gollhofen",
          "state": "Bayern",
          "station_id": "05149"
         },
         {
          "date_end": "2019-08-30T00:00:00+00:00",
          "date_start": "1991-11-05T00:00:00+00:00",
          "geo_lat": 52.1601,
          "geo_lon": 11.1759,
          "height": 162,
          "name": "Ummendorf",
          "state": "Sachsen-Anhalt",
          "station_id": "05158"
         },
         {
          "date_end": "2019-08-30T00:00:00+00:00",
          "date_start": "2003-04-14T00:00:00+00:00",
          "geo_lat": 48.0453,
          "geo_lon": 8.4608,
          "height": 720,
          "name": "Villingen-Schwenningen",
          "state": "Baden-Württemberg",
          "station_id": "05229"
         },
         {
          "date_end": "2019-08-30T00:00:00+00:00",
          "date_start": "2003-03-13T00:00:00+00:00",
          "geo_lat": 49.2445,
          "geo_lon": 8.5374,
          "height": 105,
          "name": "Waghäusel-Kirrlach",
          "state": "Baden-Württemberg",
          "station_id": "05275"
         },
         {
          "date_end": "2019-08-30T00:00:00+00:00",
          "date_start": "2004-06-01T00:00:00+00:00",
          "geo_lat": 51.6194,
          "geo_lon": 9.5749,
          "height": 176,
          "name": "Wahlsburg-Lippoldsberg",
          "state": "Hessen",
          "station_id": "05279"
         },
         {
          "date_end": "2019-08-30T00:00:00+00:00",
          "date_start": "2007-02-16T00:00:00+00:00",
          "geo_lat": 53.9224,
          "geo_lon": 10.2267,
          "height": 35,
          "name": "Wittenborn",
          "state": "Schleswig-Holstein",
          "station_id": "05280"
         },
         {
          "date_end": "2019-08-30T00:00:00+00:00",
          "date_start": "2003-05-25T00:00:00+00:00",
          "geo_lat": 50.2596,
          "geo_lon": 8.3607,
          "height": 380,
          "name": "Waldems-Reinborn",
          "state": "Hessen",
          "station_id": "05300"
         },
         {
          "date_end": "2019-08-30T00:00:00+00:00",
          "date_start": "2006-06-14T00:00:00+00:00",
          "geo_lat": 50.8963,
          "geo_lon": 10.5484,
          "height": 348,
          "name": "Waltershausen",
          "state": "Thüringen",
          "station_id": "05335"
         },
         {
          "date_end": "2019-08-30T00:00:00+00:00",
          "date_start": "2006-09-27T00:00:00+00:00",
          "geo_lat": 51.504,
          "geo_lon": 9.1118,
          "height": 236,
          "name": "Warburg",
          "state": "Nordrhein-Westfalen",
          "station_id": "05347"
         },
         {
          "date_end": "2019-08-30T00:00:00+00:00",
          "date_start": "1994-03-23T00:00:00+00:00",
          "geo_lat": 53.5196,
          "geo_lon": 12.6654,
          "height": 73,
          "name": "Waren (Müritz)",
          "state": "Mecklenburg-Vorpommern",
          "station_id": "05349"
         },
         {
          "date_end": "2019-08-30T00:00:00+00:00",
          "date_start": "1996-10-23T00:00:00+00:00",
          "geo_lat": 50.4973,
          "geo_lon": 9.9428,
          "height": 921,
          "name": "Wasserkuppe",
          "state": "Hessen",
          "station_id": "05371"
         },
         {
          "date_end": "2019-08-30T00:00:00+00:00",
          "date_start": "1991-07-04T00:00:00+00:00",
          "geo_lat": 49.6663,
          "geo_lon": 12.1845,
          "height": 440,
          "name": "Weiden",
          "state": "Bayern",
          "station_id": "05397"
         },
         {
          "date_end": "2019-08-30T00:00:00+00:00",
          "date_start": "1997-01-01T00:00:00+00:00",
          "geo_lat": 48.4025,
          "geo_lon": 11.6946,
          "height": 477,
          "name": "Weihenstephan-Dürnast",
          "state": "Bayern",
          "station_id": "05404"
         },
         {
          "date_end": "2019-08-30T00:00:00+00:00",
          "date_start": "2007-05-04T00:00:00+00:00",
          "geo_lat": 51.0177,
          "geo_lon": 11.3544,
          "height": 328,
          "name": "Weimar-Schöndorf",
          "state": "Thüringen",
          "station_id": "05424"
         },
         {
          "date_end": "2019-08-30T00:00:00+00:00",
          "date_start": "1993-10-27T00:00:00+00:00",
          "geo_lat": 49.3758,
          "geo_lon": 8.1213,
          "height": 553,
          "name": "Weinbiet",
          "state": "Rheinland-Pfalz",
          "station_id": "05426"
         },
         {
          "date_end": "2019-08-30T00:00:00+00:00",
          "date_start": "2003-05-14T00:00:00+00:00",
          "geo_lat": 49.5534,
          "geo_lon": 6.812,
          "height": 380,
          "name": "Weiskirchen/Saar",
          "state": "Saarland",
          "station_id": "05433"
         },
         {
          "date_end": "2019-08-30T00:00:00+00:00",
          "date_start": "1988-10-14T00:00:00+00:00",
          "geo_lat": 49.0116,
          "geo_lon": 10.9308,
          "height": 439,
          "name": "Weißenburg-Emetzheim",
          "state": "Bayern",
          "station_id": "05440"
         },
         {
          "date_end": "2019-08-30T00:00:00+00:00",
          "date_start": "2003-09-10T00:00:00+00:00",
          "geo_lat": 51.5763,
          "geo_lon": 7.8879,
          "height": 85,
          "name": "Werl",
          "state": "Nordrhein-Westfalen",
          "station_id": "05480"
         },
         {
          "date_end": "2019-08-30T00:00:00+00:00",
          "date_start": "1991-10-31T00:00:00+00:00",
          "geo_lat": 51.8454,
          "geo_lon": 10.7686,
          "height": 233,
          "name": "Wernigerode",
          "state": "Sachsen-Anhalt",
          "station_id": "05490"
         },
         {
          "date_end": "2019-08-30T00:00:00+00:00",
          "date_start": "1996-05-31T00:00:00+00:00",
          "geo_lat": 54.5284,
          "geo_lon": 11.0605,
          "height": 3,
          "name": "Fehmarn",
          "state": "Schleswig-Holstein",
          "station_id": "05516"
         },
         {
          "date_end": "2019-08-30T00:00:00+00:00",
          "date_start": "2004-11-16T00:00:00+00:00",
          "geo_lat": 47.8827,
          "geo_lon": 11.1576,
          "height": 550,
          "name": "Wielenbach (Demollstr.)",
          "state": "Bayern",
          "station_id": "05538"
         },
         {
          "date_end": "2019-08-30T00:00:00+00:00",
          "date_start": "2004-07-11T00:00:00+00:00",
          "geo_lat": 50.132,
          "geo_lon": 8.317,
          "height": 263,
          "name": "Wiesbaden-Auringen",
          "state": "Hessen",
          "station_id": "05541"
         },
         {
          "date_end": "2019-08-30T00:00:00+00:00",
          "date_start": "1991-10-13T00:00:00+00:00",
          "geo_lat": 52.1207,
          "geo_lon": 12.4585,
          "height": 187,
          "name": "Wiesenburg",
          "state": "Brandenburg",
          "station_id": "05546"
         },
         {
          "date_end": "2019-08-30T00:00:00+00:00",
          "date_start": "2002-09-08T00:00:00+00:00",
          "geo_lat": 48.6516,
          "geo_lon": 8.6801,
          "height": 570,
          "name": "Neubulach-Oberhaugstett",
          "state": "Baden-Württemberg",
          "station_id": "05562"
         },
         {
          "date_end": "2019-08-30T00:00:00+00:00",
          "date_start": "1992-04-16T00:00:00+00:00",
          "geo_lat": 51.8892,
          "geo_lon": 12.6445,
          "height": 105,
          "name": "Wittenberg",
          "state": "Sachsen-Anhalt",
          "station_id": "05629"
         },
         {
          "date_end": "2019-08-30T00:00:00+00:00",
          "date_start": "2004-09-23T00:00:00+00:00",
          "geo_lat": 53.1864,
          "geo_lon": 12.4949,
          "height": 66,
          "name": "Wittstock-Rote Mühle",
          "state": "Brandenburg",
          "station_id": "05643"
         },
         {
          "date_end": "2019-08-30T00:00:00+00:00",
          "date_start": "2003-03-24T00:00:00+00:00",
          "geo_lat": 48.2953,
          "geo_lon": 8.2391,
          "height": 291,
          "name": "Wolfach",
          "state": "Baden-Württemberg",
          "station_id": "05664"
         },
         {
          "date_end": "2019-08-30T00:00:00+00:00",
          "date_start": "2010-07-19T00:00:00+00:00",
          "geo_lat": 52.3962,
          "geo_lon": 10.6892,
          "height": 82,
          "name": "Wolfsburg (Südwest)",
          "state": "Niedersachsen",
          "station_id": "05676"
         },
         {
          "date_end": "2019-08-30T00:00:00+00:00",
          "date_start": "2018-10-17T00:00:00+00:00",
          "geo_lat": 47.7003,
          "geo_lon": 8.1057,
          "height": 880,
          "name": "Dachsberg-Wolpadingen",
          "state": "Baden-Württemberg",
          "station_id": "05688"
         },
         {
          "date_end": "2019-08-30T00:00:00+00:00",
          "date_start": "2004-05-05T00:00:00+00:00",
          "geo_lat": 49.6051,
          "geo_lon": 8.3659,
          "height": 88,
          "name": "Worms",
          "state": "Rheinland-Pfalz",
          "station_id": "05692"
         },
         {
          "date_end": "2019-08-30T00:00:00+00:00",
          "date_start": "1992-10-26T00:00:00+00:00",
          "geo_lat": 49.7703,
          "geo_lon": 9.9577,
          "height": 268,
          "name": "Würzburg",
          "state": "Bayern",
          "station_id": "05705"
         },
         {
          "date_end": "2019-08-30T00:00:00+00:00",
          "date_start": "2006-07-05T00:00:00+00:00",
          "geo_lat": 51.2256,
          "geo_lon": 7.1052,
          "height": 134,
          "name": "Wuppertal-Buchenhofen",
          "state": "Nordrhein-Westfalen",
          "station_id": "05717"
         },
         {
          "date_end": "2019-08-30T00:00:00+00:00",
          "date_start": "2003-07-15T00:00:00+00:00",
          "geo_lat": 47.6783,
          "geo_lon": 8.3801,
          "height": 398,
          "name": "Wutöschingen-Ofteringen",
          "state": "Baden-Württemberg",
          "station_id": "05731"
         },
         {
          "date_end": "2019-08-30T00:00:00+00:00",
          "date_start": "2004-04-19T00:00:00+00:00",
          "geo_lat": 52.9664,
          "geo_lon": 13.3268,
          "height": 51,
          "name": "Zehdenick",
          "state": "Brandenburg",
          "station_id": "05745"
         },
         {
          "date_end": "2019-08-29T00:00:00+00:00",
          "date_start": "2004-11-30T00:00:00+00:00",
          "geo_lat": 51.0314,
          "geo_lon": 12.1495,
          "height": 264,
          "name": "Zeitz",
          "state": "Sachsen-Anhalt",
          "station_id": "05750"
         },
         {
          "date_end": "2019-08-24T00:00:00+00:00",
          "date_start": "1991-11-01T00:00:00+00:00",
          "geo_lat": 50.7314,
          "geo_lon": 13.7516,
          "height": 877,
          "name": "Zinnwald-Georgenfeld",
          "state": "Sachsen",
          "station_id": "05779"
         },
         {
          "date_end": "2019-08-30T00:00:00+00:00",
          "date_start": "1994-07-31T00:00:00+00:00",
          "geo_lat": 47.4209,
          "geo_lon": 10.9847,
          "height": 2964,
          "name": "Zugspitze",
          "state": "Bayern",
          "station_id": "05792"
         },
         {
          "date_end": "2019-08-30T00:00:00+00:00",
          "date_start": "2005-10-09T00:00:00+00:00",
          "geo_lat": 50.6878,
          "geo_lon": 12.4329,
          "height": 353,
          "name": "Lichtentanne",
          "state": "Sachsen",
          "station_id": "05797"
         },
         {
          "date_end": "2019-08-30T00:00:00+00:00",
          "date_start": "2006-07-06T00:00:00+00:00",
          "geo_lat": 49.028,
          "geo_lon": 13.2385,
          "height": 615,
          "name": "Zwiesel",
          "state": "Bayern",
          "station_id": "05800"
         },
         {
          "date_end": "2019-08-30T00:00:00+00:00",
          "date_start": "2003-01-07T00:00:00+00:00",
          "geo_lat": 52.6198,
          "geo_lon": 12.7867,
          "height": 40,
          "name": "Berge",
          "state": "Brandenburg",
          "station_id": "05825"
         },
         {
          "date_end": "2019-08-30T00:00:00+00:00",
          "date_start": "1997-07-09T00:00:00+00:00",
          "geo_lat": 53.3881,
          "geo_lon": 7.2287,
          "height": 0,
          "name": "Emden",
          "state": "Niedersachsen",
          "station_id": "05839"
         },
         {
          "date_end": "2019-08-30T00:00:00+00:00",
          "date_start": "1996-12-30T00:00:00+00:00",
          "geo_lat": 48.5451,
          "geo_lon": 13.3531,
          "height": 476,
          "name": "Fürstenzell",
          "state": "Bayern",
          "station_id": "05856"
         },
         {
          "date_end": "2019-08-30T00:00:00+00:00",
          "date_start": "1998-12-22T00:00:00+00:00",
          "geo_lat": 49.9462,
          "geo_lon": 7.2645,
          "height": 497,
          "name": "Hahn",
          "state": "Rheinland-Pfalz",
          "station_id": "05871"
         },
         {
          "date_end": "2019-08-30T00:00:00+00:00",
          "date_start": "1993-07-14T00:00:00+00:00",
          "geo_lat": 49.5062,
          "geo_lon": 8.5585,
          "height": 98,
          "name": "Mannheim",
          "state": "Baden-Württemberg",
          "station_id": "05906"
         },
         {
          "date_end": "2019-08-30T00:00:00+00:00",
          "date_start": "2007-09-27T00:00:00+00:00",
          "geo_lat": 54.641,
          "geo_lon": 10.0238,
          "height": 1,
          "name": "Schönhagen (Ostseebad)",
          "state": "Schleswig-Holstein",
          "station_id": "05930"
         },
         {
          "date_end": "2019-08-30T00:00:00+00:00",
          "date_start": "2006-12-04T00:00:00+00:00",
          "geo_lat": 47.6754,
          "geo_lon": 12.4698,
          "height": 685,
          "name": "Reit im Winkl",
          "state": "Bayern",
          "station_id": "05941"
         },
         {
          "date_end": "2019-08-30T00:00:00+00:00",
          "date_start": "2003-03-27T00:00:00+00:00",
          "geo_lat": 53.2139,
          "geo_lon": 10.4704,
          "height": 62,
          "name": "Wendisch Evern",
          "state": "Niedersachsen",
          "station_id": "06093"
         },
         {
          "date_end": "2019-08-30T00:00:00+00:00",
          "date_start": "2003-07-09T00:00:00+00:00",
          "geo_lat": 54.3194,
          "geo_lon": 9.8051,
          "height": 14,
          "name": "Ostenfeld (Rendsburg)",
          "state": "Schleswig-Holstein",
          "station_id": "06105"
         },
         {
          "date_end": "2019-08-30T00:00:00+00:00",
          "date_start": "2004-05-31T00:00:00+00:00",
          "geo_lat": 53.3837,
          "geo_lon": 14.3728,
          "height": 50,
          "name": "Grambow-Schwennenz",
          "state": "Mecklenburg-Vorpommern",
          "station_id": "06109"
         },
         {
          "date_end": "2019-08-30T00:00:00+00:00",
          "date_start": "2004-09-15T00:00:00+00:00",
          "geo_lat": 51.0593,
          "geo_lon": 14.4266,
          "height": 290,
          "name": "Sohland/Spree",
          "state": "Sachsen",
          "station_id": "06129"
         },
         {
          "date_end": "2019-08-30T00:00:00+00:00",
          "date_start": "2007-08-21T00:00:00+00:00",
          "geo_lat": 53.641,
          "geo_lon": 8.0808,
          "height": 8,
          "name": "Wangerland-Hooksiel",
          "state": "Niedersachsen",
          "station_id": "06157"
         },
         {
          "date_end": "2019-08-30T00:00:00+00:00",
          "date_start": "2004-09-27T00:00:00+00:00",
          "geo_lat": 49.2247,
          "geo_lon": 10.6084,
          "height": 455,
          "name": "Weidenbach-Weiherschneidbach",
          "state": "Bayern",
          "station_id": "06158"
         },
         {
          "date_end": "2019-08-30T00:00:00+00:00",
          "date_start": "2008-10-31T00:00:00+00:00",
          "geo_lat": 52.9542,
          "geo_lon": 7.3196,
          "height": 8,
          "name": "Dörpen",
          "state": "Niedersachsen",
          "station_id": "06159"
         },
         {
          "date_end": "2019-08-30T00:00:00+00:00",
          "date_start": "2006-11-15T00:00:00+00:00",
          "geo_lat": 54.1654,
          "geo_lon": 10.3519,
          "height": 27,
          "name": "Dörnick",
          "state": "Schleswig-Holstein",
          "station_id": "06163"
         },
         {
          "date_end": "2019-08-30T00:00:00+00:00",
          "date_start": "2003-03-11T00:00:00+00:00",
          "geo_lat": 52.0192,
          "geo_lon": 14.7254,
          "height": 40,
          "name": "Coschen",
          "state": "Brandenburg",
          "station_id": "06170"
         },
         {
          "date_end": "2019-08-30T00:00:00+00:00",
          "date_start": "2006-09-27T00:00:00+00:00",
          "geo_lat": 51.8664,
          "geo_lon": 9.2709,
          "height": 258,
          "name": "Lügde-Paenbruch",
          "state": "Nordrhein-Westfalen",
          "station_id": "06197"
         },
         {
          "date_end": "2019-08-30T00:00:00+00:00",
          "date_start": "2004-08-24T00:00:00+00:00",
          "geo_lat": 54.2484,
          "geo_lon": 13.0418,
          "height": 16,
          "name": "Steinhagen-Negast",
          "state": "Mecklenburg-Vorpommern",
          "station_id": "06199"
         },
         {
          "date_end": "2019-08-30T00:00:00+00:00",
          "date_start": "2004-07-19T00:00:00+00:00",
          "geo_lat": 49.2406,
          "geo_lon": 6.9351,
          "height": 190,
          "name": "Saarbrücken-Burbach",
          "state": "Saarland",
          "station_id": "06217"
         },
         {
          "date_end": "2019-08-30T00:00:00+00:00",
          "date_start": "2002-09-01T00:00:00+00:00",
          "geo_lat": 47.6845,
          "geo_lon": 9.4409,
          "height": 459,
          "name": "Friedrichshafen-Unterraderac",
          "state": "Baden-Württemberg",
          "station_id": "06258"
         },
         {
          "date_end": "2019-08-30T00:00:00+00:00",
          "date_start": "2002-06-19T00:00:00+00:00",
          "geo_lat": 49.021,
          "geo_lon": 9.6032,
          "height": 523,
          "name": "Großerlach-Mannenweiler",
          "state": "Baden-Württemberg",
          "station_id": "06259"
         },
         {
          "date_end": "2019-08-30T00:00:00+00:00",
          "date_start": "2002-09-09T00:00:00+00:00",
          "geo_lat": 49.3328,
          "geo_lon": 9.704,
          "height": 385,
          "name": "Ingelfingen-Stachenhausen",
          "state": "Baden-Württemberg",
          "station_id": "06260"
         },
         {
          "date_end": "2019-08-30T00:00:00+00:00",
          "date_start": "2002-06-18T00:00:00+00:00",
          "geo_lat": 48.7695,
          "geo_lon": 9.8737,
          "height": 413,
          "name": "Schwäbisch Gmünd-Weiler",
          "state": "Baden-Württemberg",
          "station_id": "06262"
         },
         {
          "date_end": "2019-08-30T00:00:00+00:00",
          "date_start": "2003-07-28T00:00:00+00:00",
          "geo_lat": 47.7738,
          "geo_lon": 8.8219,
          "height": 445,
          "name": "Singen",
          "state": "Baden-Württemberg",
          "station_id": "06263"
         },
         {
          "date_end": "2019-08-30T00:00:00+00:00",
          "date_start": "2002-11-13T00:00:00+00:00",
          "geo_lat": 51.414,
          "geo_lon": 8.65,
          "height": 457,
          "name": "Brilon-Thülen",
          "state": "Nordrhein-Westfalen",
          "station_id": "06264"
         },
         {
          "date_end": "2019-08-30T00:00:00+00:00",
          "date_start": "2002-12-11T00:00:00+00:00",
          "geo_lat": 52.3613,
          "geo_lon": 12.3867,
          "height": 36,
          "name": "Wusterwitz",
          "state": "Brandenburg",
          "station_id": "06265"
         },
         {
          "date_end": "2019-08-30T00:00:00+00:00",
          "date_start": "2003-03-12T00:00:00+00:00",
          "geo_lat": 52.0304,
          "geo_lon": 10.9626,
          "height": 112,
          "name": "Huy-Pabstorf",
          "state": "Sachsen-Anhalt",
          "station_id": "06266"
         },
         {
          "date_end": "2019-08-30T00:00:00+00:00",
          "date_start": "2004-08-10T00:00:00+00:00",
          "geo_lat": 50.8426,
          "geo_lon": 10.2518,
          "height": 283,
          "name": "Moorgrund Gräfen-Nitzendorf",
          "state": "Thüringen",
          "station_id": "06272"
         },
         {
          "date_end": "2019-08-30T00:00:00+00:00",
          "date_start": "2002-10-16T00:00:00+00:00",
          "geo_lat": 52.5075,
          "geo_lon": 11.8551,
          "height": 36,
          "name": "Demker",
          "state": "Sachsen-Anhalt",
          "station_id": "06273"
         },
         {
          "date_end": "2019-08-30T00:00:00+00:00",
          "date_start": "2003-05-22T00:00:00+00:00",
          "geo_lat": 48.6705,
          "geo_lon": 9.4627,
          "height": 325,
          "name": "Notzingen",
          "state": "Baden-Württemberg",
          "station_id": "06275"
         },
         {
          "date_end": "2019-08-30T00:00:00+00:00",
          "date_start": "2004-09-01T00:00:00+00:00",
          "geo_lat": 51.2061,
          "geo_lon": 10.4978,
          "height": 193,
          "name": "Mühlhausen/Thüringen-Görmar",
          "state": "Thüringen",
          "station_id": "06305"
         },
         {
          "date_end": "2019-08-30T00:00:00+00:00",
          "date_start": "2004-06-13T00:00:00+00:00",
          "geo_lat": 54.1049,
          "geo_lon": 13.8239,
          "height": 1,
          "name": "Karlshagen",
          "state": "Mecklenburg-Vorpommern",
          "station_id": "06310"
         },
         {
          "date_end": "2019-08-30T00:00:00+00:00",
          "date_start": "2004-09-27T00:00:00+00:00",
          "geo_lat": 49.5314,
          "geo_lon": 10.6418,
          "height": 362,
          "name": "Markt Erlbach-Mosbach",
          "state": "Bayern",
          "station_id": "06312"
         },
         {
          "date_end": "2019-08-30T00:00:00+00:00",
          "date_start": "2005-06-08T00:00:00+00:00",
          "geo_lat": 51.0507,
          "geo_lon": 13.3003,
          "height": 308,
          "name": "Nossen",
          "state": "Sachsen",
          "station_id": "06314"
         },
         {
          "date_end": "2019-08-30T00:00:00+00:00",
          "date_start": "2005-09-26T00:00:00+00:00",
          "geo_lat": 50.0132,
          "geo_lon": 9.654,
          "height": 285,
          "name": "Lohr/Main-Halsbach",
          "state": "Bayern",
          "station_id": "06336"
         },
         {
          "date_end": "2019-08-30T00:00:00+00:00",
          "date_start": "2004-06-20T00:00:00+00:00",
          "geo_lat": 51.7663,
          "geo_lon": 7.5194,
          "height": 59,
          "name": "Lüdinghausen-Brochtrup",
          "state": "Nordrhein-Westfalen",
          "station_id": "06337"
         },
         {
          "date_end": "2019-08-30T00:00:00+00:00",
          "date_start": "2004-10-19T00:00:00+00:00",
          "geo_lat": 50.394,
          "geo_lon": 8.1423,
          "height": 168,
          "name": "Runkel-Ennerich",
          "state": "Hessen",
          "station_id": "06344"
         },
         {
          "date_end": "2019-08-30T00:00:00+00:00",
          "date_start": "2004-11-26T00:00:00+00:00",
          "geo_lat": 48.207,
          "geo_lon": 11.2035,
          "height": 531,
          "name": "Maisach-Galgen",
          "state": "Bayern",
          "station_id": "06346"
         },
         {
          "date_end": "2019-08-30T00:00:00+00:00",
          "date_start": "2004-10-06T00:00:00+00:00",
          "geo_lat": 50.0579,
          "geo_lon": 10.2972,
          "height": 304,
          "name": "Schonungen-Mainberg",
          "state": "Bayern",
          "station_id": "06347"
         },
         {
          "date_end": "2019-08-30T00:00:00+00:00",
          "date_start": "2004-10-24T00:00:00+00:00",
          "geo_lat": 48.702,
          "geo_lon": 11.8493,
          "height": 425,
          "name": "Elsendorf-Horneck",
          "state": "Bayern",
          "station_id": "07075"
         },
         {
          "date_end": "2019-08-30T00:00:00+00:00",
          "date_start": "2004-10-13T00:00:00+00:00",
          "geo_lat": 52.0111,
          "geo_lon": 10.3966,
          "height": 187,
          "name": "Liebenburg-Othfresen",
          "state": "Niedersachsen",
          "station_id": "07099"
         },
         {
          "date_end": "2019-08-30T00:00:00+00:00",
          "date_start": "2005-04-10T00:00:00+00:00",
          "geo_lat": 47.835,
          "geo_lon": 12.6548,
          "height": 719,
          "name": "Siegsdorf-Höll",
          "state": "Bayern",
          "station_id": "07105"
         },
         {
          "date_end": "2019-08-30T00:00:00+00:00",
          "date_start": "2006-07-23T00:00:00+00:00",
          "geo_lat": 52.0714,
          "geo_lon": 8.4565,
          "height": 105,
          "name": "Bielefeld-Deppendorf",
          "state": "Nordrhein-Westfalen",
          "station_id": "07106"
         },
         {
          "date_end": "2019-08-30T00:00:00+00:00",
          "date_start": "2004-11-04T00:00:00+00:00",
          "geo_lat": 49.7636,
          "geo_lon": 9.4063,
          "height": 193,
          "name": "Freudenberg/Main-Boxtal",
          "state": "Baden-Württemberg",
          "station_id": "07187"
         },
         {
          "date_end": "2019-08-30T00:00:00+00:00",
          "date_start": "2005-05-17T00:00:00+00:00",
          "geo_lat": 54.5268,
          "geo_lon": 9.0425,
          "height": 5,
          "name": "Hattstedt",
          "state": "Schleswig-Holstein",
          "station_id": "07298"
         },
         {
          "date_end": "2019-08-30T00:00:00+00:00",
          "date_start": "2004-10-25T00:00:00+00:00",
          "geo_lat": 48.7374,
          "geo_lon": 10.7393,
          "height": 435,
          "name": "Donauwörth-Osterweiler",
          "state": "Bayern",
          "station_id": "07319"
         },
         {
          "date_end": "2019-08-30T00:00:00+00:00",
          "date_start": "2005-07-05T00:00:00+00:00",
          "geo_lat": 51.1507,
          "geo_lon": 11.3321,
          "height": 160,
          "name": "Olbersleben",
          "state": "Thüringen",
          "station_id": "07321"
         },
         {
          "date_end": "2019-08-30T00:00:00+00:00",
          "date_start": "2005-09-08T00:00:00+00:00",
          "geo_lat": 50.5467,
          "geo_lon": 12.2863,
          "height": 465,
          "name": "Treuen",
          "state": "Sachsen",
          "station_id": "07329"
         },
         {
          "date_end": "2019-08-30T00:00:00+00:00",
          "date_start": "2005-07-05T00:00:00+00:00",
          "geo_lat": 51.4633,
          "geo_lon": 7.978,
          "height": 159,
          "name": "Arnsberg-Neheim",
          "state": "Nordrhein-Westfalen",
          "station_id": "07330"
         },
         {
          "date_end": "2019-08-30T00:00:00+00:00",
          "date_start": "2005-08-07T00:00:00+00:00",
          "geo_lat": 48.6099,
          "geo_lon": 10.2674,
          "height": 468,
          "name": "Hermaringen-Allewind",
          "state": "Baden-Württemberg",
          "station_id": "07331"
         },
         {
          "date_end": "2019-08-30T00:00:00+00:00",
          "date_start": "2005-06-22T00:00:00+00:00",
          "geo_lat": 50.09,
          "geo_lon": 8.7862,
          "height": 119,
          "name": "Offenbach-Wetterpark",
          "state": "Hessen",
          "station_id": "07341"
         },
         {
          "date_end": "2019-08-30T00:00:00+00:00",
          "date_start": "2006-01-11T00:00:00+00:00",
          "geo_lat": 50.6199,
          "geo_lon": 13.4816,
          "height": 688,
          "name": "Deutschneudorf-Brüderwiese",
          "state": "Sachsen",
          "station_id": "07343"
         },
         {
          "date_end": "2019-08-30T00:00:00+00:00",
          "date_start": "2006-05-15T00:00:00+00:00",
          "geo_lat": 49.1088,
          "geo_lon": 12.8231,
          "height": 588,
          "name": "Prackenbach-Neuhäusl",
          "state": "Bayern",
          "station_id": "07350"
         },
         {
          "date_end": "2019-08-30T00:00:00+00:00",
          "date_start": "2005-09-08T00:00:00+00:00",
          "geo_lat": 53.3175,
          "geo_lon": 13.4175,
          "height": 116,
          "name": "Feldberg/Mecklenburg",
          "state": "Mecklenburg-Vorpommern",
          "station_id": "07351"
         },
         {
          "date_end": "2019-08-30T00:00:00+00:00",
          "date_start": "2006-12-07T00:00:00+00:00",
          "geo_lat": 51.682,
          "geo_lon": 12.3042,
          "height": 74,
          "name": "Jeßnitz",
          "state": "Sachsen-Anhalt",
          "station_id": "07364"
         },
         {
          "date_end": "2019-08-30T00:00:00+00:00",
          "date_start": "2007-11-08T00:00:00+00:00",
          "geo_lat": 51.9643,
          "geo_lon": 9.8072,
          "height": 144,
          "name": "Alfeld",
          "state": "Niedersachsen",
          "station_id": "07367"
         },
         {
          "date_end": "2019-08-30T00:00:00+00:00",
          "date_start": "2007-10-04T00:00:00+00:00",
          "geo_lat": 51.0007,
          "geo_lon": 10.3621,
          "height": 312,
          "name": "Eisenach",
          "state": "Thüringen",
          "station_id": "07368"
         },
         {
          "date_end": "2019-08-30T00:00:00+00:00",
          "date_start": "2007-09-26T00:00:00+00:00",
          "geo_lat": 49.1623,
          "geo_lon": 10.3662,
          "height": 475,
          "name": "Feuchtwangen-Heilbronn",
          "state": "Bayern",
          "station_id": "07369"
         },
         {
          "date_end": "2019-08-30T00:00:00+00:00",
          "date_start": "2006-07-27T00:00:00+00:00",
          "geo_lat": 49.391,
          "geo_lon": 12.6838,
          "height": 499,
          "name": "Waldmünchen",
          "state": "Bayern",
          "station_id": "07370"
         },
         {
          "date_end": "2019-08-30T00:00:00+00:00",
          "date_start": "2006-01-16T00:00:00+00:00",
          "geo_lat": 53.5984,
          "geo_lon": 6.7024,
          "height": 3,
          "name": "Borkum-Flugplatz",
          "state": "Niedersachsen",
          "station_id": "07373"
         },
         {
          "date_end": "2019-08-30T00:00:00+00:00",
          "date_start": "2005-12-06T00:00:00+00:00",
          "geo_lat": 52.0814,
          "geo_lon": 6.941,
          "height": 46,
          "name": "Ahaus",
          "state": "Nordrhein-Westfalen",
          "station_id": "07374"
         },
         {
          "date_end": "2019-08-30T00:00:00+00:00",
          "date_start": "2006-10-11T00:00:00+00:00",
          "geo_lat": 52.7461,
          "geo_lon": 13.8427,
          "height": 82,
          "name": "Heckelberg",
          "state": "Brandenburg",
          "station_id": "07389"
         },
         {
          "date_end": "2019-08-30T00:00:00+00:00",
          "date_start": "2009-12-16T00:00:00+00:00",
          "geo_lat": 51.4493,
          "geo_lon": 14.2533,
          "height": 116,
          "name": "Hoyerswerda",
          "state": "Sachsen",
          "station_id": "07393"
         },
         {
          "date_end": "2019-08-30T00:00:00+00:00",
          "date_start": "2006-06-01T00:00:00+00:00",
          "geo_lat": 50.0315,
          "geo_lon": 11.9745,
          "height": 622,
          "name": "Wunsiedel-Schönbrunn",
          "state": "Bayern",
          "station_id": "07394"
         },
         {
          "date_end": "2019-08-30T00:00:00+00:00",
          "date_start": "2007-11-09T00:00:00+00:00",
          "geo_lat": 48.6595,
          "geo_lon": 12.5388,
          "height": 351,
          "name": "Gottfrieding",
          "state": "Bayern",
          "station_id": "07395"
         },
         {
          "date_end": "2019-08-30T00:00:00+00:00",
          "date_start": "2008-04-01T00:00:00+00:00",
          "geo_lat": 50.5084,
          "geo_lon": 9.2247,
          "height": 743,
          "name": "Hoherodskopf/Vogelsberg",
          "state": "Hessen",
          "station_id": "07396"
         },
         {
          "date_end": "2019-08-30T00:00:00+00:00",
          "date_start": "2007-02-26T00:00:00+00:00",
          "geo_lat": 47.7955,
          "geo_lon": 10.0324,
          "height": 672,
          "name": "Leutkirch-Herlazhofen",
          "state": "Baden-Württemberg",
          "station_id": "07403"
         },
         {
          "date_end": "2019-08-30T00:00:00+00:00",
          "date_start": "2006-09-20T00:00:00+00:00",
          "geo_lat": 50.0083,
          "geo_lon": 9.4239,
          "height": 340,
          "name": "Neuhütten/Spessart",
          "state": "Bayern",
          "station_id": "07412"
         },
         {
          "date_end": "2019-08-30T00:00:00+00:00",
          "date_start": "2006-08-22T00:00:00+00:00",
          "geo_lat": 50.661,
          "geo_lon": 12.0756,
          "height": 389,
          "name": "Langenwetzendorf-Göttendorf",
          "state": "Thüringen",
          "station_id": "07419"
         },
         {
          "date_end": "2019-08-30T00:00:00+00:00",
          "date_start": "2007-02-04T00:00:00+00:00",
          "geo_lat": 51.1044,
          "geo_lon": 11.7112,
          "height": 246,
          "name": "Naumburg/Saale-Kreipitzsch",
          "state": "Sachsen-Anhalt",
          "station_id": "07420"
         },
         {
          "date_end": "2019-08-30T00:00:00+00:00",
          "date_start": "2006-10-19T00:00:00+00:00",
          "geo_lat": 47.7724,
          "geo_lon": 12.9073,
          "height": 457,
          "name": "Piding",
          "state": "Bayern",
          "station_id": "07424"
         },
         {
          "date_end": "2019-08-30T00:00:00+00:00",
          "date_start": "2007-08-07T00:00:00+00:00",
          "geo_lat": 54.0188,
          "geo_lon": 9.9255,
          "height": 17,
          "name": "Padenstedt (Pony-Park)",
          "state": "Schleswig-Holstein",
          "station_id": "07427"
         },
         {
          "date_end": "2019-08-30T00:00:00+00:00",
          "date_start": "2007-03-22T00:00:00+00:00",
          "geo_lat": 50.4167,
          "geo_lon": 10.8156,
          "height": 397,
          "name": "Veilsdorf",
          "state": "Thüringen",
          "station_id": "07428"
         },
         {
          "date_end": "2019-08-30T00:00:00+00:00",
          "date_start": "2007-09-11T00:00:00+00:00",
          "geo_lat": 48.013,
          "geo_lon": 11.5524,
          "height": 604,
          "name": "Oberhaching-Laufzorn",
          "state": "Bayern",
          "station_id": "07431"
         },
         {
          "date_end": "2019-08-30T00:00:00+00:00",
          "date_start": "2007-04-03T00:00:00+00:00",
          "geo_lat": 52.6423,
          "geo_lon": 10.6627,
          "height": 72,
          "name": "Wittingen-Vorhop",
          "state": "Niedersachsen",
          "station_id": "07432"
         },
         {
          "date_end": "2019-08-30T00:00:00+00:00",
          "date_start": "2007-05-04T00:00:00+00:00",
          "geo_lat": 51.5088,
          "geo_lon": 6.7018,
          "height": 24,
          "name": "Duisburg-Baerl",
          "state": "Nordrhein-Westfalen",
          "station_id": "13670"
         },
         {
          "date_end": "2019-08-30T00:00:00+00:00",
          "date_start": "2007-07-11T00:00:00+00:00",
          "geo_lat": 49.2943,
          "geo_lon": 8.9053,
          "height": 237,
          "name": "Waibstadt",
          "state": "Baden-Württemberg",
          "station_id": "13674"
         },
         {
          "date_end": "2019-08-30T00:00:00+00:00",
          "date_start": "2007-10-10T00:00:00+00:00",
          "geo_lat": 52.0818,
          "geo_lon": 9.4077,
          "height": 77,
          "name": "Hameln-Hastenbeck",
          "state": "Niedersachsen",
          "station_id": "13675"
         },
         {
          "date_end": "2019-08-30T00:00:00+00:00",
          "date_start": "2007-10-23T00:00:00+00:00",
          "geo_lat": 51.5966,
          "geo_lon": 7.4049,
          "height": 60,
          "name": "Waltrop-Abdinghof",
          "state": "Nordrhein-Westfalen",
          "station_id": "13696"
         },
         {
          "date_end": "2019-08-30T00:00:00+00:00",
          "date_start": "2008-03-25T00:00:00+00:00",
          "geo_lat": 51.3329,
          "geo_lon": 7.3411,
          "height": 205,
          "name": "Gevelsberg-Oberbröking",
          "state": "Nordrhein-Westfalen",
          "station_id": "13700"
         },
         {
          "date_end": "2019-08-30T00:00:00+00:00",
          "date_start": "2008-03-10T00:00:00+00:00",
          "geo_lat": 48.5734,
          "geo_lon": 12.2576,
          "height": 490,
          "name": "Landshut-Reithof",
          "state": "Bayern",
          "station_id": "13710"
         },
         {
          "date_end": "2019-08-30T00:00:00+00:00",
          "date_start": "2007-10-23T00:00:00+00:00",
          "geo_lat": 50.6819,
          "geo_lon": 11.515,
          "height": 289,
          "name": "Krölpa-Rockendorf",
          "state": "Thüringen",
          "station_id": "13711"
         },
         {
          "date_end": "2019-08-30T00:00:00+00:00",
          "date_start": "2007-10-08T00:00:00+00:00",
          "geo_lat": 51.0899,
          "geo_lon": 7.629,
          "height": 380,
          "name": "Meinerzhagen-Redlendorf",
          "state": "Nordrhein-Westfalen",
          "station_id": "13713"
         },
         {
          "date_end": "2019-08-30T00:00:00+00:00",
          "date_start": "2008-05-18T00:00:00+00:00",
          "geo_lat": 52.2467,
          "geo_lon": 10.9592,
          "height": 110,
          "name": "Helmstedt-Emmerstedt",
          "state": "Niedersachsen",
          "station_id": "13777"
         },
         {
          "date_end": "2019-08-30T00:00:00+00:00",
          "date_start": "2008-10-29T00:00:00+00:00",
          "geo_lat": 48.2639,
          "geo_lon": 8.8134,
          "height": 619,
          "name": "Balingen-Bronnhaupten",
          "state": "Baden-Württemberg",
          "station_id": "13965"
         },
         {
          "date_end": "2019-08-30T00:00:00+00:00",
          "date_start": "2011-03-11T00:00:00+00:00",
          "geo_lat": 50.7983,
          "geo_lon": 6.0244,
          "height": 231,
          "name": "Aachen-Orsbach",
          "state": "Nordrhein-Westfalen",
          "station_id": "15000"
         },
         {
          "date_end": "2019-08-30T00:00:00+00:00",
          "date_start": "2013-11-01T00:00:00+00:00",
          "geo_lat": 51.2835,
          "geo_lon": 9.359,
          "height": 317,
          "name": "Schauenburg-Elgershausen",
          "state": "Hessen",
          "station_id": "15207"
         },
         {
          "date_end": "2019-08-30T00:00:00+00:00",
          "date_start": "2014-08-14T00:00:00+00:00",
          "geo_lat": 48.4418,
          "geo_lon": 9.9216,
          "height": 593,
          "name": "Ulm-Mähringen",
          "state": "Baden-Württemberg",
          "station_id": "15444"
         },
         {
          "date_end": "2019-08-30T00:00:00+00:00",
          "date_start": "2016-04-27T00:00:00+00:00",
          "geo_lat": 47.8761,
          "geo_lon": 10.5848,
          "height": 816,
          "name": "Kaufbeuren-Oberbeuren",
          "state": "Bayern",
          "station_id": "15555"
         },
         {
          "date_end": "2019-07-31T00:00:00+00:00",
          "date_start": "2007-02-08T00:00:00+00:00",
          "geo_lat": 52.9336,
          "geo_lon": 8.237,
          "height": 44,
          "name": "Großenkneten",
          "state": "Niedersachsen",
          "station_id": "00044"
         },
         {
          "date_end": "2019-07-31T00:00:00+00:00",
          "date_start": "2004-10-20T00:00:00+00:00",
          "geo_lat": 48.2156,
          "geo_lon": 8.9784,
          "height": 759,
          "name": "Albstadt-Badkap",
          "state": "Baden-Württemberg",
          "station_id": "00071"
         },
         {
          "date_end": "2019-07-31T00:00:00+00:00",
          "date_start": "2007-02-13T00:00:00+00:00",
          "geo_lat": 48.6159,
          "geo_lon": 13.0506,
          "height": 340,
          "name": "Aldersbach-Kriestorf",
          "state": "Bayern",
          "station_id": "00073"
         },
         {
          "date_end": "2019-07-31T00:00:00+00:00",
          "date_start": "2004-10-10T00:00:00+00:00",
          "geo_lat": 52.4853,
          "geo_lon": 7.9126,
          "height": 65,
          "name": "Alfhausen",
          "state": "Niedersachsen",
          "station_id": "00078"
         },
         {
          "date_end": "2019-07-31T00:00:00+00:00",
          "date_start": "2002-08-19T00:00:00+00:00",
          "geo_lat": 50.7446,
          "geo_lon": 9.345,
          "height": 300,
          "name": "Alsfeld-Eifa",
          "state": "Hessen",
          "station_id": "00091"
         },
         {
          "date_end": "2019-07-31T00:00:00+00:00",
          "date_start": "2019-04-09T00:00:00+00:00",
          "geo_lat": 52.9437,
          "geo_lon": 12.8518,
          "height": 50,
          "name": "Neuruppin-Alt Ruppin",
          "state": "Brandenburg",
          "station_id": "00096"
         },
         {
          "date_end": "2019-07-31T00:00:00+00:00",
          "date_start": "2004-09-07T00:00:00+00:00",
          "geo_lat": 51.0881,
          "geo_lon": 12.9326,
          "height": 296,
          "name": "Geringswalde-Altgeringswalde",
          "state": "Sachsen",
          "station_id": "00131"
         },
         {
          "date_end": "2019-07-31T00:00:00+00:00",
          "date_start": "2005-10-25T00:00:00+00:00",
          "geo_lat": 48.406,
          "geo_lon": 11.3117,
          "height": 510,
          "name": "Altomünster-Maisbrunn",
          "state": "Bayern",
          "station_id": "00142"
         },
         {
          "date_end": "2019-07-31T00:00:00+00:00",
          "date_start": "2004-09-05T00:00:00+00:00",
          "geo_lat": 49.7273,
          "geo_lon": 8.1164,
          "height": 215,
          "name": "Alzey",
          "state": "Rheinland-Pfalz",
          "station_id": "00150"
         },
         {
          "date_end": "2019-07-31T00:00:00+00:00",
          "date_start": "2004-11-23T00:00:00+00:00",
          "geo_lat": 49.4691,
          "geo_lon": 11.8546,
          "height": 383,
          "name": "Amberg-Unterammersricht",
          "state": "Bayern",
          "station_id": "00151"
         },
         {
          "date_end": "2019-07-31T00:00:00+00:00",
          "date_start": "2005-01-12T00:00:00+00:00",
          "geo_lat": 48.0197,
          "geo_lon": 12.2924,
          "height": 515,
          "name": "Amerang-Pfaffing",
          "state": "Bayern",
          "station_id": "00154"
         },
         {
          "date_end": "2019-07-31T00:00:00+00:00",
          "date_start": "2011-08-30T00:00:00+00:00",
          "geo_lat": 50.4237,
          "geo_lon": 7.4202,
          "height": 75,
          "name": "Andernach",
          "state": "Rheinland-Pfalz",
          "station_id": "00161"
         },
         {
          "date_end": "2019-07-31T00:00:00+00:00",
          "date_start": "1991-10-31T00:00:00+00:00",
          "geo_lat": 53.0316,
          "geo_lon": 13.9908,
          "height": 54,
          "name": "Angermünde",
          "state": "Brandenburg",
          "station_id": "00164"
         },
         {
          "date_end": "2019-07-31T00:00:00+00:00",
          "date_start": "2004-05-31T00:00:00+00:00",
          "geo_lat": 53.8412,
          "geo_lon": 13.6846,
          "height": 9,
          "name": "Anklam",
          "state": "Mecklenburg-Vorpommern",
          "station_id": "00167"
         },
         {
          "date_end": "2019-07-31T00:00:00+00:00",
          "date_start": "1991-11-01T00:00:00+00:00",
          "geo_lat": 54.6792,
          "geo_lon": 13.4343,
          "height": 42,
          "name": "Arkona",
          "state": "Mecklenburg-Vorpommern",
          "station_id": "00183"
         },
         {
          "date_end": "2019-07-31T00:00:00+00:00",
          "date_start": "2004-11-03T00:00:00+00:00",
          "geo_lat": 49.9695,
          "geo_lon": 9.9113,
          "height": 220,
          "name": "Arnstein-Müdesheim",
          "state": "Bayern",
          "station_id": "00191"
         },
         {
          "date_end": "2019-07-31T00:00:00+00:00",
          "date_start": "1991-10-31T00:00:00+00:00",
          "geo_lat": 51.3745,
          "geo_lon": 11.292,
          "height": 164,
          "name": "Artern",
          "state": "Thüringen",
          "station_id": "00198"
         },
         {
          "date_end": "2019-07-31T00:00:00+00:00",
          "date_start": "2004-11-16T00:00:00+00:00",
          "geo_lat": 47.8774,
          "geo_lon": 11.3642,
          "height": 672,
          "name": "Attenkam",
          "state": "Bayern",
          "station_id": "00217"
         },
         {
          "date_end": "2019-07-31T00:00:00+00:00",
          "date_start": "1991-11-01T00:00:00+00:00",
          "geo_lat": 50.5907,
          "geo_lon": 12.714,
          "height": 387,
          "name": "Aue",
          "state": "Sachsen",
          "station_id": "00222"
         },
         {
          "date_end": "2019-07-31T00:00:00+00:00",
          "date_start": "1996-11-07T00:00:00+00:00",
          "geo_lat": 48.4254,
          "geo_lon": 10.942,
          "height": 461,
          "name": "Augsburg",
          "state": "Bayern",
          "station_id": "00232"
         },
         {
          "date_end": "2019-07-31T00:00:00+00:00",
          "date_start": "2002-09-08T00:00:00+00:00",
          "geo_lat": 48.727,
          "geo_lon": 8.2458,
          "height": 240,
          "name": "Baden-Baden-Geroldsau",
          "state": "Baden-Württemberg",
          "station_id": "00257"
         },
         {
          "date_end": "2019-07-31T00:00:00+00:00",
          "date_start": "2003-03-24T00:00:00+00:00",
          "geo_lat": 47.8064,
          "geo_lon": 7.6387,
          "height": 273,
          "name": "Müllheim",
          "state": "Baden-Württemberg",
          "station_id": "00259"
         },
         {
          "date_end": "2019-07-31T00:00:00+00:00",
          "date_start": "1995-05-31T00:00:00+00:00",
          "geo_lat": 49.8742,
          "geo_lon": 10.9206,
          "height": 240,
          "name": "Bamberg",
          "state": "Bayern",
          "station_id": "00282"
         },
         {
          "date_end": "2019-07-31T00:00:00+00:00",
          "date_start": "2004-04-22T00:00:00+00:00",
          "geo_lat": 52.3199,
          "geo_lon": 9.43,
          "height": 110,
          "name": "Barsinghausen-Hohenbostel",
          "state": "Niedersachsen",
          "station_id": "00294"
         },
         {
          "date_end": "2019-07-31T00:00:00+00:00",
          "date_start": "1991-10-31T00:00:00+00:00",
          "geo_lat": 54.3406,
          "geo_lon": 12.7108,
          "height": 3,
          "name": "Barth",
          "state": "Mecklenburg-Vorpommern",
          "station_id": "00298"
         },
         {
          "date_end": "2019-07-31T00:00:00+00:00",
          "date_start": "1993-09-01T00:00:00+00:00",
          "geo_lat": 52.0614,
          "geo_lon": 13.4996,
          "height": 55,
          "name": "Baruth",
          "state": "Brandenburg",
          "station_id": "00303"
         },
         {
          "date_end": "2019-07-31T00:00:00+00:00",
          "date_start": "2003-07-13T00:00:00+00:00",
          "geo_lat": 51.1604,
          "geo_lon": 14.5042,
          "height": 232,
          "name": "Kubschütz, Kr. Bautzen",
          "state": "Sachsen",
          "station_id": "00314"
         },
         {
          "date_end": "2019-07-31T00:00:00+00:00",
          "date_start": "2006-05-10T00:00:00+00:00",
          "geo_lat": 49.9667,
          "geo_lon": 11.5197,
          "height": 350,
          "name": "Heinersreuth-Vollhof",
          "state": "Bayern",
          "station_id": "00320"
         },
         {
          "date_end": "2019-07-31T00:00:00+00:00",
          "date_start": "2004-06-08T00:00:00+00:00",
          "geo_lat": 49.5617,
          "geo_lon": 8.9673,
          "height": 450,
          "name": "Oberzent-Beerfelden",
          "state": "Hessen",
          "station_id": "00330"
         },
         {
          "date_end": "2019-07-31T00:00:00+00:00",
          "date_start": "2010-11-30T00:00:00+00:00",
          "geo_lat": 52.317,
          "geo_lon": 8.1694,
          "height": 103,
          "name": "Belm",
          "state": "Niedersachsen",
          "station_id": "00342"
         },
         {
          "date_end": "2019-07-31T00:00:00+00:00",
          "date_start": "2003-03-13T00:00:00+00:00",
          "geo_lat": 49.107,
          "geo_lon": 7.9967,
          "height": 210,
          "name": "Bergzabern, Bad",
          "state": "Rheinland-Pfalz",
          "station_id": "00377"
         },
         {
          "date_end": "2019-07-31T00:00:00+00:00",
          "date_start": "2017-08-07T00:00:00+00:00",
          "geo_lat": 50.9074,
          "geo_lon": 11.2665,
          "height": 303,
          "name": "Berka, Bad (Flugplatz)",
          "state": "Thüringen",
          "station_id": "00379"
         },
         {
          "date_end": "2019-07-31T00:00:00+00:00",
          "date_start": "2003-01-22T00:00:00+00:00",
          "geo_lat": 50.9837,
          "geo_lon": 8.3683,
          "height": 610,
          "name": "Berleburg, Bad-Stünzel",
          "state": "Nordrhein-Westfalen",
          "station_id": "00390"
         },
         {
          "date_end": "2019-07-31T00:00:00+00:00",
          "date_start": "2003-06-09T00:00:00+00:00",
          "geo_lat": 52.6309,
          "geo_lon": 13.5022,
          "height": 60,
          "name": "Berlin-Buch",
          "state": "Berlin",
          "station_id": "00400"
         },
         {
          "date_end": "2019-07-31T00:00:00+00:00",
          "date_start": "2007-06-27T00:00:00+00:00",
          "geo_lat": 52.5447,
          "geo_lon": 13.5598,
          "height": 60,
          "name": "Berlin-Marzahn",
          "state": "Berlin",
          "station_id": "00420"
         },
         {
          "date_end": "2019-07-31T00:00:00+00:00",
          "date_start": "1991-10-31T00:00:00+00:00",
          "geo_lat": 52.3807,
          "geo_lon": 13.5306,
          "height": 46,
          "name": "Berlin-Schönefeld",
          "state": "Brandenburg",
          "station_id": "00427"
         },
         {
          "date_end": "2019-07-31T00:00:00+00:00",
          "date_start": "1994-12-22T00:00:00+00:00",
          "geo_lat": 52.5644,
          "geo_lon": 13.3088,
          "height": 36,
          "name": "Berlin-Tegel",
          "state": "Berlin",
          "station_id": "00430"
         },
         {
          "date_end": "2019-07-31T00:00:00+00:00",
          "date_start": "1995-01-01T00:00:00+00:00",
          "geo_lat": 52.4675,
          "geo_lon": 13.4021,
          "height": 48,
          "name": "Berlin-Tempelhof",
          "state": "Berlin",
          "station_id": "00433"
         },
         {
          "date_end": "2019-07-31T00:00:00+00:00",
          "date_start": "2003-05-27T00:00:00+00:00",
          "geo_lat": 51.8218,
          "geo_lon": 11.7109,
          "height": 84,
          "name": "Bernburg/Saale (Nord)",
          "state": "Sachsen-Anhalt",
          "station_id": "00445"
         },
         {
          "date_end": "2019-07-31T00:00:00+00:00",
          "date_start": "1993-09-30T00:00:00+00:00",
          "geo_lat": 49.264,
          "geo_lon": 6.6868,
          "height": 363,
          "name": "Berus",
          "state": "Saarland",
          "station_id": "00460"
         },
         {
          "date_end": "2019-07-31T00:00:00+00:00",
          "date_start": "2003-04-23T00:00:00+00:00",
          "geo_lat": 50.0372,
          "geo_lon": 7.3079,
          "height": 417,
          "name": "Blankenrath",
          "state": "Rheinland-Pfalz",
          "station_id": "00535"
         },
         {
          "date_end": "2019-07-31T00:00:00+00:00",
          "date_start": "1991-10-31T00:00:00+00:00",
          "geo_lat": 53.3911,
          "geo_lon": 10.6878,
          "height": 45,
          "name": "Boizenburg",
          "state": "Mecklenburg-Vorpommern",
          "station_id": "00591"
         },
         {
          "date_end": "2019-07-31T00:00:00+00:00",
          "date_start": "1991-11-06T00:00:00+00:00",
          "geo_lat": 54.0028,
          "geo_lon": 11.1908,
          "height": 15,
          "name": "Boltenhagen",
          "state": "Mecklenburg-Vorpommern",
          "station_id": "00596"
         },
         {
          "date_end": "2019-07-31T00:00:00+00:00",
          "date_start": "2007-10-24T00:00:00+00:00",
          "geo_lat": 50.7349,
          "geo_lon": 7.1931,
          "height": 159,
          "name": "Bonn-Roleber",
          "state": "Nordrhein-Westfalen",
          "station_id": "00603"
         },
         {
          "date_end": "2019-07-31T00:00:00+00:00",
          "date_start": "2003-01-22T00:00:00+00:00",
          "geo_lat": 51.873,
          "geo_lon": 6.8863,
          "height": 47,
          "name": "Borken in Westfalen",
          "state": "Nordrhein-Westfalen",
          "station_id": "00617"
         },
         {
          "date_end": "2019-07-31T00:00:00+00:00",
          "date_start": "1991-08-08T00:00:00+00:00",
          "geo_lat": 51.7234,
          "geo_lon": 10.6021,
          "height": 607,
          "name": "Braunlage",
          "state": "Niedersachsen",
          "station_id": "00656"
         },
         {
          "date_end": "2019-07-31T00:00:00+00:00",
          "date_start": "1997-07-01T00:00:00+00:00",
          "geo_lat": 52.2915,
          "geo_lon": 10.4464,
          "height": 81,
          "name": "Braunschweig",
          "state": "Niedersachsen",
          "station_id": "00662"
         },
         {
          "date_end": "2019-07-31T00:00:00+00:00",
          "date_start": "1991-06-19T00:00:00+00:00",
          "geo_lat": 53.045,
          "geo_lon": 8.7979,
          "height": 4,
          "name": "Bremen",
          "state": "Bremen",
          "station_id": "00691"
         },
         {
          "date_end": "2019-07-31T00:00:00+00:00",
          "date_start": "1997-11-19T00:00:00+00:00",
          "geo_lat": 53.5332,
          "geo_lon": 8.5761,
          "height": 7,
          "name": "Bremerhaven",
          "state": "Bremen",
          "station_id": "00701"
         },
         {
          "date_end": "2019-07-31T00:00:00+00:00",
          "date_start": "2002-07-16T00:00:00+00:00",
          "geo_lat": 53.4451,
          "geo_lon": 9.139,
          "height": 11,
          "name": "Bremervörde",
          "state": "Niedersachsen",
          "station_id": "00704"
         },
         {
          "date_end": "2019-07-31T00:00:00+00:00",
          "date_start": "1997-06-04T00:00:00+00:00",
          "geo_lat": 51.7986,
          "geo_lon": 10.6183,
          "height": 1134,
          "name": "Brocken",
          "state": "Sachsen-Anhalt",
          "station_id": "00722"
         },
         {
          "date_end": "2019-07-31T00:00:00+00:00",
          "date_start": "2004-03-23T00:00:00+00:00",
          "geo_lat": 49.5182,
          "geo_lon": 9.3213,
          "height": 340,
          "name": "Buchen, Kr. Neckar-Odenwald",
          "state": "Baden-Württemberg",
          "station_id": "00755"
         },
         {
          "date_end": "2019-07-31T00:00:00+00:00",
          "date_start": "2003-03-25T00:00:00+00:00",
          "geo_lat": 47.9625,
          "geo_lon": 7.9983,
          "height": 445,
          "name": "Buchenbach",
          "state": "Baden-Württemberg",
          "station_id": "00757"
         },
         {
          "date_end": "2019-07-31T00:00:00+00:00",
          "date_start": "2017-11-23T00:00:00+00:00",
          "geo_lat": 53.3629,
          "geo_lon": 9.9435,
          "height": 82,
          "name": "Rosengarten-Klecken",
          "state": "Niedersachsen",
          "station_id": "00760"
         },
         {
          "date_end": "2019-07-31T00:00:00+00:00",
          "date_start": "2004-09-26T00:00:00+00:00",
          "geo_lat": 51.0306,
          "geo_lon": 8.8146,
          "height": 293,
          "name": "Burgwald-Bottendorf",
          "state": "Hessen",
          "station_id": "00817"
         },
         {
          "date_end": "2019-07-31T00:00:00+00:00",
          "date_start": "1991-11-06T00:00:00+00:00",
          "geo_lat": 50.4313,
          "geo_lon": 12.6114,
          "height": 897,
          "name": "Carlsfeld",
          "state": "Sachsen",
          "station_id": "00840"
         },
         {
          "date_end": "2019-07-31T00:00:00+00:00",
          "date_start": "1991-11-06T00:00:00+00:00",
          "geo_lat": 50.7913,
          "geo_lon": 12.872,
          "height": 418,
          "name": "Chemnitz",
          "state": "Sachsen",
          "station_id": "00853"
         },
         {
          "date_end": "2019-07-31T00:00:00+00:00",
          "date_start": "2003-05-01T00:00:00+00:00",
          "geo_lat": 47.8843,
          "geo_lon": 12.5404,
          "height": 551,
          "name": "Chieming",
          "state": "Bayern",
          "station_id": "00856"
         },
         {
          "date_end": "2019-07-31T00:00:00+00:00",
          "date_start": "1992-02-14T00:00:00+00:00",
          "geo_lat": 50.3066,
          "geo_lon": 10.9679,
          "height": 344,
          "name": "Lautertal-Oberlauter",
          "state": "Bayern",
          "station_id": "00867"
         },
         {
          "date_end": "2019-07-31T00:00:00+00:00",
          "date_start": "1991-10-31T00:00:00+00:00",
          "geo_lat": 51.776,
          "geo_lon": 14.3168,
          "height": 69,
          "name": "Cottbus",
          "state": "Brandenburg",
          "station_id": "00880"
         },
         {
          "date_end": "2019-07-31T00:00:00+00:00",
          "date_start": "1999-04-28T00:00:00+00:00",
          "geo_lat": 53.8713,
          "geo_lon": 8.7058,
          "height": 5,
          "name": "Cuxhaven",
          "state": "Niedersachsen",
          "station_id": "00891"
         },
         {
          "date_end": "2019-07-31T00:00:00+00:00",
          "date_start": "2003-06-10T00:00:00+00:00",
          "geo_lat": 51.0778,
          "geo_lon": 10.8619,
          "height": 170,
          "name": "Dachwig",
          "state": "Thüringen",
          "station_id": "00896"
         },
         {
          "date_end": "2019-07-31T00:00:00+00:00",
          "date_start": "2004-07-12T00:00:00+00:00",
          "geo_lat": 49.8809,
          "geo_lon": 8.6779,
          "height": 162,
          "name": "Darmstadt",
          "state": "Hessen",
          "station_id": "00917"
         },
         {
          "date_end": "2019-07-31T00:00:00+00:00",
          "date_start": "1997-07-30T00:00:00+00:00",
          "geo_lat": 49.7619,
          "geo_lon": 7.0541,
          "height": 481,
          "name": "Deuselbach",
          "state": "Rheinland-Pfalz",
          "station_id": "00953"
         },
         {
          "date_end": "2019-07-31T00:00:00+00:00",
          "date_start": "1996-06-13T00:00:00+00:00",
          "geo_lat": 52.5881,
          "geo_lon": 8.3424,
          "height": 38,
          "name": "Diepholz",
          "state": "Niedersachsen",
          "station_id": "00963"
         },
         {
          "date_end": "2019-07-31T00:00:00+00:00",
          "date_start": "2003-07-07T00:00:00+00:00",
          "geo_lat": 50.7364,
          "geo_lon": 8.2672,
          "height": 314,
          "name": "Dillenburg",
          "state": "Hessen",
          "station_id": "00979"
         },
         {
          "date_end": "2019-07-31T00:00:00+00:00",
          "date_start": "2006-10-03T00:00:00+00:00",
          "geo_lat": 48.5562,
          "geo_lon": 10.5599,
          "height": 419,
          "name": "Dillingen/Donau-Fristingen",
          "state": "Bayern",
          "station_id": "00983"
         },
         {
          "date_end": "2019-07-31T00:00:00+00:00",
          "date_start": "2004-09-12T00:00:00+00:00",
          "geo_lat": 50.9117,
          "geo_lon": 13.7087,
          "height": 365,
          "name": "Dippoldiswalde-Reinberg",
          "state": "Sachsen",
          "station_id": "00991"
         },
         {
          "date_end": "2019-07-31T00:00:00+00:00",
          "date_start": "1991-11-06T00:00:00+00:00",
          "geo_lat": 51.6451,
          "geo_lon": 13.5747,
          "height": 97,
          "name": "Doberlug-Kirchhain",
          "state": "Brandenburg",
          "station_id": "01001"
         },
         {
          "date_end": "2019-07-31T00:00:00+00:00",
          "date_start": "1991-11-19T00:00:00+00:00",
          "geo_lat": 51.128,
          "geo_lon": 13.7543,
          "height": 227,
          "name": "Dresden-Klotzsche",
          "state": "Sachsen",
          "station_id": "01048"
         },
         {
          "date_end": "2019-07-31T00:00:00+00:00",
          "date_start": "2005-08-09T00:00:00+00:00",
          "geo_lat": 51.0221,
          "geo_lon": 13.847,
          "height": 114,
          "name": "Dresden-Hosterwitz",
          "state": "Sachsen",
          "station_id": "01050"
         },
         {
          "date_end": "2019-07-31T00:00:00+00:00",
          "date_start": "2007-01-22T00:00:00+00:00",
          "geo_lat": 51.0248,
          "geo_lon": 13.775,
          "height": 120,
          "name": "Dresden-Strehlen",
          "state": "Sachsen",
          "station_id": "01051"
         },
         {
          "date_end": "2019-07-31T00:00:00+00:00",
          "date_start": "2003-03-16T00:00:00+00:00",
          "geo_lat": 52.2174,
          "geo_lon": 12.1641,
          "height": 80,
          "name": "Drewitz bei Burg",
          "state": "Sachsen-Anhalt",
          "station_id": "01052"
         },
         {
          "date_end": "2019-07-31T00:00:00+00:00",
          "date_start": "2004-05-05T00:00:00+00:00",
          "geo_lat": 49.4719,
          "geo_lon": 8.1929,
          "height": 107,
          "name": "Dürkheim, Bad",
          "state": "Rheinland-Pfalz",
          "station_id": "01072"
         },
         {
          "date_end": "2019-07-31T00:00:00+00:00",
          "date_start": "1992-09-11T00:00:00+00:00",
          "geo_lat": 51.296,
          "geo_lon": 6.7686,
          "height": 37,
          "name": "Düsseldorf",
          "state": "Nordrhein-Westfalen",
          "station_id": "01078"
         },
         {
          "date_end": "2019-07-31T00:00:00+00:00",
          "date_start": "2006-08-22T00:00:00+00:00",
          "geo_lat": 48.1002,
          "geo_lon": 11.9872,
          "height": 592,
          "name": "Ebersberg-Halbing",
          "state": "Bayern",
          "station_id": "01103"
         },
         {
          "date_end": "2019-07-31T00:00:00+00:00",
          "date_start": "2004-10-06T00:00:00+00:00",
          "geo_lat": 49.852,
          "geo_lon": 10.499,
          "height": 346,
          "name": "Ebrach",
          "state": "Bayern",
          "station_id": "01107"
         },
         {
          "date_end": "2019-07-31T00:00:00+00:00",
          "date_start": "2004-11-29T00:00:00+00:00",
          "geo_lat": 48.8777,
          "geo_lon": 11.2349,
          "height": 384,
          "name": "Eichstätt-Landershofen",
          "state": "Bayern",
          "station_id": "01161"
         },
         {
          "date_end": "2019-07-31T00:00:00+00:00",
          "date_start": "2002-08-29T00:00:00+00:00",
          "geo_lat": 48.9895,
          "geo_lon": 10.1312,
          "height": 460,
          "name": "Ellwangen-Rindelbach",
          "state": "Baden-Württemberg",
          "station_id": "01197"
         },
         {
          "date_end": "2019-07-31T00:00:00+00:00",
          "date_start": "2005-11-24T00:00:00+00:00",
          "geo_lat": 54.0691,
          "geo_lon": 9.0105,
          "height": 3,
          "name": "Elpersbüttel",
          "state": "Schleswig-Holstein",
          "station_id": "01200"
         },
         {
          "date_end": "2019-07-31T00:00:00+00:00",
          "date_start": "2005-12-21T00:00:00+00:00",
          "geo_lat": 50.2705,
          "geo_lon": 12.2742,
          "height": 560,
          "name": "Elster, Bad-Sohl",
          "state": "Sachsen",
          "station_id": "01207"
         },
         {
          "date_end": "2019-07-31T00:00:00+00:00",
          "date_start": "2003-07-06T00:00:00+00:00",
          "geo_lat": 48.2012,
          "geo_lon": 8.1089,
          "height": 440,
          "name": "Elzach-Fisnacht",
          "state": "Baden-Württemberg",
          "station_id": "01214"
         },
         {
          "date_end": "2019-07-31T00:00:00+00:00",
          "date_start": "2002-10-29T00:00:00+00:00",
          "geo_lat": 48.1378,
          "geo_lon": 7.8351,
          "height": 201,
          "name": "Emmendingen-Mundingen",
          "state": "Baden-Württemberg",
          "station_id": "01224"
         },
         {
          "date_end": "2019-07-31T00:00:00+00:00",
          "date_start": "2015-07-01T00:00:00+00:00",
          "geo_lat": 51.8418,
          "geo_lon": 8.0607,
          "height": 104,
          "name": "Ennigerloh-Ostenfelde",
          "state": "Nordrhein-Westfalen",
          "station_id": "01246"
         },
         {
          "date_end": "2019-07-31T00:00:00+00:00",
          "date_start": "1992-05-19T00:00:00+00:00",
          "geo_lat": 48.3477,
          "geo_lon": 11.8133,
          "height": 446,
          "name": "München-Flughafen",
          "state": "Bayern",
          "station_id": "01262"
         },
         {
          "date_end": "2019-07-31T00:00:00+00:00",
          "date_start": "2003-09-11T00:00:00+00:00",
          "geo_lat": 54.2992,
          "geo_lon": 9.3162,
          "height": 18,
          "name": "Erfde",
          "state": "Schleswig-Holstein",
          "station_id": "01266"
         },
         {
          "date_end": "2019-07-31T00:00:00+00:00",
          "date_start": "1991-11-04T00:00:00+00:00",
          "geo_lat": 50.9829,
          "geo_lon": 10.9608,
          "height": 316,
          "name": "Erfurt-Weimar",
          "state": "Thüringen",
          "station_id": "01270"
         },
         {
          "date_end": "2019-07-31T00:00:00+00:00",
          "date_start": "2006-05-03T00:00:00+00:00",
          "geo_lat": 49.6497,
          "geo_lon": 11.0074,
          "height": 268,
          "name": "Möhrendorf-Kleinseebach",
          "state": "Bayern",
          "station_id": "01279"
         },
         {
          "date_end": "2019-07-31T00:00:00+00:00",
          "date_start": "2004-04-06T00:00:00+00:00",
          "geo_lat": 51.2041,
          "geo_lon": 10.0138,
          "height": 156,
          "name": "Eschwege",
          "state": "Hessen",
          "station_id": "01297"
         },
         {
          "date_end": "2019-07-31T00:00:00+00:00",
          "date_start": "2002-09-12T00:00:00+00:00",
          "geo_lat": 51.254,
          "geo_lon": 8.1565,
          "height": 351,
          "name": "Eslohe",
          "state": "Nordrhein-Westfalen",
          "station_id": "01300"
         },
         {
          "date_end": "2019-07-31T00:00:00+00:00",
          "date_start": "1994-05-03T00:00:00+00:00",
          "geo_lat": 51.4041,
          "geo_lon": 6.9677,
          "height": 150,
          "name": "Essen-Bredeney",
          "state": "Nordrhein-Westfalen",
          "station_id": "01303"
         },
         {
          "date_end": "2019-07-31T00:00:00+00:00",
          "date_start": "2004-07-07T00:00:00+00:00",
          "geo_lat": 50.7119,
          "geo_lon": 6.7905,
          "height": 147,
          "name": "Weilerswist-Lommersum",
          "state": "Nordrhein-Westfalen",
          "station_id": "01327"
         },
         {
          "date_end": "2019-07-31T00:00:00+00:00",
          "date_start": "2004-12-08T00:00:00+00:00",
          "geo_lat": 48.4832,
          "geo_lon": 12.7241,
          "height": 472,
          "name": "Falkenberg,Kr.Rottal-Inn",
          "state": "Bayern",
          "station_id": "01332"
         },
         {
          "date_end": "2019-07-31T00:00:00+00:00",
          "date_start": "1995-05-01T00:00:00+00:00",
          "geo_lat": 47.8749,
          "geo_lon": 8.0038,
          "height": 1490,
          "name": "Feldberg/Schwarzwald",
          "state": "Baden-Württemberg",
          "station_id": "01346"
         },
         {
          "date_end": "2019-07-31T00:00:00+00:00",
          "date_start": "1993-12-15T00:00:00+00:00",
          "geo_lat": 49.9807,
          "geo_lon": 11.8376,
          "height": 654,
          "name": "Fichtelberg/Oberfranken-Hütt",
          "state": "Bayern",
          "station_id": "01357"
         },
         {
          "date_end": "2019-07-31T00:00:00+00:00",
          "date_start": "1991-11-11T00:00:00+00:00",
          "geo_lat": 50.4283,
          "geo_lon": 12.9535,
          "height": 1213,
          "name": "Fichtelberg",
          "state": "Sachsen",
          "station_id": "01358"
         },
         {
          "date_end": "2019-07-31T00:00:00+00:00",
          "date_start": "2006-11-19T00:00:00+00:00",
          "geo_lat": 50.5309,
          "geo_lon": 10.048,
          "height": 745,
          "name": "Birx/Rhön",
          "state": "Thüringen",
          "station_id": "01411"
         },
         {
          "date_end": "2019-07-31T00:00:00+00:00",
          "date_start": "1993-03-04T00:00:00+00:00",
          "geo_lat": 50.0259,
          "geo_lon": 8.5213,
          "height": 100,
          "name": "Frankfurt/Main",
          "state": "Hessen",
          "station_id": "01420"
         },
         {
          "date_end": "2019-07-31T00:00:00+00:00",
          "date_start": "2008-06-23T00:00:00+00:00",
          "geo_lat": 50.1269,
          "geo_lon": 8.6694,
          "height": 124,
          "name": "Frankfurt/Main-Westend",
          "state": "Hessen",
          "station_id": "01424"
         },
         {
          "date_end": "2019-07-31T00:00:00+00:00",
          "date_start": "1994-04-26T00:00:00+00:00",
          "geo_lat": 48.0233,
          "geo_lon": 7.8344,
          "height": 236,
          "name": "Freiburg",
          "state": "Baden-Württemberg",
          "station_id": "01443"
         },
         {
          "date_end": "2019-07-31T00:00:00+00:00",
          "date_start": "2003-05-15T00:00:00+00:00",
          "geo_lat": 53.8277,
          "geo_lon": 9.2493,
          "height": 2,
          "name": "Freiburg/Elbe",
          "state": "Niedersachsen",
          "station_id": "01451"
         },
         {
          "date_end": "2019-07-31T00:00:00+00:00",
          "date_start": "1991-01-01T00:00:00+00:00",
          "geo_lat": 48.4537,
          "geo_lon": 8.4091,
          "height": 797,
          "name": "Freudenstadt",
          "state": "Baden-Württemberg",
          "station_id": "01468"
         },
         {
          "date_end": "2019-07-31T00:00:00+00:00",
          "date_start": "2012-09-01T00:00:00+00:00",
          "geo_lat": 53.0643,
          "geo_lon": 7.9022,
          "height": 6,
          "name": "Friesoythe-Altenoythe",
          "state": "Niedersachsen",
          "station_id": "01503"
         },
         {
          "date_end": "2019-07-31T00:00:00+00:00",
          "date_start": "2004-09-13T00:00:00+00:00",
          "geo_lat": 50.5668,
          "geo_lon": 9.6533,
          "height": 242,
          "name": "Fulda-Horas",
          "state": "Hessen",
          "station_id": "01526"
         },
         {
          "date_end": "2019-07-31T00:00:00+00:00",
          "date_start": "1991-11-01T00:00:00+00:00",
          "geo_lat": 52.5129,
          "geo_lon": 11.3941,
          "height": 47,
          "name": "Gardelegen",
          "state": "Sachsen-Anhalt",
          "station_id": "01544"
         },
         {
          "date_end": "2019-07-31T00:00:00+00:00",
          "date_start": "1991-01-01T00:00:00+00:00",
          "geo_lat": 47.483,
          "geo_lon": 11.0621,
          "height": 719,
          "name": "Garmisch-Partenkirchen",
          "state": "Bayern",
          "station_id": "01550"
         },
         {
          "date_end": "2019-07-31T00:00:00+00:00",
          "date_start": "1997-01-01T00:00:00+00:00",
          "geo_lat": 49.9859,
          "geo_lon": 7.9549,
          "height": 110,
          "name": "Geisenheim",
          "state": "Hessen",
          "station_id": "01580"
         },
         {
          "date_end": "2019-07-31T00:00:00+00:00",
          "date_start": "2009-04-23T00:00:00+00:00",
          "geo_lat": 47.9242,
          "geo_lon": 8.6473,
          "height": 672,
          "name": "Geisingen",
          "state": "Baden-Württemberg",
          "station_id": "01584"
         },
         {
          "date_end": "2019-07-31T00:00:00+00:00",
          "date_start": "2003-12-10T00:00:00+00:00",
          "geo_lat": 48.9481,
          "geo_lon": 11.4289,
          "height": 536,
          "name": "Gelbelsee",
          "state": "Bayern",
          "station_id": "01587"
         },
         {
          "date_end": "2019-07-31T00:00:00+00:00",
          "date_start": "2002-10-22T00:00:00+00:00",
          "geo_lat": 51.4942,
          "geo_lon": 6.2463,
          "height": 37,
          "name": "Geldern-Walbeck",
          "state": "Nordrhein-Westfalen",
          "station_id": "01590"
         },
         {
          "date_end": "2019-07-31T00:00:00+00:00",
          "date_start": "2003-03-19T00:00:00+00:00",
          "geo_lat": 48.4329,
          "geo_lon": 7.9931,
          "height": 176,
          "name": "Ohlsbach",
          "state": "Baden-Württemberg",
          "station_id": "01602"
         },
         {
          "date_end": "2019-07-31T00:00:00+00:00",
          "date_start": "1991-11-05T00:00:00+00:00",
          "geo_lat": 52.3875,
          "geo_lon": 12.1601,
          "height": 35,
          "name": "Genthin",
          "state": "Sachsen-Anhalt",
          "station_id": "01605"
         },
         {
          "date_end": "2019-07-31T00:00:00+00:00",
          "date_start": "1991-11-06T00:00:00+00:00",
          "geo_lat": 50.8813,
          "geo_lon": 12.1289,
          "height": 311,
          "name": "Gera-Leumnitz",
          "state": "Thüringen",
          "station_id": "01612"
         },
         {
          "date_end": "2019-07-31T00:00:00+00:00",
          "date_start": "1996-10-10T00:00:00+00:00",
          "geo_lat": 50.6017,
          "geo_lon": 8.6439,
          "height": 203,
          "name": "Gießen/Wettenberg",
          "state": "Hessen",
          "station_id": "01639"
         },
         {
          "date_end": "2019-07-31T00:00:00+00:00",
          "date_start": "2002-08-19T00:00:00+00:00",
          "geo_lat": 50.9656,
          "geo_lon": 9.05,
          "height": 340,
          "name": "Gilserberg-Moischeid",
          "state": "Hessen",
          "station_id": "01645"
         },
         {
          "date_end": "2019-07-31T00:00:00+00:00",
          "date_start": "1991-11-01T00:00:00+00:00",
          "geo_lat": 51.1622,
          "geo_lon": 14.9506,
          "height": 238,
          "name": "Görlitz",
          "state": "Sachsen",
          "station_id": "01684"
         },
         {
          "date_end": "2019-07-31T00:00:00+00:00",
          "date_start": "1993-11-09T00:00:00+00:00",
          "geo_lat": 51.5002,
          "geo_lon": 9.9507,
          "height": 167,
          "name": "Göttingen",
          "state": "Niedersachsen",
          "station_id": "01691"
         },
         {
          "date_end": "2019-07-31T00:00:00+00:00",
          "date_start": "1991-11-06T00:00:00+00:00",
          "geo_lat": 53.606,
          "geo_lon": 12.1033,
          "height": 58,
          "name": "Goldberg",
          "state": "Mecklenburg-Vorpommern",
          "station_id": "01694"
         },
         {
          "date_end": "2019-07-31T00:00:00+00:00",
          "date_start": "2006-08-21T00:00:00+00:00",
          "geo_lat": 49.664,
          "geo_lon": 11.2239,
          "height": 506,
          "name": "Gräfenberg-Kasberg",
          "state": "Bayern",
          "station_id": "01721"
         },
         {
          "date_end": "2019-07-31T00:00:00+00:00",
          "date_start": "2004-12-12T00:00:00+00:00",
          "geo_lat": 48.7893,
          "geo_lon": 13.6291,
          "height": 628,
          "name": "Grainet-Rehberg",
          "state": "Bayern",
          "station_id": "01735"
         },
         {
          "date_end": "2019-07-31T00:00:00+00:00",
          "date_start": "2001-11-01T00:00:00+00:00",
          "geo_lat": 53.5731,
          "geo_lon": 10.6797,
          "height": 27,
          "name": "Grambek",
          "state": "Schleswig-Holstein",
          "station_id": "01736"
         },
         {
          "date_end": "2019-07-31T00:00:00+00:00",
          "date_start": "1991-10-31T00:00:00+00:00",
          "geo_lat": 54.0967,
          "geo_lon": 13.4056,
          "height": 2,
          "name": "Greifswald",
          "state": "Mecklenburg-Vorpommern",
          "station_id": "01757"
         },
         {
          "date_end": "2019-07-31T00:00:00+00:00",
          "date_start": "2000-10-25T00:00:00+00:00",
          "geo_lat": 54.2437,
          "geo_lon": 13.9102,
          "height": 12,
          "name": "Greifswalder Oie",
          "state": "Mecklenburg-Vorpommern",
          "station_id": "01759"
         },
         {
          "date_end": "2019-07-31T00:00:00+00:00",
          "date_start": "1995-07-04T00:00:00+00:00",
          "geo_lat": 52.1344,
          "geo_lon": 7.6969,
          "height": 48,
          "name": "Münster/Osnabrück",
          "state": "Nordrhein-Westfalen",
          "station_id": "01766"
         },
         {
          "date_end": "2019-07-31T00:00:00+00:00",
          "date_start": "2004-07-27T00:00:00+00:00",
          "geo_lat": 54.0714,
          "geo_lon": 12.3238,
          "height": 34,
          "name": "Groß Lüsewitz",
          "state": "Mecklenburg-Vorpommern",
          "station_id": "01803"
         },
         {
          "date_end": "2019-07-31T00:00:00+00:00",
          "date_start": "1998-02-25T00:00:00+00:00",
          "geo_lat": 49.1129,
          "geo_lon": 13.1338,
          "height": 1436,
          "name": "Großer Arber",
          "state": "Bayern",
          "station_id": "01832"
         },
         {
          "date_end": "2019-07-31T00:00:00+00:00",
          "date_start": "2007-10-07T00:00:00+00:00",
          "geo_lat": 50.2667,
          "geo_lon": 9.1854,
          "height": 258,
          "name": "Gründau-Breitenborn",
          "state": "Hessen",
          "station_id": "01863"
         },
         {
          "date_end": "2019-07-31T00:00:00+00:00",
          "date_start": "1991-10-31T00:00:00+00:00",
          "geo_lat": 53.3153,
          "geo_lon": 13.9338,
          "height": 56,
          "name": "Grünow",
          "state": "Brandenburg",
          "station_id": "01869"
         },
         {
          "date_end": "2019-07-31T00:00:00+00:00",
          "date_start": "2001-12-06T00:00:00+00:00",
          "geo_lat": 48.4878,
          "geo_lon": 10.2607,
          "height": 444,
          "name": "Günzburg",
          "state": "Bayern",
          "station_id": "01886"
         },
         {
          "date_end": "2019-07-31T00:00:00+00:00",
          "date_start": "1995-08-28T00:00:00+00:00",
          "geo_lat": 53.6332,
          "geo_lon": 9.9881,
          "height": 11,
          "name": "Hamburg-Fuhlsbüttel",
          "state": "Hamburg",
          "station_id": "01975"
         },
         {
          "date_end": "2019-07-31T00:00:00+00:00",
          "date_start": "2005-02-14T00:00:00+00:00",
          "geo_lat": 53.4777,
          "geo_lon": 9.8957,
          "height": 3,
          "name": "Hamburg-Neuwiedenthal",
          "state": "Hamburg",
          "station_id": "01981"
         },
         {
          "date_end": "2019-07-31T00:00:00+00:00",
          "date_start": "1992-04-29T00:00:00+00:00",
          "geo_lat": 52.4644,
          "geo_lon": 9.6779,
          "height": 55,
          "name": "Hannover",
          "state": "Niedersachsen",
          "station_id": "02014"
         },
         {
          "date_end": "2019-07-31T00:00:00+00:00",
          "date_start": "2002-11-13T00:00:00+00:00",
          "geo_lat": 48.7918,
          "geo_lon": 10.7062,
          "height": 501,
          "name": "Harburg",
          "state": "Bayern",
          "station_id": "02023"
         },
         {
          "date_end": "2019-07-31T00:00:00+00:00",
          "date_start": "2006-10-17T00:00:00+00:00",
          "geo_lat": 51.9002,
          "geo_lon": 10.5699,
          "height": 201,
          "name": "Harzburg, Bad",
          "state": "Niedersachsen",
          "station_id": "02039"
         },
         {
          "date_end": "2019-07-31T00:00:00+00:00",
          "date_start": "1991-01-14T00:00:00+00:00",
          "geo_lat": 51.652,
          "geo_lon": 11.1367,
          "height": 404,
          "name": "Harzgerode",
          "state": "Sachsen-Anhalt",
          "station_id": "02044"
         },
         {
          "date_end": "2019-07-31T00:00:00+00:00",
          "date_start": "2003-06-29T00:00:00+00:00",
          "geo_lat": 48.3751,
          "geo_lon": 8.9801,
          "height": 522,
          "name": "Hechingen",
          "state": "Baden-Württemberg",
          "station_id": "02074"
         },
         {
          "date_end": "2019-07-31T00:00:00+00:00",
          "date_start": "2002-10-23T00:00:00+00:00",
          "geo_lat": 51.0411,
          "geo_lon": 6.1042,
          "height": 57,
          "name": "Heinsberg-Schleiden",
          "state": "Nordrhein-Westfalen",
          "station_id": "02110"
         },
         {
          "date_end": "2019-07-31T00:00:00+00:00",
          "date_start": "1996-12-19T00:00:00+00:00",
          "geo_lat": 54.175,
          "geo_lon": 7.892,
          "height": 4,
          "name": "Helgoland",
          "state": "Schleswig-Holstein",
          "station_id": "02115"
         },
         {
          "date_end": "2019-07-31T00:00:00+00:00",
          "date_start": "1994-12-20T00:00:00+00:00",
          "geo_lat": 50.8519,
          "geo_lon": 9.7378,
          "height": 272,
          "name": "Hersfeld, Bad",
          "state": "Hessen",
          "station_id": "02171"
         },
         {
          "date_end": "2019-07-31T00:00:00+00:00",
          "date_start": "2010-09-22T00:00:00+00:00",
          "geo_lat": 51.6255,
          "geo_lon": 10.3695,
          "height": 238,
          "name": "Herzberg",
          "state": "Niedersachsen",
          "station_id": "02174"
         },
         {
          "date_end": "2019-07-31T00:00:00+00:00",
          "date_start": "2005-05-31T00:00:00+00:00",
          "geo_lat": 54.575,
          "geo_lon": 13.1044,
          "height": 1,
          "name": "Hiddensee-Vitte",
          "state": "Mecklenburg-Vorpommern",
          "station_id": "02201"
         },
         {
          "date_end": "2019-07-31T00:00:00+00:00",
          "date_start": "2003-07-07T00:00:00+00:00",
          "geo_lat": 50.7371,
          "geo_lon": 7.6528,
          "height": 295,
          "name": "Hilgenroth",
          "state": "Rheinland-Pfalz",
          "station_id": "02211"
         },
         {
          "date_end": "2019-07-31T00:00:00+00:00",
          "date_start": "1997-11-05T00:00:00+00:00",
          "geo_lat": 50.899,
          "geo_lon": 14.7457,
          "height": 270,
          "name": "Bertsdorf-Hörnitz",
          "state": "Sachsen",
          "station_id": "02252"
         },
         {
          "date_end": "2019-07-31T00:00:00+00:00",
          "date_start": "1998-02-11T00:00:00+00:00",
          "geo_lat": 50.3122,
          "geo_lon": 11.8761,
          "height": 565,
          "name": "Hof",
          "state": "Bayern",
          "station_id": "02261"
         },
         {
          "date_end": "2019-07-31T00:00:00+00:00",
          "date_start": "1993-12-09T00:00:00+00:00",
          "geo_lat": 47.8009,
          "geo_lon": 11.0108,
          "height": 977,
          "name": "Hohenpeißenberg",
          "state": "Bayern",
          "station_id": "02290"
         },
         {
          "date_end": "2019-07-31T00:00:00+00:00",
          "date_start": "2005-07-05T00:00:00+00:00",
          "geo_lat": 54.3194,
          "geo_lon": 10.6732,
          "height": 8,
          "name": "Hohwacht",
          "state": "Schleswig-Holstein",
          "station_id": "02306"
         },
         {
          "date_end": "2019-07-31T00:00:00+00:00",
          "date_start": "2005-04-28T00:00:00+00:00",
          "geo_lat": 47.8823,
          "geo_lon": 11.6962,
          "height": 685,
          "name": "Holzkirchen",
          "state": "Bayern",
          "station_id": "02319"
         },
         {
          "date_end": "2019-07-31T00:00:00+00:00",
          "date_start": "2006-06-13T00:00:00+00:00",
          "geo_lat": 51.8529,
          "geo_lon": 9.4953,
          "height": 110,
          "name": "Bevern, Kr. Holzminden",
          "state": "Niedersachsen",
          "station_id": "02323"
         },
         {
          "date_end": "2019-07-31T00:00:00+00:00",
          "date_start": "2003-07-08T00:00:00+00:00",
          "geo_lat": 50.5651,
          "geo_lon": 7.4843,
          "height": 328,
          "name": "Hümmerich",
          "state": "Rheinland-Pfalz",
          "station_id": "02362"
         },
         {
          "date_end": "2019-07-31T00:00:00+00:00",
          "date_start": "2003-07-03T00:00:00+00:00",
          "geo_lat": 53.9897,
          "geo_lon": 9.5696,
          "height": 21,
          "name": "Itzehoe",
          "state": "Schleswig-Holstein",
          "station_id": "02429"
         },
         {
          "date_end": "2019-07-31T00:00:00+00:00",
          "date_start": "2004-05-11T00:00:00+00:00",
          "geo_lat": 50.9251,
          "geo_lon": 11.583,
          "height": 155,
          "name": "Jena (Sternwarte)",
          "state": "Thüringen",
          "station_id": "02444"
         },
         {
          "date_end": "2019-07-31T00:00:00+00:00",
          "date_start": "2004-07-15T00:00:00+00:00",
          "geo_lat": 50.0643,
          "geo_lon": 8.993,
          "height": 107,
          "name": "Kahl/Main",
          "state": "Bayern",
          "station_id": "02480"
         },
         {
          "date_end": "2019-07-31T00:00:00+00:00",
          "date_start": "1995-08-03T00:00:00+00:00",
          "geo_lat": 51.1803,
          "geo_lon": 8.4891,
          "height": 839,
          "name": "Kahler Asten",
          "state": "Nordrhein-Westfalen",
          "station_id": "02483"
         },
         {
          "date_end": "2019-07-31T00:00:00+00:00",
          "date_start": "2011-04-10T00:00:00+00:00",
          "geo_lat": 48.9171,
          "geo_lon": 9.6872,
          "height": 489,
          "name": "Kaisersbach-Cronhütte",
          "state": "Baden-Württemberg",
          "station_id": "02485"
         },
         {
          "date_end": "2019-07-31T00:00:00+00:00",
          "date_start": "2004-06-13T00:00:00+00:00",
          "geo_lat": 49.4262,
          "geo_lon": 7.7557,
          "height": 271,
          "name": "Kaiserslautern",
          "state": "Rheinland-Pfalz",
          "station_id": "02486"
         },
         {
          "date_end": "2019-07-31T00:00:00+00:00",
          "date_start": "1998-04-21T00:00:00+00:00",
          "geo_lat": 50.5014,
          "geo_lon": 6.5264,
          "height": 505,
          "name": "Kall-Sistig",
          "state": "Nordrhein-Westfalen",
          "station_id": "02497"
         },
         {
          "date_end": "2019-07-31T00:00:00+00:00",
          "date_start": "1992-04-29T00:00:00+00:00",
          "geo_lat": 47.7233,
          "geo_lon": 10.3348,
          "height": 705,
          "name": "Kempten",
          "state": "Bayern",
          "station_id": "02559"
         },
         {
          "date_end": "2019-07-31T00:00:00+00:00",
          "date_start": "2013-04-23T00:00:00+00:00",
          "geo_lat": 54.3761,
          "geo_lon": 10.1433,
          "height": 27,
          "name": "Kiel-Holtenau",
          "state": "Schleswig-Holstein",
          "station_id": "02564"
         },
         {
          "date_end": "2019-07-31T00:00:00+00:00",
          "date_start": "2006-08-07T00:00:00+00:00",
          "geo_lat": 49.1804,
          "geo_lon": 9.98,
          "height": 426,
          "name": "Kirchberg/Jagst-Herboldshaus",
          "state": "Baden-Württemberg",
          "station_id": "02575"
         },
         {
          "date_end": "2019-07-31T00:00:00+00:00",
          "date_start": "2003-07-22T00:00:00+00:00",
          "geo_lat": 53.9995,
          "geo_lon": 11.4341,
          "height": 12,
          "name": "Kirchdorf/Poel",
          "state": "Mecklenburg-Vorpommern",
          "station_id": "02578"
         },
         {
          "date_end": "2019-07-31T00:00:00+00:00",
          "date_start": "1995-06-01T00:00:00+00:00",
          "geo_lat": 50.2241,
          "geo_lon": 10.0792,
          "height": 282,
          "name": "Kissingen, Bad",
          "state": "Bayern",
          "station_id": "02597"
         },
         {
          "date_end": "2019-07-31T00:00:00+00:00",
          "date_start": "2004-11-02T00:00:00+00:00",
          "geo_lat": 49.7363,
          "geo_lon": 10.1781,
          "height": 188,
          "name": "Kitzingen",
          "state": "Bayern",
          "station_id": "02600"
         },
         {
          "date_end": "2019-07-31T00:00:00+00:00",
          "date_start": "1992-10-01T00:00:00+00:00",
          "geo_lat": 50.2218,
          "geo_lon": 8.4469,
          "height": 826,
          "name": "Kleiner Feldberg/Taunus",
          "state": "Hessen",
          "station_id": "02601"
         },
         {
          "date_end": "2019-07-31T00:00:00+00:00",
          "date_start": "2004-08-10T00:00:00+00:00",
          "geo_lat": 50.8458,
          "geo_lon": 10.4803,
          "height": 732,
          "name": "Kleiner Inselsberg",
          "state": "Thüringen",
          "station_id": "02618"
         },
         {
          "date_end": "2019-07-31T00:00:00+00:00",
          "date_start": "2003-04-29T00:00:00+00:00",
          "geo_lat": 51.5555,
          "geo_lon": 13.8845,
          "height": 128,
          "name": "Klettwitz",
          "state": "Brandenburg",
          "station_id": "02627"
         },
         {
          "date_end": "2019-07-31T00:00:00+00:00",
          "date_start": "2002-10-22T00:00:00+00:00",
          "geo_lat": 51.7612,
          "geo_lon": 6.0954,
          "height": 46,
          "name": "Kleve",
          "state": "Nordrhein-Westfalen",
          "station_id": "02629"
         },
         {
          "date_end": "2019-07-31T00:00:00+00:00",
          "date_start": "1992-11-05T00:00:00+00:00",
          "geo_lat": 48.1054,
          "geo_lon": 8.7548,
          "height": 974,
          "name": "Klippeneck",
          "state": "Baden-Württemberg",
          "station_id": "02638"
         },
         {
          "date_end": "2019-07-31T00:00:00+00:00",
          "date_start": "2004-04-18T00:00:00+00:00",
          "geo_lat": 51.5185,
          "geo_lon": 12.9065,
          "height": 85,
          "name": "Klitzschen bei Torgau",
          "state": "Sachsen",
          "station_id": "02641"
         },
         {
          "date_end": "2019-07-31T00:00:00+00:00",
          "date_start": "1993-11-11T00:00:00+00:00",
          "geo_lat": 50.8646,
          "geo_lon": 7.1575,
          "height": 92,
          "name": "Köln-Bonn",
          "state": "Nordrhein-Westfalen",
          "station_id": "02667"
         },
         {
          "date_end": "2019-07-31T00:00:00+00:00",
          "date_start": "2005-04-05T00:00:00+00:00",
          "geo_lat": 50.284,
          "geo_lon": 10.4456,
          "height": 289,
          "name": "Königshofen, Bad",
          "state": "Bayern",
          "station_id": "02680"
         },
         {
          "date_end": "2019-07-31T00:00:00+00:00",
          "date_start": "2004-10-24T00:00:00+00:00",
          "geo_lat": 48.8302,
          "geo_lon": 11.4872,
          "height": 416,
          "name": "Kösching",
          "state": "Bayern",
          "station_id": "02700"
         },
         {
          "date_end": "2019-07-31T00:00:00+00:00",
          "date_start": "2003-06-05T00:00:00+00:00",
          "geo_lat": 51.7511,
          "geo_lon": 12.0094,
          "height": 76,
          "name": "Köthen (Anhalt)",
          "state": "Sachsen-Anhalt",
          "station_id": "02704"
         },
         {
          "date_end": "2019-07-31T00:00:00+00:00",
          "date_start": "2006-06-06T00:00:00+00:00",
          "geo_lat": 47.6652,
          "geo_lon": 11.0804,
          "height": 740,
          "name": "Kohlgrub, Bad (Rosshof)",
          "state": "Bayern",
          "station_id": "02708"
         },
         {
          "date_end": "2019-07-31T00:00:00+00:00",
          "date_start": "1993-08-12T00:00:00+00:00",
          "geo_lat": 47.6774,
          "geo_lon": 9.1901,
          "height": 443,
          "name": "Konstanz",
          "state": "Baden-Württemberg",
          "station_id": "02712"
         },
         {
          "date_end": "2019-07-31T00:00:00+00:00",
          "date_start": "2005-07-31T00:00:00+00:00",
          "geo_lat": 50.2523,
          "geo_lon": 11.3209,
          "height": 312,
          "name": "Kronach",
          "state": "Bayern",
          "station_id": "02750"
         },
         {
          "date_end": "2019-07-31T00:00:00+00:00",
          "date_start": "1991-11-01T00:00:00+00:00",
          "geo_lat": 52.9363,
          "geo_lon": 12.4093,
          "height": 40,
          "name": "Kyritz",
          "state": "Brandenburg",
          "station_id": "02794"
         },
         {
          "date_end": "2019-07-31T00:00:00+00:00",
          "date_start": "1996-08-28T00:00:00+00:00",
          "geo_lat": 48.3647,
          "geo_lon": 7.828,
          "height": 155,
          "name": "Lahr",
          "state": "Baden-Württemberg",
          "station_id": "02812"
         },
         {
          "date_end": "2019-07-31T00:00:00+00:00",
          "date_start": "2002-09-03T00:00:00+00:00",
          "geo_lat": 48.5121,
          "geo_lon": 9.7645,
          "height": 685,
          "name": "Merklingen",
          "state": "Baden-Württemberg",
          "station_id": "02814"
         },
         {
          "date_end": "2019-07-31T00:00:00+00:00",
          "date_start": "1999-04-30T00:00:00+00:00",
          "geo_lat": 51.9173,
          "geo_lon": 13.0878,
          "height": 91,
          "name": "Langenlipsdorf",
          "state": "Brandenburg",
          "station_id": "02856"
         },
         {
          "date_end": "2019-07-31T00:00:00+00:00",
          "date_start": "1993-01-21T00:00:00+00:00",
          "geo_lat": 51.391,
          "geo_lon": 11.8788,
          "height": 118,
          "name": "Lauchstädt, Bad",
          "state": "Sachsen-Anhalt",
          "station_id": "02878"
         },
         {
          "date_end": "2019-07-31T00:00:00+00:00",
          "date_start": "1999-02-01T00:00:00+00:00",
          "geo_lat": 54.7903,
          "geo_lon": 8.9514,
          "height": 7,
          "name": "Leck",
          "state": "Schleswig-Holstein",
          "station_id": "02907"
         },
         {
          "date_end": "2019-07-31T00:00:00+00:00",
          "date_start": "1991-11-03T00:00:00+00:00",
          "geo_lat": 51.3933,
          "geo_lon": 10.3123,
          "height": 356,
          "name": "Leinefelde",
          "state": "Thüringen",
          "station_id": "02925"
         },
         {
          "date_end": "2019-07-31T00:00:00+00:00",
          "date_start": "1997-02-05T00:00:00+00:00",
          "geo_lat": 51.3151,
          "geo_lon": 12.4462,
          "height": 138,
          "name": "Leipzig-Holzhausen",
          "state": "Sachsen",
          "station_id": "02928"
         },
         {
          "date_end": "2019-07-31T00:00:00+00:00",
          "date_start": "1991-10-31T00:00:00+00:00",
          "geo_lat": 51.4348,
          "geo_lon": 12.2396,
          "height": 131,
          "name": "Leipzig/Halle",
          "state": "Sachsen",
          "station_id": "02932"
         },
         {
          "date_end": "2019-07-31T00:00:00+00:00",
          "date_start": "2006-08-30T00:00:00+00:00",
          "geo_lat": 51.1333,
          "geo_lon": 8.0348,
          "height": 286,
          "name": "Lennestadt-Theten",
          "state": "Nordrhein-Westfalen",
          "station_id": "02947"
         },
         {
          "date_end": "2019-07-31T00:00:00+00:00",
          "date_start": "2003-03-04T00:00:00+00:00",
          "geo_lat": 53.1007,
          "geo_lon": 11.4864,
          "height": 20,
          "name": "Lenzen/Elbe",
          "state": "Brandenburg",
          "station_id": "02951"
         },
         {
          "date_end": "2019-07-31T00:00:00+00:00",
          "date_start": "2007-02-21T00:00:00+00:00",
          "geo_lat": 47.8597,
          "geo_lon": 8.2308,
          "height": 852,
          "name": "Lenzkirch-Ruhbühl",
          "state": "Baden-Württemberg",
          "station_id": "02953"
         },
         {
          "date_end": "2019-07-31T00:00:00+00:00",
          "date_start": "2018-08-08T00:00:00+00:00",
          "geo_lat": 54.4996,
          "geo_lon": 10.2737,
          "height": 31,
          "name": "Leuchtturm Kiel",
          "state": "Schleswig-Holstein",
          "station_id": "02961"
         },
         {
          "date_end": "2019-07-31T00:00:00+00:00",
          "date_start": "2008-11-19T00:00:00+00:00",
          "geo_lat": 50.9894,
          "geo_lon": 6.9777,
          "height": 43,
          "name": "Köln-Stammheim",
          "state": "Nordrhein-Westfalen",
          "station_id": "02968"
         },
         {
          "date_end": "2019-07-31T00:00:00+00:00",
          "date_start": "1991-11-01T00:00:00+00:00",
          "geo_lat": 50.9383,
          "geo_lon": 14.2093,
          "height": 321,
          "name": "Lichtenhain-Mittelndorf",
          "state": "Sachsen",
          "station_id": "02985"
         },
         {
          "date_end": "2019-07-31T00:00:00+00:00",
          "date_start": "1992-10-13T00:00:00+00:00",
          "geo_lat": 52.2085,
          "geo_lon": 14.118,
          "height": 98,
          "name": "Lindenberg",
          "state": "Brandenburg",
          "station_id": "03015"
         },
         {
          "date_end": "2019-07-31T00:00:00+00:00",
          "date_start": "1991-01-01T00:00:00+00:00",
          "geo_lat": 52.5181,
          "geo_lon": 7.3081,
          "height": 22,
          "name": "Lingen",
          "state": "Niedersachsen",
          "station_id": "03023"
         },
         {
          "date_end": "2019-07-31T00:00:00+00:00",
          "date_start": "1992-08-05T00:00:00+00:00",
          "geo_lat": 51.7855,
          "geo_lon": 8.8388,
          "height": 157,
          "name": "Lippspringe, Bad",
          "state": "Nordrhein-Westfalen",
          "station_id": "03028"
         },
         {
          "date_end": "2019-07-31T00:00:00+00:00",
          "date_start": "2002-09-19T00:00:00+00:00",
          "geo_lat": 51.6336,
          "geo_lon": 8.3945,
          "height": 92,
          "name": "Lippstadt-Bökenförde",
          "state": "Nordrhein-Westfalen",
          "station_id": "03031"
         },
         {
          "date_end": "2019-07-31T00:00:00+00:00",
          "date_start": "1995-12-01T00:00:00+00:00",
          "geo_lat": 55.011,
          "geo_lon": 8.4125,
          "height": 25,
          "name": "List auf Sylt",
          "state": "Schleswig-Holstein",
          "station_id": "03032"
         },
         {
          "date_end": "2019-07-31T00:00:00+00:00",
          "date_start": "2006-11-12T00:00:00+00:00",
          "geo_lat": 50.4505,
          "geo_lon": 11.635,
          "height": 500,
          "name": "Lobenstein, Bad",
          "state": "Thüringen",
          "station_id": "03034"
         },
         {
          "date_end": "2019-07-31T00:00:00+00:00",
          "date_start": "2008-04-22T00:00:00+00:00",
          "geo_lat": 50.5617,
          "geo_lon": 8.2386,
          "height": 230,
          "name": "Löhnberg-Obershausen",
          "state": "Hessen",
          "station_id": "03042"
         },
         {
          "date_end": "2019-07-31T00:00:00+00:00",
          "date_start": "2004-09-29T00:00:00+00:00",
          "geo_lat": 51.9267,
          "geo_lon": 13.8797,
          "height": 57,
          "name": "Lübben-Blumenfelde",
          "state": "Brandenburg",
          "station_id": "03083"
         },
         {
          "date_end": "2019-07-31T00:00:00+00:00",
          "date_start": "1996-07-01T00:00:00+00:00",
          "geo_lat": 53.8025,
          "geo_lon": 10.6988,
          "height": 16,
          "name": "Lübeck-Blankensee",
          "state": "Schleswig-Holstein",
          "station_id": "03086"
         },
         {
          "date_end": "2019-07-31T00:00:00+00:00",
          "date_start": "1993-09-22T00:00:00+00:00",
          "geo_lat": 52.9724,
          "geo_lon": 11.1374,
          "height": 16,
          "name": "Lüchow",
          "state": "Niedersachsen",
          "station_id": "03093"
         },
         {
          "date_end": "2019-07-31T00:00:00+00:00",
          "date_start": "1993-12-22T00:00:00+00:00",
          "geo_lat": 51.2452,
          "geo_lon": 7.6425,
          "height": 387,
          "name": "Lüdenscheid",
          "state": "Nordrhein-Westfalen",
          "station_id": "03098"
         },
         {
          "date_end": "2019-07-31T00:00:00+00:00",
          "date_start": "1991-11-01T00:00:00+00:00",
          "geo_lat": 52.1029,
          "geo_lon": 11.5827,
          "height": 76,
          "name": "Magdeburg",
          "state": "Sachsen-Anhalt",
          "station_id": "03126"
         },
         {
          "date_end": "2019-07-31T00:00:00+00:00",
          "date_start": "2008-02-27T00:00:00+00:00",
          "geo_lat": 49.9656,
          "geo_lon": 8.2139,
          "height": 195,
          "name": "Mainz-Lerchenberg (ZDF)",
          "state": "Rheinland-Pfalz",
          "station_id": "03137"
         },
         {
          "date_end": "2019-07-31T00:00:00+00:00",
          "date_start": "2013-07-23T00:00:00+00:00",
          "geo_lat": 48.7726,
          "geo_lon": 12.2177,
          "height": 418,
          "name": "Mallersdorf-Pfaffenberg/Nied",
          "state": "Bayern",
          "station_id": "03147"
         },
         {
          "date_end": "2019-07-31T00:00:00+00:00",
          "date_start": "2003-06-11T00:00:00+00:00",
          "geo_lat": 50.1015,
          "geo_lon": 6.8009,
          "height": 413,
          "name": "Manderscheid-Sonnenhof",
          "state": "Rheinland-Pfalz",
          "station_id": "03155"
         },
         {
          "date_end": "2019-07-31T00:00:00+00:00",
          "date_start": "1991-10-31T00:00:00+00:00",
          "geo_lat": 52.5468,
          "geo_lon": 14.5452,
          "height": 12,
          "name": "Manschnow",
          "state": "Brandenburg",
          "station_id": "03158"
         },
         {
          "date_end": "2019-07-31T00:00:00+00:00",
          "date_start": "2006-06-07T00:00:00+00:00",
          "geo_lat": 50.8492,
          "geo_lon": 8.7746,
          "height": 187,
          "name": "Cölbe, Kr. Marburg-Biedenkop",
          "state": "Hessen",
          "station_id": "03164"
         },
         {
          "date_end": "2019-07-31T00:00:00+00:00",
          "date_start": "1991-11-01T00:00:00+00:00",
          "geo_lat": 50.651,
          "geo_lon": 13.1469,
          "height": 639,
          "name": "Marienberg",
          "state": "Sachsen",
          "station_id": "03166"
         },
         {
          "date_end": "2019-07-31T00:00:00+00:00",
          "date_start": "1999-06-01T00:00:00+00:00",
          "geo_lat": 50.662,
          "geo_lon": 7.9602,
          "height": 547,
          "name": "Marienberg, Bad",
          "state": "Rheinland-Pfalz",
          "station_id": "03167"
         },
         {
          "date_end": "2019-07-31T00:00:00+00:00",
          "date_start": "1992-06-16T00:00:00+00:00",
          "geo_lat": 53.3223,
          "geo_lon": 11.9319,
          "height": 81,
          "name": "Marnitz",
          "state": "Mecklenburg-Vorpommern",
          "station_id": "03196"
         },
         {
          "date_end": "2019-07-31T00:00:00+00:00",
          "date_start": "2008-05-29T00:00:00+00:00",
          "geo_lat": 50.7334,
          "geo_lon": 10.8815,
          "height": 427,
          "name": "Martinroda",
          "state": "Thüringen",
          "station_id": "03204"
         },
         {
          "date_end": "2019-07-31T00:00:00+00:00",
          "date_start": "2006-06-27T00:00:00+00:00",
          "geo_lat": 51.7259,
          "geo_lon": 11.5109,
          "height": 107,
          "name": "Aschersleben-Mehringen",
          "state": "Sachsen-Anhalt",
          "station_id": "03226"
         },
         {
          "date_end": "2019-07-31T00:00:00+00:00",
          "date_start": "1991-11-01T00:00:00+00:00",
          "geo_lat": 50.5612,
          "geo_lon": 10.3771,
          "height": 450,
          "name": "Meiningen",
          "state": "Thüringen",
          "station_id": "03231"
         },
         {
          "date_end": "2019-07-31T00:00:00+00:00",
          "date_start": "2004-10-20T00:00:00+00:00",
          "geo_lat": 51.1294,
          "geo_lon": 13.4327,
          "height": 157,
          "name": "Garsebach bei Meißen",
          "state": "Sachsen",
          "station_id": "03234"
         },
         {
          "date_end": "2019-07-31T00:00:00+00:00",
          "date_start": "2009-07-19T00:00:00+00:00",
          "geo_lat": 47.982,
          "geo_lon": 10.1384,
          "height": 615,
          "name": "Memmingen",
          "state": "Bayern",
          "station_id": "03244"
         },
         {
          "date_end": "2019-07-31T00:00:00+00:00",
          "date_start": "2004-04-28T00:00:00+00:00",
          "geo_lat": 49.4773,
          "geo_lon": 9.7622,
          "height": 250,
          "name": "Mergentheim, Bad-Neunkirchen",
          "state": "Baden-Württemberg",
          "station_id": "03257"
         },
         {
          "date_end": "2019-07-31T00:00:00+00:00",
          "date_start": "2013-10-01T00:00:00+00:00",
          "geo_lat": 48.1694,
          "geo_lon": 8.9433,
          "height": 900,
          "name": "Meßstetten-Appental",
          "state": "Baden-Württemberg",
          "station_id": "03268"
         },
         {
          "date_end": "2019-07-31T00:00:00+00:00",
          "date_start": "2004-10-12T00:00:00+00:00",
          "geo_lat": 48.8548,
          "geo_lon": 12.9189,
          "height": 313,
          "name": "Metten",
          "state": "Bayern",
          "station_id": "03271"
         },
         {
          "date_end": "2019-07-31T00:00:00+00:00",
          "date_start": "2002-10-24T00:00:00+00:00",
          "geo_lat": 48.5376,
          "geo_lon": 9.2734,
          "height": 353,
          "name": "Metzingen",
          "state": "Baden-Württemberg",
          "station_id": "03278"
         },
         {
          "date_end": "2019-07-31T00:00:00+00:00",
          "date_start": "2005-04-05T00:00:00+00:00",
          "geo_lat": 49.6691,
          "geo_lon": 9.0085,
          "height": 240,
          "name": "Michelstadt",
          "state": "Hessen",
          "station_id": "03284"
         },
         {
          "date_end": "2019-07-31T00:00:00+00:00",
          "date_start": "1991-01-01T00:00:00+00:00",
          "geo_lat": 49.7176,
          "geo_lon": 9.0997,
          "height": 453,
          "name": "Michelstadt-Vielbrunn",
          "state": "Hessen",
          "station_id": "03287"
         },
         {
          "date_end": "2019-07-31T00:00:00+00:00",
          "date_start": "2004-08-11T00:00:00+00:00",
          "geo_lat": 50.7281,
          "geo_lon": 11.7838,
          "height": 355,
          "name": "Schmieritz-Weltwitz",
          "state": "Thüringen",
          "station_id": "03289"
         },
         {
          "date_end": "2019-07-31T00:00:00+00:00",
          "date_start": "2008-01-27T00:00:00+00:00",
          "geo_lat": 47.4779,
          "geo_lon": 11.2653,
          "height": 981,
          "name": "Mittenwald-Buckelwiesen",
          "state": "Bayern",
          "station_id": "03307"
         },
         {
          "date_end": "2019-07-31T00:00:00+00:00",
          "date_start": "2006-06-11T00:00:00+00:00",
          "geo_lat": 49.7644,
          "geo_lon": 9.253,
          "height": 239,
          "name": "Röllbach",
          "state": "Bayern",
          "station_id": "03319"
         },
         {
          "date_end": "2019-07-31T00:00:00+00:00",
          "date_start": "2005-03-30T00:00:00+00:00",
          "geo_lat": 50.4383,
          "geo_lon": 7.8061,
          "height": 265,
          "name": "Montabaur",
          "state": "Rheinland-Pfalz",
          "station_id": "03340"
         },
         {
          "date_end": "2019-07-31T00:00:00+00:00",
          "date_start": "2006-06-20T00:00:00+00:00",
          "geo_lat": 48.9721,
          "geo_lon": 8.8734,
          "height": 244,
          "name": "Mühlacker",
          "state": "Baden-Württemberg",
          "station_id": "03362"
         },
         {
          "date_end": "2019-07-31T00:00:00+00:00",
          "date_start": "1989-03-06T00:00:00+00:00",
          "geo_lat": 48.2791,
          "geo_lon": 12.5024,
          "height": 406,
          "name": "Mühldorf",
          "state": "Bayern",
          "station_id": "03366"
         },
         {
          "date_end": "2019-07-31T00:00:00+00:00",
          "date_start": "1999-02-01T00:00:00+00:00",
          "geo_lat": 52.5176,
          "geo_lon": 14.1232,
          "height": 63,
          "name": "Müncheberg",
          "state": "Brandenburg",
          "station_id": "03376"
         },
         {
          "date_end": "2019-07-31T00:00:00+00:00",
          "date_start": "1997-07-10T00:00:00+00:00",
          "geo_lat": 48.1631,
          "geo_lon": 11.5429,
          "height": 515,
          "name": "München-Stadt",
          "state": "Bayern",
          "station_id": "03379"
         },
         {
          "date_end": "2019-07-31T00:00:00+00:00",
          "date_start": "2002-09-03T00:00:00+00:00",
          "geo_lat": 48.3851,
          "geo_lon": 9.4837,
          "height": 750,
          "name": "Münsingen-Apfelstetten",
          "state": "Baden-Württemberg",
          "station_id": "03402"
         },
         {
          "date_end": "2019-07-31T00:00:00+00:00",
          "date_start": "2002-12-17T00:00:00+00:00",
          "geo_lat": 51.566,
          "geo_lon": 14.7009,
          "height": 125,
          "name": "Muskau, Bad",
          "state": "Sachsen",
          "station_id": "03426"
         },
         {
          "date_end": "2019-07-31T00:00:00+00:00",
          "date_start": "2004-06-30T00:00:00+00:00",
          "geo_lat": 50.3574,
          "geo_lon": 8.7506,
          "height": 149,
          "name": "Nauheim, Bad",
          "state": "Hessen",
          "station_id": "03442"
         },
         {
          "date_end": "2019-07-31T00:00:00+00:00",
          "date_start": "2004-11-21T00:00:00+00:00",
          "geo_lat": 48.3115,
          "geo_lon": 10.3773,
          "height": 486,
          "name": "Neuburg/Kammel-Langenhaslach",
          "state": "Bayern",
          "station_id": "03485"
         },
         {
          "date_end": "2019-07-31T00:00:00+00:00",
          "date_start": "2003-07-06T00:00:00+00:00",
          "geo_lat": 50.5346,
          "geo_lon": 7.0853,
          "height": 111,
          "name": "Neuenahr, Bad-Ahrweiler",
          "state": "Rheinland-Pfalz",
          "station_id": "03490"
         },
         {
          "date_end": "2019-07-31T00:00:00+00:00",
          "date_start": "2004-08-24T00:00:00+00:00",
          "geo_lat": 53.102,
          "geo_lon": 13.0421,
          "height": 77,
          "name": "Menz",
          "state": "Brandenburg",
          "station_id": "03509"
         },
         {
          "date_end": "2019-07-31T00:00:00+00:00",
          "date_start": "1991-11-01T00:00:00+00:00",
          "geo_lat": 50.5002,
          "geo_lon": 11.1344,
          "height": 845,
          "name": "Neuhaus am Rennweg",
          "state": "Thüringen",
          "station_id": "03513"
         },
         {
          "date_end": "2019-07-31T00:00:00+00:00",
          "date_start": "2003-05-22T00:00:00+00:00",
          "geo_lat": 50.8923,
          "geo_lon": 9.405,
          "height": 500,
          "name": "Neukirchen-Hauptschwenda",
          "state": "Hessen",
          "station_id": "03527"
         },
         {
          "date_end": "2019-07-31T00:00:00+00:00",
          "date_start": "2004-08-17T00:00:00+00:00",
          "geo_lat": 50.8446,
          "geo_lon": 7.372,
          "height": 195,
          "name": "Neunkirchen-Seelscheid-Krawi",
          "state": "Nordrhein-Westfalen",
          "station_id": "03540"
         },
         {
          "date_end": "2019-07-31T00:00:00+00:00",
          "date_start": "2004-11-30T00:00:00+00:00",
          "geo_lat": 49.344,
          "geo_lon": 7.2297,
          "height": 236,
          "name": "Neunkirchen-Wellesweiler",
          "state": "Saarland",
          "station_id": "03545"
         },
         {
          "date_end": "2019-07-31T00:00:00+00:00",
          "date_start": "2007-11-27T00:00:00+00:00",
          "geo_lat": 49.8174,
          "geo_lon": 11.8638,
          "height": 452,
          "name": "Neustadt am Kulm-Filchendorf",
          "state": "Bayern",
          "station_id": "03571"
         },
         {
          "date_end": "2019-07-31T00:00:00+00:00",
          "date_start": "2003-06-04T00:00:00+00:00",
          "geo_lat": 50.6743,
          "geo_lon": 6.424,
          "height": 350,
          "name": "Nideggen-Schmidt",
          "state": "Nordrhein-Westfalen",
          "station_id": "03591"
         },
         {
          "date_end": "2019-07-31T00:00:00+00:00",
          "date_start": "2007-02-21T00:00:00+00:00",
          "geo_lat": 52.6711,
          "geo_lon": 9.2229,
          "height": 25,
          "name": "Nienburg",
          "state": "Niedersachsen",
          "station_id": "03612"
         },
         {
          "date_end": "2019-07-31T00:00:00+00:00",
          "date_start": "2005-11-08T00:00:00+00:00",
          "geo_lat": 48.8253,
          "geo_lon": 10.5067,
          "height": 435,
          "name": "Reimlingen",
          "state": "Bayern",
          "station_id": "03621"
         },
         {
          "date_end": "2019-07-31T00:00:00+00:00",
          "date_start": "1993-09-14T00:00:00+00:00",
          "geo_lat": 53.7123,
          "geo_lon": 7.1519,
          "height": 12,
          "name": "Norderney",
          "state": "Niedersachsen",
          "station_id": "03631"
         },
         {
          "date_end": "2019-07-31T00:00:00+00:00",
          "date_start": "1995-04-01T00:00:00+00:00",
          "geo_lat": 50.3601,
          "geo_lon": 6.8697,
          "height": 485,
          "name": "Nürburg-Barweiler",
          "state": "Rheinland-Pfalz",
          "station_id": "03660"
         },
         {
          "date_end": "2019-07-31T00:00:00+00:00",
          "date_start": "2004-11-22T00:00:00+00:00",
          "geo_lat": 49.4258,
          "geo_lon": 11.2538,
          "height": 368,
          "name": "Nürnberg-Netzstall",
          "state": "Bayern",
          "station_id": "03667"
         },
         {
          "date_end": "2019-07-31T00:00:00+00:00",
          "date_start": "1995-08-04T00:00:00+00:00",
          "geo_lat": 49.503,
          "geo_lon": 11.0549,
          "height": 314,
          "name": "Nürnberg",
          "state": "Bayern",
          "station_id": "03668"
         },
         {
          "date_end": "2019-07-31T00:00:00+00:00",
          "date_start": "2006-10-01T00:00:00+00:00",
          "geo_lat": 47.6187,
          "geo_lon": 12.1665,
          "height": 518,
          "name": "Kiefersfelden-Gach",
          "state": "Bayern",
          "station_id": "03679"
         },
         {
          "date_end": "2019-07-31T00:00:00+00:00",
          "date_start": "1994-07-31T00:00:00+00:00",
          "geo_lat": 47.3984,
          "geo_lon": 10.2759,
          "height": 806,
          "name": "Oberstdorf",
          "state": "Bayern",
          "station_id": "03730"
         },
         {
          "date_end": "2019-07-31T00:00:00+00:00",
          "date_start": "2003-09-25T00:00:00+00:00",
          "geo_lat": 49.128,
          "geo_lon": 9.3525,
          "height": 230,
          "name": "Obersulm-Willsbach",
          "state": "Baden-Württemberg",
          "station_id": "03734"
         },
         {
          "date_end": "2019-07-31T00:00:00+00:00",
          "date_start": "2005-01-09T00:00:00+00:00",
          "geo_lat": 49.4521,
          "geo_lon": 12.4366,
          "height": 596,
          "name": "Oberviechtach",
          "state": "Bayern",
          "station_id": "03739"
         },
         {
          "date_end": "2019-07-31T00:00:00+00:00",
          "date_start": "1992-07-01T00:00:00+00:00",
          "geo_lat": 49.207,
          "geo_lon": 9.5175,
          "height": 276,
          "name": "Öhringen",
          "state": "Baden-Württemberg",
          "station_id": "03761"
         },
         {
          "date_end": "2019-07-31T00:00:00+00:00",
          "date_start": "1991-11-06T00:00:00+00:00",
          "geo_lat": 51.296,
          "geo_lon": 13.0928,
          "height": 150,
          "name": "Oschatz",
          "state": "Sachsen",
          "station_id": "03811"
         },
         {
          "date_end": "2019-07-31T00:00:00+00:00",
          "date_start": "1991-11-01T00:00:00+00:00",
          "geo_lat": 51.0873,
          "geo_lon": 11.9292,
          "height": 246,
          "name": "Osterfeld",
          "state": "Sachsen-Anhalt",
          "station_id": "03821"
         },
         {
          "date_end": "2019-07-31T00:00:00+00:00",
          "date_start": "2006-01-03T00:00:00+00:00",
          "geo_lat": 50.4538,
          "geo_lon": 10.2211,
          "height": 312,
          "name": "Ostheim v.d. Rhön",
          "state": "Bayern",
          "station_id": "03836"
         },
         {
          "date_end": "2019-07-31T00:00:00+00:00",
          "date_start": "2004-11-17T00:00:00+00:00",
          "geo_lat": 47.6362,
          "geo_lon": 10.3892,
          "height": 885,
          "name": "Oy-Mittelberg-Petersthal",
          "state": "Bayern",
          "station_id": "03857"
         },
         {
          "date_end": "2019-07-31T00:00:00+00:00",
          "date_start": "2004-10-14T00:00:00+00:00",
          "geo_lat": 49.151,
          "geo_lon": 11.6896,
          "height": 549,
          "name": "Parsberg/Oberpfalz-Eglwang",
          "state": "Bayern",
          "station_id": "03875"
         },
         {
          "date_end": "2019-07-31T00:00:00+00:00",
          "date_start": "2006-07-28T00:00:00+00:00",
          "geo_lat": 54.0893,
          "geo_lon": 10.8773,
          "height": 2,
          "name": "Pelzerhaken",
          "state": "Schleswig-Holstein",
          "station_id": "03897"
         },
         {
          "date_end": "2019-07-31T00:00:00+00:00",
          "date_start": "2004-06-08T00:00:00+00:00",
          "geo_lat": 49.5354,
          "geo_lon": 6.3789,
          "height": 152,
          "name": "Perl-Nennig",
          "state": "Saarland",
          "station_id": "03904"
         },
         {
          "date_end": "2019-07-31T00:00:00+00:00",
          "date_start": "1991-01-01T00:00:00+00:00",
          "geo_lat": 48.9329,
          "geo_lon": 8.6973,
          "height": 333,
          "name": "Pforzheim-Ispringen",
          "state": "Baden-Württemberg",
          "station_id": "03925"
         },
         {
          "date_end": "2019-07-31T00:00:00+00:00",
          "date_start": "2003-07-30T00:00:00+00:00",
          "geo_lat": 47.9344,
          "geo_lon": 9.2869,
          "height": 630,
          "name": "Pfullendorf",
          "state": "Baden-Württemberg",
          "station_id": "03927"
         },
         {
          "date_end": "2019-07-31T00:00:00+00:00",
          "date_start": "2004-06-06T00:00:00+00:00",
          "geo_lat": 49.1912,
          "geo_lon": 7.5879,
          "height": 385,
          "name": "Pirmasens",
          "state": "Rheinland-Pfalz",
          "station_id": "03939"
         },
         {
          "date_end": "2019-07-31T00:00:00+00:00",
          "date_start": "1991-11-01T00:00:00+00:00",
          "geo_lat": 50.4819,
          "geo_lon": 12.13,
          "height": 386,
          "name": "Plauen",
          "state": "Sachsen",
          "station_id": "03946"
         },
         {
          "date_end": "2019-07-31T00:00:00+00:00",
          "date_start": "2004-11-23T00:00:00+00:00",
          "geo_lat": 49.4777,
          "geo_lon": 11.5357,
          "height": 522,
          "name": "Pommelsbrunn-Mittelburg",
          "state": "Bayern",
          "station_id": "03975"
         },
         {
          "date_end": "2019-07-31T00:00:00+00:00",
          "date_start": "1992-08-16T00:00:00+00:00",
          "geo_lat": 52.3813,
          "geo_lon": 13.0622,
          "height": 81,
          "name": "Potsdam",
          "state": "Brandenburg",
          "station_id": "03987"
         },
         {
          "date_end": "2019-07-31T00:00:00+00:00",
          "date_start": "1991-11-01T00:00:00+00:00",
          "geo_lat": 54.3643,
          "geo_lon": 13.4771,
          "height": 40,
          "name": "Putbus",
          "state": "Mecklenburg-Vorpommern",
          "station_id": "04024"
         },
         {
          "date_end": "2019-07-31T00:00:00+00:00",
          "date_start": "2006-11-02T00:00:00+00:00",
          "geo_lat": 51.7953,
          "geo_lon": 11.132,
          "height": 142,
          "name": "Quedlinburg",
          "state": "Sachsen-Anhalt",
          "station_id": "04032"
         },
         {
          "date_end": "2019-07-31T00:00:00+00:00",
          "date_start": "2007-01-16T00:00:00+00:00",
          "geo_lat": 51.3895,
          "geo_lon": 11.5412,
          "height": 204,
          "name": "Querfurt-Mühle Lodersleben",
          "state": "Sachsen-Anhalt",
          "station_id": "04036"
         },
         {
          "date_end": "2019-07-31T00:00:00+00:00",
          "date_start": "2003-05-12T00:00:00+00:00",
          "geo_lat": 53.7331,
          "geo_lon": 9.8776,
          "height": 11,
          "name": "Quickborn",
          "state": "Schleswig-Holstein",
          "station_id": "04039"
         },
         {
          "date_end": "2019-07-31T00:00:00+00:00",
          "date_start": "2002-10-21T00:00:00+00:00",
          "geo_lat": 52.4461,
          "geo_lon": 8.5906,
          "height": 41,
          "name": "Rahden-Kleinendorf",
          "state": "Nordrhein-Westfalen",
          "station_id": "04063"
         },
         {
          "date_end": "2019-07-31T00:00:00+00:00",
          "date_start": "1997-12-09T00:00:00+00:00",
          "geo_lat": 47.8062,
          "geo_lon": 9.6206,
          "height": 440,
          "name": "Weingarten, Kr. Ravensburg",
          "state": "Baden-Württemberg",
          "station_id": "04094"
         },
         {
          "date_end": "2019-07-31T00:00:00+00:00",
          "date_start": "1994-03-15T00:00:00+00:00",
          "geo_lat": 49.0425,
          "geo_lon": 12.1019,
          "height": 365,
          "name": "Regensburg",
          "state": "Bayern",
          "station_id": "04104"
         },
         {
          "date_end": "2019-07-31T00:00:00+00:00",
          "date_start": "2004-12-12T00:00:00+00:00",
          "geo_lat": 50.9906,
          "geo_lon": 7.6958,
          "height": 350,
          "name": "Reichshof-Eckenhagen",
          "state": "Nordrhein-Westfalen",
          "station_id": "04127"
         },
         {
          "date_end": "2019-07-31T00:00:00+00:00",
          "date_start": "2002-07-17T00:00:00+00:00",
          "geo_lat": 48.7425,
          "geo_lon": 8.924,
          "height": 478,
          "name": "Renningen-Ihinger Hof",
          "state": "Baden-Württemberg",
          "station_id": "04160"
         },
         {
          "date_end": "2019-07-31T00:00:00+00:00",
          "date_start": "2002-10-22T00:00:00+00:00",
          "geo_lat": 48.6703,
          "geo_lon": 7.9939,
          "height": 131,
          "name": "Rheinau-Memprechtshofen",
          "state": "Baden-Württemberg",
          "station_id": "04169"
         },
         {
          "date_end": "2019-07-31T00:00:00+00:00",
          "date_start": "2003-04-09T00:00:00+00:00",
          "geo_lat": 47.559,
          "geo_lon": 7.7721,
          "height": 282,
          "name": "Rheinfelden",
          "state": "Baden-Württemberg",
          "station_id": "04175"
         },
         {
          "date_end": "2019-07-31T00:00:00+00:00",
          "date_start": "2008-08-21T00:00:00+00:00",
          "geo_lat": 48.9726,
          "geo_lon": 8.3301,
          "height": 116,
          "name": "Rheinstetten",
          "state": "Baden-Württemberg",
          "station_id": "04177"
         },
         {
          "date_end": "2019-07-31T00:00:00+00:00",
          "date_start": "2003-08-05T00:00:00+00:00",
          "geo_lat": 48.1479,
          "geo_lon": 9.4596,
          "height": 533,
          "name": "Altheim, Kreis Biberach",
          "state": "Baden-Württemberg",
          "station_id": "04189"
         },
         {
          "date_end": "2019-07-31T00:00:00+00:00",
          "date_start": "2006-02-07T00:00:00+00:00",
          "geo_lat": 47.8754,
          "geo_lon": 12.128,
          "height": 444,
          "name": "Rosenheim",
          "state": "Bayern",
          "station_id": "04261"
         },
         {
          "date_end": "2019-07-31T00:00:00+00:00",
          "date_start": "1991-11-13T00:00:00+00:00",
          "geo_lat": 54.1803,
          "geo_lon": 12.0808,
          "height": 4,
          "name": "Rostock-Warnemünde",
          "state": "Mecklenburg-Vorpommern",
          "station_id": "04271"
         },
         {
          "date_end": "2019-07-31T00:00:00+00:00",
          "date_start": "2004-11-10T00:00:00+00:00",
          "geo_lat": 53.1288,
          "geo_lon": 9.3398,
          "height": 32,
          "name": "Rotenburg (Wümme)",
          "state": "Niedersachsen",
          "station_id": "04275"
         },
         {
          "date_end": "2019-07-31T00:00:00+00:00",
          "date_start": "2013-12-11T00:00:00+00:00",
          "geo_lat": 49.2164,
          "geo_lon": 11.1036,
          "height": 386,
          "name": "Roth",
          "state": "Bayern",
          "station_id": "04280"
         },
         {
          "date_end": "2019-07-31T00:00:00+00:00",
          "date_start": "2004-10-05T00:00:00+00:00",
          "geo_lat": 49.3848,
          "geo_lon": 10.1732,
          "height": 415,
          "name": "Rothenburg ob der Tauber",
          "state": "Bayern",
          "station_id": "04287"
         },
         {
          "date_end": "2019-07-31T00:00:00+00:00",
          "date_start": "2002-11-18T00:00:00+00:00",
          "geo_lat": 48.1814,
          "geo_lon": 8.6356,
          "height": 588,
          "name": "Rottweil",
          "state": "Baden-Württemberg",
          "station_id": "04300"
         },
         {
          "date_end": "2019-07-31T00:00:00+00:00",
          "date_start": "2004-08-30T00:00:00+00:00",
          "geo_lat": 49.8502,
          "geo_lon": 7.871,
          "height": 102,
          "name": "Kreuznach, Bad",
          "state": "Rheinland-Pfalz",
          "station_id": "04301"
         },
         {
          "date_end": "2019-07-31T00:00:00+00:00",
          "date_start": "2005-02-08T00:00:00+00:00",
          "geo_lat": 49.6468,
          "geo_lon": 7.8837,
          "height": 461,
          "name": "Ruppertsecken",
          "state": "Rheinland-Pfalz",
          "station_id": "04323"
         },
         {
          "date_end": "2019-07-31T00:00:00+00:00",
          "date_start": "1996-06-20T00:00:00+00:00",
          "geo_lat": 49.2128,
          "geo_lon": 7.1077,
          "height": 320,
          "name": "Saarbrücken-Ensheim",
          "state": "Saarland",
          "station_id": "04336"
         },
         {
          "date_end": "2019-07-31T00:00:00+00:00",
          "date_start": "2004-03-10T00:00:00+00:00",
          "geo_lat": 48.9569,
          "geo_lon": 9.071,
          "height": 248,
          "name": "Sachsenheim",
          "state": "Baden-Württemberg",
          "station_id": "04349"
         },
         {
          "date_end": "2019-07-31T00:00:00+00:00",
          "date_start": "2005-11-29T00:00:00+00:00",
          "geo_lat": 48.7832,
          "geo_lon": 13.3146,
          "height": 456,
          "name": "Saldenburg-Entschenreuth",
          "state": "Bayern",
          "station_id": "04354"
         },
         {
          "date_end": "2019-07-31T00:00:00+00:00",
          "date_start": "1992-06-03T00:00:00+00:00",
          "geo_lat": 52.1042,
          "geo_lon": 8.7521,
          "height": 135,
          "name": "Salzuflen, Bad",
          "state": "Nordrhein-Westfalen",
          "station_id": "04371"
         },
         {
          "date_end": "2019-07-31T00:00:00+00:00",
          "date_start": "2005-07-27T00:00:00+00:00",
          "geo_lat": 50.3518,
          "geo_lon": 10.0034,
          "height": 518,
          "name": "Sandberg",
          "state": "Bayern",
          "station_id": "04377"
         },
         {
          "date_end": "2019-07-31T00:00:00+00:00",
          "date_start": "1999-12-01T00:00:00+00:00",
          "geo_lat": 54.3279,
          "geo_lon": 8.6031,
          "height": 5,
          "name": "Sankt Peter-Ording",
          "state": "Schleswig-Holstein",
          "station_id": "04393"
         },
         {
          "date_end": "2019-07-31T00:00:00+00:00",
          "date_start": "2001-11-01T00:00:00+00:00",
          "geo_lat": 49.9195,
          "geo_lon": 8.9671,
          "height": 155,
          "name": "Schaafheim-Schlierbach",
          "state": "Hessen",
          "station_id": "04411"
         },
         {
          "date_end": "2019-07-31T00:00:00+00:00",
          "date_start": "1991-11-12T00:00:00+00:00",
          "geo_lat": 51.7658,
          "geo_lon": 10.6533,
          "height": 609,
          "name": "Wernigerode-Schierke",
          "state": "Sachsen-Anhalt",
          "station_id": "04445"
         },
         {
          "date_end": "2019-07-31T00:00:00+00:00",
          "date_start": "1991-10-31T00:00:00+00:00",
          "geo_lat": 50.5679,
          "geo_lon": 11.8041,
          "height": 501,
          "name": "Schleiz",
          "state": "Thüringen",
          "station_id": "04464"
         },
         {
          "date_end": "2019-07-31T00:00:00+00:00",
          "date_start": "1991-04-17T00:00:00+00:00",
          "geo_lat": 54.5275,
          "geo_lon": 9.5487,
          "height": 43,
          "name": "Schleswig",
          "state": "Schleswig-Holstein",
          "station_id": "04466"
         },
         {
          "date_end": "2019-07-31T00:00:00+00:00",
          "date_start": "2002-09-30T00:00:00+00:00",
          "geo_lat": 50.3447,
          "geo_lon": 9.5534,
          "height": 230,
          "name": "Schlüchtern-Herolz",
          "state": "Hessen",
          "station_id": "04480"
         },
         {
          "date_end": "2019-07-31T00:00:00+00:00",
          "date_start": "1992-09-19T00:00:00+00:00",
          "geo_lat": 50.6546,
          "geo_lon": 10.7693,
          "height": 937,
          "name": "Schmücke",
          "state": "Thüringen",
          "station_id": "04501"
         },
         {
          "date_end": "2019-07-31T00:00:00+00:00",
          "date_start": "2003-07-14T00:00:00+00:00",
          "geo_lat": 50.2968,
          "geo_lon": 6.4194,
          "height": 649,
          "name": "Schneifelforsthaus",
          "state": "Rheinland-Pfalz",
          "station_id": "04508"
         },
         {
          "date_end": "2019-07-31T00:00:00+00:00",
          "date_start": "2007-04-24T00:00:00+00:00",
          "geo_lat": 50.2046,
          "geo_lon": 12.1435,
          "height": 609,
          "name": "Selb/Oberfranken-Lauterbach",
          "state": "Bayern",
          "station_id": "04548"
         },
         {
          "date_end": "2019-07-31T00:00:00+00:00",
          "date_start": "2004-12-13T00:00:00+00:00",
          "geo_lat": 49.1643,
          "geo_lon": 12.6175,
          "height": 399,
          "name": "Schorndorf-Knöbling",
          "state": "Bayern",
          "station_id": "04559"
         },
         {
          "date_end": "2019-07-31T00:00:00+00:00",
          "date_start": "2004-08-31T00:00:00+00:00",
          "geo_lat": 50.4925,
          "geo_lon": 9.1226,
          "height": 265,
          "name": "Schotten",
          "state": "Hessen",
          "station_id": "04560"
         },
         {
          "date_end": "2019-07-31T00:00:00+00:00",
          "date_start": "2005-09-28T00:00:00+00:00",
          "geo_lat": 49.3278,
          "geo_lon": 12.087,
          "height": 356,
          "name": "Schwandorf",
          "state": "Bayern",
          "station_id": "04592"
         },
         {
          "date_end": "2019-07-31T00:00:00+00:00",
          "date_start": "2003-06-19T00:00:00+00:00",
          "geo_lat": 50.6441,
          "geo_lon": 11.1936,
          "height": 277,
          "name": "Schwarzburg",
          "state": "Thüringen",
          "station_id": "04605"
         },
         {
          "date_end": "2019-07-31T00:00:00+00:00",
          "date_start": "1991-11-01T00:00:00+00:00",
          "geo_lat": 53.6425,
          "geo_lon": 11.3872,
          "height": 59,
          "name": "Schwerin",
          "state": "Mecklenburg-Vorpommern",
          "station_id": "04625"
         },
         {
          "date_end": "2019-07-31T00:00:00+00:00",
          "date_start": "1991-10-31T00:00:00+00:00",
          "geo_lat": 52.8911,
          "geo_lon": 11.7297,
          "height": 21,
          "name": "Seehausen",
          "state": "Sachsen-Anhalt",
          "station_id": "04642"
         },
         {
          "date_end": "2019-07-31T00:00:00+00:00",
          "date_start": "2004-10-13T00:00:00+00:00",
          "geo_lat": 51.904,
          "geo_lon": 10.1885,
          "height": 186,
          "name": "Seesen",
          "state": "Niedersachsen",
          "station_id": "04651"
         },
         {
          "date_end": "2019-07-31T00:00:00+00:00",
          "date_start": "2002-09-01T00:00:00+00:00",
          "geo_lat": 48.0719,
          "geo_lon": 9.1942,
          "height": 580,
          "name": "Sigmaringen-Laiz",
          "state": "Baden-Württemberg",
          "station_id": "04703"
         },
         {
          "date_end": "2019-07-31T00:00:00+00:00",
          "date_start": "2005-01-17T00:00:00+00:00",
          "geo_lat": 47.5776,
          "geo_lon": 9.7404,
          "height": 507,
          "name": "Sigmarszell-Zeisertsweiler",
          "state": "Bayern",
          "station_id": "04704"
         },
         {
          "date_end": "2019-07-31T00:00:00+00:00",
          "date_start": "2004-12-09T00:00:00+00:00",
          "geo_lat": 48.2719,
          "geo_lon": 13.0273,
          "height": 360,
          "name": "Simbach/Inn",
          "state": "Bayern",
          "station_id": "04706"
         },
         {
          "date_end": "2019-07-31T00:00:00+00:00",
          "date_start": "2011-10-05T00:00:00+00:00",
          "geo_lat": 49.9996,
          "geo_lon": 7.5981,
          "height": 445,
          "name": "Simmern-Wahlbach",
          "state": "Rheinland-Pfalz",
          "station_id": "04709"
         },
         {
          "date_end": "2019-07-31T00:00:00+00:00",
          "date_start": "1992-10-27T00:00:00+00:00",
          "geo_lat": 52.9604,
          "geo_lon": 9.793,
          "height": 75,
          "name": "Soltau",
          "state": "Niedersachsen",
          "station_id": "04745"
         },
         {
          "date_end": "2019-07-31T00:00:00+00:00",
          "date_start": "2003-05-19T00:00:00+00:00",
          "geo_lat": 51.0607,
          "geo_lon": 9.9266,
          "height": 265,
          "name": "Sontra",
          "state": "Hessen",
          "station_id": "04763"
         },
         {
          "date_end": "2019-07-31T00:00:00+00:00",
          "date_start": "2004-05-11T00:00:00+00:00",
          "geo_lat": 53.6946,
          "geo_lon": 8.8735,
          "height": 1,
          "name": "Steinau, Kr. Cuxhaven",
          "state": "Niedersachsen",
          "station_id": "04841"
         },
         {
          "date_end": "2019-07-31T00:00:00+00:00",
          "date_start": "2004-07-27T00:00:00+00:00",
          "geo_lat": 53.5534,
          "geo_lon": 9.6097,
          "height": 1,
          "name": "Mittelnkirchen-Hohenfelde",
          "state": "Niedersachsen",
          "station_id": "04857"
         },
         {
          "date_end": "2019-07-31T00:00:00+00:00",
          "date_start": "2004-10-04T00:00:00+00:00",
          "geo_lat": 51.6646,
          "geo_lon": 10.8811,
          "height": 504,
          "name": "Oberharz am Brocken-Stiege",
          "state": "Sachsen-Anhalt",
          "station_id": "04878"
         },
         {
          "date_end": "2019-07-31T00:00:00+00:00",
          "date_start": "1994-12-02T00:00:00+00:00",
          "geo_lat": 48.6656,
          "geo_lon": 9.8648,
          "height": 734,
          "name": "Stötten",
          "state": "Baden-Württemberg",
          "station_id": "04887"
         },
         {
          "date_end": "2019-07-31T00:00:00+00:00",
          "date_start": "2005-05-17T00:00:00+00:00",
          "geo_lat": 54.6654,
          "geo_lon": 9.805,
          "height": 40,
          "name": "Wagersrott",
          "state": "Schleswig-Holstein",
          "station_id": "04896"
         },
         {
          "date_end": "2019-07-31T00:00:00+00:00",
          "date_start": "1996-10-24T00:00:00+00:00",
          "geo_lat": 48.8275,
          "geo_lon": 12.5597,
          "height": 351,
          "name": "Straubing",
          "state": "Bayern",
          "station_id": "04911"
         },
         {
          "date_end": "2019-07-31T00:00:00+00:00",
          "date_start": "1996-04-01T00:00:00+00:00",
          "geo_lat": 48.8281,
          "geo_lon": 9.2,
          "height": 314,
          "name": "Stuttgart (Schnarrenberg)",
          "state": "Baden-Württemberg",
          "station_id": "04928"
         },
         {
          "date_end": "2019-07-31T00:00:00+00:00",
          "date_start": "1995-09-29T00:00:00+00:00",
          "geo_lat": 48.6883,
          "geo_lon": 9.2235,
          "height": 371,
          "name": "Stuttgart-Echterdingen",
          "state": "Baden-Württemberg",
          "station_id": "04931"
         },
         {
          "date_end": "2019-07-31T00:00:00+00:00",
          "date_start": "2002-09-24T00:00:00+00:00",
          "geo_lat": 50.639,
          "geo_lon": 10.0228,
          "height": 395,
          "name": "Tann/Rhön",
          "state": "Hessen",
          "station_id": "04978"
         },
         {
          "date_end": "2019-07-31T00:00:00+00:00",
          "date_start": "2004-10-14T00:00:00+00:00",
          "geo_lat": 50.9771,
          "geo_lon": 12.3419,
          "height": 196,
          "name": "Starkenberg-Tegkwitz",
          "state": "Thüringen",
          "station_id": "04997"
         },
         {
          "date_end": "2019-07-31T00:00:00+00:00",
          "date_start": "1991-10-31T00:00:00+00:00",
          "geo_lat": 53.761,
          "geo_lon": 12.5574,
          "height": 38,
          "name": "Teterow",
          "state": "Mecklenburg-Vorpommern",
          "station_id": "05009"
         },
         {
          "date_end": "2019-07-31T00:00:00+00:00",
          "date_start": "2004-05-11T00:00:00+00:00",
          "geo_lat": 53.2758,
          "geo_lon": 8.9857,
          "height": 7,
          "name": "Worpswede-Hüttenbusch",
          "state": "Niedersachsen",
          "station_id": "05014"
         },
         {
          "date_end": "2019-07-31T00:00:00+00:00",
          "date_start": "2005-07-31T00:00:00+00:00",
          "geo_lat": 50.4002,
          "geo_lon": 11.3889,
          "height": 633,
          "name": "Teuschnitz",
          "state": "Bayern",
          "station_id": "05017"
         },
         {
          "date_end": "2019-07-31T00:00:00+00:00",
          "date_start": "1993-11-10T00:00:00+00:00",
          "geo_lat": 49.4738,
          "geo_lon": 7.0386,
          "height": 386,
          "name": "Tholey",
          "state": "Saarland",
          "station_id": "05029"
         },
         {
          "date_end": "2019-07-31T00:00:00+00:00",
          "date_start": "2008-01-29T00:00:00+00:00",
          "geo_lat": 49.8576,
          "geo_lon": 12.3542,
          "height": 500,
          "name": "Tirschenreuth-Lodermühl",
          "state": "Bayern",
          "station_id": "05046"
         },
         {
          "date_end": "2019-07-31T00:00:00+00:00",
          "date_start": "2004-10-19T00:00:00+00:00",
          "geo_lat": 51.2897,
          "geo_lon": 6.4437,
          "height": 37,
          "name": "Tönisvorst",
          "state": "Nordrhein-Westfalen",
          "station_id": "05064"
         },
         {
          "date_end": "2019-07-31T00:00:00+00:00",
          "date_start": "2004-11-22T00:00:00+00:00",
          "geo_lat": 54.0661,
          "geo_lon": 12.7675,
          "height": 10,
          "name": "Tribsees",
          "state": "Mecklenburg-Vorpommern",
          "station_id": "05097"
         },
         {
          "date_end": "2019-07-31T00:00:00+00:00",
          "date_start": "2008-04-09T00:00:00+00:00",
          "geo_lat": 49.7326,
          "geo_lon": 6.6131,
          "height": 132,
          "name": "Trier-Zewen",
          "state": "Rheinland-Pfalz",
          "station_id": "05099"
         },
         {
          "date_end": "2019-07-31T00:00:00+00:00",
          "date_start": "2000-10-18T00:00:00+00:00",
          "geo_lat": 49.7479,
          "geo_lon": 6.6582,
          "height": 265,
          "name": "Trier-Petrisberg",
          "state": "Rheinland-Pfalz",
          "station_id": "05100"
         },
         {
          "date_end": "2019-07-31T00:00:00+00:00",
          "date_start": "2013-10-01T00:00:00+00:00",
          "geo_lat": 53.5997,
          "geo_lon": 13.3039,
          "height": 69,
          "name": "Trollenhagen",
          "state": "Mecklenburg-Vorpommern",
          "station_id": "05109"
         },
         {
          "date_end": "2019-07-31T00:00:00+00:00",
          "date_start": "2005-12-19T00:00:00+00:00",
          "geo_lat": 48.0311,
          "geo_lon": 12.5396,
          "height": 559,
          "name": "Trostberg",
          "state": "Bayern",
          "station_id": "05111"
         },
         {
          "date_end": "2019-07-31T00:00:00+00:00",
          "date_start": "2004-07-26T00:00:00+00:00",
          "geo_lat": 51.3344,
          "geo_lon": 8.9132,
          "height": 295,
          "name": "Twistetal-Mühlhausen",
          "state": "Hessen",
          "station_id": "05133"
         },
         {
          "date_end": "2019-07-31T00:00:00+00:00",
          "date_start": "1992-08-16T00:00:00+00:00",
          "geo_lat": 53.7444,
          "geo_lon": 14.0697,
          "height": 1,
          "name": "Ueckermünde",
          "state": "Mecklenburg-Vorpommern",
          "station_id": "05142"
         },
         {
          "date_end": "2019-07-31T00:00:00+00:00",
          "date_start": "2003-07-14T00:00:00+00:00",
          "geo_lat": 52.9414,
          "geo_lon": 10.5289,
          "height": 50,
          "name": "Uelzen",
          "state": "Niedersachsen",
          "station_id": "05146"
         },
         {
          "date_end": "2019-07-31T00:00:00+00:00",
          "date_start": "2004-10-05T00:00:00+00:00",
          "geo_lat": 49.5741,
          "geo_lon": 10.1916,
          "height": 308,
          "name": "Gollhofen",
          "state": "Bayern",
          "station_id": "05149"
         },
         {
          "date_end": "2019-07-31T00:00:00+00:00",
          "date_start": "1991-11-05T00:00:00+00:00",
          "geo_lat": 52.1601,
          "geo_lon": 11.1759,
          "height": 162,
          "name": "Ummendorf",
          "state": "Sachsen-Anhalt",
          "station_id": "05158"
         },
         {
          "date_end": "2019-07-31T00:00:00+00:00",
          "date_start": "2003-04-14T00:00:00+00:00",
          "geo_lat": 48.0453,
          "geo_lon": 8.4608,
          "height": 720,
          "name": "Villingen-Schwenningen",
          "state": "Baden-Württemberg",
          "station_id": "05229"
         },
         {
          "date_end": "2019-07-31T00:00:00+00:00",
          "date_start": "2003-03-13T00:00:00+00:00",
          "geo_lat": 49.2445,
          "geo_lon": 8.5374,
          "height": 105,
          "name": "Waghäusel-Kirrlach",
          "state": "Baden-Württemberg",
          "station_id": "05275"
         },
         {
          "date_end": "2019-07-31T00:00:00+00:00",
          "date_start": "2004-06-01T00:00:00+00:00",
          "geo_lat": 51.6194,
          "geo_lon": 9.5749,
          "height": 176,
          "name": "Wahlsburg-Lippoldsberg",
          "state": "Hessen",
          "station_id": "05279"
         },
         {
          "date_end": "2019-07-31T00:00:00+00:00",
          "date_start": "2007-02-16T00:00:00+00:00",
          "geo_lat": 53.9224,
          "geo_lon": 10.2267,
          "height": 35,
          "name": "Wittenborn",
          "state": "Schleswig-Holstein",
          "station_id": "05280"
         },
         {
          "date_end": "2019-07-31T00:00:00+00:00",
          "date_start": "2003-05-25T00:00:00+00:00",
          "geo_lat": 50.2596,
          "geo_lon": 8.3607,
          "height": 380,
          "name": "Waldems-Reinborn",
          "state": "Hessen",
          "station_id": "05300"
         },
         {
          "date_end": "2019-07-31T00:00:00+00:00",
          "date_start": "2006-06-14T00:00:00+00:00",
          "geo_lat": 50.8963,
          "geo_lon": 10.5484,
          "height": 348,
          "name": "Waltershausen",
          "state": "Thüringen",
          "station_id": "05335"
         },
         {
          "date_end": "2019-07-31T00:00:00+00:00",
          "date_start": "2006-09-21T00:00:00+00:00",
          "geo_lat": 51.504,
          "geo_lon": 9.1118,
          "height": 236,
          "name": "Warburg",
          "state": "Nordrhein-Westfalen",
          "station_id": "05347"
         },
         {
          "date_end": "2019-07-31T00:00:00+00:00",
          "date_start": "1994-03-23T00:00:00+00:00",
          "geo_lat": 53.5196,
          "geo_lon": 12.6654,
          "height": 73,
          "name": "Waren (Müritz)",
          "state": "Mecklenburg-Vorpommern",
          "station_id": "05349"
         },
         {
          "date_end": "2019-07-31T00:00:00+00:00",
          "date_start": "1995-05-01T00:00:00+00:00",
          "geo_lat": 50.4973,
          "geo_lon": 9.9428,
          "height": 921,
          "name": "Wasserkuppe",
          "state": "Hessen",
          "station_id": "05371"
         },
         {
          "date_end": "2019-07-31T00:00:00+00:00",
          "date_start": "1991-07-04T00:00:00+00:00",
          "geo_lat": 49.6663,
          "geo_lon": 12.1845,
          "height": 440,
          "name": "Weiden",
          "state": "Bayern",
          "station_id": "05397"
         },
         {
          "date_end": "2019-07-31T00:00:00+00:00",
          "date_start": "1997-01-01T00:00:00+00:00",
          "geo_lat": 48.4025,
          "geo_lon": 11.6946,
          "height": 477,
          "name": "Weihenstephan-Dürnast",
          "state": "Bayern",
          "station_id": "05404"
         },
         {
          "date_end": "2019-07-31T00:00:00+00:00",
          "date_start": "2007-05-04T00:00:00+00:00",
          "geo_lat": 51.0177,
          "geo_lon": 11.3544,
          "height": 328,
          "name": "Weimar-Schöndorf",
          "state": "Thüringen",
          "station_id": "05424"
         },
         {
          "date_end": "2019-07-31T00:00:00+00:00",
          "date_start": "1993-10-27T00:00:00+00:00",
          "geo_lat": 49.3758,
          "geo_lon": 8.1213,
          "height": 553,
          "name": "Weinbiet",
          "state": "Rheinland-Pfalz",
          "station_id": "05426"
         },
         {
          "date_end": "2019-07-31T00:00:00+00:00",
          "date_start": "2003-05-14T00:00:00+00:00",
          "geo_lat": 49.5534,
          "geo_lon": 6.812,
          "height": 380,
          "name": "Weiskirchen/Saar",
          "state": "Saarland",
          "station_id": "05433"
         },
         {
          "date_end": "2019-07-31T00:00:00+00:00",
          "date_start": "1988-10-14T00:00:00+00:00",
          "geo_lat": 49.0116,
          "geo_lon": 10.9308,
          "height": 439,
          "name": "Weißenburg-Emetzheim",
          "state": "Bayern",
          "station_id": "05440"
         },
         {
          "date_end": "2019-07-31T00:00:00+00:00",
          "date_start": "2003-09-10T00:00:00+00:00",
          "geo_lat": 51.5763,
          "geo_lon": 7.8879,
          "height": 85,
          "name": "Werl",
          "state": "Nordrhein-Westfalen",
          "station_id": "05480"
         },
         {
          "date_end": "2019-07-31T00:00:00+00:00",
          "date_start": "1991-10-31T00:00:00+00:00",
          "geo_lat": 51.8454,
          "geo_lon": 10.7686,
          "height": 233,
          "name": "Wernigerode",
          "state": "Sachsen-Anhalt",
          "station_id": "05490"
         },
         {
          "date_end": "2019-07-31T00:00:00+00:00",
          "date_start": "1996-05-31T00:00:00+00:00",
          "geo_lat": 54.5284,
          "geo_lon": 11.0605,
          "height": 3,
          "name": "Fehmarn",
          "state": "Schleswig-Holstein",
          "station_id": "05516"
         },
         {
          "date_end": "2019-07-31T00:00:00+00:00",
          "date_start": "2004-11-16T00:00:00+00:00",
          "geo_lat": 47.8827,
          "geo_lon": 11.1576,
          "height": 550,
          "name": "Wielenbach (Demollstr.)",
          "state": "Bayern",
          "station_id": "05538"
         },
         {
          "date_end": "2019-07-31T00:00:00+00:00",
          "date_start": "2004-07-11T00:00:00+00:00",
          "geo_lat": 50.132,
          "geo_lon": 8.317,
          "height": 263,
          "name": "Wiesbaden-Auringen",
          "state": "Hessen",
          "station_id": "05541"
         },
         {
          "date_end": "2019-07-31T00:00:00+00:00",
          "date_start": "1991-10-13T00:00:00+00:00",
          "geo_lat": 52.1207,
          "geo_lon": 12.4585,
          "height": 187,
          "name": "Wiesenburg",
          "state": "Brandenburg",
          "station_id": "05546"
         },
         {
          "date_end": "2019-07-31T00:00:00+00:00",
          "date_start": "2002-09-08T00:00:00+00:00",
          "geo_lat": 48.6516,
          "geo_lon": 8.6801,
          "height": 570,
          "name": "Neubulach-Oberhaugstett",
          "state": "Baden-Württemberg",
          "station_id": "05562"
         },
         {
          "date_end": "2019-07-31T00:00:00+00:00",
          "date_start": "1992-04-16T00:00:00+00:00",
          "geo_lat": 51.8892,
          "geo_lon": 12.6445,
          "height": 105,
          "name": "Wittenberg",
          "state": "Sachsen-Anhalt",
          "station_id": "05629"
         },
         {
          "date_end": "2019-07-31T00:00:00+00:00",
          "date_start": "2004-09-23T00:00:00+00:00",
          "geo_lat": 53.1864,
          "geo_lon": 12.4949,
          "height": 66,
          "name": "Wittstock-Rote Mühle",
          "state": "Brandenburg",
          "station_id": "05643"
         },
         {
          "date_end": "2019-07-31T00:00:00+00:00",
          "date_start": "2003-03-24T00:00:00+00:00",
          "geo_lat": 48.2953,
          "geo_lon": 8.2391,
          "height": 291,
          "name": "Wolfach",
          "state": "Baden-Württemberg",
          "station_id": "05664"
         },
         {
          "date_end": "2019-07-31T00:00:00+00:00",
          "date_start": "2010-07-19T00:00:00+00:00",
          "geo_lat": 52.3962,
          "geo_lon": 10.6892,
          "height": 82,
          "name": "Wolfsburg (Südwest)",
          "state": "Niedersachsen",
          "station_id": "05676"
         },
         {
          "date_end": "2019-07-31T00:00:00+00:00",
          "date_start": "2018-10-11T00:00:00+00:00",
          "geo_lat": 47.7003,
          "geo_lon": 8.1057,
          "height": 880,
          "name": "Dachsberg-Wolpadingen",
          "state": "Baden-Württemberg",
          "station_id": "05688"
         },
         {
          "date_end": "2019-07-31T00:00:00+00:00",
          "date_start": "2004-05-05T00:00:00+00:00",
          "geo_lat": 49.6051,
          "geo_lon": 8.3659,
          "height": 88,
          "name": "Worms",
          "state": "Rheinland-Pfalz",
          "station_id": "05692"
         },
         {
          "date_end": "2019-07-31T00:00:00+00:00",
          "date_start": "1992-10-26T00:00:00+00:00",
          "geo_lat": 49.7703,
          "geo_lon": 9.9577,
          "height": 268,
          "name": "Würzburg",
          "state": "Bayern",
          "station_id": "05705"
         },
         {
          "date_end": "2019-07-31T00:00:00+00:00",
          "date_start": "2006-07-05T00:00:00+00:00",
          "geo_lat": 51.2256,
          "geo_lon": 7.1052,
          "height": 134,
          "name": "Wuppertal-Buchenhofen",
          "state": "Nordrhein-Westfalen",
          "station_id": "05717"
         },
         {
          "date_end": "2019-07-31T00:00:00+00:00",
          "date_start": "2003-07-15T00:00:00+00:00",
          "geo_lat": 47.6783,
          "geo_lon": 8.3801,
          "height": 398,
          "name": "Wutöschingen-Ofteringen",
          "state": "Baden-Württemberg",
          "station_id": "05731"
         },
         {
          "date_end": "2019-07-31T00:00:00+00:00",
          "date_start": "2004-04-19T00:00:00+00:00",
          "geo_lat": 52.9664,
          "geo_lon": 13.3268,
          "height": 51,
          "name": "Zehdenick",
          "state": "Brandenburg",
          "station_id": "05745"
         },
         {
          "date_end": "2019-07-31T00:00:00+00:00",
          "date_start": "2004-11-30T00:00:00+00:00",
          "geo_lat": 51.0314,
          "geo_lon": 12.1495,
          "height": 264,
          "name": "Zeitz",
          "state": "Sachsen-Anhalt",
          "station_id": "05750"
         },
         {
          "date_end": "2019-07-24T00:00:00+00:00",
          "date_start": "1991-11-01T00:00:00+00:00",
          "geo_lat": 50.7314,
          "geo_lon": 13.7516,
          "height": 877,
          "name": "Zinnwald-Georgenfeld",
          "state": "Sachsen",
          "station_id": "05779"
         },
         {
          "date_end": "2019-07-31T00:00:00+00:00",
          "date_start": "1994-07-31T00:00:00+00:00",
          "geo_lat": 47.4209,
          "geo_lon": 10.9847,
          "height": 2964,
          "name": "Zugspitze",
          "state": "Bayern",
          "station_id": "05792"
         },
         {
          "date_end": "2019-07-31T00:00:00+00:00",
          "date_start": "2005-10-09T00:00:00+00:00",
          "geo_lat": 50.6878,
          "geo_lon": 12.4329,
          "height": 353,
          "name": "Lichtentanne",
          "state": "Sachsen",
          "station_id": "05797"
         },
         {
          "date_end": "2019-07-31T00:00:00+00:00",
          "date_start": "2006-07-04T00:00:00+00:00",
          "geo_lat": 49.028,
          "geo_lon": 13.2385,
          "height": 615,
          "name": "Zwiesel",
          "state": "Bayern",
          "station_id": "05800"
         },
         {
          "date_end": "2019-07-31T00:00:00+00:00",
          "date_start": "2003-01-07T00:00:00+00:00",
          "geo_lat": 52.6198,
          "geo_lon": 12.7867,
          "height": 40,
          "name": "Berge",
          "state": "Brandenburg",
          "station_id": "05825"
         },
         {
          "date_end": "2019-07-31T00:00:00+00:00",
          "date_start": "1997-07-09T00:00:00+00:00",
          "geo_lat": 53.3881,
          "geo_lon": 7.2287,
          "height": 0,
          "name": "Emden",
          "state": "Niedersachsen",
          "station_id": "05839"
         },
         {
          "date_end": "2019-07-31T00:00:00+00:00",
          "date_start": "1996-12-30T00:00:00+00:00",
          "geo_lat": 48.5451,
          "geo_lon": 13.3531,
          "height": 476,
          "name": "Fürstenzell",
          "state": "Bayern",
          "station_id": "05856"
         },
         {
          "date_end": "2019-07-31T00:00:00+00:00",
          "date_start": "1998-12-22T00:00:00+00:00",
          "geo_lat": 49.9462,
          "geo_lon": 7.2645,
          "height": 497,
          "name": "Hahn",
          "state": "Rheinland-Pfalz",
          "station_id": "05871"
         },
         {
          "date_end": "2019-07-31T00:00:00+00:00",
          "date_start": "1993-07-14T00:00:00+00:00",
          "geo_lat": 49.5062,
          "geo_lon": 8.5585,
          "height": 98,
          "name": "Mannheim",
          "state": "Baden-Württemberg",
          "station_id": "05906"
         },
         {
          "date_end": "2019-07-31T00:00:00+00:00",
          "date_start": "1994-11-02T00:00:00+00:00",
          "geo_lat": 54.641,
          "geo_lon": 10.0238,
          "height": 1,
          "name": "Schönhagen (Ostseebad)",
          "state": "Schleswig-Holstein",
          "station_id": "05930"
         },
         {
          "date_end": "2019-07-31T00:00:00+00:00",
          "date_start": "2006-12-04T00:00:00+00:00",
          "geo_lat": 47.6754,
          "geo_lon": 12.4698,
          "height": 685,
          "name": "Reit im Winkl",
          "state": "Bayern",
          "station_id": "05941"
         },
         {
          "date_end": "2019-07-31T00:00:00+00:00",
          "date_start": "2003-03-27T00:00:00+00:00",
          "geo_lat": 53.2139,
          "geo_lon": 10.4704,
          "height": 62,
          "name": "Wendisch Evern",
          "state": "Niedersachsen",
          "station_id": "06093"
         },
         {
          "date_end": "2019-07-31T00:00:00+00:00",
          "date_start": "2003-07-09T00:00:00+00:00",
          "geo_lat": 54.3194,
          "geo_lon": 9.8051,
          "height": 14,
          "name": "Ostenfeld (Rendsburg)",
          "state": "Schleswig-Holstein",
          "station_id": "06105"
         },
         {
          "date_end": "2019-07-31T00:00:00+00:00",
          "date_start": "2004-05-31T00:00:00+00:00",
          "geo_lat": 53.3837,
          "geo_lon": 14.3728,
          "height": 50,
          "name": "Grambow-Schwennenz",
          "state": "Mecklenburg-Vorpommern",
          "station_id": "06109"
         },
         {
          "date_end": "2019-07-31T00:00:00+00:00",
          "date_start": "2004-09-15T00:00:00+00:00",
          "geo_lat": 51.0593,
          "geo_lon": 14.4266,
          "height": 290,
          "name": "Sohland/Spree",
          "state": "Sachsen",
          "station_id": "06129"
         },
         {
          "date_end": "2019-07-31T00:00:00+00:00",
          "date_start": "2007-08-21T00:00:00+00:00",
          "geo_lat": 53.641,
          "geo_lon": 8.0808,
          "height": 8,
          "name": "Wangerland-Hooksiel",
          "state": "Niedersachsen",
          "station_id": "06157"
         },
         {
          "date_end": "2019-07-31T00:00:00+00:00",
          "date_start": "2004-09-27T00:00:00+00:00",
          "geo_lat": 49.2247,
          "geo_lon": 10.6084,
          "height": 455,
          "name": "Weidenbach-Weiherschneidbach",
          "state": "Bayern",
          "station_id": "06158"
         },
         {
          "date_end": "2019-07-31T00:00:00+00:00",
          "date_start": "2008-10-31T00:00:00+00:00",
          "geo_lat": 52.9542,
          "geo_lon": 7.3196,
          "height": 8,
          "name": "Dörpen",
          "state": "Niedersachsen",
          "station_id": "06159"
         },
         {
          "date_end": "2019-07-31T00:00:00+00:00",
          "date_start": "2006-11-09T00:00:00+00:00",
          "geo_lat": 54.1654,
          "geo_lon": 10.3519,
          "height": 27,
          "name": "Dörnick",
          "state": "Schleswig-Holstein",
          "station_id": "06163"
         },
         {
          "date_end": "2019-07-31T00:00:00+00:00",
          "date_start": "2003-03-11T00:00:00+00:00",
          "geo_lat": 52.0192,
          "geo_lon": 14.7254,
          "height": 40,
          "name": "Coschen",
          "state": "Brandenburg",
          "station_id": "06170"
         },
         {
          "date_end": "2019-07-31T00:00:00+00:00",
          "date_start": "2006-09-27T00:00:00+00:00",
          "geo_lat": 51.8664,
          "geo_lon": 9.2709,
          "height": 258,
          "name": "Lügde-Paenbruch",
          "state": "Nordrhein-Westfalen",
          "station_id": "06197"
         },
         {
          "date_end": "2019-07-31T00:00:00+00:00",
          "date_start": "2004-08-24T00:00:00+00:00",
          "geo_lat": 54.2484,
          "geo_lon": 13.0418,
          "height": 16,
          "name": "Steinhagen-Negast",
          "state": "Mecklenburg-Vorpommern",
          "station_id": "06199"
         },
         {
          "date_end": "2019-07-31T00:00:00+00:00",
          "date_start": "2004-07-19T00:00:00+00:00",
          "geo_lat": 49.2406,
          "geo_lon": 6.9351,
          "height": 190,
          "name": "Saarbrücken-Burbach",
          "state": "Saarland",
          "station_id": "06217"
         },
         {
          "date_end": "2019-07-31T00:00:00+00:00",
          "date_start": "2002-09-01T00:00:00+00:00",
          "geo_lat": 47.6845,
          "geo_lon": 9.4409,
          "height": 459,
          "name": "Friedrichshafen-Unterraderac",
          "state": "Baden-Württemberg",
          "station_id": "06258"
         },
         {
          "date_end": "2019-07-31T00:00:00+00:00",
          "date_start": "2002-06-19T00:00:00+00:00",
          "geo_lat": 49.021,
          "geo_lon": 9.6032,
          "height": 523,
          "name": "Großerlach-Mannenweiler",
          "state": "Baden-Württemberg",
          "station_id": "06259"
         },
         {
          "date_end": "2019-07-31T00:00:00+00:00",
          "date_start": "2002-09-09T00:00:00+00:00",
          "geo_lat": 49.3328,
          "geo_lon": 9.704,
          "height": 385,
          "name": "Ingelfingen-Stachenhausen",
          "state": "Baden-Württemberg",
          "station_id": "06260"
         },
         {
          "date_end": "2019-07-31T00:00:00+00:00",
          "date_start": "2002-06-18T00:00:00+00:00",
          "geo_lat": 48.7695,
          "geo_lon": 9.8737,
          "height": 413,
          "name": "Schwäbisch Gmünd-Weiler",
          "state": "Baden-Württemberg",
          "station_id": "06262"
         },
         {
          "date_end": "2019-07-31T00:00:00+00:00",
          "date_start": "2003-07-28T00:00:00+00:00",
          "geo_lat": 47.7738,
          "geo_lon": 8.8219,
          "height": 445,
          "name": "Singen",
          "state": "Baden-Württemberg",
          "station_id": "06263"
         },
         {
          "date_end": "2019-07-31T00:00:00+00:00",
          "date_start": "2002-11-13T00:00:00+00:00",
          "geo_lat": 51.414,
          "geo_lon": 8.65,
          "height": 457,
          "name": "Brilon-Thülen",
          "state": "Nordrhein-Westfalen",
          "station_id": "06264"
         },
         {
          "date_end": "2019-07-31T00:00:00+00:00",
          "date_start": "2002-12-11T00:00:00+00:00",
          "geo_lat": 52.3613,
          "geo_lon": 12.3867,
          "height": 36,
          "name": "Wusterwitz",
          "state": "Brandenburg",
          "station_id": "06265"
         },
         {
          "date_end": "2019-07-31T00:00:00+00:00",
          "date_start": "2003-03-12T00:00:00+00:00",
          "geo_lat": 52.0304,
          "geo_lon": 10.9626,
          "height": 112,
          "name": "Huy-Pabstorf",
          "state": "Sachsen-Anhalt",
          "station_id": "06266"
         },
         {
          "date_end": "2019-07-31T00:00:00+00:00",
          "date_start": "2004-08-10T00:00:00+00:00",
          "geo_lat": 50.8426,
          "geo_lon": 10.2518,
          "height": 283,
          "name": "Moorgrund Gräfen-Nitzendorf",
          "state": "Thüringen",
          "station_id": "06272"
         },
         {
          "date_end": "2019-07-31T00:00:00+00:00",
          "date_start": "2002-10-16T00:00:00+00:00",
          "geo_lat": 52.5075,
          "geo_lon": 11.8551,
          "height": 36,
          "name": "Demker",
          "state": "Sachsen-Anhalt",
          "station_id": "06273"
         },
         {
          "date_end": "2019-07-31T00:00:00+00:00",
          "date_start": "2003-05-22T00:00:00+00:00",
          "geo_lat": 48.6705,
          "geo_lon": 9.4627,
          "height": 325,
          "name": "Notzingen",
          "state": "Baden-Württemberg",
          "station_id": "06275"
         },
         {
          "date_end": "2019-07-31T00:00:00+00:00",
          "date_start": "2004-09-01T00:00:00+00:00",
          "geo_lat": 51.2061,
          "geo_lon": 10.4978,
          "height": 193,
          "name": "Mühlhausen/Thüringen-Görmar",
          "state": "Thüringen",
          "station_id": "06305"
         },
         {
          "date_end": "2019-07-31T00:00:00+00:00",
          "date_start": "2004-06-13T00:00:00+00:00",
          "geo_lat": 54.1049,
          "geo_lon": 13.8239,
          "height": 1,
          "name": "Karlshagen",
          "state": "Mecklenburg-Vorpommern",
          "station_id": "06310"
         },
         {
          "date_end": "2019-07-31T00:00:00+00:00",
          "date_start": "2004-09-27T00:00:00+00:00",
          "geo_lat": 49.5314,
          "geo_lon": 10.6418,
          "height": 362,
          "name": "Markt Erlbach-Mosbach",
          "state": "Bayern",
          "station_id": "06312"
         },
         {
          "date_end": "2019-07-31T00:00:00+00:00",
          "date_start": "2005-06-08T00:00:00+00:00",
          "geo_lat": 51.0507,
          "geo_lon": 13.3003,
          "height": 308,
          "name": "Nossen",
          "state": "Sachsen",
          "station_id": "06314"
         },
         {
          "date_end": "2019-07-31T00:00:00+00:00",
          "date_start": "2005-09-26T00:00:00+00:00",
          "geo_lat": 50.0132,
          "geo_lon": 9.654,
          "height": 285,
          "name": "Lohr/Main-Halsbach",
          "state": "Bayern",
          "station_id": "06336"
         },
         {
          "date_end": "2019-07-31T00:00:00+00:00",
          "date_start": "2004-06-20T00:00:00+00:00",
          "geo_lat": 51.7663,
          "geo_lon": 7.5194,
          "height": 59,
          "name": "Lüdinghausen-Brochtrup",
          "state": "Nordrhein-Westfalen",
          "station_id": "06337"
         },
         {
          "date_end": "2019-07-31T00:00:00+00:00",
          "date_start": "2004-10-19T00:00:00+00:00",
          "geo_lat": 50.394,
          "geo_lon": 8.1423,
          "height": 168,
          "name": "Runkel-Ennerich",
          "state": "Hessen",
          "station_id": "06344"
         },
         {
          "date_end": "2019-07-31T00:00:00+00:00",
          "date_start": "2004-11-26T00:00:00+00:00",
          "geo_lat": 48.207,
          "geo_lon": 11.2035,
          "height": 531,
          "name": "Maisach-Galgen",
          "state": "Bayern",
          "station_id": "06346"
         },
         {
          "date_end": "2019-07-31T00:00:00+00:00",
          "date_start": "2004-10-06T00:00:00+00:00",
          "geo_lat": 50.0579,
          "geo_lon": 10.2972,
          "height": 304,
          "name": "Schonungen-Mainberg",
          "state": "Bayern",
          "station_id": "06347"
         },
         {
          "date_end": "2019-07-31T00:00:00+00:00",
          "date_start": "2004-10-24T00:00:00+00:00",
          "geo_lat": 48.702,
          "geo_lon": 11.8493,
          "height": 425,
          "name": "Elsendorf-Horneck",
          "state": "Bayern",
          "station_id": "07075"
         },
         {
          "date_end": "2019-07-31T00:00:00+00:00",
          "date_start": "2004-10-13T00:00:00+00:00",
          "geo_lat": 52.0111,
          "geo_lon": 10.3966,
          "height": 187,
          "name": "Liebenburg-Othfresen",
          "state": "Niedersachsen",
          "station_id": "07099"
         },
         {
          "date_end": "2019-07-31T00:00:00+00:00",
          "date_start": "2005-04-10T00:00:00+00:00",
          "geo_lat": 47.835,
          "geo_lon": 12.6548,
          "height": 719,
          "name": "Siegsdorf-Höll",
          "state": "Bayern",
          "station_id": "07105"
         },
         {
          "date_end": "2019-07-31T00:00:00+00:00",
          "date_start": "2006-07-23T00:00:00+00:00",
          "geo_lat": 52.0714,
          "geo_lon": 8.4565,
          "height": 105,
          "name": "Bielefeld-Deppendorf",
          "state": "Nordrhein-Westfalen",
          "station_id": "07106"
         },
         {
          "date_end": "2019-07-31T00:00:00+00:00",
          "date_start": "2004-11-04T00:00:00+00:00",
          "geo_lat": 49.7636,
          "geo_lon": 9.4063,
          "height": 193,
          "name": "Freudenberg/Main-Boxtal",
          "state": "Baden-Württemberg",
          "station_id": "07187"
         },
         {
          "date_end": "2019-07-31T00:00:00+00:00",
          "date_start": "2005-05-17T00:00:00+00:00",
          "geo_lat": 54.5268,
          "geo_lon": 9.0425,
          "height": 5,
          "name": "Hattstedt",
          "state": "Schleswig-Holstein",
          "station_id": "07298"
         },
         {
          "date_end": "2019-07-31T00:00:00+00:00",
          "date_start": "2004-10-25T00:00:00+00:00",
          "geo_lat": 48.7374,
          "geo_lon": 10.7393,
          "height": 435,
          "name": "Donauwörth-Osterweiler",
          "state": "Bayern",
          "station_id": "07319"
         },
         {
          "date_end": "2019-07-31T00:00:00+00:00",
          "date_start": "2005-07-05T00:00:00+00:00",
          "geo_lat": 51.1507,
          "geo_lon": 11.3321,
          "height": 160,
          "name": "Olbersleben",
          "state": "Thüringen",
          "station_id": "07321"
         },
         {
          "date_end": "2019-07-31T00:00:00+00:00",
          "date_start": "2005-09-08T00:00:00+00:00",
          "geo_lat": 50.5467,
          "geo_lon": 12.2863,
          "height": 465,
          "name": "Treuen",
          "state": "Sachsen",
          "station_id": "07329"
         },
         {
          "date_end": "2019-07-31T00:00:00+00:00",
          "date_start": "2005-07-05T00:00:00+00:00",
          "geo_lat": 51.4633,
          "geo_lon": 7.978,
          "height": 159,
          "name": "Arnsberg-Neheim",
          "state": "Nordrhein-Westfalen",
          "station_id": "07330"
         },
         {
          "date_end": "2019-07-31T00:00:00+00:00",
          "date_start": "2005-08-07T00:00:00+00:00",
          "geo_lat": 48.6099,
          "geo_lon": 10.2674,
          "height": 468,
          "name": "Hermaringen-Allewind",
          "state": "Baden-Württemberg",
          "station_id": "07331"
         },
         {
          "date_end": "2019-07-31T00:00:00+00:00",
          "date_start": "2005-06-22T00:00:00+00:00",
          "geo_lat": 50.09,
          "geo_lon": 8.7862,
          "height": 119,
          "name": "Offenbach-Wetterpark",
          "state": "Hessen",
          "station_id": "07341"
         },
         {
          "date_end": "2019-07-31T00:00:00+00:00",
          "date_start": "2006-01-11T00:00:00+00:00",
          "geo_lat": 50.6199,
          "geo_lon": 13.4816,
          "height": 688,
          "name": "Deutschneudorf-Brüderwiese",
          "state": "Sachsen",
          "station_id": "07343"
         },
         {
          "date_end": "2019-07-31T00:00:00+00:00",
          "date_start": "2006-05-15T00:00:00+00:00",
          "geo_lat": 49.1088,
          "geo_lon": 12.8231,
          "height": 588,
          "name": "Prackenbach-Neuhäusl",
          "state": "Bayern",
          "station_id": "07350"
         },
         {
          "date_end": "2019-07-31T00:00:00+00:00",
          "date_start": "2005-09-08T00:00:00+00:00",
          "geo_lat": 53.3175,
          "geo_lon": 13.4175,
          "height": 116,
          "name": "Feldberg/Mecklenburg",
          "state": "Mecklenburg-Vorpommern",
          "station_id": "07351"
         },
         {
          "date_end": "2019-07-31T00:00:00+00:00",
          "date_start": "2006-12-07T00:00:00+00:00",
          "geo_lat": 51.682,
          "geo_lon": 12.3042,
          "height": 74,
          "name": "Jeßnitz",
          "state": "Sachsen-Anhalt",
          "station_id": "07364"
         },
         {
          "date_end": "2019-07-31T00:00:00+00:00",
          "date_start": "2007-11-08T00:00:00+00:00",
          "geo_lat": 51.9643,
          "geo_lon": 9.8072,
          "height": 144,
          "name": "Alfeld",
          "state": "Niedersachsen",
          "station_id": "07367"
         },
         {
          "date_end": "2019-07-31T00:00:00+00:00",
          "date_start": "2007-10-04T00:00:00+00:00",
          "geo_lat": 51.0007,
          "geo_lon": 10.3621,
          "height": 312,
          "name": "Eisenach",
          "state": "Thüringen",
          "station_id": "07368"
         },
         {
          "date_end": "2019-07-31T00:00:00+00:00",
          "date_start": "2007-09-26T00:00:00+00:00",
          "geo_lat": 49.1623,
          "geo_lon": 10.3662,
          "height": 475,
          "name": "Feuchtwangen-Heilbronn",
          "state": "Bayern",
          "station_id": "07369"
         },
         {
          "date_end": "2019-07-31T00:00:00+00:00",
          "date_start": "2006-07-27T00:00:00+00:00",
          "geo_lat": 49.391,
          "geo_lon": 12.6838,
          "height": 499,
          "name": "Waldmünchen",
          "state": "Bayern",
          "station_id": "07370"
         },
         {
          "date_end": "2019-07-31T00:00:00+00:00",
          "date_start": "2006-01-16T00:00:00+00:00",
          "geo_lat": 53.5984,
          "geo_lon": 6.7024,
          "height": 3,
          "name": "Borkum-Flugplatz",
          "state": "Niedersachsen",
          "station_id": "07373"
         },
         {
          "date_end": "2019-07-31T00:00:00+00:00",
          "date_start": "2005-12-06T00:00:00+00:00",
          "geo_lat": 52.0814,
          "geo_lon": 6.941,
          "height": 46,
          "name": "Ahaus",
          "state": "Nordrhein-Westfalen",
          "station_id": "07374"
         },
         {
          "date_end": "2019-07-31T00:00:00+00:00",
          "date_start": "2006-10-11T00:00:00+00:00",
          "geo_lat": 52.7461,
          "geo_lon": 13.8427,
          "height": 82,
          "name": "Heckelberg",
          "state": "Brandenburg",
          "station_id": "07389"
         },
         {
          "date_end": "2019-07-31T00:00:00+00:00",
          "date_start": "2009-12-16T00:00:00+00:00",
          "geo_lat": 51.4493,
          "geo_lon": 14.2533,
          "height": 116,
          "name": "Hoyerswerda",
          "state": "Sachsen",
          "station_id": "07393"
         },
         {
          "date_end": "2019-07-31T00:00:00+00:00",
          "date_start": "2006-06-01T00:00:00+00:00",
          "geo_lat": 50.0315,
          "geo_lon": 11.9745,
          "height": 622,
          "name": "Wunsiedel-Schönbrunn",
          "state": "Bayern",
          "station_id": "07394"
         },
         {
          "date_end": "2019-07-31T00:00:00+00:00",
          "date_start": "2007-11-09T00:00:00+00:00",
          "geo_lat": 48.6595,
          "geo_lon": 12.5388,
          "height": 351,
          "name": "Gottfrieding",
          "state": "Bayern",
          "station_id": "07395"
         },
         {
          "date_end": "2019-07-31T00:00:00+00:00",
          "date_start": "2008-04-01T00:00:00+00:00",
          "geo_lat": 50.5084,
          "geo_lon": 9.2247,
          "height": 743,
          "name": "Hoherodskopf/Vogelsberg",
          "state": "Hessen",
          "station_id": "07396"
         },
         {
          "date_end": "2019-07-31T00:00:00+00:00",
          "date_start": "2007-02-26T00:00:00+00:00",
          "geo_lat": 47.7955,
          "geo_lon": 10.0324,
          "height": 672,
          "name": "Leutkirch-Herlazhofen",
          "state": "Baden-Württemberg",
          "station_id": "07403"
         },
         {
          "date_end": "2019-07-31T00:00:00+00:00",
          "date_start": "2006-09-20T00:00:00+00:00",
          "geo_lat": 50.0083,
          "geo_lon": 9.4239,
          "height": 340,
          "name": "Neuhütten/Spessart",
          "state": "Bayern",
          "station_id": "07412"
         },
         {
          "date_end": "2019-07-31T00:00:00+00:00",
          "date_start": "2006-08-22T00:00:00+00:00",
          "geo_lat": 50.661,
          "geo_lon": 12.0756,
          "height": 389,
          "name": "Langenwetzendorf-Göttendorf",
          "state": "Thüringen",
          "station_id": "07419"
         },
         {
          "date_end": "2019-07-31T00:00:00+00:00",
          "date_start": "2007-02-04T00:00:00+00:00",
          "geo_lat": 51.1044,
          "geo_lon": 11.7112,
          "height": 246,
          "name": "Naumburg/Saale-Kreipitzsch",
          "state": "Sachsen-Anhalt",
          "station_id": "07420"
         },
         {
          "date_end": "2019-07-31T00:00:00+00:00",
          "date_start": "2006-10-19T00:00:00+00:00",
          "geo_lat": 47.7724,
          "geo_lon": 12.9073,
          "height": 457,
          "name": "Piding",
          "state": "Bayern",
          "station_id": "07424"
         },
         {
          "date_end": "2019-07-31T00:00:00+00:00",
          "date_start": "2007-08-07T00:00:00+00:00",
          "geo_lat": 54.0188,
          "geo_lon": 9.9255,
          "height": 17,
          "name": "Padenstedt (Pony-Park)",
          "state": "Schleswig-Holstein",
          "station_id": "07427"
         },
         {
          "date_end": "2019-07-31T00:00:00+00:00",
          "date_start": "2007-03-22T00:00:00+00:00",
          "geo_lat": 50.4167,
          "geo_lon": 10.8156,
          "height": 397,
          "name": "Veilsdorf",
          "state": "Thüringen",
          "station_id": "07428"
         },
         {
          "date_end": "2019-07-31T00:00:00+00:00",
          "date_start": "2007-09-11T00:00:00+00:00",
          "geo_lat": 48.013,
          "geo_lon": 11.5524,
          "height": 604,
          "name": "Oberhaching-Laufzorn",
          "state": "Bayern",
          "station_id": "07431"
         },
         {
          "date_end": "2019-07-31T00:00:00+00:00",
          "date_start": "2007-04-03T00:00:00+00:00",
          "geo_lat": 52.6423,
          "geo_lon": 10.6627,
          "height": 72,
          "name": "Wittingen-Vorhop",
          "state": "Niedersachsen",
          "station_id": "07432"
         },
         {
          "date_end": "2019-07-31T00:00:00+00:00",
          "date_start": "2007-05-04T00:00:00+00:00",
          "geo_lat": 51.5088,
          "geo_lon": 6.7018,
          "height": 24,
          "name": "Duisburg-Baerl",
          "state": "Nordrhein-Westfalen",
          "station_id": "13670"
         },
         {
          "date_end": "2019-07-31T00:00:00+00:00",
          "date_start": "2007-07-11T00:00:00+00:00",
          "geo_lat": 49.2943,
          "geo_lon": 8.9053,
          "height": 237,
          "name": "Waibstadt",
          "state": "Baden-Württemberg",
          "station_id": "13674"
         },
         {
          "date_end": "2019-07-31T00:00:00+00:00",
          "date_start": "2007-10-10T00:00:00+00:00",
          "geo_lat": 52.0818,
          "geo_lon": 9.4077,
          "height": 77,
          "name": "Hameln-Hastenbeck",
          "state": "Niedersachsen",
          "station_id": "13675"
         },
         {
          "date_end": "2019-07-31T00:00:00+00:00",
          "date_start": "2007-10-23T00:00:00+00:00",
          "geo_lat": 51.5966,
          "geo_lon": 7.4049,
          "height": 60,
          "name": "Waltrop-Abdinghof",
          "state": "Nordrhein-Westfalen",
          "station_id": "13696"
         },
         {
          "date_end": "2019-07-31T00:00:00+00:00",
          "date_start": "2008-03-25T00:00:00+00:00",
          "geo_lat": 51.3329,
          "geo_lon": 7.3411,
          "height": 205,
          "name": "Gevelsberg-Oberbröking",
          "state": "Nordrhein-Westfalen",
          "station_id": "13700"
         },
         {
          "date_end": "2019-07-31T00:00:00+00:00",
          "date_start": "2008-03-10T00:00:00+00:00",
          "geo_lat": 48.5734,
          "geo_lon": 12.2576,
          "height": 490,
          "name": "Landshut-Reithof",
          "state": "Bayern",
          "station_id": "13710"
         },
         {
          "date_end": "2019-07-31T00:00:00+00:00",
          "date_start": "2007-10-23T00:00:00+00:00",
          "geo_lat": 50.6819,
          "geo_lon": 11.515,
          "height": 289,
          "name": "Krölpa-Rockendorf",
          "state": "Thüringen",
          "station_id": "13711"
         },
         {
          "date_end": "2019-07-31T00:00:00+00:00",
          "date_start": "2007-10-08T00:00:00+00:00",
          "geo_lat": 51.0899,
          "geo_lon": 7.629,
          "height": 380,
          "name": "Meinerzhagen-Redlendorf",
          "state": "Nordrhein-Westfalen",
          "station_id": "13713"
         },
         {
          "date_end": "2019-07-31T00:00:00+00:00",
          "date_start": "2008-05-18T00:00:00+00:00",
          "geo_lat": 52.2467,
          "geo_lon": 10.9592,
          "height": 110,
          "name": "Helmstedt-Emmerstedt",
          "state": "Niedersachsen",
          "station_id": "13777"
         },
         {
          "date_end": "2019-07-19T00:00:00+00:00",
          "date_start": "2008-10-29T00:00:00+00:00",
          "geo_lat": 48.2639,
          "geo_lon": 8.8134,
          "height": 619,
          "name": "Balingen-Bronnhaupten",
          "state": "Baden-Württemberg",
          "station_id": "13965"
         },
         {
          "date_end": "2019-07-31T00:00:00+00:00",
          "date_start": "2011-03-11T00:00:00+00:00",
          "geo_lat": 50.7983,
          "geo_lon": 6.0244,
          "height": 231,
          "name": "Aachen-Orsbach",
          "state": "Nordrhein-Westfalen",
          "station_id": "15000"
         },
         {
          "date_end": "2019-07-31T00:00:00+00:00",
          "date_start": "2013-11-01T00:00:00+00:00",
          "geo_lat": 51.2835,
          "geo_lon": 9.359,
          "height": 317,
          "name": "Schauenburg-Elgershausen",
          "state": "Hessen",
          "station_id": "15207"
         },
         {
          "date_end": "2019-07-31T00:00:00+00:00",
          "date_start": "2014-08-14T00:00:00+00:00",
          "geo_lat": 48.4418,
          "geo_lon": 9.9216,
          "height": 593,
          "name": "Ulm-Mähringen",
          "state": "Baden-Württemberg",
          "station_id": "15444"
         },
         {
          "date_end": "2019-07-31T00:00:00+00:00",
          "date_start": "2016-04-27T00:00:00+00:00",
          "geo_lat": 47.8761,
          "geo_lon": 10.5848,
          "height": 816,
          "name": "Kaufbeuren-Oberbeuren",
          "state": "Bayern",
          "station_id": "15555"
         },
         {
          "date_end": "2019-08-30T00:00:00+00:00",
          "date_start": "2004-12-01T00:00:00+00:00",
          "geo_lat": 49.9807,
          "geo_lon": 11.8376,
          "height": 654,
          "name": "Fichtelberg/Oberfranken-Hüttstadl",
          "state": "Bayern",
          "station_id": "01357"
         },
         {
          "date_end": "2019-08-30T00:00:00+00:00",
          "date_start": "2007-05-22T00:00:00+00:00",
          "geo_lat": 49.1804,
          "geo_lon": 9.98,
          "height": 426,
          "name": "Kirchberg/Jagst-Herboldshausen",
          "state": "Baden-Württemberg",
          "station_id": "02575"
         },
         {
          "date_end": "2019-08-30T00:00:00+00:00",
          "date_start": "2013-07-23T00:00:00+00:00",
          "geo_lat": 48.7726,
          "geo_lon": 12.2177,
          "height": 418,
          "name": "Mallersdorf-Pfaffenberg/Niederbay",
          "state": "Bayern",
          "station_id": "03147"
         },
         {
          "date_end": "2019-08-30T00:00:00+00:00",
          "date_start": "2006-06-07T00:00:00+00:00",
          "geo_lat": 50.8492,
          "geo_lon": 8.7746,
          "height": 187,
          "name": "Cölbe, Kr. Marburg-Biedenkopf",
          "state": "Hessen",
          "station_id": "03164"
         },
         {
          "date_end": "2019-08-30T00:00:00+00:00",
          "date_start": "2004-08-17T00:00:00+00:00",
          "geo_lat": 50.8446,
          "geo_lon": 7.372,
          "height": 195,
          "name": "Neunkirchen-Seelscheid-Krawinkel",
          "state": "Nordrhein-Westfalen",
          "station_id": "03540"
         },
         {
          "date_end": "2019-08-30T00:00:00+00:00",
          "date_start": "2002-09-01T00:00:00+00:00",
          "geo_lat": 47.6845,
          "geo_lon": 9.4409,
          "height": 459,
          "name": "Friedrichshafen-Unterraderach",
          "state": "Baden-Württemberg",
          "station_id": "06258"
         }
        ]
       },
       "layer": [
        {
         "data": {
          "format": {
           "feature": "europe",
           "type": "topojson"
          },
          "url": "https://raw.githubusercontent.com/leakyMirror/map-of-europe/master/TopoJSON/europe.topojson"
         },
         "height": 500,
         "mark": {
          "color": "black",
          "filled": false,
          "type": "geoshape"
         },
         "projection": {
          "type": "azimuthalEqualArea"
         },
         "transform": [
          {
           "filter": "(datum.id === 'DE')"
          }
         ],
         "width": 1000
        },
        {
         "data": {
          "name": "data-ffda33a12366972b67c4c07cf2c10025"
         },
         "encoding": {
          "color": {
           "value": "red"
          },
          "latitude": {
           "field": "geo_lat",
           "type": "quantitative"
          },
          "longitude": {
           "field": "geo_lon",
           "type": "quantitative"
          },
          "tooltip": [
           {
            "field": "name",
            "type": "nominal"
           },
           {
            "field": "state",
            "type": "nominal"
           },
           {
            "field": "date_start",
            "type": "temporal"
           },
           {
            "field": "date_end",
            "type": "temporal"
           }
          ]
         },
         "mark": "circle",
         "title": "DWD Weather Stations in Dataset"
        }
       ]
      },
      "image/png": "[encoded data removed]",
      "text/plain": [
       "<VegaLite 3 object>\n",
       "\n",
       "If you see this message, it means the renderer has not been properly enabled\n",
       "for the frontend that you are using. For more information, see\n",
       "https://altair-viz.github.io/user_guide/troubleshooting.html\n"
      ]
     },
     "execution_count": 15,
     "metadata": {},
     "output_type": "execute_result"
    }
   ],
   "source": [
    "eu_boundaries_url = \"https://raw.githubusercontent.com/leakyMirror/map-of-europe/master/TopoJSON/europe.topojson\"\n",
    "eu_boundaries = alt.topo_feature(eu_boundaries_url, 'europe')\n",
    "\n",
    "\n",
    "eu_map = alt.Chart(eu_boundaries).mark_geoshape(color=\"black\", filled=False).project(\n",
    "    type='azimuthalEqualArea'\n",
    ") \\\n",
    ".transform_filter((alt.datum.id)=='DE') \\\n",
    ".properties(\n",
    "    width=1000,\n",
    "    height=500\n",
    ")\n",
    "\n",
    "points = alt.Chart(df_stations).mark_circle().encode(\n",
    "    longitude='geo_lon:Q',\n",
    "    latitude='geo_lat:Q',\n",
    "    color=alt.value('red'),\n",
    "    tooltip=['name:N','state', 'date_start', 'date_end']\n",
    ").properties(\n",
    "    title='DWD Weather Stations in Dataset'\n",
    ")\n",
    "\n",
    "points\n",
    "eu_map + points"
   ]
  }
 ],
 "metadata": {
  "kernelspec": {
   "display_name": "Python 3",
   "language": "python",
   "name": "python3"
  },
  "language_info": {
   "codemirror_mode": {
    "name": "ipython",
    "version": 3
   },
   "file_extension": ".py",
   "mimetype": "text/x-python",
   "name": "python",
   "nbconvert_exporter": "python",
   "pygments_lexer": "ipython3",
   "version": "3.7.3"
  }
 },
 "nbformat": 4,
 "nbformat_minor": 4
}
